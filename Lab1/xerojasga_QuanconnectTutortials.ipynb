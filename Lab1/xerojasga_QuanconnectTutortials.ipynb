{
  "nbformat": 4,
  "nbformat_minor": 0,
  "metadata": {
    "kernelspec": {
      "display_name": "Python 3",
      "language": "python",
      "name": "python3"
    },
    "language_info": {
      "codemirror_mode": {
        "name": "ipython",
        "version": 3
      },
      "file_extension": ".py",
      "mimetype": "text/x-python",
      "name": "python",
      "nbconvert_exporter": "python",
      "pygments_lexer": "ipython3",
      "version": "3.6.4"
    },
    "colab": {
      "name": "xerojasga_QuanconnectTutortials.ipynb",
      "provenance": [],
      "collapsed_sections": [
        "OEFFqilo1-sf",
        "XLPZPmO12qci",
        "_wVX1bETDaRT",
        "rssivtNCDc_A",
        "VqoRiCU_Djdj",
        "PulrxFmSDsEM",
        "-vjBUAT1Dumf",
        "Ofc2RnDrD1Qf",
        "yu4hDda_D8Jm",
        "cCZ6GjH92tf4",
        "9DsZ0zg9FZvt"
      ]
    }
  },
  "cells": [
    {
      "cell_type": "markdown",
      "metadata": {
        "id": "OEFFqilo1-sf"
      },
      "source": [
        "# Lab 1: Introduction to Financial Python\n",
        "## Xamir Rojas \n"
      ]
    },
    {
      "cell_type": "markdown",
      "metadata": {
        "id": "XLPZPmO12qci"
      },
      "source": [
        "# 01 Python: Data Types and Data Structures"
      ]
    },
    {
      "cell_type": "markdown",
      "metadata": {
        "id": "_wVX1bETDaRT"
      },
      "source": [
        "## Strings"
      ]
    },
    {
      "cell_type": "code",
      "metadata": {
        "id": "B6NnUn4v5Qr1",
        "colab": {
          "base_uri": "https://localhost:8080/"
        },
        "outputId": "b3a3172a-2ab1-47c1-e6ef-8bcd58570292"
      },
      "source": [
        "my_string1 = 'Welcome to'\n",
        "my_string2 = \"QuantConnect\"\n",
        "print(my_string1 + ' ' + my_string2)"
      ],
      "execution_count": 1,
      "outputs": [
        {
          "output_type": "stream",
          "name": "stdout",
          "text": [
            "Welcome to QuantConnect\n"
          ]
        }
      ]
    },
    {
      "cell_type": "code",
      "metadata": {
        "colab": {
          "base_uri": "https://localhost:8080/"
        },
        "id": "TAtGxYo1lkVS",
        "outputId": "2291cdd9-5d34-4fca-9f8e-07b57c2b2384"
      },
      "source": [
        "# Xamir\n",
        "my_string1 = 'Hello World! I am '\n",
        "my_string2 = \"Xamir Rojas\"\n",
        "print(my_string1 + ' ' + my_string2)"
      ],
      "execution_count": 2,
      "outputs": [
        {
          "output_type": "stream",
          "name": "stdout",
          "text": [
            "Hello World! I am  Xamir Rojas\n"
          ]
        }
      ]
    },
    {
      "cell_type": "markdown",
      "metadata": {
        "id": "rssivtNCDc_A"
      },
      "source": [
        "## Ints"
      ]
    },
    {
      "cell_type": "code",
      "metadata": {
        "id": "4AHnwg_u5QsA",
        "colab": {
          "base_uri": "https://localhost:8080/"
        },
        "outputId": "6d292888-5500-4eff-b38f-3b7f55ac6d73"
      },
      "source": [
        "my_int = 10\n",
        "print(my_int)\n",
        "print(type(my_int))"
      ],
      "execution_count": 3,
      "outputs": [
        {
          "output_type": "stream",
          "name": "stdout",
          "text": [
            "10\n",
            "<class 'int'>\n"
          ]
        }
      ]
    },
    {
      "cell_type": "code",
      "metadata": {
        "colab": {
          "base_uri": "https://localhost:8080/"
        },
        "id": "XpSiMirqmGx8",
        "outputId": "a8a091ac-1a23-48d1-ef67-e582c701437f"
      },
      "source": [
        "# Xamir\n",
        "xamir_int = 3\n",
        "print(xamir_int)\n",
        "print(type(xamir_int))"
      ],
      "execution_count": 4,
      "outputs": [
        {
          "output_type": "stream",
          "name": "stdout",
          "text": [
            "3\n",
            "<class 'int'>\n"
          ]
        }
      ]
    },
    {
      "cell_type": "markdown",
      "metadata": {
        "id": "VqoRiCU_Djdj"
      },
      "source": [
        "## Strings to Int, String to Float"
      ]
    },
    {
      "cell_type": "code",
      "metadata": {
        "id": "yt7tMopm5QsC",
        "colab": {
          "base_uri": "https://localhost:8080/"
        },
        "outputId": "a12bdae1-f0fd-4317-c999-75d67336bf30"
      },
      "source": [
        "my_string = \"100\"\n",
        "print(type(my_string))\n",
        "my_int = int(my_string)\n",
        "print(type(my_int))"
      ],
      "execution_count": 5,
      "outputs": [
        {
          "output_type": "stream",
          "name": "stdout",
          "text": [
            "<class 'str'>\n",
            "<class 'int'>\n"
          ]
        }
      ]
    },
    {
      "cell_type": "code",
      "metadata": {
        "colab": {
          "base_uri": "https://localhost:8080/"
        },
        "id": "C027asLrmRxL",
        "outputId": "61de4889-1b99-4a9f-dda3-7b2f3b554550"
      },
      "source": [
        "# Xamir\n",
        "xamir_string = \"333\"\n",
        "print(type(xamir_string))\n",
        "xamir_int = int(xamir_string)\n",
        "print(type(xamir_int))"
      ],
      "execution_count": 6,
      "outputs": [
        {
          "output_type": "stream",
          "name": "stdout",
          "text": [
            "<class 'str'>\n",
            "<class 'int'>\n"
          ]
        }
      ]
    },
    {
      "cell_type": "code",
      "metadata": {
        "id": "P2ehzsbh5QsD",
        "colab": {
          "base_uri": "https://localhost:8080/"
        },
        "outputId": "2faad247-d9f9-4d99-a88e-1e4ae2476c6e"
      },
      "source": [
        "my_string = \"100\"\n",
        "my_float = float(my_string)\n",
        "print(type(my_float))"
      ],
      "execution_count": 7,
      "outputs": [
        {
          "output_type": "stream",
          "name": "stdout",
          "text": [
            "<class 'float'>\n"
          ]
        }
      ]
    },
    {
      "cell_type": "code",
      "metadata": {
        "colab": {
          "base_uri": "https://localhost:8080/"
        },
        "id": "fy_WGUZUml2c",
        "outputId": "60e2280d-90b8-4839-be81-1674d4bfb899"
      },
      "source": [
        "# Xamir\n",
        "xamir_string = \"333\"\n",
        "xamir_float = float(xamir_string)\n",
        "print(type(xamir_float))\n",
        "print(xamir_float)"
      ],
      "execution_count": 8,
      "outputs": [
        {
          "output_type": "stream",
          "name": "stdout",
          "text": [
            "<class 'float'>\n",
            "333.0\n"
          ]
        }
      ]
    },
    {
      "cell_type": "markdown",
      "metadata": {
        "id": "PulrxFmSDsEM"
      },
      "source": [
        "## Bools"
      ]
    },
    {
      "cell_type": "code",
      "metadata": {
        "id": "e0jr6IIJ5QsE",
        "colab": {
          "base_uri": "https://localhost:8080/"
        },
        "outputId": "390d3cff-6f3f-4352-e22f-0d15d76d34c5"
      },
      "source": [
        "my_bool = False\n",
        "print(my_bool)\n",
        "print(type(my_bool))"
      ],
      "execution_count": 9,
      "outputs": [
        {
          "output_type": "stream",
          "name": "stdout",
          "text": [
            "False\n",
            "<class 'bool'>\n"
          ]
        }
      ]
    },
    {
      "cell_type": "code",
      "metadata": {
        "colab": {
          "base_uri": "https://localhost:8080/"
        },
        "id": "24CFDNsim9qn",
        "outputId": "3119e019-2301-4337-e44a-794b8d47887e"
      },
      "source": [
        "# Xamir\n",
        "isStudent = True\n",
        "print(isStudent)\n",
        "print(type(isStudent))"
      ],
      "execution_count": 10,
      "outputs": [
        {
          "output_type": "stream",
          "name": "stdout",
          "text": [
            "True\n",
            "<class 'bool'>\n"
          ]
        }
      ]
    },
    {
      "cell_type": "markdown",
      "metadata": {
        "id": "-vjBUAT1Dumf"
      },
      "source": [
        "## Operations"
      ]
    },
    {
      "cell_type": "code",
      "metadata": {
        "id": "ni30SIPz5QsF",
        "colab": {
          "base_uri": "https://localhost:8080/"
        },
        "outputId": "9fa0392d-8c32-466f-c916-5c11a131d34b"
      },
      "source": [
        "print(\"Addition \", 1+1)\n",
        "print(\"Subtraction \", 5-2)\n",
        "print(\"Multiplication \", 2*3)\n",
        "print(\"Division \", 10/2)\n",
        "print('exponent', 2**3)"
      ],
      "execution_count": 11,
      "outputs": [
        {
          "output_type": "stream",
          "name": "stdout",
          "text": [
            "Addition  2\n",
            "Subtraction  3\n",
            "Multiplication  6\n",
            "Division  5.0\n",
            "exponent 8\n"
          ]
        }
      ]
    },
    {
      "cell_type": "code",
      "metadata": {
        "colab": {
          "base_uri": "https://localhost:8080/"
        },
        "id": "e-hm1aXsnMq7",
        "outputId": "20a47e2c-fc81-4fef-a305-8edcc5626fc2"
      },
      "source": [
        "# Xamir\n",
        "print(\"Xamir Addition \", 3+3)\n",
        "print(\"Xamir Subtraction \", 3-5)\n",
        "print(\"Xamir Multiplication \", -1*3)\n",
        "print(\"Xamir Division \", 13/3)\n",
        "print('Xamir exponent', 2**8)"
      ],
      "execution_count": 12,
      "outputs": [
        {
          "output_type": "stream",
          "name": "stdout",
          "text": [
            "Xamir Addition  6\n",
            "Xamir Subtraction  -2\n",
            "Xamir Multiplication  -3\n",
            "Xamir Division  4.333333333333333\n",
            "Xamir exponent 256\n"
          ]
        }
      ]
    },
    {
      "cell_type": "code",
      "metadata": {
        "id": "KvZjYvnu5QsH",
        "colab": {
          "base_uri": "https://localhost:8080/"
        },
        "outputId": "61137a74-40db-4fed-fecf-e17775fcf3a1"
      },
      "source": [
        "print(1/3)\n",
        "print(1.0/3)"
      ],
      "execution_count": 13,
      "outputs": [
        {
          "output_type": "stream",
          "name": "stdout",
          "text": [
            "0.3333333333333333\n",
            "0.3333333333333333\n"
          ]
        }
      ]
    },
    {
      "cell_type": "code",
      "metadata": {
        "colab": {
          "base_uri": "https://localhost:8080/"
        },
        "id": "eG6HmExqngSP",
        "outputId": "73c99031-6cd6-4b99-d774-f73becef831b"
      },
      "source": [
        "# Xamir \n",
        "print(3/3)\n",
        "print(3.0/3)\n",
        "print(33/7)\n",
        "print(33.0/7)"
      ],
      "execution_count": 14,
      "outputs": [
        {
          "output_type": "stream",
          "name": "stdout",
          "text": [
            "1.0\n",
            "1.0\n",
            "4.714285714285714\n",
            "4.714285714285714\n"
          ]
        }
      ]
    },
    {
      "cell_type": "markdown",
      "metadata": {
        "id": "Ofc2RnDrD1Qf"
      },
      "source": [
        "## Lists"
      ]
    },
    {
      "cell_type": "code",
      "metadata": {
        "id": "z5PiBuq05QsK",
        "colab": {
          "base_uri": "https://localhost:8080/"
        },
        "outputId": "5ee49cbb-1598-4a41-fce6-382253cf9991"
      },
      "source": [
        "my_list = ['Quant', 'Connect', 1,2,3]\n",
        "print(my_list)"
      ],
      "execution_count": 15,
      "outputs": [
        {
          "output_type": "stream",
          "name": "stdout",
          "text": [
            "['Quant', 'Connect', 1, 2, 3]\n"
          ]
        }
      ]
    },
    {
      "cell_type": "code",
      "metadata": {
        "colab": {
          "base_uri": "https://localhost:8080/"
        },
        "id": "rbpOfbn0oASN",
        "outputId": "a9e69480-2de5-4392-a421-0046a288ce89"
      },
      "source": [
        "# Xamir\n",
        "xamir_list = ['Xamir', 'Rojas', 3.0, 3 , True, [\"sub_list\"]]\n",
        "print(xamir_list)"
      ],
      "execution_count": 16,
      "outputs": [
        {
          "output_type": "stream",
          "name": "stdout",
          "text": [
            "['Xamir', 'Rojas', 3.0, 3, True, ['sub_list']]\n"
          ]
        }
      ]
    },
    {
      "cell_type": "code",
      "metadata": {
        "id": "hxFRm_a95QsL",
        "colab": {
          "base_uri": "https://localhost:8080/"
        },
        "outputId": "84745d2c-4fd2-4b07-81f1-b22cd4d69b91"
      },
      "source": [
        "my_list = ['Quant', 'Connect', 1,2,3]\n",
        "print(len(my_list))\n",
        "print(my_list[0])\n",
        "print(my_list[len(my_list) -1])"
      ],
      "execution_count": 17,
      "outputs": [
        {
          "output_type": "stream",
          "name": "stdout",
          "text": [
            "5\n",
            "Quant\n",
            "3\n"
          ]
        }
      ]
    },
    {
      "cell_type": "code",
      "metadata": {
        "colab": {
          "base_uri": "https://localhost:8080/"
        },
        "id": "nJQrR-UrocUY",
        "outputId": "f08ac2fa-6889-4a87-86b3-4ef3fdde6802"
      },
      "source": [
        "# Xamir\n",
        "xamir_list = ['Xamir', 'Rojas', 3.0, 3 , True, [\"sub_list\"]]\n",
        "print(\"Number of items in Xamir's List :\"+ str(len(xamir_list)))\n",
        "print(\"First Item in Xamir's List\" + str(xamir_list[0]))\n",
        "print(\"Last item in the list\" +str(xamir_list[len(xamir_list) -1]))"
      ],
      "execution_count": 18,
      "outputs": [
        {
          "output_type": "stream",
          "name": "stdout",
          "text": [
            "Number of items in Xamir's List :6\n",
            "First Item in Xamir's ListXamir\n",
            "Last item in the list['sub_list']\n"
          ]
        }
      ]
    },
    {
      "cell_type": "code",
      "metadata": {
        "id": "L8BmOyxv5QsO",
        "colab": {
          "base_uri": "https://localhost:8080/"
        },
        "outputId": "51c14405-bd7b-4d53-aed8-91908cb96e7d"
      },
      "source": [
        "my_list = ['Quant','Connect',1,2,3]\n",
        "my_list[2] = 'go'\n",
        "print(my_list)"
      ],
      "execution_count": 19,
      "outputs": [
        {
          "output_type": "stream",
          "name": "stdout",
          "text": [
            "['Quant', 'Connect', 'go', 2, 3]\n"
          ]
        }
      ]
    },
    {
      "cell_type": "code",
      "metadata": {
        "colab": {
          "base_uri": "https://localhost:8080/"
        },
        "id": "CRgbDgqbpiU8",
        "outputId": "7358b035-bd11-4f8e-8cb9-92c58b2eceb8"
      },
      "source": [
        "# Xamir\n",
        "xamir_list = ['Xamir', 'Rojas', 3.0, 3 , True, [\"sub_list\"]]\n",
        "xamir_list[2] = 'G'\n",
        "print(xamir_list)"
      ],
      "execution_count": 20,
      "outputs": [
        {
          "output_type": "stream",
          "name": "stdout",
          "text": [
            "['Xamir', 'Rojas', 'G', 3, True, ['sub_list']]\n"
          ]
        }
      ]
    },
    {
      "cell_type": "code",
      "metadata": {
        "id": "Y5EZnboM5QsP",
        "colab": {
          "base_uri": "https://localhost:8080/"
        },
        "outputId": "d216e818-a403-4a7b-a86c-b485ac469aa1"
      },
      "source": [
        "my_list = ['Quant']\n",
        "my_list.append('Connect')\n",
        "print(my_list)\n",
        "my_list.remove('Quant')\n",
        "print(my_list)"
      ],
      "execution_count": 21,
      "outputs": [
        {
          "output_type": "stream",
          "name": "stdout",
          "text": [
            "['Quant', 'Connect']\n",
            "['Connect']\n"
          ]
        }
      ]
    },
    {
      "cell_type": "code",
      "metadata": {
        "colab": {
          "base_uri": "https://localhost:8080/"
        },
        "id": "DBgT6C8XqIJq",
        "outputId": "985ddab3-b9cf-462c-a45b-3c6691d685af"
      },
      "source": [
        "# Xamir\n",
        "xamir_list = ['X','A']\n",
        "xamir_list.append('M')\n",
        "print(xamir_list)\n",
        "xamir_list.remove('A')\n",
        "print(xamir_list)"
      ],
      "execution_count": 22,
      "outputs": [
        {
          "output_type": "stream",
          "name": "stdout",
          "text": [
            "['X', 'A', 'M']\n",
            "['X', 'M']\n"
          ]
        }
      ]
    },
    {
      "cell_type": "markdown",
      "metadata": {
        "id": "yu4hDda_D8Jm"
      },
      "source": [
        "### Lists slicing\n",
        "https://numpy.org/doc/stable/reference/arrays.indexing.html#basic-slicing-and-indexing"
      ]
    },
    {
      "cell_type": "code",
      "metadata": {
        "id": "GUgPj9P65QsQ",
        "colab": {
          "base_uri": "https://localhost:8080/"
        },
        "outputId": "3a4f8a9f-66ec-46c6-f0d9-3006287476fb"
      },
      "source": [
        "my_list = ['Quant','Connect',1,2,3]\n",
        "print(my_list[1:3])"
      ],
      "execution_count": 23,
      "outputs": [
        {
          "output_type": "stream",
          "name": "stdout",
          "text": [
            "['Connect', 1]\n"
          ]
        }
      ]
    },
    {
      "cell_type": "code",
      "metadata": {
        "colab": {
          "base_uri": "https://localhost:8080/"
        },
        "id": "N-Da4hEeqXzd",
        "outputId": "675e1ae1-c7a1-4290-9e2b-77dd1df65793"
      },
      "source": [
        "# Xamir\n",
        "xamir_list = ['Xamir', 'Rojas', 3.0, 3 , True, [\"sub_list\"]]\n",
        "print(xamir_list[1:3])"
      ],
      "execution_count": 24,
      "outputs": [
        {
          "output_type": "stream",
          "name": "stdout",
          "text": [
            "['Rojas', 3.0]\n"
          ]
        }
      ]
    },
    {
      "cell_type": "code",
      "metadata": {
        "id": "lMIKYp8M5QsR",
        "colab": {
          "base_uri": "https://localhost:8080/"
        },
        "outputId": "bdf5d621-b863-4e60-8a70-d8e6a6d5e129"
      },
      "source": [
        "print(my_list[1:])"
      ],
      "execution_count": 25,
      "outputs": [
        {
          "output_type": "stream",
          "name": "stdout",
          "text": [
            "['Connect', 1, 2, 3]\n"
          ]
        }
      ]
    },
    {
      "cell_type": "code",
      "metadata": {
        "colab": {
          "base_uri": "https://localhost:8080/"
        },
        "id": "Lr8NqFKcqnTB",
        "outputId": "7ef8037f-89c7-42b0-b77d-505c80e36646"
      },
      "source": [
        "# Xamir\n",
        "print(xamir_list[1:])"
      ],
      "execution_count": 26,
      "outputs": [
        {
          "output_type": "stream",
          "name": "stdout",
          "text": [
            "['Rojas', 3.0, 3, True, ['sub_list']]\n"
          ]
        }
      ]
    },
    {
      "cell_type": "code",
      "metadata": {
        "id": "7J7QUfS05QsS",
        "colab": {
          "base_uri": "https://localhost:8080/"
        },
        "outputId": "9e004434-6adf-4155-de15-fa3a76ff7c1b"
      },
      "source": [
        "print(my_list[:3])"
      ],
      "execution_count": 27,
      "outputs": [
        {
          "output_type": "stream",
          "name": "stdout",
          "text": [
            "['Quant', 'Connect', 1]\n"
          ]
        }
      ]
    },
    {
      "cell_type": "code",
      "metadata": {
        "colab": {
          "base_uri": "https://localhost:8080/"
        },
        "id": "lR1BWZ0mrBER",
        "outputId": "02a05941-d67c-4e12-bbec-5e69bea47895"
      },
      "source": [
        "# Xamir\n",
        "print(xamir_list)\n",
        "print(xamir_list[:3])\n",
        "print(xamir_list[1::2]) # Starting at 1 \"jumpling\" 2 positions\n",
        "print(xamir_list[0::2]) # Starting at 0 \"jumpling\" 2 positions\n",
        "print(xamir_list[0::3])# Starting at 0 \"jumpling\" 3 positions"
      ],
      "execution_count": 28,
      "outputs": [
        {
          "output_type": "stream",
          "name": "stdout",
          "text": [
            "['Xamir', 'Rojas', 3.0, 3, True, ['sub_list']]\n",
            "['Xamir', 'Rojas', 3.0]\n",
            "['Rojas', 3, ['sub_list']]\n",
            "['Xamir', 3.0, True]\n",
            "['Xamir', 3]\n"
          ]
        }
      ]
    },
    {
      "cell_type": "code",
      "metadata": {
        "collapsed": true,
        "id": "4E_fN9Gj5QsT"
      },
      "source": [
        "my_tuple = ('Welcome','to','QuantConnect')"
      ],
      "execution_count": 29,
      "outputs": []
    },
    {
      "cell_type": "code",
      "metadata": {
        "colab": {
          "base_uri": "https://localhost:8080/"
        },
        "id": "uS_Vq2ZarH8q",
        "outputId": "057fcf8f-4354-42ff-b57d-7139e12b5401"
      },
      "source": [
        "# Xamir\n",
        "xamir_tuple = ('This is', \"Xamir's\" , 'tuple')\n",
        "print(xamir_tuple)"
      ],
      "execution_count": 30,
      "outputs": [
        {
          "output_type": "stream",
          "name": "stdout",
          "text": [
            "('This is', \"Xamir's\", 'tuple')\n"
          ]
        }
      ]
    },
    {
      "cell_type": "code",
      "metadata": {
        "id": "ssooWQ5m5QsU",
        "colab": {
          "base_uri": "https://localhost:8080/"
        },
        "outputId": "dbf3b630-732c-49e5-8073-de0d0cf89728"
      },
      "source": [
        "my_tuple = ('Welcome','to','QuantConnect')\n",
        "print(my_tuple[1:])"
      ],
      "execution_count": 31,
      "outputs": [
        {
          "output_type": "stream",
          "name": "stdout",
          "text": [
            "('to', 'QuantConnect')\n"
          ]
        }
      ]
    },
    {
      "cell_type": "code",
      "metadata": {
        "colab": {
          "base_uri": "https://localhost:8080/"
        },
        "id": "7Awgzk-Krc4H",
        "outputId": "09529d34-d44e-4cdc-82fb-8171c25f9f80"
      },
      "source": [
        "# tuples are consts. cant be modified\n",
        "xamir_tuple = ('This is', \"Xamir's\" , 'tuple','tuple')\n",
        "print(xamir_tuple[1:])"
      ],
      "execution_count": 32,
      "outputs": [
        {
          "output_type": "stream",
          "name": "stdout",
          "text": [
            "(\"Xamir's\", 'tuple', 'tuple')\n"
          ]
        }
      ]
    },
    {
      "cell_type": "code",
      "metadata": {
        "id": "Vmn0-mB15QsU",
        "colab": {
          "base_uri": "https://localhost:8080/"
        },
        "outputId": "e03cc1af-2c1f-4454-d35d-802bf8f20b43"
      },
      "source": [
        "stock_list = ['AAPL','GOOG','IBM','AAPL','IBM','FB','F','GOOG']\n",
        "stock_set = set(stock_list)\n",
        "print(stock_set)"
      ],
      "execution_count": 33,
      "outputs": [
        {
          "output_type": "stream",
          "name": "stdout",
          "text": [
            "{'AAPL', 'FB', 'GOOG', 'F', 'IBM'}\n"
          ]
        }
      ]
    },
    {
      "cell_type": "code",
      "metadata": {
        "colab": {
          "base_uri": "https://localhost:8080/"
        },
        "id": "oyF4We_7riv3",
        "outputId": "768c4ce9-98dd-4d94-9165-b0f56c59e175"
      },
      "source": [
        "# sets doesnt repeat items\n",
        "xamir_stock_list = ['TSLA','GOOG','TSLA','AAPL','TSLA','TSLA','F','GOOG']\n",
        "xamir_stock_set = set(xamir_stock_list)\n",
        "print(xamir_stock_set)"
      ],
      "execution_count": 34,
      "outputs": [
        {
          "output_type": "stream",
          "name": "stdout",
          "text": [
            "{'GOOG', 'TSLA', 'F', 'AAPL'}\n"
          ]
        }
      ]
    },
    {
      "cell_type": "code",
      "metadata": {
        "collapsed": true,
        "id": "81CKWW8R5QsV"
      },
      "source": [
        "my_dic = {'AAPL':'AAPLE', 'FB':'FaceBook', 'GOOG':'Alphabet'}"
      ],
      "execution_count": 35,
      "outputs": []
    },
    {
      "cell_type": "code",
      "metadata": {
        "colab": {
          "base_uri": "https://localhost:8080/"
        },
        "id": "IXhlRUNZskYA",
        "outputId": "cfafc96f-c558-490e-affe-1afc81d3bc3d"
      },
      "source": [
        "# Xamir\n",
        "xamir_dic = {'name':'xamir','subjects':[{'name':'AlG'},{'name':'MET'}]}\n",
        "print(xamir_dic)\n",
        "print(type(xamir_dic))"
      ],
      "execution_count": 36,
      "outputs": [
        {
          "output_type": "stream",
          "name": "stdout",
          "text": [
            "{'name': 'xamir', 'subjects': [{'name': 'AlG'}, {'name': 'MET'}]}\n",
            "<class 'dict'>\n"
          ]
        }
      ]
    },
    {
      "cell_type": "code",
      "metadata": {
        "id": "mbBCdElI5QsX",
        "colab": {
          "base_uri": "https://localhost:8080/"
        },
        "outputId": "835ae6dd-5195-4f27-9813-8c8254e5b7f2"
      },
      "source": [
        "print(my_dic['GOOG'])"
      ],
      "execution_count": 37,
      "outputs": [
        {
          "output_type": "stream",
          "name": "stdout",
          "text": [
            "Alphabet\n"
          ]
        }
      ]
    },
    {
      "cell_type": "code",
      "metadata": {
        "colab": {
          "base_uri": "https://localhost:8080/"
        },
        "id": "ebSVMDYQs_Z9",
        "outputId": "7f969b5b-459d-4c85-c821-9d4fec67b31c"
      },
      "source": [
        "# Xamir\n",
        "xamir_dic['subjects'][0]"
      ],
      "execution_count": 38,
      "outputs": [
        {
          "output_type": "execute_result",
          "data": {
            "text/plain": [
              "{'name': 'AlG'}"
            ]
          },
          "metadata": {},
          "execution_count": 38
        }
      ]
    },
    {
      "cell_type": "code",
      "metadata": {
        "id": "oDkqpKEE5QsY",
        "colab": {
          "base_uri": "https://localhost:8080/"
        },
        "outputId": "4e0f9a46-315d-4986-a3f0-c4fb97a1bab4"
      },
      "source": [
        "my_dic['GOOG'] = 'Alphabet Company'\n",
        "print(my_dic['GOOG'])"
      ],
      "execution_count": 39,
      "outputs": [
        {
          "output_type": "stream",
          "name": "stdout",
          "text": [
            "Alphabet Company\n"
          ]
        }
      ]
    },
    {
      "cell_type": "code",
      "metadata": {
        "colab": {
          "base_uri": "https://localhost:8080/"
        },
        "id": "rgmQmxkotISO",
        "outputId": "bf752a39-edb2-46b0-d961-67ba3f107d6f"
      },
      "source": [
        "# Xamir\n",
        "xamir_dic['subjects'][0] = 'ALGO'\n",
        "print(xamir_dic['subjects'][0])"
      ],
      "execution_count": 40,
      "outputs": [
        {
          "output_type": "stream",
          "name": "stdout",
          "text": [
            "ALGO\n"
          ]
        }
      ]
    },
    {
      "cell_type": "code",
      "metadata": {
        "id": "QuI712Wd5QsZ",
        "colab": {
          "base_uri": "https://localhost:8080/"
        },
        "outputId": "3c859cd0-4d60-402c-a75b-7fbc94a80157"
      },
      "source": [
        "print(my_dic.keys())"
      ],
      "execution_count": 41,
      "outputs": [
        {
          "output_type": "stream",
          "name": "stdout",
          "text": [
            "dict_keys(['AAPL', 'FB', 'GOOG'])\n"
          ]
        }
      ]
    },
    {
      "cell_type": "code",
      "metadata": {
        "colab": {
          "base_uri": "https://localhost:8080/"
        },
        "id": "KddG005BtSqM",
        "outputId": "bc1ce6a2-9064-4026-d1f0-529f23c0236d"
      },
      "source": [
        "# Xamir\n",
        "print(xamir_dic.keys())\n",
        "xamir_list_of_keys = xamir_dic.keys()\n",
        "print(xamir_list_of_keys)"
      ],
      "execution_count": 42,
      "outputs": [
        {
          "output_type": "stream",
          "name": "stdout",
          "text": [
            "dict_keys(['name', 'subjects'])\n",
            "dict_keys(['name', 'subjects'])\n"
          ]
        }
      ]
    },
    {
      "cell_type": "code",
      "metadata": {
        "id": "CaVW7n3A5QsZ",
        "colab": {
          "base_uri": "https://localhost:8080/"
        },
        "outputId": "6eec4e7f-5441-4eeb-9fa1-9bec9d2fd307"
      },
      "source": [
        "my_str = 'Welcome to QuantConnect'\n",
        "print(my_str[8:])"
      ],
      "execution_count": 43,
      "outputs": [
        {
          "output_type": "stream",
          "name": "stdout",
          "text": [
            "to QuantConnect\n"
          ]
        }
      ]
    },
    {
      "cell_type": "code",
      "metadata": {
        "colab": {
          "base_uri": "https://localhost:8080/"
        },
        "id": "BkGekTcqwdsX",
        "outputId": "19c784be-1d8b-4476-d25a-d29fc313cd2c"
      },
      "source": [
        "# Xamir\n",
        "xamir_str = 'Xamir Rojas '\n",
        "print(xamir_str[8:])"
      ],
      "execution_count": 44,
      "outputs": [
        {
          "output_type": "stream",
          "name": "stdout",
          "text": [
            "jas \n"
          ]
        }
      ]
    },
    {
      "cell_type": "code",
      "metadata": {
        "id": "B0oAXjAE5Qsa",
        "colab": {
          "base_uri": "https://localhost:8080/"
        },
        "outputId": "0fecbf8e-4929-4e01-d5fb-f443a0a0deed"
      },
      "source": [
        "print('Counting the number of e appears in this sentence'.count('e'))\n",
        "print('The first time e appears in this sentence'.find('e'))\n",
        "print('all the a in this sentence now becomes e'.replace('a','e'))"
      ],
      "execution_count": 45,
      "outputs": [
        {
          "output_type": "stream",
          "name": "stdout",
          "text": [
            "7\n",
            "2\n",
            "ell the e in this sentence now becomes e\n"
          ]
        }
      ]
    },
    {
      "cell_type": "code",
      "metadata": {
        "colab": {
          "base_uri": "https://localhost:8080/"
        },
        "id": "0RS2kenFxEMV",
        "outputId": "ebd2d761-8b1e-4eda-f53d-4d09fa9d37ac"
      },
      "source": [
        "# Xamir\n",
        "print('In the next string x appears (times):' +str('Counting the number of x appears in this sentence: xamir'.count('x')))\n",
        "print('The first time f appears in this sentence fff'.find('f'))\n",
        "print('The first time f appears in this sentence fff'[:5])\n",
        "print('all the s in this sentence now becomes z'.replace('s','z'))"
      ],
      "execution_count": 46,
      "outputs": [
        {
          "output_type": "stream",
          "name": "stdout",
          "text": [
            "In the next string x appears (times):2\n",
            "4\n",
            "The f\n",
            "all the z in thiz zentence now becomez z\n"
          ]
        }
      ]
    },
    {
      "cell_type": "code",
      "metadata": {
        "id": "8_jT-xB75Qsb",
        "colab": {
          "base_uri": "https://localhost:8080/"
        },
        "outputId": "33918f25-4254-4770-b3f4-3d66ccb5cf63"
      },
      "source": [
        "Time = '2016-04-01 09:43:00'\n",
        "splited_list = Time.split(' ')\n",
        "date = splited_list[0]\n",
        "time = splited_list[1]\n",
        "print(date, time)\n",
        "hour = time.split(':')[0]\n",
        "print(hour)"
      ],
      "execution_count": 47,
      "outputs": [
        {
          "output_type": "stream",
          "name": "stdout",
          "text": [
            "2016-04-01 09:43:00\n",
            "09\n"
          ]
        }
      ]
    },
    {
      "cell_type": "code",
      "metadata": {
        "colab": {
          "base_uri": "https://localhost:8080/"
        },
        "id": "sBIMItaKyUXV",
        "outputId": "8edf280d-a6d2-4538-97ea-88e057609a0c"
      },
      "source": [
        "# Xamir\n",
        "xamir_Time = '2021-10-16 20:08:00'\n",
        "xamir_splited_list = xamir_Time.split(' ')\n",
        "xamir_date = xamir_splited_list[0]\n",
        "xamir_time = xamir_splited_list[1]\n",
        "print(xamir_date, xamir_time)\n",
        "xamir_hour = xamir_time.split(':')[0]\n",
        "print(xamir_hour)"
      ],
      "execution_count": 48,
      "outputs": [
        {
          "output_type": "stream",
          "name": "stdout",
          "text": [
            "2021-10-16 20:08:00\n",
            "20\n"
          ]
        }
      ]
    },
    {
      "cell_type": "code",
      "metadata": {
        "id": "z27OPUEb5Qsc",
        "colab": {
          "base_uri": "https://localhost:8080/"
        },
        "outputId": "c30e33bb-5c99-4d11-b2e4-43e10aae7036"
      },
      "source": [
        "my_time = 'Hour: {}, Minute:{}'.format('09','43')\n",
        "print(my_time)"
      ],
      "execution_count": 49,
      "outputs": [
        {
          "output_type": "stream",
          "name": "stdout",
          "text": [
            "Hour: 09, Minute:43\n"
          ]
        }
      ]
    },
    {
      "cell_type": "code",
      "metadata": {
        "colab": {
          "base_uri": "https://localhost:8080/"
        },
        "id": "F15i-xIoyXO8",
        "outputId": "22802e19-7b72-45ed-9080-e229ac7d31e6"
      },
      "source": [
        "# Xamir\n",
        "xamir_time = 'Hour: {}, Minute:{}'.format('20','10')\n",
        "print(xamir_time)"
      ],
      "execution_count": 50,
      "outputs": [
        {
          "output_type": "stream",
          "name": "stdout",
          "text": [
            "Hour: 20, Minute:10\n"
          ]
        }
      ]
    },
    {
      "cell_type": "code",
      "metadata": {
        "id": "WqFjZsmW5Qsc",
        "colab": {
          "base_uri": "https://localhost:8080/"
        },
        "outputId": "2bf826ed-bb71-40c8-80e9-eff3bdf01d72"
      },
      "source": [
        "print('the pi number is %f'%3.14)\n",
        "print('%s to %s'%('Welcome','Quantconnect'))"
      ],
      "execution_count": 51,
      "outputs": [
        {
          "output_type": "stream",
          "name": "stdout",
          "text": [
            "the pi number is 3.140000\n",
            "Welcome to Quantconnect\n"
          ]
        }
      ]
    },
    {
      "cell_type": "code",
      "metadata": {
        "colab": {
          "base_uri": "https://localhost:8080/"
        },
        "id": "2zKhaI3syamx",
        "outputId": "82837bae-69ec-4d06-a063-4d520a682111"
      },
      "source": [
        "# Xamir\n",
        "print('the e number is %f'% 2.72)\n",
        "print('%s to %s'%('Xamir','Rojas'))"
      ],
      "execution_count": 52,
      "outputs": [
        {
          "output_type": "stream",
          "name": "stdout",
          "text": [
            "the e number is 2.720000\n",
            "Xamir to Rojas\n"
          ]
        }
      ]
    },
    {
      "cell_type": "markdown",
      "metadata": {
        "id": "cCZ6GjH92tf4"
      },
      "source": [
        "# 02 Python: Logical Operations and Loops\n",
        "[Tutorials / Introduction to Financial Python/ Logical Operations and Loops](https://www.quantconnect.com/tutorials/introduction-to-financial-python/logical-operations-and-loops)\n"
      ]
    },
    {
      "cell_type": "code",
      "metadata": {
        "id": "23c8hnZI4Jff",
        "colab": {
          "base_uri": "https://localhost:8080/"
        },
        "outputId": "8468f4a5-035a-418d-89a2-94fa179d7b42"
      },
      "source": [
        "print(1 == 0)\n",
        "print(1 == 1)\n",
        "print(1 != 0)\n",
        "print(5 >= 5)\n",
        "print(5 >= 6)"
      ],
      "execution_count": 53,
      "outputs": [
        {
          "output_type": "stream",
          "name": "stdout",
          "text": [
            "False\n",
            "True\n",
            "True\n",
            "True\n",
            "False\n"
          ]
        }
      ]
    },
    {
      "cell_type": "code",
      "metadata": {
        "colab": {
          "base_uri": "https://localhost:8080/"
        },
        "id": "eTbEkfxYoCzs",
        "outputId": "1bb335a2-cab0-411e-a3c7-c1b75053bf6c"
      },
      "source": [
        "# Xamir\n",
        "print(1 == \"1\")\n",
        "print([]==[])\n",
        "print({}=={})\n",
        "print(True == 1)\n",
        "print({'name':'Xamir'}=={'name':'Xamir'})\n",
        "print({'name':'Xamir'}!={'name':'xamir'})\n",
        "print('xamir'>='xam')\n",
        "print('xamir'>='xamir rojas')\n"
      ],
      "execution_count": 54,
      "outputs": [
        {
          "output_type": "stream",
          "name": "stdout",
          "text": [
            "False\n",
            "True\n",
            "True\n",
            "True\n",
            "True\n",
            "True\n",
            "True\n",
            "False\n"
          ]
        }
      ]
    },
    {
      "cell_type": "code",
      "metadata": {
        "id": "6xVbD_944Jfs",
        "colab": {
          "base_uri": "https://localhost:8080/"
        },
        "outputId": "9c1be393-bffa-443c-896c-b751a9f96aa7"
      },
      "source": [
        "print(2 > 1 and 3 > 2)\n",
        "print(2 > 1 and 3 < 2) \n",
        "print(2 > 1 or 3 < 2)\n",
        "print(2 < 1 and 3 < 2)"
      ],
      "execution_count": 55,
      "outputs": [
        {
          "output_type": "stream",
          "name": "stdout",
          "text": [
            "True\n",
            "False\n",
            "True\n",
            "False\n"
          ]
        }
      ]
    },
    {
      "cell_type": "code",
      "metadata": {
        "colab": {
          "base_uri": "https://localhost:8080/"
        },
        "id": "qsCyVMxxowPV",
        "outputId": "3bb24352-d1e8-49da-ca27-bfae2ee53072"
      },
      "source": [
        "# Xamir\n",
        "print(\"2\" > \"1\" and \"3\" > \"2\")\n",
        "print(100 > 1 and 300 < 2) \n",
        "print(True < 1 or False < 2)\n",
        "print(2 < 1 and 3 < 2)"
      ],
      "execution_count": 56,
      "outputs": [
        {
          "output_type": "stream",
          "name": "stdout",
          "text": [
            "True\n",
            "False\n",
            "True\n",
            "False\n"
          ]
        }
      ]
    },
    {
      "cell_type": "code",
      "metadata": {
        "id": "NoqHQLzE4Jfu",
        "colab": {
          "base_uri": "https://localhost:8080/"
        },
        "outputId": "cba871ca-58b0-4d3a-e589-a2571e992dea"
      },
      "source": [
        "print((3 > 2 or 1 < 3) and (1!=3 and 4>3) and not ( 3 < 2 or 1 < 3 and (1!=3 and 4>3)))\n",
        "print(3 > 2 or 1 < 3 and (1!=3 and 4>3) and not ( 3 < 2 or 1 < 3 and (1!=3 and 4>3)))"
      ],
      "execution_count": 57,
      "outputs": [
        {
          "output_type": "stream",
          "name": "stdout",
          "text": [
            "False\n",
            "True\n"
          ]
        }
      ]
    },
    {
      "cell_type": "code",
      "metadata": {
        "colab": {
          "base_uri": "https://localhost:8080/"
        },
        "id": "XieB9ndDtR52",
        "outputId": "dd61eade-bc4b-486a-e964-1ca6a333df0d"
      },
      "source": [
        "# Xamir\n",
        "print(5<10<100)\n",
        "isFalse = (\"3\" > \"2\" or 1 < 3) and (\"1\"!=1 and \"XAMIR\" > \"xamir\" ) and not ( 1 < 5 < 10 or 4 < 3 and (1!=3 and 4>3))\n",
        "print(isFalse)\n",
        "print(not isFalse)\n",
        "print(\"a\" is \"a\" and \"a\" is True)\n"
      ],
      "execution_count": 58,
      "outputs": [
        {
          "output_type": "stream",
          "name": "stdout",
          "text": [
            "True\n",
            "False\n",
            "True\n",
            "False\n"
          ]
        }
      ]
    },
    {
      "cell_type": "markdown",
      "metadata": {
        "id": "1BY7_Jcm4tKi"
      },
      "source": [
        "\n",
        "\n",
        "```python\n",
        "if statement1:\n",
        "    # if the statement1 is true, execute the code here.\n",
        "    # code.....\n",
        "    # code.....\n",
        "elif statement2:\n",
        "    # if the statement 1 is false, skip the codes above to this part.\n",
        "    # code......\n",
        "    # code......\n",
        "else:\n",
        "    # if none of the above statements is True, skip to this part\n",
        "    # code......\n",
        "```\n",
        "\n"
      ]
    },
    {
      "cell_type": "code",
      "metadata": {
        "id": "ewhO0fx_4Jfx",
        "colab": {
          "base_uri": "https://localhost:8080/"
        },
        "outputId": "9ce7e048-d6ff-4fd8-d0ae-86ed336b3594"
      },
      "source": [
        "i = 0\n",
        "if i == 0:\n",
        "    print('i==0 is True')"
      ],
      "execution_count": 59,
      "outputs": [
        {
          "output_type": "stream",
          "name": "stdout",
          "text": [
            "i==0 is True\n"
          ]
        }
      ]
    },
    {
      "cell_type": "code",
      "metadata": {
        "colab": {
          "base_uri": "https://localhost:8080/"
        },
        "id": "s50trX3vyz82",
        "outputId": "15a02962-ca72-46a5-8107-b3d052945107"
      },
      "source": [
        "# Xamir\n",
        "a = True\n",
        "b = 1\n",
        "if a == b:\n",
        "  print('{} == {}'.format(a,b))"
      ],
      "execution_count": 60,
      "outputs": [
        {
          "output_type": "stream",
          "name": "stdout",
          "text": [
            "True == 1\n"
          ]
        }
      ]
    },
    {
      "cell_type": "code",
      "metadata": {
        "id": "s3Ow0o2K4Jfy",
        "colab": {
          "base_uri": "https://localhost:8080/"
        },
        "outputId": "7f422935-b294-4f40-ccb0-a35dd17858b9"
      },
      "source": [
        "p = 1 > 0\n",
        "q = 2 > 3\n",
        "if p and q:\n",
        "    print('p and q is true')\n",
        "elif p and not q:\n",
        "    print('q is false')\n",
        "elif q and not p:\n",
        "    print('p is false')\n",
        "else:\n",
        "    print('None of p and q is true')"
      ],
      "execution_count": 61,
      "outputs": [
        {
          "output_type": "stream",
          "name": "stdout",
          "text": [
            "q is false\n"
          ]
        }
      ]
    },
    {
      "cell_type": "code",
      "metadata": {
        "colab": {
          "base_uri": "https://localhost:8080/"
        },
        "id": "50DQ7eiizIOT",
        "outputId": "af827229-b448-47d0-a9db-ac8338df97b6"
      },
      "source": [
        "# Xamir\n",
        "x = 'xamir'\n",
        "r = ''\n",
        "if x and not r:\n",
        "  print(\" '{}' and not '{}' is True!\".format(x,r))\n",
        "elif x and r:\n",
        "  print(\" '{}' and  '{}' is False!\".format(x,r))\n",
        "elif x and not x:\n",
        "  print(\" '{}' and  not '{}' is False!\".format(x,x))\n",
        "else:\n",
        "  print(\"x is '{}' and r is '{}!\".format(x,r))\n"
      ],
      "execution_count": 62,
      "outputs": [
        {
          "output_type": "stream",
          "name": "stdout",
          "text": [
            " 'xamir' and not '' is True!\n"
          ]
        }
      ]
    },
    {
      "cell_type": "code",
      "metadata": {
        "id": "7Kd4ZSUL4Jfz",
        "colab": {
          "base_uri": "https://localhost:8080/"
        },
        "outputId": "a071533c-da06-42b8-f20f-b3ddd4e12c94"
      },
      "source": [
        "i = 0\n",
        "while i < 5:\n",
        "    print(i)\n",
        "    i += 1 "
      ],
      "execution_count": 63,
      "outputs": [
        {
          "output_type": "stream",
          "name": "stdout",
          "text": [
            "0\n",
            "1\n",
            "2\n",
            "3\n",
            "4\n"
          ]
        }
      ]
    },
    {
      "cell_type": "code",
      "metadata": {
        "colab": {
          "base_uri": "https://localhost:8080/"
        },
        "id": "8V9ghk4X2aa_",
        "outputId": "bb95357f-7960-4d93-9367-b08420b17842"
      },
      "source": [
        "# Xamir\n",
        "i = 0\n",
        "while True:\n",
        "  i+=1\n",
        "  print(i)\n",
        "  if i==8:\n",
        "    break"
      ],
      "execution_count": 64,
      "outputs": [
        {
          "output_type": "stream",
          "name": "stdout",
          "text": [
            "1\n",
            "2\n",
            "3\n",
            "4\n",
            "5\n",
            "6\n",
            "7\n",
            "8\n"
          ]
        }
      ]
    },
    {
      "cell_type": "code",
      "metadata": {
        "id": "mo5uRxN64Jf1",
        "colab": {
          "base_uri": "https://localhost:8080/"
        },
        "outputId": "9267cafe-272c-47b2-fedf-d73eb39a0a23"
      },
      "source": [
        "for i in [1,2,3,4,5]:\n",
        "    print(i)"
      ],
      "execution_count": 65,
      "outputs": [
        {
          "output_type": "stream",
          "name": "stdout",
          "text": [
            "1\n",
            "2\n",
            "3\n",
            "4\n",
            "5\n"
          ]
        }
      ]
    },
    {
      "cell_type": "code",
      "metadata": {
        "colab": {
          "base_uri": "https://localhost:8080/"
        },
        "id": "K3C6nR-o3bGw",
        "outputId": "ef3ba91a-fbc9-4a23-c254-8cd5bef14bdf"
      },
      "source": [
        "# Xamir\n",
        "for i in 'xamir':\n",
        "  print(i)"
      ],
      "execution_count": 66,
      "outputs": [
        {
          "output_type": "stream",
          "name": "stdout",
          "text": [
            "x\n",
            "a\n",
            "m\n",
            "i\n",
            "r\n"
          ]
        }
      ]
    },
    {
      "cell_type": "code",
      "metadata": {
        "id": "VFISho814Jf4",
        "colab": {
          "base_uri": "https://localhost:8080/"
        },
        "outputId": "08edf285-100e-493b-a5f8-865a48140bc8"
      },
      "source": [
        "stocks = ['AAPL','GOOG','IBM','FB','F','V', 'G', 'GE']\n",
        "selected = ['AAPL','IBM']\n",
        "new_list = []\n",
        "for i in stocks:\n",
        "    if i not in selected:\n",
        "        new_list.append(i)\n",
        "print(stocks)"
      ],
      "execution_count": 67,
      "outputs": [
        {
          "output_type": "stream",
          "name": "stdout",
          "text": [
            "['AAPL', 'GOOG', 'IBM', 'FB', 'F', 'V', 'G', 'GE']\n"
          ]
        }
      ]
    },
    {
      "cell_type": "code",
      "metadata": {
        "colab": {
          "base_uri": "https://localhost:8080/"
        },
        "id": "o4KkFg393h2T",
        "outputId": "2edb079f-baf5-4377-a06b-2d2d4543109d"
      },
      "source": [
        "# Xamir \n",
        "users = [{'name':'xamir'},{'name':'user 2'},{'name':' user 3'}]\n",
        "premium_users = [{'name':'xamir'}]\n",
        "non_premium_users = []\n",
        "for i in users:\n",
        "  if i not in premium_users:\n",
        "    non_premium_users.append(i)\n",
        "print(\" Non premium users \" + str(non_premium_users))"
      ],
      "execution_count": 68,
      "outputs": [
        {
          "output_type": "stream",
          "name": "stdout",
          "text": [
            " Non premium users [{'name': 'user 2'}, {'name': ' user 3'}]\n"
          ]
        }
      ]
    },
    {
      "cell_type": "code",
      "metadata": {
        "id": "bxUpob_Q4Jf5",
        "colab": {
          "base_uri": "https://localhost:8080/"
        },
        "outputId": "471ee026-1159-4411-8fa3-798de582d79c"
      },
      "source": [
        "stocks = ['AAPL','GOOG','IBM','FB','F','V', 'G', 'GE']\n",
        "for i in stocks:\n",
        "    print (i)\n",
        "    if i == 'FB':\n",
        "        break"
      ],
      "execution_count": 69,
      "outputs": [
        {
          "output_type": "stream",
          "name": "stdout",
          "text": [
            "AAPL\n",
            "GOOG\n",
            "IBM\n",
            "FB\n"
          ]
        }
      ]
    },
    {
      "cell_type": "code",
      "metadata": {
        "colab": {
          "base_uri": "https://localhost:8080/"
        },
        "id": "yE3XMiU4AR9k",
        "outputId": "d0097342-da56-486a-a822-97ecbbe98409"
      },
      "source": [
        "# Xamir\n",
        "users = [{'name':'xamir'},{'name':'user 2'},{'name':' user 3'}]\n",
        "for i in users:\n",
        "  print(i['name'])\n",
        "  if(i['name'] == 'user 2'):\n",
        "    break"
      ],
      "execution_count": 70,
      "outputs": [
        {
          "output_type": "stream",
          "name": "stdout",
          "text": [
            "xamir\n",
            "user 2\n"
          ]
        }
      ]
    },
    {
      "cell_type": "code",
      "metadata": {
        "id": "k-Ojrj4-4Jf7",
        "colab": {
          "base_uri": "https://localhost:8080/"
        },
        "outputId": "62b47ca9-0346-4628-fcf2-d0ea1d1543bb"
      },
      "source": [
        "stocks = ['AAPL','GOOG','IBM','FB','F','V', 'G', 'GE']\n",
        "for i in stocks:\n",
        "    if i == 'FB':\n",
        "        continue\n",
        "    print(i)"
      ],
      "execution_count": 71,
      "outputs": [
        {
          "output_type": "stream",
          "name": "stdout",
          "text": [
            "AAPL\n",
            "GOOG\n",
            "IBM\n",
            "F\n",
            "V\n",
            "G\n",
            "GE\n"
          ]
        }
      ]
    },
    {
      "cell_type": "code",
      "metadata": {
        "colab": {
          "base_uri": "https://localhost:8080/"
        },
        "id": "3DWG1FfEBH0d",
        "outputId": "61d156af-f3bf-488a-c3cc-d1fef7ad24c8"
      },
      "source": [
        "# Xamir\n",
        "users = [{'name':'xamir'},{'name':'user 2'},{'name':' user 3'}]\n",
        "for i in users:\n",
        "  if i['name'] == 'user 2':\n",
        "    print('I have found {}'.format(i['name']))\n",
        "    continue\n",
        "  print(i)"
      ],
      "execution_count": 72,
      "outputs": [
        {
          "output_type": "stream",
          "name": "stdout",
          "text": [
            "{'name': 'xamir'}\n",
            "I have found user 2\n",
            "{'name': ' user 3'}\n"
          ]
        }
      ]
    },
    {
      "cell_type": "markdown",
      "metadata": {
        "id": "xVPQeL9_D1XM"
      },
      "source": [
        "## List Comprehension"
      ]
    },
    {
      "cell_type": "code",
      "metadata": {
        "id": "P7Cetzxk4Jf8",
        "colab": {
          "base_uri": "https://localhost:8080/"
        },
        "outputId": "6c226912-7aea-4d48-ad39-5124b933ac08"
      },
      "source": [
        "squares = []\n",
        "for i in [1,2,3,4,5]:\n",
        "    squares.append(i**2)\n",
        "print(squares)"
      ],
      "execution_count": 73,
      "outputs": [
        {
          "output_type": "stream",
          "name": "stdout",
          "text": [
            "[1, 4, 9, 16, 25]\n"
          ]
        }
      ]
    },
    {
      "cell_type": "code",
      "metadata": {
        "colab": {
          "base_uri": "https://localhost:8080/"
        },
        "id": "3CYvWt-YBtbb",
        "outputId": "96dea309-d75b-45ce-d0ca-19e30efbc7fd"
      },
      "source": [
        "# Xamir\n",
        "base = [1,2,3,4,5]\n",
        "results = []\n",
        "for i in base:\n",
        "  results.append(i**5)\n",
        "print(results)"
      ],
      "execution_count": 74,
      "outputs": [
        {
          "output_type": "stream",
          "name": "stdout",
          "text": [
            "[1, 32, 243, 1024, 3125]\n"
          ]
        }
      ]
    },
    {
      "cell_type": "code",
      "metadata": {
        "id": "0aIHGsmJ4Jf-",
        "colab": {
          "base_uri": "https://localhost:8080/"
        },
        "outputId": "32698eef-8780-4a99-c0a3-7a7574fa1c0a"
      },
      "source": [
        "list_example = [1,2,3,4,5]\n",
        "squares = [x**2 for x in list_example]\n",
        "print(squares)"
      ],
      "execution_count": 75,
      "outputs": [
        {
          "output_type": "stream",
          "name": "stdout",
          "text": [
            "[1, 4, 9, 16, 25]\n"
          ]
        }
      ]
    },
    {
      "cell_type": "code",
      "metadata": {
        "colab": {
          "base_uri": "https://localhost:8080/"
        },
        "id": "gCZNRUN_CWe_",
        "outputId": "7b8c3c28-6a84-4b85-b9cc-86c3ff1fb437"
      },
      "source": [
        "# Xamir\n",
        "results = [x**10 for x in [5,6,7,8,9]]\n",
        "print(results)"
      ],
      "execution_count": 76,
      "outputs": [
        {
          "output_type": "stream",
          "name": "stdout",
          "text": [
            "[9765625, 60466176, 282475249, 1073741824, 3486784401]\n"
          ]
        }
      ]
    },
    {
      "cell_type": "code",
      "metadata": {
        "id": "NvunehIb4Jf-",
        "colab": {
          "base_uri": "https://localhost:8080/"
        },
        "outputId": "6b893bca-8aef-405d-f36c-4340aaab988d"
      },
      "source": [
        "stocks = ['AAPL','GOOG','IBM','FB','F','V', 'G', 'GE']\n",
        "selected = ['AAPL','IBM']\n",
        "new_list = [x for x in stocks if x in selected]\n",
        "print(new_list)"
      ],
      "execution_count": 77,
      "outputs": [
        {
          "output_type": "stream",
          "name": "stdout",
          "text": [
            "['AAPL', 'IBM']\n"
          ]
        }
      ]
    },
    {
      "cell_type": "code",
      "metadata": {
        "colab": {
          "base_uri": "https://localhost:8080/"
        },
        "id": "4ZEKDKGyCrxL",
        "outputId": "eb2f55f0-e127-4c90-f703-66933ae6ad4e"
      },
      "source": [
        "# Xamir\n",
        "users = [{'name':'xamir'},{'name':'user 2'},{'name':' user 3'}]\n",
        "premium_users = [{'name':'xamir'}]\n",
        "non_premium_users = [x for x in users if x not in premium_users]\n",
        "print(non_premium_users)"
      ],
      "execution_count": 78,
      "outputs": [
        {
          "output_type": "stream",
          "name": "stdout",
          "text": [
            "[{'name': 'user 2'}, {'name': ' user 3'}]\n"
          ]
        }
      ]
    },
    {
      "cell_type": "code",
      "metadata": {
        "id": "H_vVJ8DJ4Jf_",
        "colab": {
          "base_uri": "https://localhost:8080/"
        },
        "outputId": "01156a2f-5269-4353-c461-4f50f130299c"
      },
      "source": [
        "print([(x, y) for x in [1,2,3] for y in [3,1,4] if x != y])\n",
        "print([str(x)+' vs '+str(y) for x in ['AAPL','GOOG','IBM','FB'] for y in ['F','V','G','GE'] if x!=y])"
      ],
      "execution_count": 79,
      "outputs": [
        {
          "output_type": "stream",
          "name": "stdout",
          "text": [
            "[(1, 3), (1, 4), (2, 3), (2, 1), (2, 4), (3, 1), (3, 4)]\n",
            "['AAPL vs F', 'AAPL vs V', 'AAPL vs G', 'AAPL vs GE', 'GOOG vs F', 'GOOG vs V', 'GOOG vs G', 'GOOG vs GE', 'IBM vs F', 'IBM vs V', 'IBM vs G', 'IBM vs GE', 'FB vs F', 'FB vs V', 'FB vs G', 'FB vs GE']\n"
          ]
        }
      ]
    },
    {
      "cell_type": "code",
      "metadata": {
        "colab": {
          "base_uri": "https://localhost:8080/"
        },
        "id": "XerDl3sFCrIE",
        "outputId": "5b73d496-9ad9-483b-bd49-b4284796f1a4"
      },
      "source": [
        "# Xamir\n",
        "print([(x, y) for x in [2,4,6] for y in [1,3,5]])\n",
        "print([x['name']+' vs '+ y['name'] for x in [{'name':'xamir'},{'name':'user 2'},{'name':' user 3'}] for y in [{'name':'xamir'},{'name':'user 2'},{'name':' user 3'}] if x!=y])\n"
      ],
      "execution_count": 80,
      "outputs": [
        {
          "output_type": "stream",
          "name": "stdout",
          "text": [
            "[(2, 1), (2, 3), (2, 5), (4, 1), (4, 3), (4, 5), (6, 1), (6, 3), (6, 5)]\n",
            "['xamir vs user 2', 'xamir vs  user 3', 'user 2 vs xamir', 'user 2 vs  user 3', ' user 3 vs xamir', ' user 3 vs user 2']\n"
          ]
        }
      ]
    },
    {
      "cell_type": "markdown",
      "metadata": {
        "id": "9DsZ0zg9FZvt"
      },
      "source": [
        "# 03 Python:Functions and Objective-Oriented Programming\n",
        "[Tutorials /  Introduction to Financial Python  /  Functions and Objective-Oriented Programming](https://www.quantconnect.com/tutorials/introduction-to-financial-python/functions-and-objective-oriented-programming)"
      ]
    },
    {
      "cell_type": "code",
      "metadata": {
        "id": "56i76NcTHJuq",
        "colab": {
          "base_uri": "https://localhost:8080/"
        },
        "outputId": "cee266e0-50da-461f-e526-f2d2b78b9473"
      },
      "source": [
        "def product(x,y):\n",
        "    return x*y\n",
        "print(product(2,3))\n",
        "print(product(5,10))"
      ],
      "execution_count": 81,
      "outputs": [
        {
          "output_type": "stream",
          "name": "stdout",
          "text": [
            "6\n",
            "50\n"
          ]
        }
      ]
    },
    {
      "cell_type": "code",
      "metadata": {
        "colab": {
          "base_uri": "https://localhost:8080/"
        },
        "id": "9N5-lThdLiqc",
        "outputId": "e25c2be4-b7bf-4c07-a582-4ee5cbba590b"
      },
      "source": [
        "# Xamir\n",
        "def multiply_the_numbers (*args):\n",
        "  total = 1\n",
        "  for num in args:\n",
        "    total *= num\n",
        "  return total\n",
        "print(multiply_the_numbers(2,3,4))\n",
        "print(multiply_the_numbers(2,3,4,5,6,7,8,9,10,11,12))"
      ],
      "execution_count": 82,
      "outputs": [
        {
          "output_type": "stream",
          "name": "stdout",
          "text": [
            "24\n",
            "479001600\n"
          ]
        }
      ]
    },
    {
      "cell_type": "code",
      "metadata": {
        "id": "pw4zB8sTHJu7",
        "colab": {
          "base_uri": "https://localhost:8080/"
        },
        "outputId": "4fe9c46c-128b-4f0f-9a94-84994e33ed48"
      },
      "source": [
        "def say_hi():\n",
        "    print('Welcome to QuantConnect')\n",
        "say_hi()"
      ],
      "execution_count": 83,
      "outputs": [
        {
          "output_type": "stream",
          "name": "stdout",
          "text": [
            "Welcome to QuantConnect\n"
          ]
        }
      ]
    },
    {
      "cell_type": "code",
      "metadata": {
        "colab": {
          "base_uri": "https://localhost:8080/"
        },
        "id": "z7I9sHTrNKgt",
        "outputId": "d4aebb69-f9eb-43b2-93cc-b65924137fe2"
      },
      "source": [
        "# Xamir\n",
        "def say_something():\n",
        "  print('Something')\n",
        "say_something()"
      ],
      "execution_count": 84,
      "outputs": [
        {
          "output_type": "stream",
          "name": "stdout",
          "text": [
            "Something\n"
          ]
        }
      ]
    },
    {
      "cell_type": "code",
      "metadata": {
        "id": "atSaNGg0HJu9",
        "colab": {
          "base_uri": "https://localhost:8080/"
        },
        "outputId": "3dfcab4a-924b-4c42-a950-81641a18407b"
      },
      "source": [
        "print(range(10))\n",
        "print(range(1,11))\n",
        "print(range(1,11,2))"
      ],
      "execution_count": 85,
      "outputs": [
        {
          "output_type": "stream",
          "name": "stdout",
          "text": [
            "range(0, 10)\n",
            "range(1, 11)\n",
            "range(1, 11, 2)\n"
          ]
        }
      ]
    },
    {
      "cell_type": "code",
      "metadata": {
        "colab": {
          "base_uri": "https://localhost:8080/"
        },
        "id": "NQ65w6NKNsmG",
        "outputId": "21ec1081-74e0-4066-cd8c-a486f8b55563"
      },
      "source": [
        "# Xamir\n",
        "print(range(100))\n",
        "print(range(-30,30))\n",
        "print(range(-100,100,5))"
      ],
      "execution_count": 86,
      "outputs": [
        {
          "output_type": "stream",
          "name": "stdout",
          "text": [
            "range(0, 100)\n",
            "range(-30, 30)\n",
            "range(-100, 100, 5)\n"
          ]
        }
      ]
    },
    {
      "cell_type": "code",
      "metadata": {
        "id": "hLGuXxNKHJu-",
        "colab": {
          "base_uri": "https://localhost:8080/"
        },
        "outputId": "49c513d4-daf7-4e15-9767-a6bc0fcf19e3"
      },
      "source": [
        "tickers = ['AAPL','GOOG','IBM','FB','F','V', 'G', 'GE']\n",
        "print('The length of tickers is {}'.format(len(tickers)))\n",
        "for i in range(len(tickers)):\n",
        "    print(tickers[i])"
      ],
      "execution_count": 87,
      "outputs": [
        {
          "output_type": "stream",
          "name": "stdout",
          "text": [
            "The length of tickers is 8\n",
            "AAPL\n",
            "GOOG\n",
            "IBM\n",
            "FB\n",
            "F\n",
            "V\n",
            "G\n",
            "GE\n"
          ]
        }
      ]
    },
    {
      "cell_type": "code",
      "metadata": {
        "colab": {
          "base_uri": "https://localhost:8080/"
        },
        "id": "nUIl39loOy1k",
        "outputId": "cecb7369-694e-46af-94d1-68abce37917a"
      },
      "source": [
        "# Xamir\n",
        "food = ['hamburguer','apple','banana']\n",
        "print('The length of  is {}'.format(len(food)))\n",
        "for i in range(len(food)):\n",
        "    print(food[i])"
      ],
      "execution_count": 88,
      "outputs": [
        {
          "output_type": "stream",
          "name": "stdout",
          "text": [
            "The length of  is 3\n",
            "hamburguer\n",
            "apple\n",
            "banana\n"
          ]
        }
      ]
    },
    {
      "cell_type": "markdown",
      "metadata": {
        "id": "2UmGErVcSV_n"
      },
      "source": [
        "**map(fun, iter)**\n",
        "function returns a map object(which is an iterator) of the results after applying the given function to each item of a given iterable (list, tuple etc.)\n",
        "Parameters :\n",
        "* fun : It is a function to which map passes each element of given iterable.\n",
        "* iter : It is a iterable which is to be mapped.\n",
        "\n",
        "\n",
        "```python\n",
        "# Python program to demonstrate working\n",
        "# of map.\n",
        "\n",
        "# Return double of n\n",
        "def addition(n):\n",
        "\treturn n + n\n",
        "\n",
        "# We double all numbers using map()\n",
        "numbers = (1, 2, 3, 4)\n",
        "result = map(addition, numbers)\n",
        "print(list(result))\n",
        "#[2, 4, 6, 8]\n",
        "```\n",
        "\n"
      ]
    },
    {
      "cell_type": "code",
      "metadata": {
        "id": "2Ov2aJX7HJvA",
        "colab": {
          "base_uri": "https://localhost:8080/"
        },
        "outputId": "59206796-fafc-4778-f332-e0cdb668ef0e"
      },
      "source": [
        "tickers = ['AAPL','GOOG','IBM','FB','F','V', 'G', 'GE']\n",
        "print(list(map(len,tickers)))"
      ],
      "execution_count": 89,
      "outputs": [
        {
          "output_type": "stream",
          "name": "stdout",
          "text": [
            "[4, 4, 3, 2, 1, 1, 1, 2]\n"
          ]
        }
      ]
    },
    {
      "cell_type": "code",
      "metadata": {
        "colab": {
          "base_uri": "https://localhost:8080/"
        },
        "id": "WKe6cysMRppt",
        "outputId": "734d3c1a-c2dd-4eba-c981-ba9840ec4bb0"
      },
      "source": [
        "# Xamir\n",
        "def double(food_name):\n",
        "  return food_name + food_name\n",
        "food = ['hamburguer','apple','banana']\n",
        "print(list(map(double,food)))\n"
      ],
      "execution_count": 90,
      "outputs": [
        {
          "output_type": "stream",
          "name": "stdout",
          "text": [
            "['hamburguerhamburguer', 'appleapple', 'bananabanana']\n"
          ]
        }
      ]
    },
    {
      "cell_type": "markdown",
      "metadata": {
        "id": "FtzB_JV-YzES"
      },
      "source": [
        "The lambda operator(lambda arguments : expression)is a way to create small anonymous functions. These functions are just needed where they have been created. For example:"
      ]
    },
    {
      "cell_type": "code",
      "metadata": {
        "id": "UuuS5kXdHJvC",
        "colab": {
          "base_uri": "https://localhost:8080/"
        },
        "outputId": "997b2c2e-e9ca-4421-a6bb-65394737569f"
      },
      "source": [
        "list(map(lambda x: x**2, range(10)))"
      ],
      "execution_count": 91,
      "outputs": [
        {
          "output_type": "execute_result",
          "data": {
            "text/plain": [
              "[0, 1, 4, 9, 16, 25, 36, 49, 64, 81]"
            ]
          },
          "metadata": {},
          "execution_count": 91
        }
      ]
    },
    {
      "cell_type": "code",
      "metadata": {
        "colab": {
          "base_uri": "https://localhost:8080/"
        },
        "id": "D2HEmA5sYDM7",
        "outputId": "bca82a22-95b1-40af-9f3d-bbb48226b072"
      },
      "source": [
        "# Xamir\n",
        "list(map(lambda x:x+x,food))\n"
      ],
      "execution_count": 92,
      "outputs": [
        {
          "output_type": "execute_result",
          "data": {
            "text/plain": [
              "['hamburguerhamburguer', 'appleapple', 'bananabanana']"
            ]
          },
          "metadata": {},
          "execution_count": 92
        }
      ]
    },
    {
      "cell_type": "code",
      "metadata": {
        "id": "fhS689LrHJvD",
        "colab": {
          "base_uri": "https://localhost:8080/"
        },
        "outputId": "a5b8bf5b-c39a-466b-af0f-b234cb23a090"
      },
      "source": [
        "list(map(lambda x, y: x+y, [1,2,3,4,5],[5,4,3,2,1]))"
      ],
      "execution_count": 93,
      "outputs": [
        {
          "output_type": "execute_result",
          "data": {
            "text/plain": [
              "[6, 6, 6, 6, 6]"
            ]
          },
          "metadata": {},
          "execution_count": 93
        }
      ]
    },
    {
      "cell_type": "code",
      "metadata": {
        "colab": {
          "base_uri": "https://localhost:8080/"
        },
        "id": "Kl9tQZ1AZJ2N",
        "outputId": "d8cfb5dd-64b5-407b-9e8f-7c4d60107cb8"
      },
      "source": [
        "# Xamir\n",
        "list(map(lambda x,y:x+y,\"Hamburger\",\"Banana\"))"
      ],
      "execution_count": 94,
      "outputs": [
        {
          "output_type": "execute_result",
          "data": {
            "text/plain": [
              "['HB', 'aa', 'mn', 'ba', 'un', 'ra']"
            ]
          },
          "metadata": {},
          "execution_count": 94
        }
      ]
    },
    {
      "cell_type": "code",
      "metadata": {
        "id": "D297Ykj7HJvF",
        "colab": {
          "base_uri": "https://localhost:8080/"
        },
        "outputId": "28d5ee46-6a33-469b-b7ce-55fc158b0ce8"
      },
      "source": [
        "sorted([5,2,3,4,1])"
      ],
      "execution_count": 95,
      "outputs": [
        {
          "output_type": "execute_result",
          "data": {
            "text/plain": [
              "[1, 2, 3, 4, 5]"
            ]
          },
          "metadata": {},
          "execution_count": 95
        }
      ]
    },
    {
      "cell_type": "code",
      "metadata": {
        "colab": {
          "base_uri": "https://localhost:8080/"
        },
        "id": "aMvrVSRrZdLd",
        "outputId": "69146cb6-fa44-44e9-c702-80b4f6a043ca"
      },
      "source": [
        "# Xamir\n",
        "sorted([1000.-50,0,29,True])"
      ],
      "execution_count": 96,
      "outputs": [
        {
          "output_type": "execute_result",
          "data": {
            "text/plain": [
              "[0, True, 29, 950.0]"
            ]
          },
          "metadata": {},
          "execution_count": 96
        }
      ]
    },
    {
      "cell_type": "code",
      "metadata": {
        "id": "5O_EGbB9HJvK",
        "colab": {
          "base_uri": "https://localhost:8080/"
        },
        "outputId": "cf14bf73-23c7-4d0a-928e-b103f194f77c"
      },
      "source": [
        "price_list = [('AAPL',144.09),('GOOG',911.71),('MSFT',69),('FB',150),('WMT',75.32)]\n",
        "sorted(price_list, key = lambda x: x[1])"
      ],
      "execution_count": 97,
      "outputs": [
        {
          "output_type": "execute_result",
          "data": {
            "text/plain": [
              "[('MSFT', 69), ('WMT', 75.32), ('AAPL', 144.09), ('FB', 150), ('GOOG', 911.71)]"
            ]
          },
          "metadata": {},
          "execution_count": 97
        }
      ]
    },
    {
      "cell_type": "code",
      "metadata": {
        "colab": {
          "base_uri": "https://localhost:8080/"
        },
        "id": "8-U89edgZosj",
        "outputId": "1b146ed0-f9fb-4ffa-eff3-65eb19fc7c79"
      },
      "source": [
        "# Xamir\n",
        "users = [{'name':' user 1', 'age':'22'},{'name':' user 2' ,'age':'19'},{'name':' user 3' ,'age':'25'},{'name':' user 4' ,'age':'40'}]\n",
        "sorted(users, key = lambda x: x['age'])"
      ],
      "execution_count": 98,
      "outputs": [
        {
          "output_type": "execute_result",
          "data": {
            "text/plain": [
              "[{'age': '19', 'name': ' user 2'},\n",
              " {'age': '22', 'name': ' user 1'},\n",
              " {'age': '25', 'name': ' user 3'},\n",
              " {'age': '40', 'name': ' user 4'}]"
            ]
          },
          "metadata": {},
          "execution_count": 98
        }
      ]
    },
    {
      "cell_type": "code",
      "metadata": {
        "id": "23ncI4C9HJvS",
        "colab": {
          "base_uri": "https://localhost:8080/"
        },
        "outputId": "5121dccb-aba1-4567-a187-be355e0e99b2"
      },
      "source": [
        "price_list = [('AAPL',144.09),('GOOG',911.71),('MSFT',69),('FB',150),('WMT',75.32)]\n",
        "sorted(price_list, key = lambda x: x[1],reverse = True)"
      ],
      "execution_count": 99,
      "outputs": [
        {
          "output_type": "execute_result",
          "data": {
            "text/plain": [
              "[('GOOG', 911.71), ('FB', 150), ('AAPL', 144.09), ('WMT', 75.32), ('MSFT', 69)]"
            ]
          },
          "metadata": {},
          "execution_count": 99
        }
      ]
    },
    {
      "cell_type": "code",
      "metadata": {
        "colab": {
          "base_uri": "https://localhost:8080/"
        },
        "id": "IcbEIvvya_hr",
        "outputId": "bf62fdbc-7e94-44f6-fd08-17fd2e9fc492"
      },
      "source": [
        "# Xamir\n",
        "users = [{'name':' user 1', 'age':'22'},{'name':' user 2' ,'age':'19'},{'name':' user 3' ,'age':'25'},{'name':' user 4' ,'age':'40'}]\n",
        "sorted(users, key = lambda x: x['age'], reverse=True)\n"
      ],
      "execution_count": 100,
      "outputs": [
        {
          "output_type": "execute_result",
          "data": {
            "text/plain": [
              "[{'age': '40', 'name': ' user 4'},\n",
              " {'age': '25', 'name': ' user 3'},\n",
              " {'age': '22', 'name': ' user 1'},\n",
              " {'age': '19', 'name': ' user 2'}]"
            ]
          },
          "metadata": {},
          "execution_count": 100
        }
      ]
    },
    {
      "cell_type": "code",
      "metadata": {
        "id": "qsOFp1JuHJvU",
        "colab": {
          "base_uri": "https://localhost:8080/"
        },
        "outputId": "460d015f-7275-4926-f76b-3ea8f3625343"
      },
      "source": [
        "price_list = [('AAPL',144.09),('GOOG',911.71),('MSFT',69),('FB',150),('WMT',75.32)]\n",
        "price_list.sort(key = lambda x: x[1])\n",
        "print(price_list)"
      ],
      "execution_count": 101,
      "outputs": [
        {
          "output_type": "stream",
          "name": "stdout",
          "text": [
            "[('MSFT', 69), ('WMT', 75.32), ('AAPL', 144.09), ('FB', 150), ('GOOG', 911.71)]\n"
          ]
        }
      ]
    },
    {
      "cell_type": "code",
      "metadata": {
        "colab": {
          "base_uri": "https://localhost:8080/"
        },
        "id": "ug9r_cfzbM7O",
        "outputId": "db72e0c5-fc4e-40f5-ebce-7e5c18e70ec8"
      },
      "source": [
        "users = [{'name':'user 1', 'age':'22'},{'name':' user 2' ,'age':'19'},{'name':' user 3' ,'age':'25'},{'name':' user 4' ,'age':'40'}]\n",
        "users.sort(key = lambda x: x['age'])\n",
        "print(users)"
      ],
      "execution_count": 102,
      "outputs": [
        {
          "output_type": "stream",
          "name": "stdout",
          "text": [
            "[{'name': ' user 2', 'age': '19'}, {'name': 'user 1', 'age': '22'}, {'name': ' user 3', 'age': '25'}, {'name': ' user 4', 'age': '40'}]\n"
          ]
        }
      ]
    },
    {
      "cell_type": "code",
      "metadata": {
        "id": "74-hTvcMHJvW"
      },
      "source": [
        "class stock:\n",
        "    def __init__(self, ticker, open, close, volume):\n",
        "        self.ticker = ticker\n",
        "        self.open = open\n",
        "        self.close = close\n",
        "        self.volume = volume\n",
        "        self.rate_return = float(close)/open - 1\n",
        " \n",
        "    def update(self, open, close):\n",
        "        self.open = open\n",
        "        self.close = close\n",
        "        self.rate_return = float(self.close)/self.open - 1\n",
        " \n",
        "    def print_return(self):\n",
        "        print(self.rate_return)"
      ],
      "execution_count": 103,
      "outputs": []
    },
    {
      "cell_type": "code",
      "metadata": {
        "colab": {
          "base_uri": "https://localhost:8080/"
        },
        "id": "eb1LlK6FbZJO",
        "outputId": "794d004f-ac68-48fc-92b0-ee53713b11f9"
      },
      "source": [
        "# Xamir\n",
        "class user:\n",
        "    def __init__(self,name,age):\n",
        "      self.name = name\n",
        "      self.age = age\n",
        "    def get_older(self,age):\n",
        "      self.age = age\n",
        "    def __str__(self):\n",
        "      return('User name: {}, age: {}'.format(self.name,self.age))\n",
        "\n",
        "\n",
        "xamir = user('xamir',22)\n",
        "print(xamir)"
      ],
      "execution_count": 104,
      "outputs": [
        {
          "output_type": "stream",
          "name": "stdout",
          "text": [
            "User name: xamir, age: 22\n"
          ]
        }
      ]
    },
    {
      "cell_type": "code",
      "metadata": {
        "id": "A2ITFN-yHJvZ"
      },
      "source": [
        "apple = stock('AAPL', 143.69, 144.09, 20109375)\n",
        "google = stock('GOOG', 898.7, 911.7, 1561616)"
      ],
      "execution_count": 105,
      "outputs": []
    },
    {
      "cell_type": "code",
      "metadata": {
        "id": "EuEhSP2CciF6"
      },
      "source": [
        "# Xamir\n",
        "user2 = user('user 2',30)\n",
        "user3 = user('user 3',5)"
      ],
      "execution_count": 106,
      "outputs": []
    },
    {
      "cell_type": "code",
      "metadata": {
        "id": "d6L0HwwwHJva",
        "colab": {
          "base_uri": "https://localhost:8080/"
        },
        "outputId": "fcd07b18-6931-4032-d6d6-bfb9136caade"
      },
      "source": [
        "apple.ticker\n",
        "google.print_return()\n",
        "google.update(912.8,913.4)\n",
        "google.print_return()"
      ],
      "execution_count": 107,
      "outputs": [
        {
          "output_type": "stream",
          "name": "stdout",
          "text": [
            "0.014465338822744034\n",
            "0.0006573181419806673\n"
          ]
        }
      ]
    },
    {
      "cell_type": "code",
      "metadata": {
        "colab": {
          "base_uri": "https://localhost:8080/"
        },
        "id": "5GXhjmzKdCz6",
        "outputId": "22852bd8-3792-4b70-b8db-e3674d5bf0a9"
      },
      "source": [
        "# Xamir\n",
        "print(user2.name)\n",
        "user2.get_older(100)\n",
        "print(user2)"
      ],
      "execution_count": 108,
      "outputs": [
        {
          "output_type": "stream",
          "name": "stdout",
          "text": [
            "user 2\n",
            "User name: user 2, age: 100\n"
          ]
        }
      ]
    },
    {
      "cell_type": "code",
      "metadata": {
        "id": "m9H9IOEiHJvc",
        "colab": {
          "base_uri": "https://localhost:8080/",
          "height": 0
        },
        "outputId": "19bf5fff-145e-4ed7-a9d5-7f78ea5fe1be"
      },
      "source": [
        "apple.ceo = 'Tim Cook'\n",
        "apple.ceo"
      ],
      "execution_count": 109,
      "outputs": [
        {
          "output_type": "execute_result",
          "data": {
            "application/vnd.google.colaboratory.intrinsic+json": {
              "type": "string"
            },
            "text/plain": [
              "'Tim Cook'"
            ]
          },
          "metadata": {},
          "execution_count": 109
        }
      ]
    },
    {
      "cell_type": "code",
      "metadata": {
        "colab": {
          "base_uri": "https://localhost:8080/",
          "height": 0
        },
        "id": "xIjTlj8cfDgG",
        "outputId": "8f3fd008-addf-4ead-aa79-ed4590e535d0"
      },
      "source": [
        "# Xamir\n",
        "user2.name = 'New user 2'\n",
        "user2.name"
      ],
      "execution_count": 110,
      "outputs": [
        {
          "output_type": "execute_result",
          "data": {
            "application/vnd.google.colaboratory.intrinsic+json": {
              "type": "string"
            },
            "text/plain": [
              "'New user 2'"
            ]
          },
          "metadata": {},
          "execution_count": 110
        }
      ]
    },
    {
      "cell_type": "code",
      "metadata": {
        "id": "VkU7_f2nHJvd",
        "colab": {
          "base_uri": "https://localhost:8080/"
        },
        "outputId": "97d210fe-668a-4cc5-a67e-fcf888bf88ef"
      },
      "source": [
        "dir(apple)"
      ],
      "execution_count": 111,
      "outputs": [
        {
          "output_type": "execute_result",
          "data": {
            "text/plain": [
              "['__class__',\n",
              " '__delattr__',\n",
              " '__dict__',\n",
              " '__dir__',\n",
              " '__doc__',\n",
              " '__eq__',\n",
              " '__format__',\n",
              " '__ge__',\n",
              " '__getattribute__',\n",
              " '__gt__',\n",
              " '__hash__',\n",
              " '__init__',\n",
              " '__init_subclass__',\n",
              " '__le__',\n",
              " '__lt__',\n",
              " '__module__',\n",
              " '__ne__',\n",
              " '__new__',\n",
              " '__reduce__',\n",
              " '__reduce_ex__',\n",
              " '__repr__',\n",
              " '__setattr__',\n",
              " '__sizeof__',\n",
              " '__str__',\n",
              " '__subclasshook__',\n",
              " '__weakref__',\n",
              " 'ceo',\n",
              " 'close',\n",
              " 'open',\n",
              " 'print_return',\n",
              " 'rate_return',\n",
              " 'ticker',\n",
              " 'update',\n",
              " 'volume']"
            ]
          },
          "metadata": {},
          "execution_count": 111
        }
      ]
    },
    {
      "cell_type": "code",
      "metadata": {
        "colab": {
          "base_uri": "https://localhost:8080/"
        },
        "id": "FK7whVrQfS3v",
        "outputId": "36e8ce48-e041-47cf-c53a-5e4a2391ef4d"
      },
      "source": [
        "# Xamir\n",
        "dir(user2)"
      ],
      "execution_count": 112,
      "outputs": [
        {
          "output_type": "execute_result",
          "data": {
            "text/plain": [
              "['__class__',\n",
              " '__delattr__',\n",
              " '__dict__',\n",
              " '__dir__',\n",
              " '__doc__',\n",
              " '__eq__',\n",
              " '__format__',\n",
              " '__ge__',\n",
              " '__getattribute__',\n",
              " '__gt__',\n",
              " '__hash__',\n",
              " '__init__',\n",
              " '__init_subclass__',\n",
              " '__le__',\n",
              " '__lt__',\n",
              " '__module__',\n",
              " '__ne__',\n",
              " '__new__',\n",
              " '__reduce__',\n",
              " '__reduce_ex__',\n",
              " '__repr__',\n",
              " '__setattr__',\n",
              " '__sizeof__',\n",
              " '__str__',\n",
              " '__subclasshook__',\n",
              " '__weakref__',\n",
              " 'age',\n",
              " 'get_older',\n",
              " 'name']"
            ]
          },
          "metadata": {},
          "execution_count": 112
        }
      ]
    },
    {
      "cell_type": "code",
      "metadata": {
        "id": "qOr0UkyHHJve"
      },
      "source": [
        "class child(stock):\n",
        "    def __init__(self,name):\n",
        "        self.name = name"
      ],
      "execution_count": 113,
      "outputs": []
    },
    {
      "cell_type": "code",
      "metadata": {
        "id": "Y2imnlTFfcWP"
      },
      "source": [
        "# Xamir\n",
        "class user_child(user):\n",
        "    def __init__(self,name):\n",
        "        self.name = name\n",
        "    def new_method(self):\n",
        "        print('new method!!')"
      ],
      "execution_count": 114,
      "outputs": []
    },
    {
      "cell_type": "code",
      "metadata": {
        "id": "3vQK-2UIHJvf",
        "colab": {
          "base_uri": "https://localhost:8080/"
        },
        "outputId": "f164a93b-3f8b-47c2-a6a9-ae2692dc2a88"
      },
      "source": [
        "aa = child('aa')\n",
        "print(aa.name)\n",
        "aa.update(100,102)\n",
        "print(aa.open)\n",
        "print(aa.close)\n",
        "print(aa.print_return())"
      ],
      "execution_count": 115,
      "outputs": [
        {
          "output_type": "stream",
          "name": "stdout",
          "text": [
            "aa\n",
            "100\n",
            "102\n",
            "0.020000000000000018\n",
            "None\n"
          ]
        }
      ]
    },
    {
      "cell_type": "code",
      "metadata": {
        "colab": {
          "base_uri": "https://localhost:8080/"
        },
        "id": "CG4NqBLUfymq",
        "outputId": "e1782a93-a8db-40c8-b586-a9a55fb93ad6"
      },
      "source": [
        "# Xamir\n",
        "user2_child = user_child('uwu')\n",
        "\n",
        "print(user2_child.name)\n",
        "user2_child.get_older(333)\n",
        "print(user2_child.age)\n",
        "print(user2_child)\n",
        "user2_child.new_method()"
      ],
      "execution_count": 116,
      "outputs": [
        {
          "output_type": "stream",
          "name": "stdout",
          "text": [
            "uwu\n",
            "333\n",
            "User name: uwu, age: 333\n",
            "new method!!\n"
          ]
        }
      ]
    },
    {
      "cell_type": "markdown",
      "metadata": {
        "id": "_rzObaR45JS0"
      },
      "source": [
        "# 04 Python: NumPy and Basic Pandas\n",
        "[Tutorials /  Introduction to Financial Python  /  NumPy and Basic Pandas](https://www.quantconnect.com/tutorials/introduction-to-financial-python/numpy-and-basic-pandas)"
      ]
    },
    {
      "cell_type": "code",
      "metadata": {
        "id": "FczaGb0u5mhW"
      },
      "source": [
        "import numpy as np"
      ],
      "execution_count": 117,
      "outputs": []
    },
    {
      "cell_type": "code",
      "metadata": {
        "id": "GNRdU5Qp5mhg",
        "colab": {
          "base_uri": "https://localhost:8080/"
        },
        "outputId": "66a29f07-6dc6-4648-8c54-be241d0e96fa"
      },
      "source": [
        "price_list = [143.73, 145.83, 143.68, 144.02, 143.5, 142.62]\n",
        "price_array = np.array(price_list)\n",
        "print(price_array, type(price_array))"
      ],
      "execution_count": 118,
      "outputs": [
        {
          "output_type": "stream",
          "name": "stdout",
          "text": [
            "[143.73 145.83 143.68 144.02 143.5  142.62] <class 'numpy.ndarray'>\n"
          ]
        }
      ]
    },
    {
      "cell_type": "code",
      "metadata": {
        "colab": {
          "base_uri": "https://localhost:8080/"
        },
        "id": "o6wtOe0OuepH",
        "outputId": "c763e420-f35d-4f4a-89d7-f8e64fe9247c"
      },
      "source": [
        "# Xamir\n",
        "\"\"\"\n",
        "Array of values of the same type\n",
        "ndarray = n dimensional array\n",
        "\"\"\"\n",
        "xamir_population_list = [300,200,900,700,-55.3,452.2,321,456,789,300]\n",
        "xamir_population_array = np.array(xamir_population_list)\n",
        "print(xamir_population_array,type(xamir_population_array))\n"
      ],
      "execution_count": 119,
      "outputs": [
        {
          "output_type": "stream",
          "name": "stdout",
          "text": [
            "[300.  200.  900.  700.  -55.3 452.2 321.  456.  789.  300. ] <class 'numpy.ndarray'>\n"
          ]
        }
      ]
    },
    {
      "cell_type": "code",
      "metadata": {
        "id": "sPoSVSSg5mhi",
        "colab": {
          "base_uri": "https://localhost:8080/"
        },
        "outputId": "0c30d2e5-c603-4a6a-fb12-748a0a8cdca9"
      },
      "source": [
        "Ar = np.array([[1,3],[2,4]])\n",
        "print(Ar, type(Ar))"
      ],
      "execution_count": 120,
      "outputs": [
        {
          "output_type": "stream",
          "name": "stdout",
          "text": [
            "[[1 3]\n",
            " [2 4]] <class 'numpy.ndarray'>\n"
          ]
        }
      ]
    },
    {
      "cell_type": "code",
      "metadata": {
        "colab": {
          "base_uri": "https://localhost:8080/"
        },
        "id": "qdpe5JNIuiAJ",
        "outputId": "1733ad92-5d27-4049-8914-f32cb37be166"
      },
      "source": [
        "# Xamir\n",
        "\"\"\"\n",
        "Multi-dimensional array\n",
        "shape: tuple of ints\n",
        "The elements of the shape tuple give the lengths of the corresponding array dimensions.\n",
        "\"\"\"\n",
        "xamir_matrix = np.array([\n",
        "                         [[1,2,3],[4,5,6]],\n",
        "                         [[7,8,9],[10,11,12]]\n",
        "                         ])\n",
        "print(xamir_matrix,type(xamir_matrix))\n"
      ],
      "execution_count": 121,
      "outputs": [
        {
          "output_type": "stream",
          "name": "stdout",
          "text": [
            "[[[ 1  2  3]\n",
            "  [ 4  5  6]]\n",
            "\n",
            " [[ 7  8  9]\n",
            "  [10 11 12]]] <class 'numpy.ndarray'>\n"
          ]
        }
      ]
    },
    {
      "cell_type": "code",
      "metadata": {
        "id": "FFfMNywS5mhk",
        "colab": {
          "base_uri": "https://localhost:8080/"
        },
        "outputId": "3048adf5-d1a7-4066-981d-701e2802969f"
      },
      "source": [
        "print(Ar.shape)"
      ],
      "execution_count": 122,
      "outputs": [
        {
          "output_type": "stream",
          "name": "stdout",
          "text": [
            "(2, 2)\n"
          ]
        }
      ]
    },
    {
      "cell_type": "code",
      "metadata": {
        "colab": {
          "base_uri": "https://localhost:8080/"
        },
        "id": "w0CiRLeDuiv4",
        "outputId": "38b4cf0e-1aa4-4afa-a809-7c3e76e403d8"
      },
      "source": [
        "# Xamir\n",
        "\"\"\"\n",
        "shape: tuple of ints\n",
        "The elements of the shape tuple give the lengths of the corresponding array dimensions.\n",
        "\"\"\"\n",
        "print(xamir_matrix.shape)"
      ],
      "execution_count": 123,
      "outputs": [
        {
          "output_type": "stream",
          "name": "stdout",
          "text": [
            "(2, 2, 3)\n"
          ]
        }
      ]
    },
    {
      "cell_type": "code",
      "metadata": {
        "id": "YvIxSuxS5mhl",
        "colab": {
          "base_uri": "https://localhost:8080/"
        },
        "outputId": "aa3a3852-ba18-4a50-8250-052cbd16e7f6"
      },
      "source": [
        "print(Ar[0])\n",
        "print(Ar[1])"
      ],
      "execution_count": 124,
      "outputs": [
        {
          "output_type": "stream",
          "name": "stdout",
          "text": [
            "[1 3]\n",
            "[2 4]\n"
          ]
        }
      ]
    },
    {
      "cell_type": "code",
      "metadata": {
        "colab": {
          "base_uri": "https://localhost:8080/"
        },
        "id": "-tijyv-XujVD",
        "outputId": "7a0bdb48-77fc-4731-ee2b-fbd0613daceb"
      },
      "source": [
        "# Xamir\n",
        "print(xamir_matrix[0])\n",
        "print(xamir_matrix[0][0])\n",
        "print(xamir_matrix[0][0][0])"
      ],
      "execution_count": 125,
      "outputs": [
        {
          "output_type": "stream",
          "name": "stdout",
          "text": [
            "[[1 2 3]\n",
            " [4 5 6]]\n",
            "[1 2 3]\n",
            "1\n"
          ]
        }
      ]
    },
    {
      "cell_type": "code",
      "metadata": {
        "id": "EOp-vwhA5mhl",
        "colab": {
          "base_uri": "https://localhost:8080/"
        },
        "outputId": "95f54f8c-8921-473e-9718-79bfab0fe1de"
      },
      "source": [
        "print('the first column: ', Ar[:,0])\n",
        "print('the second column: ', Ar[:,1])"
      ],
      "execution_count": 126,
      "outputs": [
        {
          "output_type": "stream",
          "name": "stdout",
          "text": [
            "the first column:  [1 2]\n",
            "the second column:  [3 4]\n"
          ]
        }
      ]
    },
    {
      "cell_type": "code",
      "metadata": {
        "colab": {
          "base_uri": "https://localhost:8080/"
        },
        "id": "FQSz9R5Huj7Q",
        "outputId": "3171e4d7-8b75-45f7-a6e2-eb968abb6cf2"
      },
      "source": [
        "# Xamir\n",
        "\"\"\"\n",
        "[:] all elements\n",
        "\"\"\"\n",
        "# in all rows choose first element (first column)\n",
        "print('the first column: ', xamir_matrix[:,0]) \n",
        "# in all rows choose second element (second column)\n",
        "print('the second column: ', xamir_matrix[:,1])\n",
        "# in all rows, in all columns choose first element \n",
        "print('the second column: ', xamir_matrix[:,:,0])\n",
        "\n"
      ],
      "execution_count": 127,
      "outputs": [
        {
          "output_type": "stream",
          "name": "stdout",
          "text": [
            "the first column:  [[1 2 3]\n",
            " [7 8 9]]\n",
            "the second column:  [[ 4  5  6]\n",
            " [10 11 12]]\n",
            "the second column:  [[ 1  4]\n",
            " [ 7 10]]\n"
          ]
        }
      ]
    },
    {
      "cell_type": "code",
      "metadata": {
        "id": "pnF3Pljw5mhm",
        "colab": {
          "base_uri": "https://localhost:8080/"
        },
        "outputId": "5fb04e5e-d793-45f4-a35f-a050cb01e454"
      },
      "source": [
        "print(np.log(price_array))"
      ],
      "execution_count": 128,
      "outputs": [
        {
          "output_type": "stream",
          "name": "stdout",
          "text": [
            "[4.96793654 4.98244156 4.9675886  4.96995218 4.96633504 4.96018375]\n"
          ]
        }
      ]
    },
    {
      "cell_type": "code",
      "metadata": {
        "colab": {
          "base_uri": "https://localhost:8080/"
        },
        "id": "-cRa8g2Iukrr",
        "outputId": "37c24df6-cb1b-45fa-e589-1ab1ed0a834e"
      },
      "source": [
        "# Xamir\n",
        "\"\"\"\n",
        "Array functions \n",
        "\"\"\"\n",
        "print(np.log(xamir_matrix))\n"
      ],
      "execution_count": 129,
      "outputs": [
        {
          "output_type": "stream",
          "name": "stdout",
          "text": [
            "[[[0.         0.69314718 1.09861229]\n",
            "  [1.38629436 1.60943791 1.79175947]]\n",
            "\n",
            " [[1.94591015 2.07944154 2.19722458]\n",
            "  [2.30258509 2.39789527 2.48490665]]]\n"
          ]
        }
      ]
    },
    {
      "cell_type": "code",
      "metadata": {
        "id": "QzzkseKV5mho",
        "colab": {
          "base_uri": "https://localhost:8080/"
        },
        "outputId": "5fd3a6f6-df51-433a-ac11-32f2e8081c79"
      },
      "source": [
        "print(np.mean(price_array))\n",
        "print(np.std(price_array))\n",
        "print(np.sum(price_array))\n",
        "print(np.max(price_array))"
      ],
      "execution_count": 130,
      "outputs": [
        {
          "output_type": "stream",
          "name": "stdout",
          "text": [
            "143.89666666666668\n",
            "0.9673790478515796\n",
            "863.38\n",
            "145.83\n"
          ]
        }
      ]
    },
    {
      "cell_type": "code",
      "metadata": {
        "colab": {
          "base_uri": "https://localhost:8080/"
        },
        "id": "GgaGjrPrulPJ",
        "outputId": "2be53005-3f30-4ad4-a427-80dcd4d0bb98"
      },
      "source": [
        "# Xamir\n",
        "print(np.mean(xamir_matrix))\n",
        "print(np.std(xamir_matrix))\n",
        "print(np.sum(xamir_matrix))\n",
        "print(np.max(xamir_matrix))"
      ],
      "execution_count": 131,
      "outputs": [
        {
          "output_type": "stream",
          "name": "stdout",
          "text": [
            "6.5\n",
            "3.452052529534663\n",
            "78\n",
            "12\n"
          ]
        }
      ]
    },
    {
      "cell_type": "code",
      "metadata": {
        "id": "c0dVhY-J5mhp"
      },
      "source": [
        "import pandas as pd"
      ],
      "execution_count": 132,
      "outputs": []
    },
    {
      "cell_type": "code",
      "metadata": {
        "id": "g8hXzsuJ5mhr",
        "colab": {
          "base_uri": "https://localhost:8080/"
        },
        "outputId": "f46019b3-c18c-4e19-ad56-00a8e926da95"
      },
      "source": [
        "price = [143.73, 145.83, 143.68, 144.02, 143.5, 142.62]\n",
        "s = pd.Series(price)\n",
        "s"
      ],
      "execution_count": 133,
      "outputs": [
        {
          "output_type": "execute_result",
          "data": {
            "text/plain": [
              "0    143.73\n",
              "1    145.83\n",
              "2    143.68\n",
              "3    144.02\n",
              "4    143.50\n",
              "5    142.62\n",
              "dtype: float64"
            ]
          },
          "metadata": {},
          "execution_count": 133
        }
      ]
    },
    {
      "cell_type": "code",
      "metadata": {
        "colab": {
          "base_uri": "https://localhost:8080/"
        },
        "id": "dnCKrQ4KumQm",
        "outputId": "dcb48741-a007-4a49-f553-218770d57b6d"
      },
      "source": [
        "# Xamir\n",
        "\"\"\"\n",
        "indexing column \n",
        "\"\"\"\n",
        "sr = pd.Series([33.3,77.7,224,100,10])\n",
        "print(sr)\n",
        "print(sr.values)\n",
        "print(sr.index)\n",
        "print(sr.shape)\n",
        "sr[[0,4,2]]"
      ],
      "execution_count": 134,
      "outputs": [
        {
          "output_type": "stream",
          "name": "stdout",
          "text": [
            "0     33.3\n",
            "1     77.7\n",
            "2    224.0\n",
            "3    100.0\n",
            "4     10.0\n",
            "dtype: float64\n",
            "[ 33.3  77.7 224.  100.   10. ]\n",
            "RangeIndex(start=0, stop=5, step=1)\n",
            "(5,)\n"
          ]
        },
        {
          "output_type": "execute_result",
          "data": {
            "text/plain": [
              "0     33.3\n",
              "4     10.0\n",
              "2    224.0\n",
              "dtype: float64"
            ]
          },
          "metadata": {},
          "execution_count": 134
        }
      ]
    },
    {
      "cell_type": "code",
      "metadata": {
        "id": "TrmPZETD5mhs",
        "colab": {
          "base_uri": "https://localhost:8080/"
        },
        "outputId": "97571c33-08a9-4191-977a-b98c6d083e6f"
      },
      "source": [
        "s = pd.Series(price,index = ['a','b','c','d','e','f'])\n",
        "s"
      ],
      "execution_count": 135,
      "outputs": [
        {
          "output_type": "execute_result",
          "data": {
            "text/plain": [
              "a    143.73\n",
              "b    145.83\n",
              "c    143.68\n",
              "d    144.02\n",
              "e    143.50\n",
              "f    142.62\n",
              "dtype: float64"
            ]
          },
          "metadata": {},
          "execution_count": 135
        }
      ]
    },
    {
      "cell_type": "code",
      "metadata": {
        "colab": {
          "base_uri": "https://localhost:8080/"
        },
        "id": "YzA5IiUhunEy",
        "outputId": "9d72b6ac-cb1d-4a39-9e10-9caa70e65461"
      },
      "source": [
        "# Xamir\n",
        "xamir_serie = pd.Series([33.3,77.7,224,100,10],index = [\"val 1\",\"val 2\",\"val 3\",\"val 4\",\"val 5\"])\n",
        "xamir_serie"
      ],
      "execution_count": 136,
      "outputs": [
        {
          "output_type": "execute_result",
          "data": {
            "text/plain": [
              "val 1     33.3\n",
              "val 2     77.7\n",
              "val 3    224.0\n",
              "val 4    100.0\n",
              "val 5     10.0\n",
              "dtype: float64"
            ]
          },
          "metadata": {},
          "execution_count": 136
        }
      ]
    },
    {
      "cell_type": "code",
      "metadata": {
        "id": "4mJOQMCx5mht",
        "colab": {
          "base_uri": "https://localhost:8080/"
        },
        "outputId": "11910214-b324-4fed-85be-6f864fd6571f"
      },
      "source": [
        "s.index = [6,5,4,3,2,1]\n",
        "s"
      ],
      "execution_count": 137,
      "outputs": [
        {
          "output_type": "execute_result",
          "data": {
            "text/plain": [
              "6    143.73\n",
              "5    145.83\n",
              "4    143.68\n",
              "3    144.02\n",
              "2    143.50\n",
              "1    142.62\n",
              "dtype: float64"
            ]
          },
          "metadata": {},
          "execution_count": 137
        }
      ]
    },
    {
      "cell_type": "code",
      "metadata": {
        "colab": {
          "base_uri": "https://localhost:8080/"
        },
        "id": "z5-gYZQlunpF",
        "outputId": "25c71d1f-2d9a-447d-8a06-83d6b88bb335"
      },
      "source": [
        "# Xamir\n",
        "xamir_serie.index = [1,2,3,4,5]\n",
        "xamir_serie"
      ],
      "execution_count": 138,
      "outputs": [
        {
          "output_type": "execute_result",
          "data": {
            "text/plain": [
              "1     33.3\n",
              "2     77.7\n",
              "3    224.0\n",
              "4    100.0\n",
              "5     10.0\n",
              "dtype: float64"
            ]
          },
          "metadata": {},
          "execution_count": 138
        }
      ]
    },
    {
      "cell_type": "code",
      "metadata": {
        "id": "qmVdctrt5mhu",
        "colab": {
          "base_uri": "https://localhost:8080/"
        },
        "outputId": "94fd3fe6-6f05-4343-c5ff-75838d842a31"
      },
      "source": [
        "print(s[1:])\n",
        "print(s[:-2])"
      ],
      "execution_count": 139,
      "outputs": [
        {
          "output_type": "stream",
          "name": "stdout",
          "text": [
            "5    145.83\n",
            "4    143.68\n",
            "3    144.02\n",
            "2    143.50\n",
            "1    142.62\n",
            "dtype: float64\n",
            "6    143.73\n",
            "5    145.83\n",
            "4    143.68\n",
            "3    144.02\n",
            "dtype: float64\n"
          ]
        }
      ]
    },
    {
      "cell_type": "code",
      "metadata": {
        "colab": {
          "base_uri": "https://localhost:8080/"
        },
        "id": "50QGvxyQuoSt",
        "outputId": "7e9dcc57-84d7-4361-c0e7-b0d76479e980"
      },
      "source": [
        "# Xamir\n",
        "print(xamir_serie[:])\n",
        "print(xamir_serie[2:3])\n",
        "print(xamir_serie[:3])\n",
        "print(xamir_serie[0:])"
      ],
      "execution_count": 140,
      "outputs": [
        {
          "output_type": "stream",
          "name": "stdout",
          "text": [
            "1     33.3\n",
            "2     77.7\n",
            "3    224.0\n",
            "4    100.0\n",
            "5     10.0\n",
            "dtype: float64\n",
            "3    224.0\n",
            "dtype: float64\n",
            "1     33.3\n",
            "2     77.7\n",
            "3    224.0\n",
            "dtype: float64\n",
            "1     33.3\n",
            "2     77.7\n",
            "3    224.0\n",
            "4    100.0\n",
            "5     10.0\n",
            "dtype: float64\n"
          ]
        }
      ]
    },
    {
      "cell_type": "code",
      "metadata": {
        "id": "1DgWowEO5mhu",
        "colab": {
          "base_uri": "https://localhost:8080/"
        },
        "outputId": "2b0618de-9b2a-4ff0-a4d9-f68b52a6652a"
      },
      "source": [
        "print(s[4])\n",
        "s[4] = 0\n",
        "print(s)"
      ],
      "execution_count": 141,
      "outputs": [
        {
          "output_type": "stream",
          "name": "stdout",
          "text": [
            "143.68\n",
            "6    143.73\n",
            "5    145.83\n",
            "4      0.00\n",
            "3    144.02\n",
            "2    143.50\n",
            "1    142.62\n",
            "dtype: float64\n"
          ]
        }
      ]
    },
    {
      "cell_type": "code",
      "metadata": {
        "colab": {
          "base_uri": "https://localhost:8080/"
        },
        "id": "SWO9uKlNuo6D",
        "outputId": "8371dbb3-9e35-49fe-f6d4-d35cdda6939e"
      },
      "source": [
        "# Xamir\n",
        "xamir_serie[1] = 777\n",
        "xamir_serie"
      ],
      "execution_count": 142,
      "outputs": [
        {
          "output_type": "execute_result",
          "data": {
            "text/plain": [
              "1    777.0\n",
              "2     77.7\n",
              "3    224.0\n",
              "4    100.0\n",
              "5     10.0\n",
              "dtype: float64"
            ]
          },
          "metadata": {},
          "execution_count": 142
        }
      ]
    },
    {
      "cell_type": "code",
      "metadata": {
        "id": "qbVQSvBq5mhw",
        "colab": {
          "base_uri": "https://localhost:8080/"
        },
        "outputId": "b17d4f03-8035-4e3d-9425-aed41cf14286"
      },
      "source": [
        "s = pd.Series(price, name = 'Apple Price List')\n",
        "print(s)\n",
        "print(s.name)"
      ],
      "execution_count": 143,
      "outputs": [
        {
          "output_type": "stream",
          "name": "stdout",
          "text": [
            "0    143.73\n",
            "1    145.83\n",
            "2    143.68\n",
            "3    144.02\n",
            "4    143.50\n",
            "5    142.62\n",
            "Name: Apple Price List, dtype: float64\n",
            "Apple Price List\n"
          ]
        }
      ]
    },
    {
      "cell_type": "code",
      "metadata": {
        "colab": {
          "base_uri": "https://localhost:8080/"
        },
        "id": "_nsZ2D5Duphd",
        "outputId": "7027541a-1d9f-4a7f-c16e-94b72a3eafff"
      },
      "source": [
        "# Xamir\n",
        "xamir_serie = pd.Series([33.3,77.7,224,100,10],index = [\"val 1\",\"val 2\",\"val 3\",\"val 4\",\"val 5\"], name=\"Xamir's Serie\")\n",
        "xamir_serie"
      ],
      "execution_count": 144,
      "outputs": [
        {
          "output_type": "execute_result",
          "data": {
            "text/plain": [
              "val 1     33.3\n",
              "val 2     77.7\n",
              "val 3    224.0\n",
              "val 4    100.0\n",
              "val 5     10.0\n",
              "Name: Xamir's Serie, dtype: float64"
            ]
          },
          "metadata": {},
          "execution_count": 144
        }
      ]
    },
    {
      "cell_type": "markdown",
      "metadata": {
        "id": "K6xEVLWpG-p_"
      },
      "source": [
        "## Time Index"
      ]
    },
    {
      "cell_type": "code",
      "metadata": {
        "id": "vGjxhMLD5mhw",
        "colab": {
          "base_uri": "https://localhost:8080/"
        },
        "outputId": "1cded51a-c3c0-4761-bfd2-c008c05f6bf9"
      },
      "source": [
        "time_index = pd.date_range('2017-01-01',periods = len(s),freq = 'D')\n",
        "print(time_index)\n",
        "s.index = time_index\n",
        "print(s)"
      ],
      "execution_count": 145,
      "outputs": [
        {
          "output_type": "stream",
          "name": "stdout",
          "text": [
            "DatetimeIndex(['2017-01-01', '2017-01-02', '2017-01-03', '2017-01-04',\n",
            "               '2017-01-05', '2017-01-06'],\n",
            "              dtype='datetime64[ns]', freq='D')\n",
            "2017-01-01    143.73\n",
            "2017-01-02    145.83\n",
            "2017-01-03    143.68\n",
            "2017-01-04    144.02\n",
            "2017-01-05    143.50\n",
            "2017-01-06    142.62\n",
            "Freq: D, Name: Apple Price List, dtype: float64\n"
          ]
        }
      ]
    },
    {
      "cell_type": "code",
      "metadata": {
        "colab": {
          "base_uri": "https://localhost:8080/"
        },
        "id": "ClHkdSY_uqJC",
        "outputId": "7f7a4a99-33a5-4e52-af42-05c1fbc6d11e"
      },
      "source": [
        "# Xamir\n",
        "xamir_time_index = pd.date_range('2021-10-16',periods = len(xamir_serie),freq = 'D')\n",
        "print(xamir_time_index)\n",
        "xamir_serie.index = xamir_time_index\n",
        "print(xamir_serie)"
      ],
      "execution_count": 146,
      "outputs": [
        {
          "output_type": "stream",
          "name": "stdout",
          "text": [
            "DatetimeIndex(['2021-10-16', '2021-10-17', '2021-10-18', '2021-10-19',\n",
            "               '2021-10-20'],\n",
            "              dtype='datetime64[ns]', freq='D')\n",
            "2021-10-16     33.3\n",
            "2021-10-17     77.7\n",
            "2021-10-18    224.0\n",
            "2021-10-19    100.0\n",
            "2021-10-20     10.0\n",
            "Freq: D, Name: Xamir's Serie, dtype: float64\n"
          ]
        }
      ]
    },
    {
      "cell_type": "markdown",
      "metadata": {
        "id": "xbAjsfImJgNd"
      },
      "source": [
        "## Accessing, iloc and loc \n",
        "Series are usually accessed using the iloc[] and loc[] methods. iloc[] is used to access elements by integer index, and loc[] is used to access the index of the series.\n",
        "\n",
        "iloc[] is necessary when the index of a series are integers, take our previous defined series as example:\n",
        "\n"
      ]
    },
    {
      "cell_type": "code",
      "metadata": {
        "id": "uCZSdtvh5mhx",
        "colab": {
          "base_uri": "https://localhost:8080/"
        },
        "outputId": "596cef42-659b-41bc-b459-26f491edfa22"
      },
      "source": [
        "s.index = [6,5,4,3,2,1]\n",
        "print(s)\n",
        "print(s[1])"
      ],
      "execution_count": 147,
      "outputs": [
        {
          "output_type": "stream",
          "name": "stdout",
          "text": [
            "6    143.73\n",
            "5    145.83\n",
            "4    143.68\n",
            "3    144.02\n",
            "2    143.50\n",
            "1    142.62\n",
            "Name: Apple Price List, dtype: float64\n",
            "142.62\n"
          ]
        }
      ]
    },
    {
      "cell_type": "code",
      "metadata": {
        "colab": {
          "base_uri": "https://localhost:8080/"
        },
        "id": "Ri7y3XU-uqvN",
        "outputId": "8640e2b0-b543-479d-a650-afa428abb932"
      },
      "source": [
        "# Xamir\n",
        "xamir_serie.index = [7,3,5,2,1]\n",
        "print(xamir_serie)\n",
        "xamir_serie[1] #using key"
      ],
      "execution_count": 148,
      "outputs": [
        {
          "output_type": "stream",
          "name": "stdout",
          "text": [
            "7     33.3\n",
            "3     77.7\n",
            "5    224.0\n",
            "2    100.0\n",
            "1     10.0\n",
            "Name: Xamir's Serie, dtype: float64\n"
          ]
        },
        {
          "output_type": "execute_result",
          "data": {
            "text/plain": [
              "10.0"
            ]
          },
          "metadata": {},
          "execution_count": 148
        }
      ]
    },
    {
      "cell_type": "code",
      "metadata": {
        "id": "1fIzUKSA5mhy",
        "colab": {
          "base_uri": "https://localhost:8080/"
        },
        "outputId": "bb644de5-bc77-406a-bf7d-ef3f23952371"
      },
      "source": [
        "print(s.iloc[1])"
      ],
      "execution_count": 149,
      "outputs": [
        {
          "output_type": "stream",
          "name": "stdout",
          "text": [
            "145.83\n"
          ]
        }
      ]
    },
    {
      "cell_type": "code",
      "metadata": {
        "colab": {
          "base_uri": "https://localhost:8080/"
        },
        "id": "kVoReNaDurXj",
        "outputId": "f17b932d-ea38-44e8-e212-5ea03373cf50"
      },
      "source": [
        "# Xamir\n",
        "print(xamir_serie.iloc[1]) # accessing the position"
      ],
      "execution_count": 150,
      "outputs": [
        {
          "output_type": "stream",
          "name": "stdout",
          "text": [
            "77.7\n"
          ]
        }
      ]
    },
    {
      "cell_type": "code",
      "metadata": {
        "id": "xSd2qce65mhy",
        "colab": {
          "base_uri": "https://localhost:8080/"
        },
        "outputId": "ef2c4707-638c-4e5d-8fac-95c3cd0459ac"
      },
      "source": [
        "s.index = time_index\n",
        "print(s['2017-01-03'])"
      ],
      "execution_count": 151,
      "outputs": [
        {
          "output_type": "stream",
          "name": "stdout",
          "text": [
            "143.68\n"
          ]
        }
      ]
    },
    {
      "cell_type": "code",
      "metadata": {
        "colab": {
          "base_uri": "https://localhost:8080/"
        },
        "id": "nqyxz1y8ur5X",
        "outputId": "adb630ef-b51b-4da8-b73c-2c147aa8b729"
      },
      "source": [
        "# Xamir\n",
        "xamir_serie.index = xamir_time_index\n",
        "xamir_serie['2021-10-16']"
      ],
      "execution_count": 152,
      "outputs": [
        {
          "output_type": "execute_result",
          "data": {
            "text/plain": [
              "33.3"
            ]
          },
          "metadata": {},
          "execution_count": 152
        }
      ]
    },
    {
      "cell_type": "code",
      "metadata": {
        "id": "lPva0jLA5mhz",
        "colab": {
          "base_uri": "https://localhost:8080/"
        },
        "outputId": "d8fba141-0f6c-4a0f-b3ed-66bbf7321277"
      },
      "source": [
        "print(s['2017-01-02':'2017-01-05'])"
      ],
      "execution_count": 153,
      "outputs": [
        {
          "output_type": "stream",
          "name": "stdout",
          "text": [
            "2017-01-02    145.83\n",
            "2017-01-03    143.68\n",
            "2017-01-04    144.02\n",
            "2017-01-05    143.50\n",
            "Freq: D, Name: Apple Price List, dtype: float64\n"
          ]
        }
      ]
    },
    {
      "cell_type": "code",
      "metadata": {
        "colab": {
          "base_uri": "https://localhost:8080/"
        },
        "id": "JwclzKmIutSN",
        "outputId": "59f28c1a-b04f-4bcc-f09d-5272604d22ad"
      },
      "source": [
        "# Xamir\n",
        "print(xamir_serie['2021-10-16':'2021-10-18'])"
      ],
      "execution_count": 154,
      "outputs": [
        {
          "output_type": "stream",
          "name": "stdout",
          "text": [
            "2021-10-16     33.3\n",
            "2021-10-17     77.7\n",
            "2021-10-18    224.0\n",
            "Freq: D, Name: Xamir's Serie, dtype: float64\n"
          ]
        }
      ]
    },
    {
      "cell_type": "markdown",
      "metadata": {
        "id": "xFOAi_bALq0B"
      },
      "source": [
        "## Index data with conditions int the square brackets\n",
        "Series[] provides us a very flexible way to index data. We can add any condition in the square brackets:\n",
        "As demonstrated, we can use logical operators like & (and), | (or) and ~ (not) to group multiple conditions."
      ]
    },
    {
      "cell_type": "code",
      "metadata": {
        "id": "tIEtRJHI5mhz",
        "colab": {
          "base_uri": "https://localhost:8080/"
        },
        "outputId": "c0120f17-5cef-45b8-da30-66ef980e7e0a"
      },
      "source": [
        "\n",
        "print(s[s < np.mean(s)] )\n",
        "print([(s > np.mean(s)) & (s < np.mean(s) + 1.64*np.std(s))])"
      ],
      "execution_count": 155,
      "outputs": [
        {
          "output_type": "stream",
          "name": "stdout",
          "text": [
            "2017-01-01    143.73\n",
            "2017-01-03    143.68\n",
            "2017-01-05    143.50\n",
            "2017-01-06    142.62\n",
            "Name: Apple Price List, dtype: float64\n",
            "[2017-01-01    False\n",
            "2017-01-02    False\n",
            "2017-01-03    False\n",
            "2017-01-04     True\n",
            "2017-01-05    False\n",
            "2017-01-06    False\n",
            "Freq: D, Name: Apple Price List, dtype: bool]\n"
          ]
        }
      ]
    },
    {
      "cell_type": "code",
      "metadata": {
        "colab": {
          "base_uri": "https://localhost:8080/"
        },
        "id": "JAfSWnaNut2u",
        "outputId": "cc0fbd2b-308d-4747-8571-a3c4b2677ae1"
      },
      "source": [
        "# Xamir\n",
        "print(\"Xamir's Serie\")\n",
        "print(xamir_serie)\n",
        "print(\"Mean of the serie : \" +str(np.mean(xamir_serie)))\n",
        "print(\"Items in xamir's serie < mean of the serie\")\n",
        "print(xamir_serie[xamir_serie < np.mean(xamir_serie)] )"
      ],
      "execution_count": 156,
      "outputs": [
        {
          "output_type": "stream",
          "name": "stdout",
          "text": [
            "Xamir's Serie\n",
            "2021-10-16     33.3\n",
            "2021-10-17     77.7\n",
            "2021-10-18    224.0\n",
            "2021-10-19    100.0\n",
            "2021-10-20     10.0\n",
            "Freq: D, Name: Xamir's Serie, dtype: float64\n",
            "Mean of the serie : 89.0\n",
            "Items in xamir's serie < mean of the serie\n",
            "2021-10-16    33.3\n",
            "2021-10-17    77.7\n",
            "2021-10-20    10.0\n",
            "Name: Xamir's Serie, dtype: float64\n"
          ]
        }
      ]
    },
    {
      "cell_type": "code",
      "metadata": {
        "colab": {
          "base_uri": "https://localhost:8080/"
        },
        "id": "Dh70s19mghYh",
        "outputId": "e82269a5-6a63-4fa0-cacd-b225dbf0e34c"
      },
      "source": [
        "# Xamir \n",
        "\n",
        "print(\"Items in serie > mean of the serie\")\n",
        "print(xamir_serie[xamir_serie > np.mean(xamir_serie)])\n",
        "print(\"Items in serie < ( mean of the serie + standard deviation of the serie)\")\n",
        "print(xamir_serie[xamir_serie < np.mean(xamir_serie) + 1.64*np.std(xamir_serie)])\n",
        "print(\"Items in serie > mean of the serie AND Items in serie < ( mean of the serie + standard deviation of the serie)\")\n",
        "print(xamir_serie[(xamir_serie > np.mean(xamir_serie)) & (xamir_serie < np.mean(xamir_serie) + 1.64*np.std(xamir_serie))])\n"
      ],
      "execution_count": 157,
      "outputs": [
        {
          "output_type": "stream",
          "name": "stdout",
          "text": [
            "Items in serie > mean of the serie\n",
            "2021-10-18    224.0\n",
            "2021-10-19    100.0\n",
            "Freq: D, Name: Xamir's Serie, dtype: float64\n",
            "Items in serie < ( mean of the serie + standard deviation of the serie)\n",
            "2021-10-16     33.3\n",
            "2021-10-17     77.7\n",
            "2021-10-19    100.0\n",
            "2021-10-20     10.0\n",
            "Name: Xamir's Serie, dtype: float64\n",
            "Items in serie > mean of the serie AND Items in serie < ( mean of the serie + standard deviation of the serie)\n",
            "2021-10-19    100.0\n",
            "Freq: D, Name: Xamir's Serie, dtype: float64\n"
          ]
        }
      ]
    },
    {
      "cell_type": "markdown",
      "metadata": {
        "id": "2v4iKWKBuNKh"
      },
      "source": [
        ""
      ]
    }
  ]
}