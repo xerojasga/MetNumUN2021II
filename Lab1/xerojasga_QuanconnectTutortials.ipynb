{
  "nbformat": 4,
  "nbformat_minor": 0,
  "metadata": {
    "kernelspec": {
      "display_name": "Python 3",
      "language": "python",
      "name": "python3"
    },
    "language_info": {
      "codemirror_mode": {
        "name": "ipython",
        "version": 3
      },
      "file_extension": ".py",
      "mimetype": "text/x-python",
      "name": "python",
      "nbconvert_exporter": "python",
      "pygments_lexer": "ipython3",
      "version": "3.6.4"
    },
    "colab": {
      "name": "xerojasga_QuanconnectTutortials.ipynb",
      "provenance": [],
      "collapsed_sections": [
        "OEFFqilo1-sf",
        "-vjBUAT1Dumf",
        "Ofc2RnDrD1Qf",
        "yu4hDda_D8Jm",
        "cCZ6GjH92tf4"
      ]
    }
  },
  "cells": [
    {
      "cell_type": "markdown",
      "metadata": {
        "id": "OEFFqilo1-sf"
      },
      "source": [
        "# Lab 1: Introduction to Financial Python\n",
        "## Xamir Rojas \n"
      ]
    },
    {
      "cell_type": "markdown",
      "metadata": {
        "id": "XLPZPmO12qci"
      },
      "source": [
        "# 01 Python: Data Types and Data Structures"
      ]
    },
    {
      "cell_type": "markdown",
      "metadata": {
        "id": "_wVX1bETDaRT"
      },
      "source": [
        "## Strings"
      ]
    },
    {
      "cell_type": "code",
      "metadata": {
        "id": "B6NnUn4v5Qr1",
        "colab": {
          "base_uri": "https://localhost:8080/"
        },
        "outputId": "0b9f2a3b-c447-407f-897b-3e48ef1378c7"
      },
      "source": [
        "my_string1 = 'Welcome to'\n",
        "my_string2 = \"QuantConnect\"\n",
        "print(my_string1 + ' ' + my_string2)"
      ],
      "execution_count": 1,
      "outputs": [
        {
          "output_type": "stream",
          "name": "stdout",
          "text": [
            "Welcome to QuantConnect\n"
          ]
        }
      ]
    },
    {
      "cell_type": "code",
      "metadata": {
        "colab": {
          "base_uri": "https://localhost:8080/"
        },
        "id": "TAtGxYo1lkVS",
        "outputId": "c3ae5e29-8305-455d-9f5c-2b8f1c64052c"
      },
      "source": [
        "# Xamir\n",
        "my_string1 = 'Hello World! I am '\n",
        "my_string2 = \"Xamir Rojas\"\n",
        "print(my_string1 + ' ' + my_string2)"
      ],
      "execution_count": 2,
      "outputs": [
        {
          "output_type": "stream",
          "name": "stdout",
          "text": [
            "Hello World! I am  Xamir Rojas\n"
          ]
        }
      ]
    },
    {
      "cell_type": "markdown",
      "metadata": {
        "id": "rssivtNCDc_A"
      },
      "source": [
        "## Ints"
      ]
    },
    {
      "cell_type": "code",
      "metadata": {
        "id": "4AHnwg_u5QsA",
        "colab": {
          "base_uri": "https://localhost:8080/"
        },
        "outputId": "d7d6f6f6-f0b4-4f27-fd27-be206ab0b067"
      },
      "source": [
        "my_int = 10\n",
        "print(my_int)\n",
        "print(type(my_int))"
      ],
      "execution_count": 3,
      "outputs": [
        {
          "output_type": "stream",
          "name": "stdout",
          "text": [
            "10\n",
            "<class 'int'>\n"
          ]
        }
      ]
    },
    {
      "cell_type": "code",
      "metadata": {
        "colab": {
          "base_uri": "https://localhost:8080/"
        },
        "id": "XpSiMirqmGx8",
        "outputId": "e02f6067-0a39-4b56-fed7-d2a5befa5eeb"
      },
      "source": [
        "# Xamir\n",
        "xamir_int = 3\n",
        "print(xamir_int)\n",
        "print(type(xamir_int))"
      ],
      "execution_count": 4,
      "outputs": [
        {
          "output_type": "stream",
          "name": "stdout",
          "text": [
            "3\n",
            "<class 'int'>\n"
          ]
        }
      ]
    },
    {
      "cell_type": "markdown",
      "metadata": {
        "id": "VqoRiCU_Djdj"
      },
      "source": [
        "## Strings to Int, String to Float"
      ]
    },
    {
      "cell_type": "code",
      "metadata": {
        "id": "yt7tMopm5QsC",
        "colab": {
          "base_uri": "https://localhost:8080/"
        },
        "outputId": "d1e914dc-a51a-4d3d-c5d6-67f10be73c0d"
      },
      "source": [
        "my_string = \"100\"\n",
        "print(type(my_string))\n",
        "my_int = int(my_string)\n",
        "print(type(my_int))"
      ],
      "execution_count": 5,
      "outputs": [
        {
          "output_type": "stream",
          "name": "stdout",
          "text": [
            "<class 'str'>\n",
            "<class 'int'>\n"
          ]
        }
      ]
    },
    {
      "cell_type": "code",
      "metadata": {
        "colab": {
          "base_uri": "https://localhost:8080/"
        },
        "id": "C027asLrmRxL",
        "outputId": "b58bb61c-52f1-4f79-8ffd-3e337acecff6"
      },
      "source": [
        "# Xamir\n",
        "xamir_string = \"333\"\n",
        "print(type(xamir_string))\n",
        "xamir_int = int(xamir_string)\n",
        "print(type(xamir_int))"
      ],
      "execution_count": 6,
      "outputs": [
        {
          "output_type": "stream",
          "name": "stdout",
          "text": [
            "<class 'str'>\n",
            "<class 'int'>\n"
          ]
        }
      ]
    },
    {
      "cell_type": "code",
      "metadata": {
        "id": "P2ehzsbh5QsD",
        "colab": {
          "base_uri": "https://localhost:8080/"
        },
        "outputId": "0d89326e-8386-4a3c-fbd4-8d72689a296c"
      },
      "source": [
        "my_string = \"100\"\n",
        "my_float = float(my_string)\n",
        "print(type(my_float))"
      ],
      "execution_count": 7,
      "outputs": [
        {
          "output_type": "stream",
          "name": "stdout",
          "text": [
            "<class 'float'>\n"
          ]
        }
      ]
    },
    {
      "cell_type": "code",
      "metadata": {
        "colab": {
          "base_uri": "https://localhost:8080/"
        },
        "id": "fy_WGUZUml2c",
        "outputId": "15e7db5b-af35-4b7e-8c4f-5b0c555a7ff3"
      },
      "source": [
        "# Xamir\n",
        "xamir_string = \"333\"\n",
        "xamir_float = float(xamir_string)\n",
        "print(type(xamir_float))\n",
        "print(xamir_float)"
      ],
      "execution_count": 8,
      "outputs": [
        {
          "output_type": "stream",
          "name": "stdout",
          "text": [
            "<class 'float'>\n",
            "333.0\n"
          ]
        }
      ]
    },
    {
      "cell_type": "markdown",
      "metadata": {
        "id": "PulrxFmSDsEM"
      },
      "source": [
        "## Bools"
      ]
    },
    {
      "cell_type": "code",
      "metadata": {
        "id": "e0jr6IIJ5QsE",
        "colab": {
          "base_uri": "https://localhost:8080/"
        },
        "outputId": "43510b57-8e9c-4034-b3e4-57892d27650f"
      },
      "source": [
        "my_bool = False\n",
        "print(my_bool)\n",
        "print(type(my_bool))"
      ],
      "execution_count": 9,
      "outputs": [
        {
          "output_type": "stream",
          "name": "stdout",
          "text": [
            "False\n",
            "<class 'bool'>\n"
          ]
        }
      ]
    },
    {
      "cell_type": "code",
      "metadata": {
        "colab": {
          "base_uri": "https://localhost:8080/"
        },
        "id": "24CFDNsim9qn",
        "outputId": "d4676aa7-409b-4aef-85f1-856da65119ef"
      },
      "source": [
        "# Xamir\n",
        "isStudent = True\n",
        "print(isStudent)\n",
        "print(type(isStudent))"
      ],
      "execution_count": 10,
      "outputs": [
        {
          "output_type": "stream",
          "name": "stdout",
          "text": [
            "True\n",
            "<class 'bool'>\n"
          ]
        }
      ]
    },
    {
      "cell_type": "markdown",
      "metadata": {
        "id": "-vjBUAT1Dumf"
      },
      "source": [
        "## Operations"
      ]
    },
    {
      "cell_type": "code",
      "metadata": {
        "id": "ni30SIPz5QsF",
        "colab": {
          "base_uri": "https://localhost:8080/"
        },
        "outputId": "66f6f207-22cd-458b-f743-f160b4063e82"
      },
      "source": [
        "print(\"Addition \", 1+1)\n",
        "print(\"Subtraction \", 5-2)\n",
        "print(\"Multiplication \", 2*3)\n",
        "print(\"Division \", 10/2)\n",
        "print('exponent', 2**3)"
      ],
      "execution_count": 11,
      "outputs": [
        {
          "output_type": "stream",
          "name": "stdout",
          "text": [
            "Addition  2\n",
            "Subtraction  3\n",
            "Multiplication  6\n",
            "Division  5.0\n",
            "exponent 8\n"
          ]
        }
      ]
    },
    {
      "cell_type": "code",
      "metadata": {
        "colab": {
          "base_uri": "https://localhost:8080/"
        },
        "id": "e-hm1aXsnMq7",
        "outputId": "0db56781-d4c1-4317-f171-51e26d0b4771"
      },
      "source": [
        "# Xamir\n",
        "print(\"Xamir Addition \", 3+3)\n",
        "print(\"Xamir Subtraction \", 3-5)\n",
        "print(\"Xamir Multiplication \", -1*3)\n",
        "print(\"Xamir Division \", 13/3)\n",
        "print('Xamir exponent', 2**8)"
      ],
      "execution_count": 12,
      "outputs": [
        {
          "output_type": "stream",
          "name": "stdout",
          "text": [
            "Xamir Addition  6\n",
            "Xamir Subtraction  -2\n",
            "Xamir Multiplication  -3\n",
            "Xamir Division  4.333333333333333\n",
            "Xamir exponent 256\n"
          ]
        }
      ]
    },
    {
      "cell_type": "code",
      "metadata": {
        "id": "KvZjYvnu5QsH",
        "colab": {
          "base_uri": "https://localhost:8080/"
        },
        "outputId": "e65281a3-324a-450a-81e6-f34cfd9707c1"
      },
      "source": [
        "print(1/3)\n",
        "print(1.0/3)"
      ],
      "execution_count": 13,
      "outputs": [
        {
          "output_type": "stream",
          "name": "stdout",
          "text": [
            "0.3333333333333333\n",
            "0.3333333333333333\n"
          ]
        }
      ]
    },
    {
      "cell_type": "code",
      "metadata": {
        "colab": {
          "base_uri": "https://localhost:8080/"
        },
        "id": "eG6HmExqngSP",
        "outputId": "b0fb72f4-595f-4196-f920-1690368cb757"
      },
      "source": [
        "# Xamir \n",
        "print(3/3)\n",
        "print(3.0/3)\n",
        "print(33/7)\n",
        "print(33.0/7)"
      ],
      "execution_count": 14,
      "outputs": [
        {
          "output_type": "stream",
          "name": "stdout",
          "text": [
            "1.0\n",
            "1.0\n",
            "4.714285714285714\n",
            "4.714285714285714\n"
          ]
        }
      ]
    },
    {
      "cell_type": "markdown",
      "metadata": {
        "id": "Ofc2RnDrD1Qf"
      },
      "source": [
        "## Lists"
      ]
    },
    {
      "cell_type": "code",
      "metadata": {
        "id": "z5PiBuq05QsK",
        "colab": {
          "base_uri": "https://localhost:8080/"
        },
        "outputId": "73dfa370-8971-42d9-aceb-4fb1e3d50d45"
      },
      "source": [
        "my_list = ['Quant', 'Connect', 1,2,3]\n",
        "print(my_list)"
      ],
      "execution_count": 15,
      "outputs": [
        {
          "output_type": "stream",
          "name": "stdout",
          "text": [
            "['Quant', 'Connect', 1, 2, 3]\n"
          ]
        }
      ]
    },
    {
      "cell_type": "code",
      "metadata": {
        "colab": {
          "base_uri": "https://localhost:8080/"
        },
        "id": "rbpOfbn0oASN",
        "outputId": "b3024e20-e6e1-4cfc-d988-97753d979f7e"
      },
      "source": [
        "# Xamir\n",
        "xamir_list = ['Xamir', 'Rojas', 3.0, 3 , True, [\"sub_list\"]]\n",
        "print(xamir_list)"
      ],
      "execution_count": 16,
      "outputs": [
        {
          "output_type": "stream",
          "name": "stdout",
          "text": [
            "['Xamir', 'Rojas', 3.0, 3, True, ['sub_list']]\n"
          ]
        }
      ]
    },
    {
      "cell_type": "code",
      "metadata": {
        "id": "hxFRm_a95QsL",
        "colab": {
          "base_uri": "https://localhost:8080/"
        },
        "outputId": "316dae9d-0d44-419f-f319-dec74a9bfa0a"
      },
      "source": [
        "my_list = ['Quant', 'Connect', 1,2,3]\n",
        "print(len(my_list))\n",
        "print(my_list[0])\n",
        "print(my_list[len(my_list) -1])"
      ],
      "execution_count": 17,
      "outputs": [
        {
          "output_type": "stream",
          "name": "stdout",
          "text": [
            "5\n",
            "Quant\n",
            "3\n"
          ]
        }
      ]
    },
    {
      "cell_type": "code",
      "metadata": {
        "colab": {
          "base_uri": "https://localhost:8080/"
        },
        "id": "nJQrR-UrocUY",
        "outputId": "add59f2f-a7e7-4995-f610-cae2061dc6c5"
      },
      "source": [
        "# Xamir\n",
        "xamir_list = ['Xamir', 'Rojas', 3.0, 3 , True, [\"sub_list\"]]\n",
        "print(\"Number of items in Xamir's List :\"+ str(len(xamir_list)))\n",
        "print(\"First Item in Xamir's List\" + str(xamir_list[0]))\n",
        "print(\"Last item in the list\" +str(xamir_list[len(xamir_list) -1]))"
      ],
      "execution_count": 18,
      "outputs": [
        {
          "output_type": "stream",
          "name": "stdout",
          "text": [
            "Number of items in Xamir's List :6\n",
            "First Item in Xamir's ListXamir\n",
            "Last item in the list['sub_list']\n"
          ]
        }
      ]
    },
    {
      "cell_type": "code",
      "metadata": {
        "id": "L8BmOyxv5QsO",
        "colab": {
          "base_uri": "https://localhost:8080/"
        },
        "outputId": "17a19f1e-3c5a-4d5a-9793-f76476604d1e"
      },
      "source": [
        "my_list = ['Quant','Connect',1,2,3]\n",
        "my_list[2] = 'go'\n",
        "print(my_list)"
      ],
      "execution_count": 19,
      "outputs": [
        {
          "output_type": "stream",
          "name": "stdout",
          "text": [
            "['Quant', 'Connect', 'go', 2, 3]\n"
          ]
        }
      ]
    },
    {
      "cell_type": "code",
      "metadata": {
        "colab": {
          "base_uri": "https://localhost:8080/"
        },
        "id": "CRgbDgqbpiU8",
        "outputId": "39a8c055-0d66-41c1-d522-ac9ded3dcc33"
      },
      "source": [
        "# Xamir\n",
        "xamir_list = ['Xamir', 'Rojas', 3.0, 3 , True, [\"sub_list\"]]\n",
        "xamir_list[2] = 'G'\n",
        "print(xamir_list)"
      ],
      "execution_count": 20,
      "outputs": [
        {
          "output_type": "stream",
          "name": "stdout",
          "text": [
            "['Xamir', 'Rojas', 'G', 3, True, ['sub_list']]\n"
          ]
        }
      ]
    },
    {
      "cell_type": "code",
      "metadata": {
        "id": "Y5EZnboM5QsP",
        "colab": {
          "base_uri": "https://localhost:8080/"
        },
        "outputId": "48cc1663-0bdd-4bfb-bd45-7cfa1222feb4"
      },
      "source": [
        "my_list = ['Quant']\n",
        "my_list.append('Connect')\n",
        "print(my_list)\n",
        "my_list.remove('Quant')\n",
        "print(my_list)"
      ],
      "execution_count": 21,
      "outputs": [
        {
          "output_type": "stream",
          "name": "stdout",
          "text": [
            "['Quant', 'Connect']\n",
            "['Connect']\n"
          ]
        }
      ]
    },
    {
      "cell_type": "code",
      "metadata": {
        "colab": {
          "base_uri": "https://localhost:8080/"
        },
        "id": "DBgT6C8XqIJq",
        "outputId": "6c310a76-cce9-4ed6-d1da-23d995996a8e"
      },
      "source": [
        "# Xamir\n",
        "xamir_list = ['X','A']\n",
        "xamir_list.append('M')\n",
        "print(xamir_list)\n",
        "xamir_list.remove('A')\n",
        "print(xamir_list)"
      ],
      "execution_count": 22,
      "outputs": [
        {
          "output_type": "stream",
          "name": "stdout",
          "text": [
            "['X', 'A', 'M']\n",
            "['X', 'M']\n"
          ]
        }
      ]
    },
    {
      "cell_type": "markdown",
      "metadata": {
        "id": "yu4hDda_D8Jm"
      },
      "source": [
        "### Lists slicing\n",
        "https://numpy.org/doc/stable/reference/arrays.indexing.html#basic-slicing-and-indexing"
      ]
    },
    {
      "cell_type": "code",
      "metadata": {
        "id": "GUgPj9P65QsQ",
        "colab": {
          "base_uri": "https://localhost:8080/"
        },
        "outputId": "e74dfd7a-6143-4f4f-b542-31c061f90474"
      },
      "source": [
        "my_list = ['Quant','Connect',1,2,3]\n",
        "print(my_list[1:3])"
      ],
      "execution_count": 23,
      "outputs": [
        {
          "output_type": "stream",
          "name": "stdout",
          "text": [
            "['Connect', 1]\n"
          ]
        }
      ]
    },
    {
      "cell_type": "code",
      "metadata": {
        "colab": {
          "base_uri": "https://localhost:8080/"
        },
        "id": "N-Da4hEeqXzd",
        "outputId": "3601eddd-36be-41e1-b04e-a61927466110"
      },
      "source": [
        "# Xamir\n",
        "xamir_list = ['Xamir', 'Rojas', 3.0, 3 , True, [\"sub_list\"]]\n",
        "print(xamir_list[1:3])"
      ],
      "execution_count": 24,
      "outputs": [
        {
          "output_type": "stream",
          "name": "stdout",
          "text": [
            "['Rojas', 3.0]\n"
          ]
        }
      ]
    },
    {
      "cell_type": "code",
      "metadata": {
        "id": "lMIKYp8M5QsR",
        "colab": {
          "base_uri": "https://localhost:8080/"
        },
        "outputId": "e7632d50-63d8-4f57-ac7a-5581acd0a019"
      },
      "source": [
        "print(my_list[1:])"
      ],
      "execution_count": 25,
      "outputs": [
        {
          "output_type": "stream",
          "name": "stdout",
          "text": [
            "['Connect', 1, 2, 3]\n"
          ]
        }
      ]
    },
    {
      "cell_type": "code",
      "metadata": {
        "colab": {
          "base_uri": "https://localhost:8080/"
        },
        "id": "Lr8NqFKcqnTB",
        "outputId": "efd6266a-dfb9-4502-8ca5-9aaeac6f6cb4"
      },
      "source": [
        "# Xamir\n",
        "print(xamir_list[1:])"
      ],
      "execution_count": 26,
      "outputs": [
        {
          "output_type": "stream",
          "name": "stdout",
          "text": [
            "['Rojas', 3.0, 3, True, ['sub_list']]\n"
          ]
        }
      ]
    },
    {
      "cell_type": "code",
      "metadata": {
        "id": "7J7QUfS05QsS",
        "colab": {
          "base_uri": "https://localhost:8080/"
        },
        "outputId": "95a07f4e-b7de-420c-9725-14729508166a"
      },
      "source": [
        "print(my_list[:3])"
      ],
      "execution_count": 27,
      "outputs": [
        {
          "output_type": "stream",
          "name": "stdout",
          "text": [
            "['Quant', 'Connect', 1]\n"
          ]
        }
      ]
    },
    {
      "cell_type": "code",
      "metadata": {
        "colab": {
          "base_uri": "https://localhost:8080/"
        },
        "id": "lR1BWZ0mrBER",
        "outputId": "8879d77d-46ce-42f8-c212-0d6bd038b64b"
      },
      "source": [
        "# Xamir\n",
        "print(xamir_list)\n",
        "print(xamir_list[:3])\n",
        "print(xamir_list[1::2]) # Starting at 1 \"jumpling\" 2 positions\n",
        "print(xamir_list[0::2]) # Starting at 0 \"jumpling\" 2 positions\n",
        "print(xamir_list[0::3])# Starting at 0 \"jumpling\" 3 positions"
      ],
      "execution_count": 28,
      "outputs": [
        {
          "output_type": "stream",
          "name": "stdout",
          "text": [
            "['Xamir', 'Rojas', 3.0, 3, True, ['sub_list']]\n",
            "['Xamir', 'Rojas', 3.0]\n",
            "['Rojas', 3, ['sub_list']]\n",
            "['Xamir', 3.0, True]\n",
            "['Xamir', 3]\n"
          ]
        }
      ]
    },
    {
      "cell_type": "code",
      "metadata": {
        "collapsed": true,
        "id": "4E_fN9Gj5QsT"
      },
      "source": [
        "my_tuple = ('Welcome','to','QuantConnect')"
      ],
      "execution_count": 29,
      "outputs": []
    },
    {
      "cell_type": "code",
      "metadata": {
        "colab": {
          "base_uri": "https://localhost:8080/"
        },
        "id": "uS_Vq2ZarH8q",
        "outputId": "ca730a1e-679c-4123-d28b-a70fa97004f9"
      },
      "source": [
        "# Xamir\n",
        "xamir_tuple = ('This is', \"Xamir's\" , 'tuple')\n",
        "print(xamir_tuple)"
      ],
      "execution_count": 30,
      "outputs": [
        {
          "output_type": "stream",
          "name": "stdout",
          "text": [
            "('This is', \"Xamir's\", 'tuple')\n"
          ]
        }
      ]
    },
    {
      "cell_type": "code",
      "metadata": {
        "id": "ssooWQ5m5QsU",
        "colab": {
          "base_uri": "https://localhost:8080/"
        },
        "outputId": "433c5517-05bb-416e-af00-9e9e6b3bd530"
      },
      "source": [
        "my_tuple = ('Welcome','to','QuantConnect')\n",
        "print(my_tuple[1:])"
      ],
      "execution_count": 31,
      "outputs": [
        {
          "output_type": "stream",
          "name": "stdout",
          "text": [
            "('to', 'QuantConnect')\n"
          ]
        }
      ]
    },
    {
      "cell_type": "code",
      "metadata": {
        "colab": {
          "base_uri": "https://localhost:8080/"
        },
        "id": "7Awgzk-Krc4H",
        "outputId": "583761d2-d260-4083-b6a3-6f6e0f731914"
      },
      "source": [
        "# tuples are consts. cant be modified\n",
        "xamir_tuple = ('This is', \"Xamir's\" , 'tuple','tuple')\n",
        "print(xamir_tuple[1:])"
      ],
      "execution_count": 32,
      "outputs": [
        {
          "output_type": "stream",
          "name": "stdout",
          "text": [
            "(\"Xamir's\", 'tuple', 'tuple')\n"
          ]
        }
      ]
    },
    {
      "cell_type": "code",
      "metadata": {
        "id": "Vmn0-mB15QsU",
        "colab": {
          "base_uri": "https://localhost:8080/"
        },
        "outputId": "a8681b80-f669-497c-e3cf-e201eb1fba27"
      },
      "source": [
        "stock_list = ['AAPL','GOOG','IBM','AAPL','IBM','FB','F','GOOG']\n",
        "stock_set = set(stock_list)\n",
        "print(stock_set)"
      ],
      "execution_count": 33,
      "outputs": [
        {
          "output_type": "stream",
          "name": "stdout",
          "text": [
            "{'GOOG', 'AAPL', 'FB', 'IBM', 'F'}\n"
          ]
        }
      ]
    },
    {
      "cell_type": "code",
      "metadata": {
        "colab": {
          "base_uri": "https://localhost:8080/"
        },
        "id": "oyF4We_7riv3",
        "outputId": "bf8923ff-a0d7-4add-d02b-b3359fbdde7e"
      },
      "source": [
        "# sets doesnt repeat items\n",
        "xamir_stock_list = ['TSLA','GOOG','TSLA','AAPL','TSLA','TSLA','F','GOOG']\n",
        "xamir_stock_set = set(xamir_stock_list)\n",
        "print(xamir_stock_set)"
      ],
      "execution_count": 34,
      "outputs": [
        {
          "output_type": "stream",
          "name": "stdout",
          "text": [
            "{'TSLA', 'GOOG', 'F', 'AAPL'}\n"
          ]
        }
      ]
    },
    {
      "cell_type": "code",
      "metadata": {
        "collapsed": true,
        "id": "81CKWW8R5QsV"
      },
      "source": [
        "my_dic = {'AAPL':'AAPLE', 'FB':'FaceBook', 'GOOG':'Alphabet'}"
      ],
      "execution_count": 35,
      "outputs": []
    },
    {
      "cell_type": "code",
      "metadata": {
        "colab": {
          "base_uri": "https://localhost:8080/"
        },
        "id": "IXhlRUNZskYA",
        "outputId": "6463a34b-812a-42f8-bdda-272ca35ffa92"
      },
      "source": [
        "# Xamir\n",
        "xamir_dic = {'name':'xamir','subjects':[{'name':'AlG'},{'name':'MET'}]}\n",
        "print(xamir_dic)\n",
        "print(type(xamir_dic))"
      ],
      "execution_count": 36,
      "outputs": [
        {
          "output_type": "stream",
          "name": "stdout",
          "text": [
            "{'name': 'xamir', 'subjects': [{'name': 'AlG'}, {'name': 'MET'}]}\n",
            "<class 'dict'>\n"
          ]
        }
      ]
    },
    {
      "cell_type": "code",
      "metadata": {
        "id": "mbBCdElI5QsX",
        "colab": {
          "base_uri": "https://localhost:8080/"
        },
        "outputId": "25ed38d8-23c7-4b71-8d0a-39d57979b177"
      },
      "source": [
        "print(my_dic['GOOG'])"
      ],
      "execution_count": 37,
      "outputs": [
        {
          "output_type": "stream",
          "name": "stdout",
          "text": [
            "Alphabet\n"
          ]
        }
      ]
    },
    {
      "cell_type": "code",
      "metadata": {
        "colab": {
          "base_uri": "https://localhost:8080/"
        },
        "id": "ebSVMDYQs_Z9",
        "outputId": "2f288560-f3be-4604-e9a5-2eeddb9d3655"
      },
      "source": [
        "# Xamir\n",
        "xamir_dic['subjects'][0]"
      ],
      "execution_count": 38,
      "outputs": [
        {
          "output_type": "execute_result",
          "data": {
            "text/plain": [
              "{'name': 'AlG'}"
            ]
          },
          "metadata": {},
          "execution_count": 38
        }
      ]
    },
    {
      "cell_type": "code",
      "metadata": {
        "id": "oDkqpKEE5QsY",
        "colab": {
          "base_uri": "https://localhost:8080/"
        },
        "outputId": "85ad6458-74c4-4f13-d289-9850c5a74e5e"
      },
      "source": [
        "my_dic['GOOG'] = 'Alphabet Company'\n",
        "print(my_dic['GOOG'])"
      ],
      "execution_count": 39,
      "outputs": [
        {
          "output_type": "stream",
          "name": "stdout",
          "text": [
            "Alphabet Company\n"
          ]
        }
      ]
    },
    {
      "cell_type": "code",
      "metadata": {
        "colab": {
          "base_uri": "https://localhost:8080/"
        },
        "id": "rgmQmxkotISO",
        "outputId": "ff894ef6-dd53-401e-a692-9960749ce0be"
      },
      "source": [
        "# Xamir\n",
        "xamir_dic['subjects'][0] = 'ALGO'\n",
        "print(xamir_dic['subjects'][0])"
      ],
      "execution_count": 40,
      "outputs": [
        {
          "output_type": "stream",
          "name": "stdout",
          "text": [
            "ALGO\n"
          ]
        }
      ]
    },
    {
      "cell_type": "code",
      "metadata": {
        "id": "QuI712Wd5QsZ",
        "colab": {
          "base_uri": "https://localhost:8080/"
        },
        "outputId": "a77256fb-6b33-4966-a391-f8e9566179f6"
      },
      "source": [
        "print(my_dic.keys())"
      ],
      "execution_count": 41,
      "outputs": [
        {
          "output_type": "stream",
          "name": "stdout",
          "text": [
            "dict_keys(['AAPL', 'FB', 'GOOG'])\n"
          ]
        }
      ]
    },
    {
      "cell_type": "code",
      "metadata": {
        "colab": {
          "base_uri": "https://localhost:8080/"
        },
        "id": "KddG005BtSqM",
        "outputId": "2953d580-493a-47a7-fca3-1717def40e3f"
      },
      "source": [
        "# Xamir\n",
        "print(xamir_dic.keys())\n",
        "xamir_list_of_keys = xamir_dic.keys()\n",
        "print(xamir_list_of_keys)"
      ],
      "execution_count": 42,
      "outputs": [
        {
          "output_type": "stream",
          "name": "stdout",
          "text": [
            "dict_keys(['name', 'subjects'])\n",
            "dict_keys(['name', 'subjects'])\n"
          ]
        }
      ]
    },
    {
      "cell_type": "code",
      "metadata": {
        "id": "CaVW7n3A5QsZ",
        "colab": {
          "base_uri": "https://localhost:8080/"
        },
        "outputId": "88296a1e-3816-4a60-fb5b-f32d67bf2ab3"
      },
      "source": [
        "my_str = 'Welcome to QuantConnect'\n",
        "print(my_str[8:])"
      ],
      "execution_count": 43,
      "outputs": [
        {
          "output_type": "stream",
          "name": "stdout",
          "text": [
            "to QuantConnect\n"
          ]
        }
      ]
    },
    {
      "cell_type": "code",
      "metadata": {
        "colab": {
          "base_uri": "https://localhost:8080/"
        },
        "id": "BkGekTcqwdsX",
        "outputId": "29017aca-b833-4687-ed1a-d6562820f792"
      },
      "source": [
        "# Xamir\n",
        "xamir_str = 'Xamir Rojas '\n",
        "print(xamir_str[8:])"
      ],
      "execution_count": 44,
      "outputs": [
        {
          "output_type": "stream",
          "name": "stdout",
          "text": [
            "jas \n"
          ]
        }
      ]
    },
    {
      "cell_type": "code",
      "metadata": {
        "id": "B0oAXjAE5Qsa",
        "colab": {
          "base_uri": "https://localhost:8080/"
        },
        "outputId": "60ecc4a4-7c6d-4b46-b289-5b5ba03397f9"
      },
      "source": [
        "print('Counting the number of e appears in this sentence'.count('e'))\n",
        "print('The first time e appears in this sentence'.find('e'))\n",
        "print('all the a in this sentence now becomes e'.replace('a','e'))"
      ],
      "execution_count": 45,
      "outputs": [
        {
          "output_type": "stream",
          "name": "stdout",
          "text": [
            "7\n",
            "2\n",
            "ell the e in this sentence now becomes e\n"
          ]
        }
      ]
    },
    {
      "cell_type": "code",
      "metadata": {
        "colab": {
          "base_uri": "https://localhost:8080/"
        },
        "id": "0RS2kenFxEMV",
        "outputId": "692504e1-b4c0-48a4-b88c-e5fe473bab27"
      },
      "source": [
        "# Xamir\n",
        "print('In the next string x appears (times):' +str('Counting the number of x appears in this sentence: xamir'.count('x')))\n",
        "print('The first time f appears in this sentence fff'.find('f'))\n",
        "print('The first time f appears in this sentence fff'[:5])\n",
        "print('all the s in this sentence now becomes z'.replace('s','z'))"
      ],
      "execution_count": 46,
      "outputs": [
        {
          "output_type": "stream",
          "name": "stdout",
          "text": [
            "In the next string x appears (times):2\n",
            "4\n",
            "The f\n",
            "all the z in thiz zentence now becomez z\n"
          ]
        }
      ]
    },
    {
      "cell_type": "code",
      "metadata": {
        "id": "8_jT-xB75Qsb",
        "colab": {
          "base_uri": "https://localhost:8080/"
        },
        "outputId": "83575634-25af-4931-a246-2a67f9b8808a"
      },
      "source": [
        "Time = '2016-04-01 09:43:00'\n",
        "splited_list = Time.split(' ')\n",
        "date = splited_list[0]\n",
        "time = splited_list[1]\n",
        "print(date, time)\n",
        "hour = time.split(':')[0]\n",
        "print(hour)"
      ],
      "execution_count": 47,
      "outputs": [
        {
          "output_type": "stream",
          "name": "stdout",
          "text": [
            "2016-04-01 09:43:00\n",
            "09\n"
          ]
        }
      ]
    },
    {
      "cell_type": "code",
      "metadata": {
        "colab": {
          "base_uri": "https://localhost:8080/"
        },
        "id": "sBIMItaKyUXV",
        "outputId": "3ef92bd6-4372-4333-b831-e03886d8a833"
      },
      "source": [
        "# Xamir\n",
        "xamir_Time = '2021-10-16 20:08:00'\n",
        "xamir_splited_list = xamir_Time.split(' ')\n",
        "xamir_date = xamir_splited_list[0]\n",
        "xamir_time = xamir_splited_list[1]\n",
        "print(xamir_date, xamir_time)\n",
        "xamir_hour = xamir_time.split(':')[0]\n",
        "print(xamir_hour)"
      ],
      "execution_count": 48,
      "outputs": [
        {
          "output_type": "stream",
          "name": "stdout",
          "text": [
            "2021-10-16 20:08:00\n",
            "20\n"
          ]
        }
      ]
    },
    {
      "cell_type": "code",
      "metadata": {
        "id": "z27OPUEb5Qsc",
        "colab": {
          "base_uri": "https://localhost:8080/"
        },
        "outputId": "98df483b-d639-4e37-85ee-54d40d4b96b5"
      },
      "source": [
        "my_time = 'Hour: {}, Minute:{}'.format('09','43')\n",
        "print(my_time)"
      ],
      "execution_count": 49,
      "outputs": [
        {
          "output_type": "stream",
          "name": "stdout",
          "text": [
            "Hour: 09, Minute:43\n"
          ]
        }
      ]
    },
    {
      "cell_type": "code",
      "metadata": {
        "colab": {
          "base_uri": "https://localhost:8080/"
        },
        "id": "F15i-xIoyXO8",
        "outputId": "688c535c-c737-45ce-9141-d32a691b7e3c"
      },
      "source": [
        "# Xamir\n",
        "xamir_time = 'Hour: {}, Minute:{}'.format('20','10')\n",
        "print(xamir_time)"
      ],
      "execution_count": 50,
      "outputs": [
        {
          "output_type": "stream",
          "name": "stdout",
          "text": [
            "Hour: 20, Minute:10\n"
          ]
        }
      ]
    },
    {
      "cell_type": "code",
      "metadata": {
        "id": "WqFjZsmW5Qsc",
        "colab": {
          "base_uri": "https://localhost:8080/"
        },
        "outputId": "ed6799aa-4fc9-4d9b-9b2f-1651fed868df"
      },
      "source": [
        "print('the pi number is %f'%3.14)\n",
        "print('%s to %s'%('Welcome','Quantconnect'))"
      ],
      "execution_count": 51,
      "outputs": [
        {
          "output_type": "stream",
          "name": "stdout",
          "text": [
            "the pi number is 3.140000\n",
            "Welcome to Quantconnect\n"
          ]
        }
      ]
    },
    {
      "cell_type": "code",
      "metadata": {
        "colab": {
          "base_uri": "https://localhost:8080/"
        },
        "id": "2zKhaI3syamx",
        "outputId": "f191dbb6-6b8a-4d09-fdca-c4c77a9abfc1"
      },
      "source": [
        "# Xamir\n",
        "print('the e number is %f'% 2.72)\n",
        "print('%s to %s'%('Xamir','Rojas'))"
      ],
      "execution_count": 52,
      "outputs": [
        {
          "output_type": "stream",
          "name": "stdout",
          "text": [
            "the e number is 2.720000\n",
            "Xamir to Rojas\n"
          ]
        }
      ]
    },
    {
      "cell_type": "markdown",
      "metadata": {
        "id": "cCZ6GjH92tf4"
      },
      "source": [
        "# 02 Python: Logical Operations and Loops\n",
        "[Tutorials / Introduction to Financial Python/ Logical Operations and Loops](https://www.quantconnect.com/tutorials/introduction-to-financial-python/logical-operations-and-loops)\n"
      ]
    },
    {
      "cell_type": "code",
      "metadata": {
        "id": "23c8hnZI4Jff",
        "colab": {
          "base_uri": "https://localhost:8080/"
        },
        "outputId": "1ae46259-c289-423c-c408-b137949243dc"
      },
      "source": [
        "print(1 == 0)\n",
        "print(1 == 1)\n",
        "print(1 != 0)\n",
        "print(5 >= 5)\n",
        "print(5 >= 6)"
      ],
      "execution_count": 53,
      "outputs": [
        {
          "output_type": "stream",
          "name": "stdout",
          "text": [
            "False\n",
            "True\n",
            "True\n",
            "True\n",
            "False\n"
          ]
        }
      ]
    },
    {
      "cell_type": "code",
      "metadata": {
        "colab": {
          "base_uri": "https://localhost:8080/"
        },
        "id": "eTbEkfxYoCzs",
        "outputId": "60390bd3-0ceb-4c16-cee6-999624931786"
      },
      "source": [
        "# Xamir\n",
        "print(1 == \"1\")\n",
        "print([]==[])\n",
        "print({}=={})\n",
        "print(True == 1)\n",
        "print({'name':'Xamir'}=={'name':'Xamir'})\n",
        "print({'name':'Xamir'}!={'name':'xamir'})\n",
        "print('xamir'>='xam')\n",
        "print('xamir'>='xamir rojas')\n"
      ],
      "execution_count": 54,
      "outputs": [
        {
          "output_type": "stream",
          "name": "stdout",
          "text": [
            "False\n",
            "True\n",
            "True\n",
            "True\n",
            "True\n",
            "True\n",
            "True\n",
            "False\n"
          ]
        }
      ]
    },
    {
      "cell_type": "code",
      "metadata": {
        "id": "6xVbD_944Jfs",
        "colab": {
          "base_uri": "https://localhost:8080/"
        },
        "outputId": "6fe813f7-3d71-4e88-f561-0b676fef6a53"
      },
      "source": [
        "print(2 > 1 and 3 > 2)\n",
        "print(2 > 1 and 3 < 2) \n",
        "print(2 > 1 or 3 < 2)\n",
        "print(2 < 1 and 3 < 2)"
      ],
      "execution_count": 55,
      "outputs": [
        {
          "output_type": "stream",
          "name": "stdout",
          "text": [
            "True\n",
            "False\n",
            "True\n",
            "False\n"
          ]
        }
      ]
    },
    {
      "cell_type": "code",
      "metadata": {
        "colab": {
          "base_uri": "https://localhost:8080/"
        },
        "id": "qsCyVMxxowPV",
        "outputId": "5593f124-4d2b-4ea9-b430-3da120788937"
      },
      "source": [
        "# Xamir\n",
        "print(\"2\" > \"1\" and \"3\" > \"2\")\n",
        "print(100 > 1 and 300 < 2) \n",
        "print(True < 1 or False < 2)\n",
        "print(2 < 1 and 3 < 2)"
      ],
      "execution_count": 56,
      "outputs": [
        {
          "output_type": "stream",
          "name": "stdout",
          "text": [
            "True\n",
            "False\n",
            "True\n",
            "False\n"
          ]
        }
      ]
    },
    {
      "cell_type": "code",
      "metadata": {
        "id": "NoqHQLzE4Jfu",
        "colab": {
          "base_uri": "https://localhost:8080/"
        },
        "outputId": "2dad48da-f967-41ca-b7f9-7c3b740ee586"
      },
      "source": [
        "print((3 > 2 or 1 < 3) and (1!=3 and 4>3) and not ( 3 < 2 or 1 < 3 and (1!=3 and 4>3)))\n",
        "print(3 > 2 or 1 < 3 and (1!=3 and 4>3) and not ( 3 < 2 or 1 < 3 and (1!=3 and 4>3)))"
      ],
      "execution_count": 57,
      "outputs": [
        {
          "output_type": "stream",
          "name": "stdout",
          "text": [
            "False\n",
            "True\n"
          ]
        }
      ]
    },
    {
      "cell_type": "code",
      "metadata": {
        "colab": {
          "base_uri": "https://localhost:8080/"
        },
        "id": "XieB9ndDtR52",
        "outputId": "1bd63353-8991-4b9e-c5e2-38254e8ab65f"
      },
      "source": [
        "# Xamir\n",
        "print(5<10<100)\n",
        "isFalse = (\"3\" > \"2\" or 1 < 3) and (\"1\"!=1 and \"XAMIR\" > \"xamir\" ) and not ( 1 < 5 < 10 or 4 < 3 and (1!=3 and 4>3))\n",
        "print(isFalse)\n",
        "print(not isFalse)\n",
        "print(\"a\" is \"a\" and \"a\" is True)\n"
      ],
      "execution_count": 58,
      "outputs": [
        {
          "output_type": "stream",
          "name": "stdout",
          "text": [
            "True\n",
            "False\n",
            "True\n",
            "False\n"
          ]
        }
      ]
    },
    {
      "cell_type": "markdown",
      "metadata": {
        "id": "1BY7_Jcm4tKi"
      },
      "source": [
        "\n",
        "\n",
        "```python\n",
        "if statement1:\n",
        "    # if the statement1 is true, execute the code here.\n",
        "    # code.....\n",
        "    # code.....\n",
        "elif statement2:\n",
        "    # if the statement 1 is false, skip the codes above to this part.\n",
        "    # code......\n",
        "    # code......\n",
        "else:\n",
        "    # if none of the above statements is True, skip to this part\n",
        "    # code......\n",
        "```\n",
        "\n"
      ]
    },
    {
      "cell_type": "code",
      "metadata": {
        "id": "ewhO0fx_4Jfx",
        "colab": {
          "base_uri": "https://localhost:8080/"
        },
        "outputId": "30261e54-ecd3-43f7-f7dd-bc65d5db29e7"
      },
      "source": [
        "i = 0\n",
        "if i == 0:\n",
        "    print('i==0 is True')"
      ],
      "execution_count": 59,
      "outputs": [
        {
          "output_type": "stream",
          "name": "stdout",
          "text": [
            "i==0 is True\n"
          ]
        }
      ]
    },
    {
      "cell_type": "code",
      "metadata": {
        "colab": {
          "base_uri": "https://localhost:8080/"
        },
        "id": "s50trX3vyz82",
        "outputId": "8311276c-f783-410a-8bcc-ba258bd5ff54"
      },
      "source": [
        "# Xamir\n",
        "a = True\n",
        "b = 1\n",
        "if a == b:\n",
        "  print('{} == {}'.format(a,b))"
      ],
      "execution_count": 60,
      "outputs": [
        {
          "output_type": "stream",
          "name": "stdout",
          "text": [
            "True == 1\n"
          ]
        }
      ]
    },
    {
      "cell_type": "code",
      "metadata": {
        "id": "s3Ow0o2K4Jfy",
        "colab": {
          "base_uri": "https://localhost:8080/"
        },
        "outputId": "f491a59f-39f5-4e12-bced-9d54a32f728b"
      },
      "source": [
        "p = 1 > 0\n",
        "q = 2 > 3\n",
        "if p and q:\n",
        "    print('p and q is true')\n",
        "elif p and not q:\n",
        "    print('q is false')\n",
        "elif q and not p:\n",
        "    print('p is false')\n",
        "else:\n",
        "    print('None of p and q is true')"
      ],
      "execution_count": 61,
      "outputs": [
        {
          "output_type": "stream",
          "name": "stdout",
          "text": [
            "q is false\n"
          ]
        }
      ]
    },
    {
      "cell_type": "code",
      "metadata": {
        "colab": {
          "base_uri": "https://localhost:8080/"
        },
        "id": "50DQ7eiizIOT",
        "outputId": "bd77d4bc-194b-46c0-c1d8-1a9b7a299090"
      },
      "source": [
        "# Xamir\n",
        "x = 'xamir'\n",
        "r = ''\n",
        "if x and not r:\n",
        "  print(\" '{}' and not '{}' is True!\".format(x,r))\n",
        "elif x and r:\n",
        "  print(\" '{}' and  '{}' is False!\".format(x,r))\n",
        "elif x and not x:\n",
        "  print(\" '{}' and  not '{}' is False!\".format(x,x))\n",
        "else:\n",
        "  print(\"x is '{}' and r is '{}!\".format(x,r))\n"
      ],
      "execution_count": 62,
      "outputs": [
        {
          "output_type": "stream",
          "name": "stdout",
          "text": [
            " 'xamir' and not '' is True!\n"
          ]
        }
      ]
    },
    {
      "cell_type": "code",
      "metadata": {
        "id": "7Kd4ZSUL4Jfz",
        "colab": {
          "base_uri": "https://localhost:8080/"
        },
        "outputId": "0e658579-bfb6-4d1f-a37e-3f58f986f4dc"
      },
      "source": [
        "i = 0\n",
        "while i < 5:\n",
        "    print(i)\n",
        "    i += 1 "
      ],
      "execution_count": 63,
      "outputs": [
        {
          "output_type": "stream",
          "name": "stdout",
          "text": [
            "0\n",
            "1\n",
            "2\n",
            "3\n",
            "4\n"
          ]
        }
      ]
    },
    {
      "cell_type": "code",
      "metadata": {
        "colab": {
          "base_uri": "https://localhost:8080/"
        },
        "id": "8V9ghk4X2aa_",
        "outputId": "4e228313-117c-424c-a181-f1fff91ad275"
      },
      "source": [
        "# Xamir\n",
        "i = 0\n",
        "while True:\n",
        "  i+=1\n",
        "  print(i)\n",
        "  if i==8:\n",
        "    break"
      ],
      "execution_count": 64,
      "outputs": [
        {
          "output_type": "stream",
          "name": "stdout",
          "text": [
            "1\n",
            "2\n",
            "3\n",
            "4\n",
            "5\n",
            "6\n",
            "7\n",
            "8\n"
          ]
        }
      ]
    },
    {
      "cell_type": "code",
      "metadata": {
        "id": "mo5uRxN64Jf1",
        "colab": {
          "base_uri": "https://localhost:8080/"
        },
        "outputId": "4c900990-0651-47c8-f397-9e5124cefe70"
      },
      "source": [
        "for i in [1,2,3,4,5]:\n",
        "    print(i)"
      ],
      "execution_count": 65,
      "outputs": [
        {
          "output_type": "stream",
          "name": "stdout",
          "text": [
            "1\n",
            "2\n",
            "3\n",
            "4\n",
            "5\n"
          ]
        }
      ]
    },
    {
      "cell_type": "code",
      "metadata": {
        "colab": {
          "base_uri": "https://localhost:8080/"
        },
        "id": "K3C6nR-o3bGw",
        "outputId": "0fc78578-0062-475b-8c2e-8b15212c90f4"
      },
      "source": [
        "# Xamir\n",
        "for i in 'xamir':\n",
        "  print(i)"
      ],
      "execution_count": 66,
      "outputs": [
        {
          "output_type": "stream",
          "name": "stdout",
          "text": [
            "x\n",
            "a\n",
            "m\n",
            "i\n",
            "r\n"
          ]
        }
      ]
    },
    {
      "cell_type": "code",
      "metadata": {
        "id": "VFISho814Jf4",
        "colab": {
          "base_uri": "https://localhost:8080/"
        },
        "outputId": "2e9252a2-ebff-41e8-81f7-3c5c91fb2f8f"
      },
      "source": [
        "stocks = ['AAPL','GOOG','IBM','FB','F','V', 'G', 'GE']\n",
        "selected = ['AAPL','IBM']\n",
        "new_list = []\n",
        "for i in stocks:\n",
        "    if i not in selected:\n",
        "        new_list.append(i)\n",
        "print(stocks)"
      ],
      "execution_count": 67,
      "outputs": [
        {
          "output_type": "stream",
          "name": "stdout",
          "text": [
            "['AAPL', 'GOOG', 'IBM', 'FB', 'F', 'V', 'G', 'GE']\n"
          ]
        }
      ]
    },
    {
      "cell_type": "code",
      "metadata": {
        "colab": {
          "base_uri": "https://localhost:8080/"
        },
        "id": "o4KkFg393h2T",
        "outputId": "d82988b1-9344-41f8-8f8d-4b581203dafa"
      },
      "source": [
        "# Xamir \n",
        "users = [{'name':'xamir'},{'name':'user 2'},{'name':' user 3'}]\n",
        "premium_users = [{'name':'xamir'}]\n",
        "non_premium_users = []\n",
        "for i in users:\n",
        "  if i not in premium_users:\n",
        "    non_premium_users.append(i)\n",
        "print(\" Non premium users \" + str(non_premium_users))"
      ],
      "execution_count": 68,
      "outputs": [
        {
          "output_type": "stream",
          "name": "stdout",
          "text": [
            " Non premium users [{'name': 'user 2'}, {'name': ' user 3'}]\n"
          ]
        }
      ]
    },
    {
      "cell_type": "code",
      "metadata": {
        "id": "bxUpob_Q4Jf5",
        "colab": {
          "base_uri": "https://localhost:8080/"
        },
        "outputId": "0253ef11-a66e-4df9-cedd-c1033d4f822f"
      },
      "source": [
        "stocks = ['AAPL','GOOG','IBM','FB','F','V', 'G', 'GE']\n",
        "for i in stocks:\n",
        "    print (i)\n",
        "    if i == 'FB':\n",
        "        break"
      ],
      "execution_count": 69,
      "outputs": [
        {
          "output_type": "stream",
          "name": "stdout",
          "text": [
            "AAPL\n",
            "GOOG\n",
            "IBM\n",
            "FB\n"
          ]
        }
      ]
    },
    {
      "cell_type": "code",
      "metadata": {
        "colab": {
          "base_uri": "https://localhost:8080/"
        },
        "id": "yE3XMiU4AR9k",
        "outputId": "c6fbea0c-b373-41df-db6c-ea02da8193b4"
      },
      "source": [
        "# Xamir\n",
        "users = [{'name':'xamir'},{'name':'user 2'},{'name':' user 3'}]\n",
        "for i in users:\n",
        "  print(i['name'])\n",
        "  if(i['name'] == 'user 2'):\n",
        "    break"
      ],
      "execution_count": 70,
      "outputs": [
        {
          "output_type": "stream",
          "name": "stdout",
          "text": [
            "xamir\n",
            "user 2\n"
          ]
        }
      ]
    },
    {
      "cell_type": "code",
      "metadata": {
        "id": "k-Ojrj4-4Jf7",
        "colab": {
          "base_uri": "https://localhost:8080/"
        },
        "outputId": "e1b88bda-b9b8-461a-e963-4f90fc9fdc6d"
      },
      "source": [
        "stocks = ['AAPL','GOOG','IBM','FB','F','V', 'G', 'GE']\n",
        "for i in stocks:\n",
        "    if i == 'FB':\n",
        "        continue\n",
        "    print(i)"
      ],
      "execution_count": 71,
      "outputs": [
        {
          "output_type": "stream",
          "name": "stdout",
          "text": [
            "AAPL\n",
            "GOOG\n",
            "IBM\n",
            "F\n",
            "V\n",
            "G\n",
            "GE\n"
          ]
        }
      ]
    },
    {
      "cell_type": "code",
      "metadata": {
        "colab": {
          "base_uri": "https://localhost:8080/"
        },
        "id": "3DWG1FfEBH0d",
        "outputId": "93ca2d0f-5372-4cc0-8a6a-cd6136f0b344"
      },
      "source": [
        "# Xamir\n",
        "users = [{'name':'xamir'},{'name':'user 2'},{'name':' user 3'}]\n",
        "for i in users:\n",
        "  if i['name'] == 'user 2':\n",
        "    print('I have found {}'.format(i['name']))\n",
        "    continue\n",
        "  print(i)"
      ],
      "execution_count": 72,
      "outputs": [
        {
          "output_type": "stream",
          "name": "stdout",
          "text": [
            "{'name': 'xamir'}\n",
            "I have found user 2\n",
            "{'name': ' user 3'}\n"
          ]
        }
      ]
    },
    {
      "cell_type": "markdown",
      "metadata": {
        "id": "xVPQeL9_D1XM"
      },
      "source": [
        "## List Comprehension"
      ]
    },
    {
      "cell_type": "code",
      "metadata": {
        "id": "P7Cetzxk4Jf8",
        "colab": {
          "base_uri": "https://localhost:8080/"
        },
        "outputId": "9b5f5d3c-087e-41b2-8017-a5773b86428f"
      },
      "source": [
        "squares = []\n",
        "for i in [1,2,3,4,5]:\n",
        "    squares.append(i**2)\n",
        "print(squares)"
      ],
      "execution_count": 73,
      "outputs": [
        {
          "output_type": "stream",
          "name": "stdout",
          "text": [
            "[1, 4, 9, 16, 25]\n"
          ]
        }
      ]
    },
    {
      "cell_type": "code",
      "metadata": {
        "colab": {
          "base_uri": "https://localhost:8080/"
        },
        "id": "3CYvWt-YBtbb",
        "outputId": "52a05c7c-eb1a-4bd3-e4ff-87e1d6a706a2"
      },
      "source": [
        "# Xamir\n",
        "base = [1,2,3,4,5]\n",
        "results = []\n",
        "for i in base:\n",
        "  results.append(i**5)\n",
        "print(results)"
      ],
      "execution_count": 74,
      "outputs": [
        {
          "output_type": "stream",
          "name": "stdout",
          "text": [
            "[1, 32, 243, 1024, 3125]\n"
          ]
        }
      ]
    },
    {
      "cell_type": "code",
      "metadata": {
        "id": "0aIHGsmJ4Jf-",
        "colab": {
          "base_uri": "https://localhost:8080/"
        },
        "outputId": "510d0e23-807e-48c1-a0f7-a26f8452ae0b"
      },
      "source": [
        "list_example = [1,2,3,4,5]\n",
        "squares = [x**2 for x in list_example]\n",
        "print(squares)"
      ],
      "execution_count": 75,
      "outputs": [
        {
          "output_type": "stream",
          "name": "stdout",
          "text": [
            "[1, 4, 9, 16, 25]\n"
          ]
        }
      ]
    },
    {
      "cell_type": "code",
      "metadata": {
        "colab": {
          "base_uri": "https://localhost:8080/"
        },
        "id": "gCZNRUN_CWe_",
        "outputId": "f7cf8444-d9c7-45b6-ecd6-9276dcbed828"
      },
      "source": [
        "# Xamir\n",
        "results = [x**10 for x in [5,6,7,8,9]]\n",
        "print(results)"
      ],
      "execution_count": 76,
      "outputs": [
        {
          "output_type": "stream",
          "name": "stdout",
          "text": [
            "[9765625, 60466176, 282475249, 1073741824, 3486784401]\n"
          ]
        }
      ]
    },
    {
      "cell_type": "code",
      "metadata": {
        "id": "NvunehIb4Jf-",
        "colab": {
          "base_uri": "https://localhost:8080/"
        },
        "outputId": "2febb935-8618-45dc-997a-0ad727856226"
      },
      "source": [
        "stocks = ['AAPL','GOOG','IBM','FB','F','V', 'G', 'GE']\n",
        "selected = ['AAPL','IBM']\n",
        "new_list = [x for x in stocks if x in selected]\n",
        "print(new_list)"
      ],
      "execution_count": 77,
      "outputs": [
        {
          "output_type": "stream",
          "name": "stdout",
          "text": [
            "['AAPL', 'IBM']\n"
          ]
        }
      ]
    },
    {
      "cell_type": "code",
      "metadata": {
        "colab": {
          "base_uri": "https://localhost:8080/"
        },
        "id": "4ZEKDKGyCrxL",
        "outputId": "06bf131f-36aa-4032-ba33-d4bacb8f8240"
      },
      "source": [
        "# Xamir\n",
        "users = [{'name':'xamir'},{'name':'user 2'},{'name':' user 3'}]\n",
        "premium_users = [{'name':'xamir'}]\n",
        "non_premium_users = [x for x in users if x not in premium_users]\n",
        "print(non_premium_users)"
      ],
      "execution_count": 78,
      "outputs": [
        {
          "output_type": "stream",
          "name": "stdout",
          "text": [
            "[{'name': 'user 2'}, {'name': ' user 3'}]\n"
          ]
        }
      ]
    },
    {
      "cell_type": "code",
      "metadata": {
        "id": "H_vVJ8DJ4Jf_",
        "colab": {
          "base_uri": "https://localhost:8080/"
        },
        "outputId": "c31b4c52-445d-4d5a-f60f-095dd447ba06"
      },
      "source": [
        "print([(x, y) for x in [1,2,3] for y in [3,1,4] if x != y])\n",
        "print([str(x)+' vs '+str(y) for x in ['AAPL','GOOG','IBM','FB'] for y in ['F','V','G','GE'] if x!=y])"
      ],
      "execution_count": 79,
      "outputs": [
        {
          "output_type": "stream",
          "name": "stdout",
          "text": [
            "[(1, 3), (1, 4), (2, 3), (2, 1), (2, 4), (3, 1), (3, 4)]\n",
            "['AAPL vs F', 'AAPL vs V', 'AAPL vs G', 'AAPL vs GE', 'GOOG vs F', 'GOOG vs V', 'GOOG vs G', 'GOOG vs GE', 'IBM vs F', 'IBM vs V', 'IBM vs G', 'IBM vs GE', 'FB vs F', 'FB vs V', 'FB vs G', 'FB vs GE']\n"
          ]
        }
      ]
    },
    {
      "cell_type": "code",
      "metadata": {
        "colab": {
          "base_uri": "https://localhost:8080/"
        },
        "id": "XerDl3sFCrIE",
        "outputId": "efab523e-cd89-4313-914e-63fb24302819"
      },
      "source": [
        "# Xamir\n",
        "print([(x, y) for x in [2,4,6] for y in [1,3,5]])\n",
        "print([x['name']+' vs '+ y['name'] for x in [{'name':'xamir'},{'name':'user 2'},{'name':' user 3'}] for y in [{'name':'xamir'},{'name':'user 2'},{'name':' user 3'}] if x!=y])\n"
      ],
      "execution_count": 80,
      "outputs": [
        {
          "output_type": "stream",
          "name": "stdout",
          "text": [
            "[(2, 1), (2, 3), (2, 5), (4, 1), (4, 3), (4, 5), (6, 1), (6, 3), (6, 5)]\n",
            "['xamir vs user 2', 'xamir vs  user 3', 'user 2 vs xamir', 'user 2 vs  user 3', ' user 3 vs xamir', ' user 3 vs user 2']\n"
          ]
        }
      ]
    },
    {
      "cell_type": "markdown",
      "metadata": {
        "id": "9DsZ0zg9FZvt"
      },
      "source": [
        "# 03 Python:Functions and Objective-Oriented Programming\n",
        "[Tutorials /  Introduction to Financial Python  /  Functions and Objective-Oriented Programming](https://www.quantconnect.com/tutorials/introduction-to-financial-python/functions-and-objective-oriented-programming)"
      ]
    },
    {
      "cell_type": "code",
      "metadata": {
        "id": "56i76NcTHJuq",
        "colab": {
          "base_uri": "https://localhost:8080/"
        },
        "outputId": "3a6c9ead-a976-4a52-cb2a-5006f30ccf40"
      },
      "source": [
        "def product(x,y):\n",
        "    return x*y\n",
        "print(product(2,3))\n",
        "print(product(5,10))"
      ],
      "execution_count": 81,
      "outputs": [
        {
          "output_type": "stream",
          "name": "stdout",
          "text": [
            "6\n",
            "50\n"
          ]
        }
      ]
    },
    {
      "cell_type": "code",
      "metadata": {
        "colab": {
          "base_uri": "https://localhost:8080/"
        },
        "id": "9N5-lThdLiqc",
        "outputId": "87d44468-52bb-4a73-81e4-21d9a23f65e9"
      },
      "source": [
        "# Xamir\n",
        "def multiply_the_numbers (*args):\n",
        "  total = 1\n",
        "  for num in args:\n",
        "    total *= num\n",
        "  return total\n",
        "print(multiply_the_numbers(2,3,4))\n",
        "print(multiply_the_numbers(2,3,4,5,6,7,8,9,10,11,12))"
      ],
      "execution_count": 82,
      "outputs": [
        {
          "output_type": "stream",
          "name": "stdout",
          "text": [
            "24\n",
            "479001600\n"
          ]
        }
      ]
    },
    {
      "cell_type": "code",
      "metadata": {
        "id": "pw4zB8sTHJu7",
        "colab": {
          "base_uri": "https://localhost:8080/"
        },
        "outputId": "a3d4d9b2-3809-4cc4-e6c5-f49ab03de8bc"
      },
      "source": [
        "def say_hi():\n",
        "    print('Welcome to QuantConnect')\n",
        "say_hi()"
      ],
      "execution_count": 83,
      "outputs": [
        {
          "output_type": "stream",
          "name": "stdout",
          "text": [
            "Welcome to QuantConnect\n"
          ]
        }
      ]
    },
    {
      "cell_type": "code",
      "metadata": {
        "colab": {
          "base_uri": "https://localhost:8080/"
        },
        "id": "z7I9sHTrNKgt",
        "outputId": "31ae2ef6-bf07-468a-928e-225e042134e2"
      },
      "source": [
        "# Xamir\n",
        "def say_something():\n",
        "  print('Something')\n",
        "say_something()"
      ],
      "execution_count": 84,
      "outputs": [
        {
          "output_type": "stream",
          "name": "stdout",
          "text": [
            "Something\n"
          ]
        }
      ]
    },
    {
      "cell_type": "code",
      "metadata": {
        "id": "atSaNGg0HJu9",
        "colab": {
          "base_uri": "https://localhost:8080/"
        },
        "outputId": "b81cf924-d18a-4c35-ef61-b1cdc3e9c74d"
      },
      "source": [
        "print(range(10))\n",
        "print(range(1,11))\n",
        "print(range(1,11,2))"
      ],
      "execution_count": 85,
      "outputs": [
        {
          "output_type": "stream",
          "name": "stdout",
          "text": [
            "range(0, 10)\n",
            "range(1, 11)\n",
            "range(1, 11, 2)\n"
          ]
        }
      ]
    },
    {
      "cell_type": "code",
      "metadata": {
        "colab": {
          "base_uri": "https://localhost:8080/"
        },
        "id": "NQ65w6NKNsmG",
        "outputId": "8d6246b2-4fe8-42a5-b68b-2395488df7fb"
      },
      "source": [
        "# Xamir\n",
        "print(range(100))\n",
        "print(range(-30,30))\n",
        "print(range(-100,100,5))"
      ],
      "execution_count": 86,
      "outputs": [
        {
          "output_type": "stream",
          "name": "stdout",
          "text": [
            "range(0, 100)\n",
            "range(-30, 30)\n",
            "range(-100, 100, 5)\n"
          ]
        }
      ]
    },
    {
      "cell_type": "code",
      "metadata": {
        "id": "hLGuXxNKHJu-",
        "colab": {
          "base_uri": "https://localhost:8080/"
        },
        "outputId": "7cfc79b7-3c16-405b-8a1e-6537d2995245"
      },
      "source": [
        "tickers = ['AAPL','GOOG','IBM','FB','F','V', 'G', 'GE']\n",
        "print('The length of tickers is {}'.format(len(tickers)))\n",
        "for i in range(len(tickers)):\n",
        "    print(tickers[i])"
      ],
      "execution_count": 87,
      "outputs": [
        {
          "output_type": "stream",
          "name": "stdout",
          "text": [
            "The length of tickers is 8\n",
            "AAPL\n",
            "GOOG\n",
            "IBM\n",
            "FB\n",
            "F\n",
            "V\n",
            "G\n",
            "GE\n"
          ]
        }
      ]
    },
    {
      "cell_type": "code",
      "metadata": {
        "colab": {
          "base_uri": "https://localhost:8080/"
        },
        "id": "nUIl39loOy1k",
        "outputId": "d239925a-4d28-4176-f55f-1f5d59d9d8c7"
      },
      "source": [
        "# Xamir\n",
        "food = ['hamburguer','apple','banana']\n",
        "print('The length of  is {}'.format(len(food)))\n",
        "for i in range(len(food)):\n",
        "    print(food[i])"
      ],
      "execution_count": 88,
      "outputs": [
        {
          "output_type": "stream",
          "name": "stdout",
          "text": [
            "The length of  is 3\n",
            "hamburguer\n",
            "apple\n",
            "banana\n"
          ]
        }
      ]
    },
    {
      "cell_type": "markdown",
      "metadata": {
        "id": "2UmGErVcSV_n"
      },
      "source": [
        "**map(fun, iter)**\n",
        "function returns a map object(which is an iterator) of the results after applying the given function to each item of a given iterable (list, tuple etc.)\n",
        "Parameters :\n",
        "* fun : It is a function to which map passes each element of given iterable.\n",
        "* iter : It is a iterable which is to be mapped.\n",
        "\n",
        "\n",
        "```python\n",
        "# Python program to demonstrate working\n",
        "# of map.\n",
        "\n",
        "# Return double of n\n",
        "def addition(n):\n",
        "\treturn n + n\n",
        "\n",
        "# We double all numbers using map()\n",
        "numbers = (1, 2, 3, 4)\n",
        "result = map(addition, numbers)\n",
        "print(list(result))\n",
        "#[2, 4, 6, 8]\n",
        "```\n",
        "\n"
      ]
    },
    {
      "cell_type": "code",
      "metadata": {
        "id": "2Ov2aJX7HJvA",
        "colab": {
          "base_uri": "https://localhost:8080/"
        },
        "outputId": "78e13b9a-9996-4386-cbcb-9978fd78c4a4"
      },
      "source": [
        "tickers = ['AAPL','GOOG','IBM','FB','F','V', 'G', 'GE']\n",
        "print(list(map(len,tickers)))"
      ],
      "execution_count": 89,
      "outputs": [
        {
          "output_type": "stream",
          "name": "stdout",
          "text": [
            "[4, 4, 3, 2, 1, 1, 1, 2]\n"
          ]
        }
      ]
    },
    {
      "cell_type": "code",
      "metadata": {
        "colab": {
          "base_uri": "https://localhost:8080/"
        },
        "id": "WKe6cysMRppt",
        "outputId": "33436de9-ec82-4b9e-aa1b-4eb8b1ad7c1f"
      },
      "source": [
        "# Xamir\n",
        "def double(food_name):\n",
        "  return food_name + food_name\n",
        "food = ['hamburguer','apple','banana']\n",
        "print(list(map(double,food)))\n"
      ],
      "execution_count": 90,
      "outputs": [
        {
          "output_type": "stream",
          "name": "stdout",
          "text": [
            "['hamburguerhamburguer', 'appleapple', 'bananabanana']\n"
          ]
        }
      ]
    },
    {
      "cell_type": "markdown",
      "metadata": {
        "id": "FtzB_JV-YzES"
      },
      "source": [
        "The lambda operator(lambda arguments : expression)is a way to create small anonymous functions. These functions are just needed where they have been created. For example:"
      ]
    },
    {
      "cell_type": "code",
      "metadata": {
        "id": "UuuS5kXdHJvC",
        "colab": {
          "base_uri": "https://localhost:8080/"
        },
        "outputId": "c6cf5bea-595b-40c3-cfd2-ca14fbdba4b5"
      },
      "source": [
        "list(map(lambda x: x**2, range(10)))"
      ],
      "execution_count": 91,
      "outputs": [
        {
          "output_type": "execute_result",
          "data": {
            "text/plain": [
              "[0, 1, 4, 9, 16, 25, 36, 49, 64, 81]"
            ]
          },
          "metadata": {},
          "execution_count": 91
        }
      ]
    },
    {
      "cell_type": "code",
      "metadata": {
        "colab": {
          "base_uri": "https://localhost:8080/"
        },
        "id": "D2HEmA5sYDM7",
        "outputId": "92138073-9113-4f64-a1c9-46b36e0bd232"
      },
      "source": [
        "# Xamir\n",
        "list(map(lambda x:x+x,food))\n"
      ],
      "execution_count": 92,
      "outputs": [
        {
          "output_type": "execute_result",
          "data": {
            "text/plain": [
              "['hamburguerhamburguer', 'appleapple', 'bananabanana']"
            ]
          },
          "metadata": {},
          "execution_count": 92
        }
      ]
    },
    {
      "cell_type": "code",
      "metadata": {
        "id": "fhS689LrHJvD",
        "colab": {
          "base_uri": "https://localhost:8080/"
        },
        "outputId": "92f208d3-5ce0-462f-872f-4e6ebac00437"
      },
      "source": [
        "list(map(lambda x, y: x+y, [1,2,3,4,5],[5,4,3,2,1]))"
      ],
      "execution_count": 93,
      "outputs": [
        {
          "output_type": "execute_result",
          "data": {
            "text/plain": [
              "[6, 6, 6, 6, 6]"
            ]
          },
          "metadata": {},
          "execution_count": 93
        }
      ]
    },
    {
      "cell_type": "code",
      "metadata": {
        "colab": {
          "base_uri": "https://localhost:8080/"
        },
        "id": "Kl9tQZ1AZJ2N",
        "outputId": "5b6970eb-9d33-490f-b1e4-f85cdd02a8d3"
      },
      "source": [
        "# Xamir\n",
        "list(map(lambda x,y:x+y,\"Hamburger\",\"Banana\"))"
      ],
      "execution_count": 94,
      "outputs": [
        {
          "output_type": "execute_result",
          "data": {
            "text/plain": [
              "['HB', 'aa', 'mn', 'ba', 'un', 'ra']"
            ]
          },
          "metadata": {},
          "execution_count": 94
        }
      ]
    },
    {
      "cell_type": "code",
      "metadata": {
        "id": "D297Ykj7HJvF",
        "colab": {
          "base_uri": "https://localhost:8080/"
        },
        "outputId": "15711342-3fb8-45a3-da50-5331b65dc5a0"
      },
      "source": [
        "sorted([5,2,3,4,1])"
      ],
      "execution_count": 95,
      "outputs": [
        {
          "output_type": "execute_result",
          "data": {
            "text/plain": [
              "[1, 2, 3, 4, 5]"
            ]
          },
          "metadata": {},
          "execution_count": 95
        }
      ]
    },
    {
      "cell_type": "code",
      "metadata": {
        "colab": {
          "base_uri": "https://localhost:8080/"
        },
        "id": "aMvrVSRrZdLd",
        "outputId": "65f9b63a-4038-4214-e7dc-f6d0fe0163dd"
      },
      "source": [
        "# Xamir\n",
        "sorted([1000.-50,0,29,True])"
      ],
      "execution_count": 96,
      "outputs": [
        {
          "output_type": "execute_result",
          "data": {
            "text/plain": [
              "[0, True, 29, 950.0]"
            ]
          },
          "metadata": {},
          "execution_count": 96
        }
      ]
    },
    {
      "cell_type": "code",
      "metadata": {
        "id": "5O_EGbB9HJvK",
        "colab": {
          "base_uri": "https://localhost:8080/"
        },
        "outputId": "f88826e9-4323-470e-b26a-870db5ed69dd"
      },
      "source": [
        "price_list = [('AAPL',144.09),('GOOG',911.71),('MSFT',69),('FB',150),('WMT',75.32)]\n",
        "sorted(price_list, key = lambda x: x[1])"
      ],
      "execution_count": 97,
      "outputs": [
        {
          "output_type": "execute_result",
          "data": {
            "text/plain": [
              "[('MSFT', 69), ('WMT', 75.32), ('AAPL', 144.09), ('FB', 150), ('GOOG', 911.71)]"
            ]
          },
          "metadata": {},
          "execution_count": 97
        }
      ]
    },
    {
      "cell_type": "code",
      "metadata": {
        "colab": {
          "base_uri": "https://localhost:8080/"
        },
        "id": "8-U89edgZosj",
        "outputId": "4f628786-8877-47ed-bd05-34c1c3c456fe"
      },
      "source": [
        "# Xamir\n",
        "users = [{'name':' user 1', 'age':'22'},{'name':' user 2' ,'age':'19'},{'name':' user 3' ,'age':'25'},{'name':' user 4' ,'age':'40'}]\n",
        "sorted(users, key = lambda x: x['age'])"
      ],
      "execution_count": 98,
      "outputs": [
        {
          "output_type": "execute_result",
          "data": {
            "text/plain": [
              "[{'age': '19', 'name': ' user 2'},\n",
              " {'age': '22', 'name': ' user 1'},\n",
              " {'age': '25', 'name': ' user 3'},\n",
              " {'age': '40', 'name': ' user 4'}]"
            ]
          },
          "metadata": {},
          "execution_count": 98
        }
      ]
    },
    {
      "cell_type": "code",
      "metadata": {
        "id": "23ncI4C9HJvS",
        "colab": {
          "base_uri": "https://localhost:8080/"
        },
        "outputId": "669f7869-f6cc-4c4e-bcc0-14fa678cf30d"
      },
      "source": [
        "price_list = [('AAPL',144.09),('GOOG',911.71),('MSFT',69),('FB',150),('WMT',75.32)]\n",
        "sorted(price_list, key = lambda x: x[1],reverse = True)"
      ],
      "execution_count": 99,
      "outputs": [
        {
          "output_type": "execute_result",
          "data": {
            "text/plain": [
              "[('GOOG', 911.71), ('FB', 150), ('AAPL', 144.09), ('WMT', 75.32), ('MSFT', 69)]"
            ]
          },
          "metadata": {},
          "execution_count": 99
        }
      ]
    },
    {
      "cell_type": "code",
      "metadata": {
        "colab": {
          "base_uri": "https://localhost:8080/"
        },
        "id": "IcbEIvvya_hr",
        "outputId": "5f65096f-09f3-49bf-c311-1f3720b4c462"
      },
      "source": [
        "# Xamir\n",
        "users = [{'name':' user 1', 'age':'22'},{'name':' user 2' ,'age':'19'},{'name':' user 3' ,'age':'25'},{'name':' user 4' ,'age':'40'}]\n",
        "sorted(users, key = lambda x: x['age'], reverse=True)\n"
      ],
      "execution_count": 100,
      "outputs": [
        {
          "output_type": "execute_result",
          "data": {
            "text/plain": [
              "[{'age': '40', 'name': ' user 4'},\n",
              " {'age': '25', 'name': ' user 3'},\n",
              " {'age': '22', 'name': ' user 1'},\n",
              " {'age': '19', 'name': ' user 2'}]"
            ]
          },
          "metadata": {},
          "execution_count": 100
        }
      ]
    },
    {
      "cell_type": "code",
      "metadata": {
        "id": "aTgsZyrdWJAl"
      },
      "source": [
        ""
      ],
      "execution_count": 100,
      "outputs": []
    },
    {
      "cell_type": "code",
      "metadata": {
        "id": "qsOFp1JuHJvU",
        "colab": {
          "base_uri": "https://localhost:8080/"
        },
        "outputId": "7cf3cf40-23d9-471a-b21c-433cd29291cb"
      },
      "source": [
        "price_list = [('AAPL',144.09),('GOOG',911.71),('MSFT',69),('FB',150),('WMT',75.32)]\n",
        "price_list.sort(key = lambda x: x[1])\n",
        "print(price_list)"
      ],
      "execution_count": 101,
      "outputs": [
        {
          "output_type": "stream",
          "name": "stdout",
          "text": [
            "[('MSFT', 69), ('WMT', 75.32), ('AAPL', 144.09), ('FB', 150), ('GOOG', 911.71)]\n"
          ]
        }
      ]
    },
    {
      "cell_type": "code",
      "metadata": {
        "colab": {
          "base_uri": "https://localhost:8080/"
        },
        "id": "ug9r_cfzbM7O",
        "outputId": "1b2c3864-a0a0-4802-a8fb-29743c3e4996"
      },
      "source": [
        "users = [{'name':'user 1', 'age':'22'},{'name':' user 2' ,'age':'19'},{'name':' user 3' ,'age':'25'},{'name':' user 4' ,'age':'40'}]\n",
        "users.sort(key = lambda x: x['age'])\n",
        "print(users)"
      ],
      "execution_count": 102,
      "outputs": [
        {
          "output_type": "stream",
          "name": "stdout",
          "text": [
            "[{'name': ' user 2', 'age': '19'}, {'name': 'user 1', 'age': '22'}, {'name': ' user 3', 'age': '25'}, {'name': ' user 4', 'age': '40'}]\n"
          ]
        }
      ]
    },
    {
      "cell_type": "code",
      "metadata": {
        "id": "74-hTvcMHJvW"
      },
      "source": [
        "class stock:\n",
        "    def __init__(self, ticker, open, close, volume):\n",
        "        self.ticker = ticker\n",
        "        self.open = open\n",
        "        self.close = close\n",
        "        self.volume = volume\n",
        "        self.rate_return = float(close)/open - 1\n",
        " \n",
        "    def update(self, open, close):\n",
        "        self.open = open\n",
        "        self.close = close\n",
        "        self.rate_return = float(self.close)/self.open - 1\n",
        " \n",
        "    def print_return(self):\n",
        "        print(self.rate_return)"
      ],
      "execution_count": 103,
      "outputs": []
    },
    {
      "cell_type": "code",
      "metadata": {
        "colab": {
          "base_uri": "https://localhost:8080/"
        },
        "id": "eb1LlK6FbZJO",
        "outputId": "12a7b6ea-3704-464d-c99f-6a1f72eabffe"
      },
      "source": [
        "# Xamir\n",
        "class user:\n",
        "    def __init__(self,name,age):\n",
        "      self.name = name\n",
        "      self.age = age\n",
        "    def get_older(self,age):\n",
        "      self.age = age\n",
        "    def __str__(self):\n",
        "      return('User name: {}, age: {}'.format(self.name,self.age))\n",
        "\n",
        "\n",
        "xamir = user('xamir',22)\n",
        "print(xamir)"
      ],
      "execution_count": 104,
      "outputs": [
        {
          "output_type": "stream",
          "name": "stdout",
          "text": [
            "User name: xamir, age: 22\n"
          ]
        }
      ]
    },
    {
      "cell_type": "code",
      "metadata": {
        "id": "A2ITFN-yHJvZ"
      },
      "source": [
        "apple = stock('AAPL', 143.69, 144.09, 20109375)\n",
        "google = stock('GOOG', 898.7, 911.7, 1561616)"
      ],
      "execution_count": 105,
      "outputs": []
    },
    {
      "cell_type": "code",
      "metadata": {
        "id": "EuEhSP2CciF6"
      },
      "source": [
        "# Xamir\n",
        "user2 = user('user 2',30)\n",
        "user3 = user('user 3',5)"
      ],
      "execution_count": 106,
      "outputs": []
    },
    {
      "cell_type": "code",
      "metadata": {
        "id": "d6L0HwwwHJva",
        "colab": {
          "base_uri": "https://localhost:8080/"
        },
        "outputId": "9ef4fff4-c203-444f-a357-7c7910d33369"
      },
      "source": [
        "apple.ticker\n",
        "google.print_return()\n",
        "google.update(912.8,913.4)\n",
        "google.print_return()"
      ],
      "execution_count": 107,
      "outputs": [
        {
          "output_type": "stream",
          "name": "stdout",
          "text": [
            "0.014465338822744034\n",
            "0.0006573181419806673\n"
          ]
        }
      ]
    },
    {
      "cell_type": "code",
      "metadata": {
        "colab": {
          "base_uri": "https://localhost:8080/"
        },
        "id": "5GXhjmzKdCz6",
        "outputId": "2a3a1782-228b-4f95-ba51-772a44cc23c1"
      },
      "source": [
        "# Xamir\n",
        "print(user2.name)\n",
        "user2.get_older(100)\n",
        "print(user2)"
      ],
      "execution_count": 108,
      "outputs": [
        {
          "output_type": "stream",
          "name": "stdout",
          "text": [
            "user 2\n",
            "User name: user 2, age: 100\n"
          ]
        }
      ]
    },
    {
      "cell_type": "code",
      "metadata": {
        "id": "m9H9IOEiHJvc",
        "colab": {
          "base_uri": "https://localhost:8080/",
          "height": 38
        },
        "outputId": "10c1f7e9-4f1b-449c-c2fd-cef79b553a30"
      },
      "source": [
        "apple.ceo = 'Tim Cook'\n",
        "apple.ceo"
      ],
      "execution_count": 109,
      "outputs": [
        {
          "output_type": "execute_result",
          "data": {
            "application/vnd.google.colaboratory.intrinsic+json": {
              "type": "string"
            },
            "text/plain": [
              "'Tim Cook'"
            ]
          },
          "metadata": {},
          "execution_count": 109
        }
      ]
    },
    {
      "cell_type": "code",
      "metadata": {
        "colab": {
          "base_uri": "https://localhost:8080/",
          "height": 38
        },
        "id": "xIjTlj8cfDgG",
        "outputId": "7e26e040-7035-4907-ac27-43c2abfa1e31"
      },
      "source": [
        "# Xamir\n",
        "user2.name = 'New user 2'\n",
        "user2.name"
      ],
      "execution_count": 110,
      "outputs": [
        {
          "output_type": "execute_result",
          "data": {
            "application/vnd.google.colaboratory.intrinsic+json": {
              "type": "string"
            },
            "text/plain": [
              "'New user 2'"
            ]
          },
          "metadata": {},
          "execution_count": 110
        }
      ]
    },
    {
      "cell_type": "code",
      "metadata": {
        "id": "VkU7_f2nHJvd",
        "colab": {
          "base_uri": "https://localhost:8080/"
        },
        "outputId": "cf53f3e6-2c64-4bba-a94c-93b7466b0c8f"
      },
      "source": [
        "dir(apple)"
      ],
      "execution_count": 111,
      "outputs": [
        {
          "output_type": "execute_result",
          "data": {
            "text/plain": [
              "['__class__',\n",
              " '__delattr__',\n",
              " '__dict__',\n",
              " '__dir__',\n",
              " '__doc__',\n",
              " '__eq__',\n",
              " '__format__',\n",
              " '__ge__',\n",
              " '__getattribute__',\n",
              " '__gt__',\n",
              " '__hash__',\n",
              " '__init__',\n",
              " '__init_subclass__',\n",
              " '__le__',\n",
              " '__lt__',\n",
              " '__module__',\n",
              " '__ne__',\n",
              " '__new__',\n",
              " '__reduce__',\n",
              " '__reduce_ex__',\n",
              " '__repr__',\n",
              " '__setattr__',\n",
              " '__sizeof__',\n",
              " '__str__',\n",
              " '__subclasshook__',\n",
              " '__weakref__',\n",
              " 'ceo',\n",
              " 'close',\n",
              " 'open',\n",
              " 'print_return',\n",
              " 'rate_return',\n",
              " 'ticker',\n",
              " 'update',\n",
              " 'volume']"
            ]
          },
          "metadata": {},
          "execution_count": 111
        }
      ]
    },
    {
      "cell_type": "code",
      "metadata": {
        "colab": {
          "base_uri": "https://localhost:8080/"
        },
        "id": "FK7whVrQfS3v",
        "outputId": "46251f71-8c19-45de-b021-f7c8b45b4653"
      },
      "source": [
        "# Xamir\n",
        "dir(user2)"
      ],
      "execution_count": 112,
      "outputs": [
        {
          "output_type": "execute_result",
          "data": {
            "text/plain": [
              "['__class__',\n",
              " '__delattr__',\n",
              " '__dict__',\n",
              " '__dir__',\n",
              " '__doc__',\n",
              " '__eq__',\n",
              " '__format__',\n",
              " '__ge__',\n",
              " '__getattribute__',\n",
              " '__gt__',\n",
              " '__hash__',\n",
              " '__init__',\n",
              " '__init_subclass__',\n",
              " '__le__',\n",
              " '__lt__',\n",
              " '__module__',\n",
              " '__ne__',\n",
              " '__new__',\n",
              " '__reduce__',\n",
              " '__reduce_ex__',\n",
              " '__repr__',\n",
              " '__setattr__',\n",
              " '__sizeof__',\n",
              " '__str__',\n",
              " '__subclasshook__',\n",
              " '__weakref__',\n",
              " 'age',\n",
              " 'get_older',\n",
              " 'name']"
            ]
          },
          "metadata": {},
          "execution_count": 112
        }
      ]
    },
    {
      "cell_type": "code",
      "metadata": {
        "id": "qOr0UkyHHJve"
      },
      "source": [
        "class child(stock):\n",
        "    def __init__(self,name):\n",
        "        self.name = name"
      ],
      "execution_count": 113,
      "outputs": []
    },
    {
      "cell_type": "code",
      "metadata": {
        "id": "Y2imnlTFfcWP"
      },
      "source": [
        "# Xamir\n",
        "class user_child(user):\n",
        "    def __init__(self,name):\n",
        "        self.name = name\n",
        "    def new_method(self):\n",
        "        print('new method!!')"
      ],
      "execution_count": 114,
      "outputs": []
    },
    {
      "cell_type": "code",
      "metadata": {
        "id": "3vQK-2UIHJvf",
        "colab": {
          "base_uri": "https://localhost:8080/"
        },
        "outputId": "46eb9f74-bb1c-4737-c9a8-0fce104b1e2a"
      },
      "source": [
        "aa = child('aa')\n",
        "print(aa.name)\n",
        "aa.update(100,102)\n",
        "print(aa.open)\n",
        "print(aa.close)\n",
        "print(aa.print_return())"
      ],
      "execution_count": 115,
      "outputs": [
        {
          "output_type": "stream",
          "name": "stdout",
          "text": [
            "aa\n",
            "100\n",
            "102\n",
            "0.020000000000000018\n",
            "None\n"
          ]
        }
      ]
    },
    {
      "cell_type": "code",
      "metadata": {
        "colab": {
          "base_uri": "https://localhost:8080/"
        },
        "id": "CG4NqBLUfymq",
        "outputId": "67dd7d91-b47f-4525-9533-6ede3d34ba4c"
      },
      "source": [
        "# Xamir\n",
        "user2_child = user_child('uwu')\n",
        "\n",
        "print(user2_child.name)\n",
        "user2_child.get_older(333)\n",
        "print(user2_child.age)\n",
        "print(user2_child)\n",
        "user2_child.new_method()"
      ],
      "execution_count": 116,
      "outputs": [
        {
          "output_type": "stream",
          "name": "stdout",
          "text": [
            "uwu\n",
            "333\n",
            "User name: uwu, age: 333\n",
            "new method!!\n"
          ]
        }
      ]
    },
    {
      "cell_type": "markdown",
      "metadata": {
        "id": "_rzObaR45JS0"
      },
      "source": [
        "# 04 Python: NumPy and Basic Pandas\n",
        "[Tutorials /  Introduction to Financial Python  /  NumPy and Basic Pandas](https://www.quantconnect.com/tutorials/introduction-to-financial-python/numpy-and-basic-pandas)"
      ]
    },
    {
      "cell_type": "code",
      "metadata": {
        "id": "FczaGb0u5mhW"
      },
      "source": [
        "import numpy as np"
      ],
      "execution_count": 117,
      "outputs": []
    },
    {
      "cell_type": "code",
      "metadata": {
        "id": "GNRdU5Qp5mhg",
        "colab": {
          "base_uri": "https://localhost:8080/"
        },
        "outputId": "9341fc8e-566d-4d1a-8980-f56b819aca4c"
      },
      "source": [
        "price_list = [143.73, 145.83, 143.68, 144.02, 143.5, 142.62]\n",
        "price_array = np.array(price_list)\n",
        "print(price_array, type(price_array))"
      ],
      "execution_count": 118,
      "outputs": [
        {
          "output_type": "stream",
          "name": "stdout",
          "text": [
            "[143.73 145.83 143.68 144.02 143.5  142.62] <class 'numpy.ndarray'>\n"
          ]
        }
      ]
    },
    {
      "cell_type": "code",
      "metadata": {
        "colab": {
          "base_uri": "https://localhost:8080/"
        },
        "id": "o6wtOe0OuepH",
        "outputId": "a8960414-6334-4079-fb82-4eb63f2e0d58"
      },
      "source": [
        "# Xamir\n",
        "\"\"\"\n",
        "Array of values of the same type\n",
        "ndarray = n dimensional array\n",
        "\"\"\"\n",
        "xamir_population_list = [300,200,900,700,-55.3,452.2,321,456,789,300]\n",
        "xamir_population_array = np.array(xamir_population_list)\n",
        "print(xamir_population_array,type(xamir_population_array))\n"
      ],
      "execution_count": 119,
      "outputs": [
        {
          "output_type": "stream",
          "name": "stdout",
          "text": [
            "[300.  200.  900.  700.  -55.3 452.2 321.  456.  789.  300. ] <class 'numpy.ndarray'>\n"
          ]
        }
      ]
    },
    {
      "cell_type": "code",
      "metadata": {
        "id": "sPoSVSSg5mhi",
        "colab": {
          "base_uri": "https://localhost:8080/"
        },
        "outputId": "ad462947-0e48-44cf-a48a-5f379d0d74f6"
      },
      "source": [
        "Ar = np.array([[1,3],[2,4]])\n",
        "print(Ar, type(Ar))"
      ],
      "execution_count": 120,
      "outputs": [
        {
          "output_type": "stream",
          "name": "stdout",
          "text": [
            "[[1 3]\n",
            " [2 4]] <class 'numpy.ndarray'>\n"
          ]
        }
      ]
    },
    {
      "cell_type": "code",
      "metadata": {
        "colab": {
          "base_uri": "https://localhost:8080/"
        },
        "id": "qdpe5JNIuiAJ",
        "outputId": "28329097-4e0a-4577-f0fa-5af39cf2e752"
      },
      "source": [
        "# Xamir\n",
        "\"\"\"\n",
        "Multi-dimensional array\n",
        "shape: tuple of ints\n",
        "The elements of the shape tuple give the lengths of the corresponding array dimensions.\n",
        "\"\"\"\n",
        "xamir_matrix = np.array([\n",
        "                         [[1,2,3],[4,5,6]],\n",
        "                         [[7,8,9],[10,11,12]]\n",
        "                         ])\n",
        "print(xamir_matrix,type(xamir_matrix))\n"
      ],
      "execution_count": 121,
      "outputs": [
        {
          "output_type": "stream",
          "name": "stdout",
          "text": [
            "[[[ 1  2  3]\n",
            "  [ 4  5  6]]\n",
            "\n",
            " [[ 7  8  9]\n",
            "  [10 11 12]]] <class 'numpy.ndarray'>\n"
          ]
        }
      ]
    },
    {
      "cell_type": "code",
      "metadata": {
        "id": "FFfMNywS5mhk",
        "colab": {
          "base_uri": "https://localhost:8080/"
        },
        "outputId": "20379436-a713-4414-9618-5ea093dbc81c"
      },
      "source": [
        "print(Ar.shape)"
      ],
      "execution_count": 122,
      "outputs": [
        {
          "output_type": "stream",
          "name": "stdout",
          "text": [
            "(2, 2)\n"
          ]
        }
      ]
    },
    {
      "cell_type": "code",
      "metadata": {
        "colab": {
          "base_uri": "https://localhost:8080/"
        },
        "id": "w0CiRLeDuiv4",
        "outputId": "ee63799c-50a8-40fb-914c-50232c55c627"
      },
      "source": [
        "# Xamir\n",
        "\"\"\"\n",
        "shape: tuple of ints\n",
        "The elements of the shape tuple give the lengths of the corresponding array dimensions.\n",
        "\"\"\"\n",
        "print(xamir_matrix.shape)"
      ],
      "execution_count": 123,
      "outputs": [
        {
          "output_type": "stream",
          "name": "stdout",
          "text": [
            "(2, 2, 3)\n"
          ]
        }
      ]
    },
    {
      "cell_type": "code",
      "metadata": {
        "id": "YvIxSuxS5mhl",
        "colab": {
          "base_uri": "https://localhost:8080/"
        },
        "outputId": "1242c64b-02fb-4d55-8895-6481c4fcc9f3"
      },
      "source": [
        "print(Ar[0])\n",
        "print(Ar[1])"
      ],
      "execution_count": 124,
      "outputs": [
        {
          "output_type": "stream",
          "name": "stdout",
          "text": [
            "[1 3]\n",
            "[2 4]\n"
          ]
        }
      ]
    },
    {
      "cell_type": "code",
      "metadata": {
        "colab": {
          "base_uri": "https://localhost:8080/"
        },
        "id": "-tijyv-XujVD",
        "outputId": "03f697f1-1e46-4c3d-e8ab-743961bca7d6"
      },
      "source": [
        "# Xamir\n",
        "print(xamir_matrix[0])\n",
        "print(xamir_matrix[0][0])\n",
        "print(xamir_matrix[0][0][0])"
      ],
      "execution_count": 125,
      "outputs": [
        {
          "output_type": "stream",
          "name": "stdout",
          "text": [
            "[[1 2 3]\n",
            " [4 5 6]]\n",
            "[1 2 3]\n",
            "1\n"
          ]
        }
      ]
    },
    {
      "cell_type": "code",
      "metadata": {
        "id": "EOp-vwhA5mhl",
        "colab": {
          "base_uri": "https://localhost:8080/"
        },
        "outputId": "2cd4cb5e-518d-4320-a940-8f43827f0e7c"
      },
      "source": [
        "print('the first column: ', Ar[:,0])\n",
        "print('the second column: ', Ar[:,1])"
      ],
      "execution_count": 126,
      "outputs": [
        {
          "output_type": "stream",
          "name": "stdout",
          "text": [
            "the first column:  [1 2]\n",
            "the second column:  [3 4]\n"
          ]
        }
      ]
    },
    {
      "cell_type": "code",
      "metadata": {
        "colab": {
          "base_uri": "https://localhost:8080/"
        },
        "id": "FQSz9R5Huj7Q",
        "outputId": "a5f09540-2059-45b6-8f3b-ccb8eca4654a"
      },
      "source": [
        "# Xamir\n",
        "\"\"\"\n",
        "[:] all elements\n",
        "\"\"\"\n",
        "# in all rows choose first element (first column)\n",
        "print('the first column: ', xamir_matrix[:,0]) \n",
        "# in all rows choose second element (second column)\n",
        "print('the second column: ', xamir_matrix[:,1])\n",
        "# in all rows, in all columns choose first element \n",
        "print('the second column: ', xamir_matrix[:,:,0])\n",
        "\n"
      ],
      "execution_count": 127,
      "outputs": [
        {
          "output_type": "stream",
          "name": "stdout",
          "text": [
            "the first column:  [[1 2 3]\n",
            " [7 8 9]]\n",
            "the second column:  [[ 4  5  6]\n",
            " [10 11 12]]\n",
            "the second column:  [[ 1  4]\n",
            " [ 7 10]]\n"
          ]
        }
      ]
    },
    {
      "cell_type": "code",
      "metadata": {
        "id": "pnF3Pljw5mhm",
        "colab": {
          "base_uri": "https://localhost:8080/"
        },
        "outputId": "c9a621fc-cb53-4535-d412-55df04ff9e17"
      },
      "source": [
        "print(np.log(price_array))"
      ],
      "execution_count": 128,
      "outputs": [
        {
          "output_type": "stream",
          "name": "stdout",
          "text": [
            "[4.96793654 4.98244156 4.9675886  4.96995218 4.96633504 4.96018375]\n"
          ]
        }
      ]
    },
    {
      "cell_type": "code",
      "metadata": {
        "colab": {
          "base_uri": "https://localhost:8080/"
        },
        "id": "-cRa8g2Iukrr",
        "outputId": "cad18c71-dada-420b-ac36-54d12177555d"
      },
      "source": [
        "# Xamir\n",
        "\"\"\"\n",
        "Array functions \n",
        "\"\"\"\n",
        "print(np.log(xamir_matrix))\n"
      ],
      "execution_count": 129,
      "outputs": [
        {
          "output_type": "stream",
          "name": "stdout",
          "text": [
            "[[[0.         0.69314718 1.09861229]\n",
            "  [1.38629436 1.60943791 1.79175947]]\n",
            "\n",
            " [[1.94591015 2.07944154 2.19722458]\n",
            "  [2.30258509 2.39789527 2.48490665]]]\n"
          ]
        }
      ]
    },
    {
      "cell_type": "code",
      "metadata": {
        "id": "QzzkseKV5mho",
        "colab": {
          "base_uri": "https://localhost:8080/"
        },
        "outputId": "1bc4bbb5-64e7-4486-e62a-03b52e79cab2"
      },
      "source": [
        "print(np.mean(price_array))\n",
        "print(np.std(price_array))\n",
        "print(np.sum(price_array))\n",
        "print(np.max(price_array))"
      ],
      "execution_count": 130,
      "outputs": [
        {
          "output_type": "stream",
          "name": "stdout",
          "text": [
            "143.89666666666668\n",
            "0.9673790478515796\n",
            "863.38\n",
            "145.83\n"
          ]
        }
      ]
    },
    {
      "cell_type": "code",
      "metadata": {
        "colab": {
          "base_uri": "https://localhost:8080/"
        },
        "id": "GgaGjrPrulPJ",
        "outputId": "41f2f651-79d2-4186-843b-0d4a67d49fef"
      },
      "source": [
        "# Xamir\n",
        "print(np.mean(xamir_matrix))\n",
        "print(np.std(xamir_matrix))\n",
        "print(np.sum(xamir_matrix))\n",
        "print(np.max(xamir_matrix))"
      ],
      "execution_count": 131,
      "outputs": [
        {
          "output_type": "stream",
          "name": "stdout",
          "text": [
            "6.5\n",
            "3.452052529534663\n",
            "78\n",
            "12\n"
          ]
        }
      ]
    },
    {
      "cell_type": "code",
      "metadata": {
        "id": "c0dVhY-J5mhp"
      },
      "source": [
        "import pandas as pd"
      ],
      "execution_count": 132,
      "outputs": []
    },
    {
      "cell_type": "code",
      "metadata": {
        "id": "g8hXzsuJ5mhr",
        "colab": {
          "base_uri": "https://localhost:8080/"
        },
        "outputId": "db019005-3619-4e0e-ad1c-321f841f77ad"
      },
      "source": [
        "price = [143.73, 145.83, 143.68, 144.02, 143.5, 142.62]\n",
        "s = pd.Series(price)\n",
        "s"
      ],
      "execution_count": 133,
      "outputs": [
        {
          "output_type": "execute_result",
          "data": {
            "text/plain": [
              "0    143.73\n",
              "1    145.83\n",
              "2    143.68\n",
              "3    144.02\n",
              "4    143.50\n",
              "5    142.62\n",
              "dtype: float64"
            ]
          },
          "metadata": {},
          "execution_count": 133
        }
      ]
    },
    {
      "cell_type": "code",
      "metadata": {
        "colab": {
          "base_uri": "https://localhost:8080/"
        },
        "id": "dnCKrQ4KumQm",
        "outputId": "a07d2bde-f0d8-41ff-a2aa-9219001f8578"
      },
      "source": [
        "# Xamir\n",
        "\"\"\"\n",
        "indexing column \n",
        "\"\"\"\n",
        "sr = pd.Series([33.3,77.7,224,100,10])\n",
        "print(sr)\n",
        "print(sr.values)\n",
        "print(sr.index)\n",
        "print(sr.shape)\n",
        "sr[[0,4,2]]"
      ],
      "execution_count": 134,
      "outputs": [
        {
          "output_type": "stream",
          "name": "stdout",
          "text": [
            "0     33.3\n",
            "1     77.7\n",
            "2    224.0\n",
            "3    100.0\n",
            "4     10.0\n",
            "dtype: float64\n",
            "[ 33.3  77.7 224.  100.   10. ]\n",
            "RangeIndex(start=0, stop=5, step=1)\n",
            "(5,)\n"
          ]
        },
        {
          "output_type": "execute_result",
          "data": {
            "text/plain": [
              "0     33.3\n",
              "4     10.0\n",
              "2    224.0\n",
              "dtype: float64"
            ]
          },
          "metadata": {},
          "execution_count": 134
        }
      ]
    },
    {
      "cell_type": "code",
      "metadata": {
        "id": "TrmPZETD5mhs",
        "colab": {
          "base_uri": "https://localhost:8080/"
        },
        "outputId": "050e0809-b2b3-4146-9a0a-e7dad3629bcc"
      },
      "source": [
        "s = pd.Series(price,index = ['a','b','c','d','e','f'])\n",
        "s"
      ],
      "execution_count": 135,
      "outputs": [
        {
          "output_type": "execute_result",
          "data": {
            "text/plain": [
              "a    143.73\n",
              "b    145.83\n",
              "c    143.68\n",
              "d    144.02\n",
              "e    143.50\n",
              "f    142.62\n",
              "dtype: float64"
            ]
          },
          "metadata": {},
          "execution_count": 135
        }
      ]
    },
    {
      "cell_type": "code",
      "metadata": {
        "colab": {
          "base_uri": "https://localhost:8080/"
        },
        "id": "YzA5IiUhunEy",
        "outputId": "3d32c846-4a73-4065-e1db-f52e2d2c84a4"
      },
      "source": [
        "# Xamir\n",
        "xamir_serie = pd.Series([33.3,77.7,224,100,10],index = [\"val 1\",\"val 2\",\"val 3\",\"val 4\",\"val 5\"])\n",
        "xamir_serie"
      ],
      "execution_count": 136,
      "outputs": [
        {
          "output_type": "execute_result",
          "data": {
            "text/plain": [
              "val 1     33.3\n",
              "val 2     77.7\n",
              "val 3    224.0\n",
              "val 4    100.0\n",
              "val 5     10.0\n",
              "dtype: float64"
            ]
          },
          "metadata": {},
          "execution_count": 136
        }
      ]
    },
    {
      "cell_type": "code",
      "metadata": {
        "id": "4mJOQMCx5mht",
        "colab": {
          "base_uri": "https://localhost:8080/"
        },
        "outputId": "323327d3-d24d-4224-ebd9-1d18b0ecbd74"
      },
      "source": [
        "s.index = [6,5,4,3,2,1]\n",
        "s"
      ],
      "execution_count": 137,
      "outputs": [
        {
          "output_type": "execute_result",
          "data": {
            "text/plain": [
              "6    143.73\n",
              "5    145.83\n",
              "4    143.68\n",
              "3    144.02\n",
              "2    143.50\n",
              "1    142.62\n",
              "dtype: float64"
            ]
          },
          "metadata": {},
          "execution_count": 137
        }
      ]
    },
    {
      "cell_type": "code",
      "metadata": {
        "colab": {
          "base_uri": "https://localhost:8080/"
        },
        "id": "z5-gYZQlunpF",
        "outputId": "310dc530-20d5-4459-da43-7b02842c07f9"
      },
      "source": [
        "# Xamir\n",
        "xamir_serie.index = [1,2,3,4,5]\n",
        "xamir_serie"
      ],
      "execution_count": 138,
      "outputs": [
        {
          "output_type": "execute_result",
          "data": {
            "text/plain": [
              "1     33.3\n",
              "2     77.7\n",
              "3    224.0\n",
              "4    100.0\n",
              "5     10.0\n",
              "dtype: float64"
            ]
          },
          "metadata": {},
          "execution_count": 138
        }
      ]
    },
    {
      "cell_type": "code",
      "metadata": {
        "id": "qmVdctrt5mhu",
        "colab": {
          "base_uri": "https://localhost:8080/"
        },
        "outputId": "bf38b90c-d49c-4017-b130-005d0525a190"
      },
      "source": [
        "print(s[1:])\n",
        "print(s[:-2])"
      ],
      "execution_count": 139,
      "outputs": [
        {
          "output_type": "stream",
          "name": "stdout",
          "text": [
            "5    145.83\n",
            "4    143.68\n",
            "3    144.02\n",
            "2    143.50\n",
            "1    142.62\n",
            "dtype: float64\n",
            "6    143.73\n",
            "5    145.83\n",
            "4    143.68\n",
            "3    144.02\n",
            "dtype: float64\n"
          ]
        }
      ]
    },
    {
      "cell_type": "code",
      "metadata": {
        "colab": {
          "base_uri": "https://localhost:8080/"
        },
        "id": "50QGvxyQuoSt",
        "outputId": "26893731-d727-46b5-e69c-35f1d2b0a5e9"
      },
      "source": [
        "# Xamir\n",
        "print(xamir_serie[:])\n",
        "print(xamir_serie[2:3])\n",
        "print(xamir_serie[:3])\n",
        "print(xamir_serie[0:])"
      ],
      "execution_count": 140,
      "outputs": [
        {
          "output_type": "stream",
          "name": "stdout",
          "text": [
            "1     33.3\n",
            "2     77.7\n",
            "3    224.0\n",
            "4    100.0\n",
            "5     10.0\n",
            "dtype: float64\n",
            "3    224.0\n",
            "dtype: float64\n",
            "1     33.3\n",
            "2     77.7\n",
            "3    224.0\n",
            "dtype: float64\n",
            "1     33.3\n",
            "2     77.7\n",
            "3    224.0\n",
            "4    100.0\n",
            "5     10.0\n",
            "dtype: float64\n"
          ]
        }
      ]
    },
    {
      "cell_type": "code",
      "metadata": {
        "id": "1DgWowEO5mhu",
        "colab": {
          "base_uri": "https://localhost:8080/"
        },
        "outputId": "2ca70ae9-41bb-4182-c5d2-d1f0be241d17"
      },
      "source": [
        "print(s[4])\n",
        "s[4] = 0\n",
        "print(s)"
      ],
      "execution_count": 141,
      "outputs": [
        {
          "output_type": "stream",
          "name": "stdout",
          "text": [
            "143.68\n",
            "6    143.73\n",
            "5    145.83\n",
            "4      0.00\n",
            "3    144.02\n",
            "2    143.50\n",
            "1    142.62\n",
            "dtype: float64\n"
          ]
        }
      ]
    },
    {
      "cell_type": "code",
      "metadata": {
        "colab": {
          "base_uri": "https://localhost:8080/"
        },
        "id": "SWO9uKlNuo6D",
        "outputId": "e9def4ef-3ee7-434a-8f36-94f0b830c40c"
      },
      "source": [
        "# Xamir\n",
        "xamir_serie[1] = 777\n",
        "xamir_serie"
      ],
      "execution_count": 142,
      "outputs": [
        {
          "output_type": "execute_result",
          "data": {
            "text/plain": [
              "1    777.0\n",
              "2     77.7\n",
              "3    224.0\n",
              "4    100.0\n",
              "5     10.0\n",
              "dtype: float64"
            ]
          },
          "metadata": {},
          "execution_count": 142
        }
      ]
    },
    {
      "cell_type": "code",
      "metadata": {
        "id": "qbVQSvBq5mhw",
        "colab": {
          "base_uri": "https://localhost:8080/"
        },
        "outputId": "49180d8b-848b-43ab-8cd0-7f5e1106503f"
      },
      "source": [
        "s = pd.Series(price, name = 'Apple Price List')\n",
        "print(s)\n",
        "print(s.name)"
      ],
      "execution_count": 143,
      "outputs": [
        {
          "output_type": "stream",
          "name": "stdout",
          "text": [
            "0    143.73\n",
            "1    145.83\n",
            "2    143.68\n",
            "3    144.02\n",
            "4    143.50\n",
            "5    142.62\n",
            "Name: Apple Price List, dtype: float64\n",
            "Apple Price List\n"
          ]
        }
      ]
    },
    {
      "cell_type": "code",
      "metadata": {
        "colab": {
          "base_uri": "https://localhost:8080/"
        },
        "id": "_nsZ2D5Duphd",
        "outputId": "c887758b-e36e-4281-9251-6f20b9e9abf1"
      },
      "source": [
        "# Xamir\n",
        "xamir_serie = pd.Series([33.3,77.7,224,100,10],index = [\"val 1\",\"val 2\",\"val 3\",\"val 4\",\"val 5\"], name=\"Xamir's Serie\")\n",
        "xamir_serie"
      ],
      "execution_count": 144,
      "outputs": [
        {
          "output_type": "execute_result",
          "data": {
            "text/plain": [
              "val 1     33.3\n",
              "val 2     77.7\n",
              "val 3    224.0\n",
              "val 4    100.0\n",
              "val 5     10.0\n",
              "Name: Xamir's Serie, dtype: float64"
            ]
          },
          "metadata": {},
          "execution_count": 144
        }
      ]
    },
    {
      "cell_type": "markdown",
      "metadata": {
        "id": "K6xEVLWpG-p_"
      },
      "source": [
        "## Time Index"
      ]
    },
    {
      "cell_type": "code",
      "metadata": {
        "id": "vGjxhMLD5mhw",
        "colab": {
          "base_uri": "https://localhost:8080/"
        },
        "outputId": "fd7ff8cc-1e4c-48c8-c811-a5de1d7e9e7d"
      },
      "source": [
        "time_index = pd.date_range('2017-01-01',periods = len(s),freq = 'D')\n",
        "print(time_index)\n",
        "s.index = time_index\n",
        "print(s)"
      ],
      "execution_count": 145,
      "outputs": [
        {
          "output_type": "stream",
          "name": "stdout",
          "text": [
            "DatetimeIndex(['2017-01-01', '2017-01-02', '2017-01-03', '2017-01-04',\n",
            "               '2017-01-05', '2017-01-06'],\n",
            "              dtype='datetime64[ns]', freq='D')\n",
            "2017-01-01    143.73\n",
            "2017-01-02    145.83\n",
            "2017-01-03    143.68\n",
            "2017-01-04    144.02\n",
            "2017-01-05    143.50\n",
            "2017-01-06    142.62\n",
            "Freq: D, Name: Apple Price List, dtype: float64\n"
          ]
        }
      ]
    },
    {
      "cell_type": "code",
      "metadata": {
        "colab": {
          "base_uri": "https://localhost:8080/"
        },
        "id": "ClHkdSY_uqJC",
        "outputId": "7de57f99-91fe-4881-a39f-46608f5264c1"
      },
      "source": [
        "# Xamir\n",
        "xamir_time_index = pd.date_range('2021-10-16',periods = len(xamir_serie),freq = 'D')\n",
        "print(xamir_time_index)\n",
        "xamir_serie.index = xamir_time_index\n",
        "print(xamir_serie)"
      ],
      "execution_count": 146,
      "outputs": [
        {
          "output_type": "stream",
          "name": "stdout",
          "text": [
            "DatetimeIndex(['2021-10-16', '2021-10-17', '2021-10-18', '2021-10-19',\n",
            "               '2021-10-20'],\n",
            "              dtype='datetime64[ns]', freq='D')\n",
            "2021-10-16     33.3\n",
            "2021-10-17     77.7\n",
            "2021-10-18    224.0\n",
            "2021-10-19    100.0\n",
            "2021-10-20     10.0\n",
            "Freq: D, Name: Xamir's Serie, dtype: float64\n"
          ]
        }
      ]
    },
    {
      "cell_type": "markdown",
      "metadata": {
        "id": "xbAjsfImJgNd"
      },
      "source": [
        "## Accessing, iloc and loc \n",
        "Series are usually accessed using the iloc[] and loc[] methods. iloc[] is used to access elements by integer index, and loc[] is used to access the index of the series.\n",
        "\n",
        "iloc[] is necessary when the index of a series are integers, take our previous defined series as example:\n",
        "\n"
      ]
    },
    {
      "cell_type": "code",
      "metadata": {
        "id": "uCZSdtvh5mhx",
        "colab": {
          "base_uri": "https://localhost:8080/"
        },
        "outputId": "9a52e78c-efcd-492f-9a21-079f10b46250"
      },
      "source": [
        "s.index = [6,5,4,3,2,1]\n",
        "print(s)\n",
        "print(s[1])"
      ],
      "execution_count": 147,
      "outputs": [
        {
          "output_type": "stream",
          "name": "stdout",
          "text": [
            "6    143.73\n",
            "5    145.83\n",
            "4    143.68\n",
            "3    144.02\n",
            "2    143.50\n",
            "1    142.62\n",
            "Name: Apple Price List, dtype: float64\n",
            "142.62\n"
          ]
        }
      ]
    },
    {
      "cell_type": "code",
      "metadata": {
        "colab": {
          "base_uri": "https://localhost:8080/"
        },
        "id": "Ri7y3XU-uqvN",
        "outputId": "d59af0d2-a81f-499c-d445-2427b2d5812b"
      },
      "source": [
        "# Xamir\n",
        "xamir_serie.index = [7,3,5,2,1]\n",
        "print(xamir_serie)\n",
        "xamir_serie[1] #using key"
      ],
      "execution_count": 148,
      "outputs": [
        {
          "output_type": "stream",
          "name": "stdout",
          "text": [
            "7     33.3\n",
            "3     77.7\n",
            "5    224.0\n",
            "2    100.0\n",
            "1     10.0\n",
            "Name: Xamir's Serie, dtype: float64\n"
          ]
        },
        {
          "output_type": "execute_result",
          "data": {
            "text/plain": [
              "10.0"
            ]
          },
          "metadata": {},
          "execution_count": 148
        }
      ]
    },
    {
      "cell_type": "code",
      "metadata": {
        "id": "1fIzUKSA5mhy",
        "colab": {
          "base_uri": "https://localhost:8080/"
        },
        "outputId": "0f3742e3-d884-4b74-9a59-dd769668f4a6"
      },
      "source": [
        "print(s.iloc[1])"
      ],
      "execution_count": 149,
      "outputs": [
        {
          "output_type": "stream",
          "name": "stdout",
          "text": [
            "145.83\n"
          ]
        }
      ]
    },
    {
      "cell_type": "code",
      "metadata": {
        "colab": {
          "base_uri": "https://localhost:8080/"
        },
        "id": "kVoReNaDurXj",
        "outputId": "513cdd60-e5de-4c25-acb9-6535d6d4e33a"
      },
      "source": [
        "# Xamir\n",
        "print(xamir_serie.iloc[1]) # accessing the position"
      ],
      "execution_count": 150,
      "outputs": [
        {
          "output_type": "stream",
          "name": "stdout",
          "text": [
            "77.7\n"
          ]
        }
      ]
    },
    {
      "cell_type": "code",
      "metadata": {
        "id": "xSd2qce65mhy",
        "colab": {
          "base_uri": "https://localhost:8080/"
        },
        "outputId": "6a17766b-39b0-4320-f413-004c70af627a"
      },
      "source": [
        "s.index = time_index\n",
        "print(s['2017-01-03'])"
      ],
      "execution_count": 151,
      "outputs": [
        {
          "output_type": "stream",
          "name": "stdout",
          "text": [
            "143.68\n"
          ]
        }
      ]
    },
    {
      "cell_type": "code",
      "metadata": {
        "colab": {
          "base_uri": "https://localhost:8080/"
        },
        "id": "nqyxz1y8ur5X",
        "outputId": "338b8b69-ef60-4ed1-d9c5-23dcddf44592"
      },
      "source": [
        "# Xamir\n",
        "xamir_serie.index = xamir_time_index\n",
        "xamir_serie['2021-10-16']"
      ],
      "execution_count": 152,
      "outputs": [
        {
          "output_type": "execute_result",
          "data": {
            "text/plain": [
              "33.3"
            ]
          },
          "metadata": {},
          "execution_count": 152
        }
      ]
    },
    {
      "cell_type": "code",
      "metadata": {
        "id": "lPva0jLA5mhz",
        "colab": {
          "base_uri": "https://localhost:8080/"
        },
        "outputId": "85a45564-7091-4899-92fe-80182efb5190"
      },
      "source": [
        "print(s['2017-01-02':'2017-01-05'])"
      ],
      "execution_count": 153,
      "outputs": [
        {
          "output_type": "stream",
          "name": "stdout",
          "text": [
            "2017-01-02    145.83\n",
            "2017-01-03    143.68\n",
            "2017-01-04    144.02\n",
            "2017-01-05    143.50\n",
            "Freq: D, Name: Apple Price List, dtype: float64\n"
          ]
        }
      ]
    },
    {
      "cell_type": "code",
      "metadata": {
        "colab": {
          "base_uri": "https://localhost:8080/"
        },
        "id": "JwclzKmIutSN",
        "outputId": "f93b3ce9-7ad0-40b4-c363-16b4fd54e62d"
      },
      "source": [
        "# Xamir\n",
        "print(xamir_serie['2021-10-16':'2021-10-18'])"
      ],
      "execution_count": 154,
      "outputs": [
        {
          "output_type": "stream",
          "name": "stdout",
          "text": [
            "2021-10-16     33.3\n",
            "2021-10-17     77.7\n",
            "2021-10-18    224.0\n",
            "Freq: D, Name: Xamir's Serie, dtype: float64\n"
          ]
        }
      ]
    },
    {
      "cell_type": "markdown",
      "metadata": {
        "id": "xFOAi_bALq0B"
      },
      "source": [
        "## Index data with conditions int the square brackets\n",
        "Series[] provides us a very flexible way to index data. We can add any condition in the square brackets:\n",
        "As demonstrated, we can use logical operators like & (and), | (or) and ~ (not) to group multiple conditions."
      ]
    },
    {
      "cell_type": "code",
      "metadata": {
        "id": "tIEtRJHI5mhz",
        "colab": {
          "base_uri": "https://localhost:8080/"
        },
        "outputId": "0c73d7d0-0cca-4bf2-df8f-3f474e572f51"
      },
      "source": [
        "\n",
        "print(s[s < np.mean(s)] )\n",
        "print([(s > np.mean(s)) & (s < np.mean(s) + 1.64*np.std(s))])"
      ],
      "execution_count": 155,
      "outputs": [
        {
          "output_type": "stream",
          "name": "stdout",
          "text": [
            "2017-01-01    143.73\n",
            "2017-01-03    143.68\n",
            "2017-01-05    143.50\n",
            "2017-01-06    142.62\n",
            "Name: Apple Price List, dtype: float64\n",
            "[2017-01-01    False\n",
            "2017-01-02    False\n",
            "2017-01-03    False\n",
            "2017-01-04     True\n",
            "2017-01-05    False\n",
            "2017-01-06    False\n",
            "Freq: D, Name: Apple Price List, dtype: bool]\n"
          ]
        }
      ]
    },
    {
      "cell_type": "code",
      "metadata": {
        "colab": {
          "base_uri": "https://localhost:8080/"
        },
        "id": "JAfSWnaNut2u",
        "outputId": "dd7a64e2-5720-46f5-c63b-e0e99421706b"
      },
      "source": [
        "# Xamir\n",
        "print(\"Xamir's Serie\")\n",
        "print(xamir_serie)\n",
        "print(\"Mean of the serie : \" +str(np.mean(xamir_serie)))\n",
        "print(\"Items in xamir's serie < mean of the serie\")\n",
        "print(xamir_serie[xamir_serie < np.mean(xamir_serie)] )"
      ],
      "execution_count": 156,
      "outputs": [
        {
          "output_type": "stream",
          "name": "stdout",
          "text": [
            "Xamir's Serie\n",
            "2021-10-16     33.3\n",
            "2021-10-17     77.7\n",
            "2021-10-18    224.0\n",
            "2021-10-19    100.0\n",
            "2021-10-20     10.0\n",
            "Freq: D, Name: Xamir's Serie, dtype: float64\n",
            "Mean of the serie : 89.0\n",
            "Items in xamir's serie < mean of the serie\n",
            "2021-10-16    33.3\n",
            "2021-10-17    77.7\n",
            "2021-10-20    10.0\n",
            "Name: Xamir's Serie, dtype: float64\n"
          ]
        }
      ]
    },
    {
      "cell_type": "code",
      "metadata": {
        "colab": {
          "base_uri": "https://localhost:8080/"
        },
        "id": "Dh70s19mghYh",
        "outputId": "027cce4e-6f0a-47fa-8dac-aeffafdba9fb"
      },
      "source": [
        "# Xamir \n",
        "\n",
        "print(\"Items in serie > mean of the serie\")\n",
        "print(xamir_serie[xamir_serie > np.mean(xamir_serie)])\n",
        "print(\"Items in serie < ( mean of the serie + standard deviation of the serie)\")\n",
        "print(xamir_serie[xamir_serie < np.mean(xamir_serie) + 1.64*np.std(xamir_serie)])\n",
        "print(\"Items in serie > mean of the serie AND Items in serie < ( mean of the serie + standard deviation of the serie)\")\n",
        "print(xamir_serie[(xamir_serie > np.mean(xamir_serie)) & (xamir_serie < np.mean(xamir_serie) + 1.64*np.std(xamir_serie))])\n"
      ],
      "execution_count": 157,
      "outputs": [
        {
          "output_type": "stream",
          "name": "stdout",
          "text": [
            "Items in serie > mean of the serie\n",
            "2021-10-18    224.0\n",
            "2021-10-19    100.0\n",
            "Freq: D, Name: Xamir's Serie, dtype: float64\n",
            "Items in serie < ( mean of the serie + standard deviation of the serie)\n",
            "2021-10-16     33.3\n",
            "2021-10-17     77.7\n",
            "2021-10-19    100.0\n",
            "2021-10-20     10.0\n",
            "Name: Xamir's Serie, dtype: float64\n",
            "Items in serie > mean of the serie AND Items in serie < ( mean of the serie + standard deviation of the serie)\n",
            "2021-10-19    100.0\n",
            "Freq: D, Name: Xamir's Serie, dtype: float64\n"
          ]
        }
      ]
    },
    {
      "cell_type": "markdown",
      "metadata": {
        "id": "2v4iKWKBuNKh"
      },
      "source": [
        ""
      ]
    },
    {
      "cell_type": "markdown",
      "metadata": {
        "id": "4dctY4LiPVw-"
      },
      "source": [
        "# 05 Python:"
      ]
    },
    {
      "cell_type": "code",
      "metadata": {
        "colab": {
          "base_uri": "https://localhost:8080/"
        },
        "id": "IfHWpP9nPbUH",
        "outputId": "8fdfc0b6-ef22-448a-c78f-9683a4c9baf6"
      },
      "source": [
        "!pip install yfinance"
      ],
      "execution_count": 158,
      "outputs": [
        {
          "output_type": "stream",
          "name": "stdout",
          "text": [
            "Requirement already satisfied: yfinance in /usr/local/lib/python3.7/dist-packages (0.1.63)\n",
            "Requirement already satisfied: numpy>=1.15 in /usr/local/lib/python3.7/dist-packages (from yfinance) (1.19.5)\n",
            "Requirement already satisfied: pandas>=0.24 in /usr/local/lib/python3.7/dist-packages (from yfinance) (1.1.5)\n",
            "Requirement already satisfied: requests>=2.20 in /usr/local/lib/python3.7/dist-packages (from yfinance) (2.23.0)\n",
            "Requirement already satisfied: multitasking>=0.0.7 in /usr/local/lib/python3.7/dist-packages (from yfinance) (0.0.9)\n",
            "Requirement already satisfied: lxml>=4.5.1 in /usr/local/lib/python3.7/dist-packages (from yfinance) (4.6.3)\n",
            "Requirement already satisfied: python-dateutil>=2.7.3 in /usr/local/lib/python3.7/dist-packages (from pandas>=0.24->yfinance) (2.8.2)\n",
            "Requirement already satisfied: pytz>=2017.2 in /usr/local/lib/python3.7/dist-packages (from pandas>=0.24->yfinance) (2018.9)\n",
            "Requirement already satisfied: six>=1.5 in /usr/local/lib/python3.7/dist-packages (from python-dateutil>=2.7.3->pandas>=0.24->yfinance) (1.15.0)\n",
            "Requirement already satisfied: certifi>=2017.4.17 in /usr/local/lib/python3.7/dist-packages (from requests>=2.20->yfinance) (2021.5.30)\n",
            "Requirement already satisfied: urllib3!=1.25.0,!=1.25.1,<1.26,>=1.21.1 in /usr/local/lib/python3.7/dist-packages (from requests>=2.20->yfinance) (1.24.3)\n",
            "Requirement already satisfied: chardet<4,>=3.0.2 in /usr/local/lib/python3.7/dist-packages (from requests>=2.20->yfinance) (3.0.4)\n",
            "Requirement already satisfied: idna<3,>=2.5 in /usr/local/lib/python3.7/dist-packages (from requests>=2.20->yfinance) (2.10)\n"
          ]
        }
      ]
    },
    {
      "cell_type": "code",
      "metadata": {
        "id": "pgtwhsHKP4z6"
      },
      "source": [
        ""
      ],
      "execution_count": 158,
      "outputs": []
    },
    {
      "cell_type": "markdown",
      "metadata": {
        "id": "OtjOpw6oJp6z"
      },
      "source": [
        "<div align=\"center\">\n",
        "<img style=\"display: block; margin: auto;\" alt=\"photo\" src=\"https://cdn.quantconnect.com/web/i/icon.png\"> <img style=\"display: block; margin: auto;\" alt=\"photo\" src=\"https://www.marketing-branding.com/wp-content/uploads/2020/07/google-colaboratory-colab-guia-completa.jpg \" width=\"50\" height=\"50\">\n",
        "<img style=\"display: block; margin: auto;\" alt=\"photo\" src=\"https://upload.wikimedia.org/wikipedia/commons/d/da/Yahoo_Finance_Logo_2019.svg\" width=\"50\" height=\"50\">  \n",
        "\n",
        "Quantconnect -> Google Colab with Yahoo Finance data\n",
        "\n",
        "Introduction to Financial Python\n",
        "</div>\n",
        "\n",
        "# 05 Pandas-Resampling and DataFrame\n",
        "\n",
        "# Introduction\n",
        "In the last chapter we had a glimpse of Pandas. In this chapter we will learn about resampling methods and the DataFrame object, which is a powerful tool for financial data analysis.\n",
        "\n",
        "# Fetching Data\n",
        "Here we use the Yahoo Finance to retrieve data.\n"
      ]
    },
    {
      "cell_type": "code",
      "metadata": {
        "colab": {
          "base_uri": "https://localhost:8080/"
        },
        "id": "luU8mZTsHW9x",
        "outputId": "48f0369b-9bcd-476b-859f-e97897a2e1da"
      },
      "source": [
        "!pip install yfinance"
      ],
      "execution_count": 159,
      "outputs": [
        {
          "output_type": "stream",
          "name": "stdout",
          "text": [
            "Requirement already satisfied: yfinance in /usr/local/lib/python3.7/dist-packages (0.1.63)\n",
            "Requirement already satisfied: pandas>=0.24 in /usr/local/lib/python3.7/dist-packages (from yfinance) (1.1.5)\n",
            "Requirement already satisfied: lxml>=4.5.1 in /usr/local/lib/python3.7/dist-packages (from yfinance) (4.6.3)\n",
            "Requirement already satisfied: numpy>=1.15 in /usr/local/lib/python3.7/dist-packages (from yfinance) (1.19.5)\n",
            "Requirement already satisfied: requests>=2.20 in /usr/local/lib/python3.7/dist-packages (from yfinance) (2.23.0)\n",
            "Requirement already satisfied: multitasking>=0.0.7 in /usr/local/lib/python3.7/dist-packages (from yfinance) (0.0.9)\n",
            "Requirement already satisfied: python-dateutil>=2.7.3 in /usr/local/lib/python3.7/dist-packages (from pandas>=0.24->yfinance) (2.8.2)\n",
            "Requirement already satisfied: pytz>=2017.2 in /usr/local/lib/python3.7/dist-packages (from pandas>=0.24->yfinance) (2018.9)\n",
            "Requirement already satisfied: six>=1.5 in /usr/local/lib/python3.7/dist-packages (from python-dateutil>=2.7.3->pandas>=0.24->yfinance) (1.15.0)\n",
            "Requirement already satisfied: chardet<4,>=3.0.2 in /usr/local/lib/python3.7/dist-packages (from requests>=2.20->yfinance) (3.0.4)\n",
            "Requirement already satisfied: certifi>=2017.4.17 in /usr/local/lib/python3.7/dist-packages (from requests>=2.20->yfinance) (2021.5.30)\n",
            "Requirement already satisfied: urllib3!=1.25.0,!=1.25.1,<1.26,>=1.21.1 in /usr/local/lib/python3.7/dist-packages (from requests>=2.20->yfinance) (1.24.3)\n",
            "Requirement already satisfied: idna<3,>=2.5 in /usr/local/lib/python3.7/dist-packages (from requests>=2.20->yfinance) (2.10)\n"
          ]
        }
      ]
    },
    {
      "cell_type": "code",
      "metadata": {
        "colab": {
          "base_uri": "https://localhost:8080/"
        },
        "id": "Tq9jMtW1ZIx0",
        "outputId": "b973f81b-4c1c-49a9-cd55-47d97936ead5"
      },
      "source": [
        "# Xamir\n",
        "!pip install yfinance"
      ],
      "execution_count": 160,
      "outputs": [
        {
          "output_type": "stream",
          "name": "stdout",
          "text": [
            "Requirement already satisfied: yfinance in /usr/local/lib/python3.7/dist-packages (0.1.63)\n",
            "Requirement already satisfied: numpy>=1.15 in /usr/local/lib/python3.7/dist-packages (from yfinance) (1.19.5)\n",
            "Requirement already satisfied: multitasking>=0.0.7 in /usr/local/lib/python3.7/dist-packages (from yfinance) (0.0.9)\n",
            "Requirement already satisfied: requests>=2.20 in /usr/local/lib/python3.7/dist-packages (from yfinance) (2.23.0)\n",
            "Requirement already satisfied: pandas>=0.24 in /usr/local/lib/python3.7/dist-packages (from yfinance) (1.1.5)\n",
            "Requirement already satisfied: lxml>=4.5.1 in /usr/local/lib/python3.7/dist-packages (from yfinance) (4.6.3)\n",
            "Requirement already satisfied: pytz>=2017.2 in /usr/local/lib/python3.7/dist-packages (from pandas>=0.24->yfinance) (2018.9)\n",
            "Requirement already satisfied: python-dateutil>=2.7.3 in /usr/local/lib/python3.7/dist-packages (from pandas>=0.24->yfinance) (2.8.2)\n",
            "Requirement already satisfied: six>=1.5 in /usr/local/lib/python3.7/dist-packages (from python-dateutil>=2.7.3->pandas>=0.24->yfinance) (1.15.0)\n",
            "Requirement already satisfied: chardet<4,>=3.0.2 in /usr/local/lib/python3.7/dist-packages (from requests>=2.20->yfinance) (3.0.4)\n",
            "Requirement already satisfied: idna<3,>=2.5 in /usr/local/lib/python3.7/dist-packages (from requests>=2.20->yfinance) (2.10)\n",
            "Requirement already satisfied: certifi>=2017.4.17 in /usr/local/lib/python3.7/dist-packages (from requests>=2.20->yfinance) (2021.5.30)\n",
            "Requirement already satisfied: urllib3!=1.25.0,!=1.25.1,<1.26,>=1.21.1 in /usr/local/lib/python3.7/dist-packages (from requests>=2.20->yfinance) (1.24.3)\n"
          ]
        }
      ]
    },
    {
      "cell_type": "code",
      "metadata": {
        "colab": {
          "base_uri": "https://localhost:8080/",
          "height": 487
        },
        "id": "mWZ-nirTZHrE",
        "outputId": "4aa2309f-be48-454f-af10-b3ee70c195a9"
      },
      "source": [
        "import yfinance as yf\n",
        "\n",
        "aapl = yf.Ticker(\"AAPL\")\n",
        "\n",
        "# get stock info\n",
        "print(aapl.info)\n",
        "\n",
        "# get historical market data\n",
        "\n",
        "aapl_table = aapl.history(start=\"2016-01-01\",  end=\"2017-12-31\")\n",
        "aapl_table"
      ],
      "execution_count": 161,
      "outputs": [
        {
          "output_type": "stream",
          "name": "stdout",
          "text": [
            "{'zip': '95014', 'sector': 'Technology', 'fullTimeEmployees': 147000, 'longBusinessSummary': 'Apple Inc. designs, manufactures, and markets smartphones, personal computers, tablets, wearables, and accessories worldwide. It also sells various related services. The company offers iPhone, a line of smartphones; Mac, a line of personal computers; iPad, a line of multi-purpose tablets; and wearables, home, and accessories comprising AirPods, Apple TV, Apple Watch, Beats products, HomePod, iPod touch, and other Apple-branded and third-party accessories. It also provides AppleCare support services; cloud services store services; and operates various platforms, including the App Store, that allow customers to discover and download applications and digital content, such as books, music, video, games, and podcasts. In addition, the company offers various services, such as Apple Arcade, a game subscription service; Apple Music, which offers users a curated listening experience with on-demand radio stations; Apple News+, a subscription news and magazine service; Apple TV+, which offers exclusive original content; Apple Card, a co-branded credit card; and Apple Pay, a cashless payment service, as well as licenses its intellectual property. The company serves consumers, and small and mid-sized businesses; and the education, enterprise, and government markets. It sells and delivers third-party applications for its products through the App Store. The company also sells its products through its retail and online stores, and direct sales force; and third-party cellular network carriers, wholesalers, retailers, and resellers. Apple Inc. was founded in 1977 and is headquartered in Cupertino, California.', 'city': 'Cupertino', 'phone': '408-996-1010', 'state': 'CA', 'country': 'United States', 'companyOfficers': [], 'website': 'http://www.apple.com', 'maxAge': 1, 'address1': 'One Apple Park Way', 'industry': 'Consumer Electronics', 'ebitdaMargins': 0.31955, 'profitMargins': 0.25004, 'grossMargins': 0.41005, 'operatingCashflow': 104414003200, 'revenueGrowth': 0.364, 'operatingMargins': 0.28788, 'ebitda': 110934999040, 'targetLowPrice': 132, 'recommendationKey': 'buy', 'grossProfits': 104956000000, 'freeCashflow': 80625876992, 'targetMedianPrice': 170, 'currentPrice': 148.76, 'earningsGrowth': 1, 'currentRatio': 1.062, 'returnOnAssets': 0.19302, 'numberOfAnalystOpinions': 41, 'targetMeanPrice': 168.23, 'debtToEquity': 210.782, 'returnOnEquity': 1.27125, 'targetHighPrice': 190, 'totalCash': 61696000000, 'totalDebt': 135491002368, 'totalRevenue': 347155005440, 'totalCashPerShare': 3.732, 'financialCurrency': 'USD', 'revenuePerShare': 20.61, 'quickRatio': 0.887, 'recommendationMean': 1.9, 'exchange': 'NMS', 'shortName': 'Apple Inc.', 'longName': 'Apple Inc.', 'exchangeTimezoneName': 'America/New_York', 'exchangeTimezoneShortName': 'EDT', 'isEsgPopulated': False, 'gmtOffSetMilliseconds': '-14400000', 'quoteType': 'EQUITY', 'symbol': 'AAPL', 'messageBoardId': 'finmb_24937', 'market': 'us_market', 'annualHoldingsTurnover': None, 'enterpriseToRevenue': 7.191, 'beta3Year': None, 'enterpriseToEbitda': 22.502, '52WeekChange': 0.27286732, 'morningStarRiskRating': None, 'forwardEps': 5.67, 'revenueQuarterlyGrowth': None, 'sharesOutstanding': 16530199552, 'fundInceptionDate': None, 'annualReportExpenseRatio': None, 'totalAssets': None, 'bookValue': 3.882, 'sharesShort': 101107412, 'sharesPercentSharesOut': 0.0061000003, 'fundFamily': None, 'lastFiscalYearEnd': 1601078400, 'heldPercentInstitutions': 0.58672, 'netIncomeToCommon': 86801997824, 'trailingEps': 5.108, 'lastDividendValue': 0.22, 'SandP52WeekChange': 0.3155439, 'priceToBook': 38.320454, 'heldPercentInsiders': 0.00072999997, 'nextFiscalYearEnd': 1664150400, 'yield': None, 'mostRecentQuarter': 1624665600, 'shortRatio': 1.18, 'sharesShortPreviousMonthDate': 1630368000, 'floatShares': 16512974627, 'beta': 1.222222, 'enterpriseValue': 2496290881536, 'priceHint': 2, 'threeYearAverageReturn': None, 'lastSplitDate': 1598832000, 'lastSplitFactor': '4:1', 'legalType': None, 'lastDividendDate': 1628208000, 'morningStarOverallRating': None, 'earningsQuarterlyGrowth': 0.932, 'priceToSalesTrailing12Months': 7.0833845, 'dateShortInterest': 1632960000, 'pegRatio': 1.38, 'ytdReturn': None, 'forwardPE': 26.23633, 'lastCapGain': None, 'shortPercentOfFloat': 0.0061000003, 'sharesShortPriorMonth': 96838699, 'impliedSharesOutstanding': None, 'category': None, 'fiveYearAverageReturn': None, 'previousClose': 146.55, 'regularMarketOpen': 147.01, 'twoHundredDayAverage': 139.00964, 'trailingAnnualDividendYield': 0.0056977137, 'payoutRatio': 0.16309999, 'volume24Hr': None, 'regularMarketDayHigh': 149.17, 'navPrice': None, 'averageDailyVolume10Day': 73697228, 'regularMarketPreviousClose': 146.55, 'fiftyDayAverage': 146.47115, 'trailingAnnualDividendRate': 0.835, 'open': 147.01, 'toCurrency': None, 'averageVolume10days': 73697228, 'expireDate': None, 'algorithm': None, 'dividendRate': 0.88, 'exDividendDate': 1628208000, 'circulatingSupply': None, 'startDate': None, 'regularMarketDayLow': 146.55, 'currency': 'USD', 'trailingPE': 29.122944, 'regularMarketVolume': 76378894, 'lastMarket': None, 'maxSupply': None, 'openInterest': None, 'marketCap': 2459032354816, 'volumeAllCurrencies': None, 'strikePrice': None, 'averageVolume': 76845849, 'dayLow': 146.55, 'ask': 148.65, 'askSize': 1100, 'volume': 76378894, 'fiftyTwoWeekHigh': 157.26, 'fromCurrency': None, 'fiveYearAvgDividendYield': 1.24, 'fiftyTwoWeekLow': 107.32, 'bid': 148.62, 'tradeable': False, 'dividendYield': 0.006, 'bidSize': 1000, 'dayHigh': 149.17, 'regularMarketPrice': 148.76, 'logo_url': 'https://logo.clearbit.com/apple.com'}\n"
          ]
        },
        {
          "output_type": "execute_result",
          "data": {
            "text/html": [
              "<div>\n",
              "<style scoped>\n",
              "    .dataframe tbody tr th:only-of-type {\n",
              "        vertical-align: middle;\n",
              "    }\n",
              "\n",
              "    .dataframe tbody tr th {\n",
              "        vertical-align: top;\n",
              "    }\n",
              "\n",
              "    .dataframe thead th {\n",
              "        text-align: right;\n",
              "    }\n",
              "</style>\n",
              "<table border=\"1\" class=\"dataframe\">\n",
              "  <thead>\n",
              "    <tr style=\"text-align: right;\">\n",
              "      <th></th>\n",
              "      <th>Open</th>\n",
              "      <th>High</th>\n",
              "      <th>Low</th>\n",
              "      <th>Close</th>\n",
              "      <th>Volume</th>\n",
              "      <th>Dividends</th>\n",
              "      <th>Stock Splits</th>\n",
              "    </tr>\n",
              "    <tr>\n",
              "      <th>Date</th>\n",
              "      <th></th>\n",
              "      <th></th>\n",
              "      <th></th>\n",
              "      <th></th>\n",
              "      <th></th>\n",
              "      <th></th>\n",
              "      <th></th>\n",
              "    </tr>\n",
              "  </thead>\n",
              "  <tbody>\n",
              "    <tr>\n",
              "      <th>2016-01-04</th>\n",
              "      <td>23.655163</td>\n",
              "      <td>24.291439</td>\n",
              "      <td>23.514536</td>\n",
              "      <td>24.286827</td>\n",
              "      <td>270597600</td>\n",
              "      <td>0.0</td>\n",
              "      <td>0</td>\n",
              "    </tr>\n",
              "    <tr>\n",
              "      <th>2016-01-05</th>\n",
              "      <td>24.379043</td>\n",
              "      <td>24.402096</td>\n",
              "      <td>23.609058</td>\n",
              "      <td>23.678217</td>\n",
              "      <td>223164000</td>\n",
              "      <td>0.0</td>\n",
              "      <td>0</td>\n",
              "    </tr>\n",
              "    <tr>\n",
              "      <th>2016-01-06</th>\n",
              "      <td>23.182565</td>\n",
              "      <td>23.599834</td>\n",
              "      <td>23.023498</td>\n",
              "      <td>23.214840</td>\n",
              "      <td>273829600</td>\n",
              "      <td>0.0</td>\n",
              "      <td>0</td>\n",
              "    </tr>\n",
              "    <tr>\n",
              "      <th>2016-01-07</th>\n",
              "      <td>22.749164</td>\n",
              "      <td>23.083439</td>\n",
              "      <td>22.230461</td>\n",
              "      <td>22.235071</td>\n",
              "      <td>324377600</td>\n",
              "      <td>0.0</td>\n",
              "      <td>0</td>\n",
              "    </tr>\n",
              "    <tr>\n",
              "      <th>2016-01-08</th>\n",
              "      <td>22.719193</td>\n",
              "      <td>22.848292</td>\n",
              "      <td>22.306536</td>\n",
              "      <td>22.352642</td>\n",
              "      <td>283192000</td>\n",
              "      <td>0.0</td>\n",
              "      <td>0</td>\n",
              "    </tr>\n",
              "    <tr>\n",
              "      <th>...</th>\n",
              "      <td>...</td>\n",
              "      <td>...</td>\n",
              "      <td>...</td>\n",
              "      <td>...</td>\n",
              "      <td>...</td>\n",
              "      <td>...</td>\n",
              "      <td>...</td>\n",
              "    </tr>\n",
              "    <tr>\n",
              "      <th>2017-12-22</th>\n",
              "      <td>41.827756</td>\n",
              "      <td>42.004953</td>\n",
              "      <td>41.784656</td>\n",
              "      <td>41.906776</td>\n",
              "      <td>65397600</td>\n",
              "      <td>0.0</td>\n",
              "      <td>0</td>\n",
              "    </tr>\n",
              "    <tr>\n",
              "      <th>2017-12-26</th>\n",
              "      <td>40.898671</td>\n",
              "      <td>41.059104</td>\n",
              "      <td>40.630480</td>\n",
              "      <td>40.843597</td>\n",
              "      <td>132742000</td>\n",
              "      <td>0.0</td>\n",
              "      <td>0</td>\n",
              "    </tr>\n",
              "    <tr>\n",
              "      <th>2017-12-27</th>\n",
              "      <td>40.731058</td>\n",
              "      <td>40.893884</td>\n",
              "      <td>40.637671</td>\n",
              "      <td>40.850784</td>\n",
              "      <td>85992800</td>\n",
              "      <td>0.0</td>\n",
              "      <td>0</td>\n",
              "    </tr>\n",
              "    <tr>\n",
              "      <th>2017-12-28</th>\n",
              "      <td>40.946568</td>\n",
              "      <td>41.150105</td>\n",
              "      <td>40.822051</td>\n",
              "      <td>40.965725</td>\n",
              "      <td>65920800</td>\n",
              "      <td>0.0</td>\n",
              "      <td>0</td>\n",
              "    </tr>\n",
              "    <tr>\n",
              "      <th>2017-12-29</th>\n",
              "      <td>40.831625</td>\n",
              "      <td>40.848385</td>\n",
              "      <td>40.520335</td>\n",
              "      <td>40.522728</td>\n",
              "      <td>103999600</td>\n",
              "      <td>0.0</td>\n",
              "      <td>0</td>\n",
              "    </tr>\n",
              "  </tbody>\n",
              "</table>\n",
              "<p>503 rows × 7 columns</p>\n",
              "</div>"
            ],
            "text/plain": [
              "                 Open       High        Low  ...     Volume  Dividends  Stock Splits\n",
              "Date                                         ...                                    \n",
              "2016-01-04  23.655163  24.291439  23.514536  ...  270597600        0.0             0\n",
              "2016-01-05  24.379043  24.402096  23.609058  ...  223164000        0.0             0\n",
              "2016-01-06  23.182565  23.599834  23.023498  ...  273829600        0.0             0\n",
              "2016-01-07  22.749164  23.083439  22.230461  ...  324377600        0.0             0\n",
              "2016-01-08  22.719193  22.848292  22.306536  ...  283192000        0.0             0\n",
              "...               ...        ...        ...  ...        ...        ...           ...\n",
              "2017-12-22  41.827756  42.004953  41.784656  ...   65397600        0.0             0\n",
              "2017-12-26  40.898671  41.059104  40.630480  ...  132742000        0.0             0\n",
              "2017-12-27  40.731058  40.893884  40.637671  ...   85992800        0.0             0\n",
              "2017-12-28  40.946568  41.150105  40.822051  ...   65920800        0.0             0\n",
              "2017-12-29  40.831625  40.848385  40.520335  ...  103999600        0.0             0\n",
              "\n",
              "[503 rows x 7 columns]"
            ]
          },
          "metadata": {},
          "execution_count": 161
        }
      ]
    },
    {
      "cell_type": "code",
      "metadata": {
        "colab": {
          "base_uri": "https://localhost:8080/",
          "height": 1000
        },
        "id": "Gs-K1KC1ZNnW",
        "outputId": "208e8ca5-214b-4185-8b96-5178cd59c387"
      },
      "source": [
        "# Xamir\n",
        "import yfinance as yf\n",
        "\n",
        "nvda = yf.Ticker(\"NVDA\")\n",
        "\n",
        "# get stock info\n",
        "print(nvda.info)\n",
        "\n",
        "# get historical market data\n",
        "nvda_table = nvda.history(start=\"2020-01-01\",  end=\"2021-01-01\")\n",
        "print('\\033[94m' + \"\\n Result of nvda.history(start,end)\" + '\\033[0m')\n",
        "print(nvda_table)\n",
        "print('\\033[94m' + \"\\n Using a DataFrame we can see that nvda.history returns\" + '\\033[0m')\n",
        "nvda_df= pd.DataFrame(nvda_table)\n",
        "print(nvda_df)\n",
        "nvda_table\n"
      ],
      "execution_count": 162,
      "outputs": [
        {
          "output_type": "stream",
          "name": "stdout",
          "text": [
            "{'zip': '95051', 'sector': 'Technology', 'fullTimeEmployees': 18975, 'longBusinessSummary': \"NVIDIA Corporation operates as a visual computing company worldwide. It operates in two segments, Graphics and Compute & Networking. The Graphics segment offers GeForce GPUs for gaming and PCs, the GeForce NOW game streaming service and related infrastructure, and solutions for gaming platforms; Quadro/NVIDIA RTX GPUs for enterprise design; GRID software for cloud-based visual and virtual computing; and automotive platforms for infotainment systems. The Compute & Networking segment offers Data Center platforms and systems for AI, HPC, and accelerated computing; Mellanox networking and interconnect solutions; automotive AI Cockpit, autonomous driving development agreements, and autonomous vehicle solutions; and Jetson for robotics and other embedded platforms. The company's products are used in gaming, professional visualization, datacenter, and automotive markets. NVIDIA Corporation sells its products to original equipment manufacturers, original device manufacturers, system builders, add-in board manufacturers, retailers/distributors, Internet and cloud service providers, automotive manufacturers and tier-1 automotive suppliers, mapping companies, start-ups, and other ecosystem participants. NVIDIA has partnership with Google Cloud to create AI-on-5G Lab. NVIDIA Corporation was founded in 1993 and is headquartered in Santa Clara, California.\", 'city': 'Santa Clara', 'phone': '408 486 2000', 'state': 'CA', 'country': 'United States', 'companyOfficers': [], 'website': 'http://www.nvidia.com', 'maxAge': 1, 'address1': '2788 San Tomas Expressway', 'industry': 'Semiconductors', 'ebitdaMargins': 0.38759, 'profitMargins': 0.32324, 'grossMargins': 0.63758, 'operatingCashflow': 7902000128, 'revenueGrowth': 0.683, 'operatingMargins': 0.33488998, 'ebitda': 8487000064, 'targetLowPrice': 110, 'recommendationKey': 'buy', 'grossProfits': 10557000000, 'freeCashflow': 4634250240, 'targetMedianPrice': 230, 'currentPrice': 222.9, 'earningsGrowth': 2.76, 'currentRatio': 5.802, 'returnOnAssets': 0.1436, 'numberOfAnalystOpinions': 41, 'targetMeanPrice': 230.45, 'debtToEquity': 60.486, 'returnOnEquity': 0.40375, 'targetHighPrice': 300, 'totalCash': 19654000640, 'totalDebt': 12791000064, 'totalRevenue': 21897000960, 'totalCashPerShare': 7.862, 'financialCurrency': 'USD', 'revenuePerShare': 8.821, 'quickRatio': 5.225, 'recommendationMean': 2, 'exchange': 'NMS', 'shortName': 'NVIDIA Corporation', 'longName': 'NVIDIA Corporation', 'exchangeTimezoneName': 'America/New_York', 'exchangeTimezoneShortName': 'EDT', 'isEsgPopulated': False, 'gmtOffSetMilliseconds': '-14400000', 'quoteType': 'EQUITY', 'symbol': 'NVDA', 'messageBoardId': 'finmb_32307', 'market': 'us_market', 'annualHoldingsTurnover': None, 'enterpriseToRevenue': 25.058, 'beta3Year': None, 'enterpriseToEbitda': 64.65, '52WeekChange': 0.64808965, 'morningStarRiskRating': None, 'forwardEps': 4.68, 'revenueQuarterlyGrowth': None, 'sharesOutstanding': 2492000000, 'fundInceptionDate': None, 'annualReportExpenseRatio': None, 'totalAssets': None, 'bookValue': 8.472, 'sharesShort': 22415848, 'sharesPercentSharesOut': 0.009, 'fundFamily': None, 'lastFiscalYearEnd': 1612051200, 'heldPercentInstitutions': 0.66596, 'netIncomeToCommon': 7078000128, 'trailingEps': 2.792, 'lastDividendValue': 0.04, 'SandP52WeekChange': 0.3155439, 'priceToBook': 26.310198, 'heldPercentInsiders': 0.04078, 'nextFiscalYearEnd': 1675123200, 'yield': None, 'mostRecentQuarter': 1627776000, 'shortRatio': 0.93, 'sharesShortPreviousMonthDate': 1630368000, 'floatShares': 2398375000, 'beta': 1.39365, 'enterpriseValue': 548686987264, 'priceHint': 2, 'threeYearAverageReturn': None, 'lastSplitDate': 1626739200, 'lastSplitFactor': '4:1', 'legalType': None, 'lastDividendDate': 1630368000, 'morningStarOverallRating': None, 'earningsQuarterlyGrowth': 2.817, 'priceToSalesTrailing12Months': 25.367256, 'dateShortInterest': 1632960000, 'pegRatio': 1.66, 'ytdReturn': None, 'forwardPE': 47.628204, 'lastCapGain': None, 'shortPercentOfFloat': 0.0093, 'sharesShortPriorMonth': 24041114, 'impliedSharesOutstanding': None, 'category': None, 'fiveYearAverageReturn': None, 'previousClose': 222.22, 'regularMarketOpen': 222.76, 'twoHundredDayAverage': 186.96722, 'trailingAnnualDividendYield': 0.00072000717, 'payoutRatio': 0.0572, 'volume24Hr': None, 'regularMarketDayHigh': 223.78, 'navPrice': None, 'averageDailyVolume10Day': 18962371, 'regularMarketPreviousClose': 222.22, 'fiftyDayAverage': 216.28828, 'trailingAnnualDividendRate': 0.16, 'open': 222.76, 'toCurrency': None, 'averageVolume10days': 18962371, 'expireDate': None, 'algorithm': None, 'dividendRate': 0.16, 'exDividendDate': 1630368000, 'circulatingSupply': None, 'startDate': None, 'regularMarketDayLow': 220.37, 'currency': 'USD', 'trailingPE': 79.83524, 'regularMarketVolume': 15928158, 'lastMarket': None, 'maxSupply': None, 'openInterest': None, 'marketCap': 555466817536, 'volumeAllCurrencies': None, 'strikePrice': None, 'averageVolume': 25639875, 'dayLow': 220.37, 'ask': 223.09, 'askSize': 900, 'volume': 15928158, 'fiftyTwoWeekHigh': 230.43, 'fromCurrency': None, 'fiveYearAvgDividendYield': 0.28, 'fiftyTwoWeekLow': 115.665, 'bid': 222.81, 'tradeable': False, 'dividendYield': 0.0007, 'bidSize': 1300, 'dayHigh': 223.78, 'regularMarketPrice': 222.9, 'logo_url': 'https://logo.clearbit.com/nvidia.com'}\n",
            "\u001b[94m\n",
            " Result of nvda.history(start,end)\u001b[0m\n",
            "                  Open        High  ...  Dividends  Stock Splits\n",
            "Date                                ...                         \n",
            "2020-01-02   59.544461   59.833767  ...        0.0             0\n",
            "2020-01-03   58.634153   59.315016  ...        0.0             0\n",
            "2020-01-06   57.940813   59.175346  ...        0.0             0\n",
            "2020-01-07   59.407290   60.297653  ...        0.0             0\n",
            "2020-01-08   59.796354   60.364988  ...        0.0             0\n",
            "...                ...         ...  ...        ...           ...\n",
            "2020-12-24  130.274683  131.226468  ...        0.0             0\n",
            "2020-12-28  130.526979  130.526979  ...        0.0             0\n",
            "2020-12-29  129.153030  130.626929  ...        0.0             0\n",
            "2020-12-30  129.805030  132.038354  ...        0.0             0\n",
            "2020-12-31  131.266448  131.411328  ...        0.0             0\n",
            "\n",
            "[253 rows x 7 columns]\n",
            "\u001b[94m\n",
            " Using a DataFrame we can see that nvda.history returns\u001b[0m\n",
            "                  Open        High  ...  Dividends  Stock Splits\n",
            "Date                                ...                         \n",
            "2020-01-02   59.544461   59.833767  ...        0.0             0\n",
            "2020-01-03   58.634153   59.315016  ...        0.0             0\n",
            "2020-01-06   57.940813   59.175346  ...        0.0             0\n",
            "2020-01-07   59.407290   60.297653  ...        0.0             0\n",
            "2020-01-08   59.796354   60.364988  ...        0.0             0\n",
            "...                ...         ...  ...        ...           ...\n",
            "2020-12-24  130.274683  131.226468  ...        0.0             0\n",
            "2020-12-28  130.526979  130.526979  ...        0.0             0\n",
            "2020-12-29  129.153030  130.626929  ...        0.0             0\n",
            "2020-12-30  129.805030  132.038354  ...        0.0             0\n",
            "2020-12-31  131.266448  131.411328  ...        0.0             0\n",
            "\n",
            "[253 rows x 7 columns]\n"
          ]
        },
        {
          "output_type": "execute_result",
          "data": {
            "text/html": [
              "<div>\n",
              "<style scoped>\n",
              "    .dataframe tbody tr th:only-of-type {\n",
              "        vertical-align: middle;\n",
              "    }\n",
              "\n",
              "    .dataframe tbody tr th {\n",
              "        vertical-align: top;\n",
              "    }\n",
              "\n",
              "    .dataframe thead th {\n",
              "        text-align: right;\n",
              "    }\n",
              "</style>\n",
              "<table border=\"1\" class=\"dataframe\">\n",
              "  <thead>\n",
              "    <tr style=\"text-align: right;\">\n",
              "      <th></th>\n",
              "      <th>Open</th>\n",
              "      <th>High</th>\n",
              "      <th>Low</th>\n",
              "      <th>Close</th>\n",
              "      <th>Volume</th>\n",
              "      <th>Dividends</th>\n",
              "      <th>Stock Splits</th>\n",
              "    </tr>\n",
              "    <tr>\n",
              "      <th>Date</th>\n",
              "      <th></th>\n",
              "      <th></th>\n",
              "      <th></th>\n",
              "      <th></th>\n",
              "      <th></th>\n",
              "      <th></th>\n",
              "      <th></th>\n",
              "    </tr>\n",
              "  </thead>\n",
              "  <tbody>\n",
              "    <tr>\n",
              "      <th>2020-01-02</th>\n",
              "      <td>59.544461</td>\n",
              "      <td>59.833767</td>\n",
              "      <td>59.038178</td>\n",
              "      <td>59.833767</td>\n",
              "      <td>23753600</td>\n",
              "      <td>0.0</td>\n",
              "      <td>0</td>\n",
              "    </tr>\n",
              "    <tr>\n",
              "      <th>2020-01-03</th>\n",
              "      <td>58.634153</td>\n",
              "      <td>59.315016</td>\n",
              "      <td>58.384752</td>\n",
              "      <td>58.876072</td>\n",
              "      <td>20538400</td>\n",
              "      <td>0.0</td>\n",
              "      <td>0</td>\n",
              "    </tr>\n",
              "    <tr>\n",
              "      <th>2020-01-06</th>\n",
              "      <td>57.940813</td>\n",
              "      <td>59.175346</td>\n",
              "      <td>57.678941</td>\n",
              "      <td>59.122971</td>\n",
              "      <td>26263600</td>\n",
              "      <td>0.0</td>\n",
              "      <td>0</td>\n",
              "    </tr>\n",
              "    <tr>\n",
              "      <th>2020-01-07</th>\n",
              "      <td>59.407290</td>\n",
              "      <td>60.297653</td>\n",
              "      <td>58.955875</td>\n",
              "      <td>59.838753</td>\n",
              "      <td>31485600</td>\n",
              "      <td>0.0</td>\n",
              "      <td>0</td>\n",
              "    </tr>\n",
              "    <tr>\n",
              "      <th>2020-01-08</th>\n",
              "      <td>59.796354</td>\n",
              "      <td>60.364988</td>\n",
              "      <td>59.394818</td>\n",
              "      <td>59.950985</td>\n",
              "      <td>27710800</td>\n",
              "      <td>0.0</td>\n",
              "      <td>0</td>\n",
              "    </tr>\n",
              "    <tr>\n",
              "      <th>...</th>\n",
              "      <td>...</td>\n",
              "      <td>...</td>\n",
              "      <td>...</td>\n",
              "      <td>...</td>\n",
              "      <td>...</td>\n",
              "      <td>...</td>\n",
              "      <td>...</td>\n",
              "    </tr>\n",
              "    <tr>\n",
              "      <th>2020-12-24</th>\n",
              "      <td>130.274683</td>\n",
              "      <td>131.226468</td>\n",
              "      <td>129.290421</td>\n",
              "      <td>129.840012</td>\n",
              "      <td>9788400</td>\n",
              "      <td>0.0</td>\n",
              "      <td>0</td>\n",
              "    </tr>\n",
              "    <tr>\n",
              "      <th>2020-12-28</th>\n",
              "      <td>130.526979</td>\n",
              "      <td>130.526979</td>\n",
              "      <td>127.536724</td>\n",
              "      <td>128.903198</td>\n",
              "      <td>21256400</td>\n",
              "      <td>0.0</td>\n",
              "      <td>0</td>\n",
              "    </tr>\n",
              "    <tr>\n",
              "      <th>2020-12-29</th>\n",
              "      <td>129.153030</td>\n",
              "      <td>130.626929</td>\n",
              "      <td>128.326151</td>\n",
              "      <td>129.335388</td>\n",
              "      <td>17037200</td>\n",
              "      <td>0.0</td>\n",
              "      <td>0</td>\n",
              "    </tr>\n",
              "    <tr>\n",
              "      <th>2020-12-30</th>\n",
              "      <td>129.805030</td>\n",
              "      <td>132.038354</td>\n",
              "      <td>128.870734</td>\n",
              "      <td>131.358871</td>\n",
              "      <td>22539600</td>\n",
              "      <td>0.0</td>\n",
              "      <td>0</td>\n",
              "    </tr>\n",
              "    <tr>\n",
              "      <th>2020-12-31</th>\n",
              "      <td>131.266448</td>\n",
              "      <td>131.411328</td>\n",
              "      <td>129.053098</td>\n",
              "      <td>130.452057</td>\n",
              "      <td>19242400</td>\n",
              "      <td>0.0</td>\n",
              "      <td>0</td>\n",
              "    </tr>\n",
              "  </tbody>\n",
              "</table>\n",
              "<p>253 rows × 7 columns</p>\n",
              "</div>"
            ],
            "text/plain": [
              "                  Open        High  ...  Dividends  Stock Splits\n",
              "Date                                ...                         \n",
              "2020-01-02   59.544461   59.833767  ...        0.0             0\n",
              "2020-01-03   58.634153   59.315016  ...        0.0             0\n",
              "2020-01-06   57.940813   59.175346  ...        0.0             0\n",
              "2020-01-07   59.407290   60.297653  ...        0.0             0\n",
              "2020-01-08   59.796354   60.364988  ...        0.0             0\n",
              "...                ...         ...  ...        ...           ...\n",
              "2020-12-24  130.274683  131.226468  ...        0.0             0\n",
              "2020-12-28  130.526979  130.526979  ...        0.0             0\n",
              "2020-12-29  129.153030  130.626929  ...        0.0             0\n",
              "2020-12-30  129.805030  132.038354  ...        0.0             0\n",
              "2020-12-31  131.266448  131.411328  ...        0.0             0\n",
              "\n",
              "[253 rows x 7 columns]"
            ]
          },
          "metadata": {},
          "execution_count": 162
        }
      ]
    },
    {
      "cell_type": "markdown",
      "metadata": {
        "id": "NkFztSYhJyVA"
      },
      "source": [
        "We will create a Series named \"aapl\" whose values are Apple's daily closing prices, which are of course indexed by dates:"
      ]
    },
    {
      "cell_type": "code",
      "metadata": {
        "id": "QDJbOpCeHW91"
      },
      "source": [
        "aapl = aapl_table['Close']['2017']"
      ],
      "execution_count": 163,
      "outputs": []
    },
    {
      "cell_type": "code",
      "metadata": {
        "id": "AriSSi1ifSu_"
      },
      "source": [
        "# Xamir \n",
        "nvda = nvda_table['High']['2020']"
      ],
      "execution_count": 164,
      "outputs": []
    },
    {
      "cell_type": "code",
      "metadata": {
        "colab": {
          "base_uri": "https://localhost:8080/"
        },
        "id": "SXfgCQJOHW91",
        "outputId": "74d74052-3aed-492c-e943-2af3889c5437"
      },
      "source": [
        "print(aapl)"
      ],
      "execution_count": 165,
      "outputs": [
        {
          "output_type": "stream",
          "name": "stdout",
          "text": [
            "Date\n",
            "2017-01-03    27.372362\n",
            "2017-01-04    27.341726\n",
            "2017-01-05    27.480762\n",
            "2017-01-06    27.787132\n",
            "2017-01-09    28.041647\n",
            "                ...    \n",
            "2017-12-22    41.906776\n",
            "2017-12-26    40.843597\n",
            "2017-12-27    40.850784\n",
            "2017-12-28    40.965725\n",
            "2017-12-29    40.522728\n",
            "Name: Close, Length: 251, dtype: float64\n"
          ]
        }
      ]
    },
    {
      "cell_type": "code",
      "metadata": {
        "colab": {
          "base_uri": "https://localhost:8080/"
        },
        "id": "31esAPRQfr2y",
        "outputId": "502d7522-7a33-450b-d8a9-f1733fcac0d8"
      },
      "source": [
        "# Xamir\n",
        "print(nvda)"
      ],
      "execution_count": 166,
      "outputs": [
        {
          "output_type": "stream",
          "name": "stdout",
          "text": [
            "Date\n",
            "2020-01-02     59.833767\n",
            "2020-01-03     59.315016\n",
            "2020-01-06     59.175346\n",
            "2020-01-07     60.297653\n",
            "2020-01-08     60.364988\n",
            "                 ...    \n",
            "2020-12-24    131.226468\n",
            "2020-12-28    130.526979\n",
            "2020-12-29    130.626929\n",
            "2020-12-30    132.038354\n",
            "2020-12-31    131.411328\n",
            "Name: High, Length: 253, dtype: float64\n"
          ]
        }
      ]
    },
    {
      "cell_type": "markdown",
      "metadata": {
        "id": "waUEgBhzKEcA"
      },
      "source": [
        "Recall that we can fetch a specific data point using series['yyyy-mm-dd']. We can also fetch the data in a specific month using series['yyyy-mm']."
      ]
    },
    {
      "cell_type": "code",
      "metadata": {
        "colab": {
          "base_uri": "https://localhost:8080/"
        },
        "id": "2gS50G0zHW92",
        "outputId": "68da5a7a-355f-44ff-c8e6-abb20a7851ac"
      },
      "source": [
        "print(aapl['2017-3'])"
      ],
      "execution_count": 167,
      "outputs": [
        {
          "output_type": "stream",
          "name": "stdout",
          "text": [
            "Date\n",
            "2017-03-01    33.086277\n",
            "2017-03-02    32.889835\n",
            "2017-03-03    33.083916\n",
            "2017-03-06    32.979774\n",
            "2017-03-07    33.022381\n",
            "2017-03-08    32.899300\n",
            "2017-03-09    32.823555\n",
            "2017-03-10    32.932449\n",
            "2017-03-13    32.946640\n",
            "2017-03-14    32.896931\n",
            "2017-03-15    33.244862\n",
            "2017-03-16    33.299297\n",
            "2017-03-17    33.133625\n",
            "2017-03-20    33.481556\n",
            "2017-03-21    33.098114\n",
            "2017-03-22    33.472080\n",
            "2017-03-23    33.353741\n",
            "2017-03-24    33.287472\n",
            "2017-03-27    33.344280\n",
            "2017-03-28    34.035397\n",
            "2017-03-29    34.111137\n",
            "2017-03-30    34.066166\n",
            "2017-03-31    34.002258\n",
            "Name: Close, dtype: float64\n"
          ]
        }
      ]
    },
    {
      "cell_type": "code",
      "metadata": {
        "colab": {
          "base_uri": "https://localhost:8080/"
        },
        "id": "JEmKMAhdnaxu",
        "outputId": "71fe424e-6f60-407f-f3fd-218f3cc6ed55"
      },
      "source": [
        "# Xamir\n",
        "# Year - Month\n",
        "print(nvda['2020-1'])\n",
        "print('\\033[94m' + \" Using frame.loc[string] instead of frame[string]\" + '\\033[0m')\n",
        "\"\"\"/usr/local/lib/python3.7/dist-packages/ipykernel_launcher.py:2: \n",
        "FutureWarning: Indexing a DataFrame with a datetimelike index using a single string to slice the rows, like `frame[string]`,\n",
        " is deprecated and will be removed in a future version. Use `frame.loc[string]` instead.\"\"\"\n",
        "nvda.loc['2020-2']\n"
      ],
      "execution_count": 168,
      "outputs": [
        {
          "output_type": "stream",
          "name": "stdout",
          "text": [
            "Date\n",
            "2020-01-02    59.833767\n",
            "2020-01-03    59.315016\n",
            "2020-01-06    59.175346\n",
            "2020-01-07    60.297653\n",
            "2020-01-08    60.364988\n",
            "2020-01-09    61.335163\n",
            "2020-01-10    61.988593\n",
            "2020-01-13    63.095930\n",
            "2020-01-14    62.669460\n",
            "2020-01-15    62.023506\n",
            "2020-01-16    62.143216\n",
            "2020-01-17    62.350219\n",
            "2020-01-21    62.173149\n",
            "2020-01-22    63.245569\n",
            "2020-01-23    63.148299\n",
            "2020-01-24    64.719530\n",
            "2020-01-27    60.417362\n",
            "2020-01-28    62.168159\n",
            "2020-01-29    62.060920\n",
            "2020-01-30    61.439908\n",
            "2020-01-31    60.966047\n",
            "Name: High, dtype: float64\n",
            "\u001b[94m Using frame.loc[string] instead of frame[string]\u001b[0m\n"
          ]
        },
        {
          "output_type": "execute_result",
          "data": {
            "text/plain": [
              "Date\n",
              "2020-02-03    60.133051\n",
              "2020-02-04    61.826477\n",
              "2020-02-05    62.948786\n",
              "2020-02-06    63.410175\n",
              "2020-02-07    63.230607\n",
              "2020-02-10    65.592435\n",
              "2020-02-11    67.961738\n",
              "2020-02-12    68.036565\n",
              "2020-02-13    68.206161\n",
              "2020-02-14    73.565782\n",
              "2020-02-18    74.149383\n",
              "2020-02-19    78.663538\n",
              "2020-02-20    78.890492\n",
              "2020-02-21    76.117157\n",
              "2020-02-24    70.298626\n",
              "2020-02-25    69.530467\n",
              "2020-02-26    68.697483\n",
              "2020-02-27    66.629870\n",
              "2020-02-28    67.992401\n",
              "Name: High, dtype: float64"
            ]
          },
          "metadata": {},
          "execution_count": 168
        }
      ]
    },
    {
      "cell_type": "code",
      "metadata": {
        "colab": {
          "base_uri": "https://localhost:8080/"
        },
        "id": "vpvxGwXtHW92",
        "outputId": "7bf2937b-8fc4-48ac-bb53-ddc2a9a4d0c2"
      },
      "source": [
        "aapl['2017-2':'2017-4']"
      ],
      "execution_count": 169,
      "outputs": [
        {
          "output_type": "execute_result",
          "data": {
            "text/plain": [
              "Date\n",
              "2017-02-01    30.341730\n",
              "2017-02-02    30.289883\n",
              "2017-02-03    30.419497\n",
              "2017-02-06    30.704647\n",
              "2017-02-07    30.996880\n",
              "                ...    \n",
              "2017-04-24    33.997517\n",
              "2017-04-25    34.208172\n",
              "2017-04-26    34.006981\n",
              "2017-04-27    34.033028\n",
              "2017-04-28    33.999897\n",
              "Name: Close, Length: 61, dtype: float64"
            ]
          },
          "metadata": {},
          "execution_count": 169
        }
      ]
    },
    {
      "cell_type": "code",
      "metadata": {
        "colab": {
          "base_uri": "https://localhost:8080/"
        },
        "id": "dJY-9WTapeos",
        "outputId": "93c1db90-aa67-492d-a00a-008ca00ff820"
      },
      "source": [
        "# Xamir \n",
        "\n",
        "print(nvda['2020-6':'2020-8'])\n",
        "print('\\033[94m' + \" Using nvda.loc[string]\" + '\\033[0m')\n",
        "nvda.loc['2020-6':'2020-8']"
      ],
      "execution_count": 170,
      "outputs": [
        {
          "output_type": "stream",
          "name": "stdout",
          "text": [
            "Date\n",
            "2020-06-01     88.248395\n",
            "2020-06-02     88.213445\n",
            "2020-06-03     88.502928\n",
            "2020-06-04     89.312291\n",
            "2020-06-05     89.849078\n",
            "                 ...    \n",
            "2020-08-25    127.440973\n",
            "2020-08-26    128.512014\n",
            "2020-08-27    128.327281\n",
            "2020-08-28    131.303265\n",
            "2020-08-31    135.567526\n",
            "Name: High, Length: 65, dtype: float64\n",
            "\u001b[94m Using nvda.loc[string]\u001b[0m\n"
          ]
        },
        {
          "output_type": "execute_result",
          "data": {
            "text/plain": [
              "Date\n",
              "2020-06-01     88.248395\n",
              "2020-06-02     88.213445\n",
              "2020-06-03     88.502928\n",
              "2020-06-04     89.312291\n",
              "2020-06-05     89.849078\n",
              "                 ...    \n",
              "2020-08-25    127.440973\n",
              "2020-08-26    128.512014\n",
              "2020-08-27    128.327281\n",
              "2020-08-28    131.303265\n",
              "2020-08-31    135.567526\n",
              "Name: High, Length: 65, dtype: float64"
            ]
          },
          "metadata": {},
          "execution_count": 170
        }
      ]
    },
    {
      "cell_type": "markdown",
      "metadata": {
        "id": "lWwoD39pKNKb"
      },
      "source": [
        ".head(N) and .tail(N) are methods for quickly accessing the first or last N elements."
      ]
    },
    {
      "cell_type": "code",
      "metadata": {
        "colab": {
          "base_uri": "https://localhost:8080/"
        },
        "id": "1eU218ALHW93",
        "outputId": "c12ad94e-a00c-466e-c966-4729c0dd8b5f"
      },
      "source": [
        "print(aapl.head(5))\n",
        "print(aapl.tail(10))"
      ],
      "execution_count": 171,
      "outputs": [
        {
          "output_type": "stream",
          "name": "stdout",
          "text": [
            "Date\n",
            "2017-01-03    27.372362\n",
            "2017-01-04    27.341726\n",
            "2017-01-05    27.480762\n",
            "2017-01-06    27.787132\n",
            "2017-01-09    28.041647\n",
            "Name: Close, dtype: float64\n",
            "Date\n",
            "2017-12-15    41.657745\n",
            "2017-12-18    42.244408\n",
            "2017-12-19    41.794224\n",
            "2017-12-20    41.748737\n",
            "2017-12-21    41.906776\n",
            "2017-12-22    41.906776\n",
            "2017-12-26    40.843597\n",
            "2017-12-27    40.850784\n",
            "2017-12-28    40.965725\n",
            "2017-12-29    40.522728\n",
            "Name: Close, dtype: float64\n"
          ]
        }
      ]
    },
    {
      "cell_type": "code",
      "metadata": {
        "colab": {
          "base_uri": "https://localhost:8080/"
        },
        "id": "bpIJgYQGvHap",
        "outputId": "7271435b-e65f-4d8d-aae0-76f1c5690a54"
      },
      "source": [
        "# Xamir\n",
        "print(nvda.head(2))\n",
        "print(nvda.tail(3))"
      ],
      "execution_count": 172,
      "outputs": [
        {
          "output_type": "stream",
          "name": "stdout",
          "text": [
            "Date\n",
            "2020-01-02    59.833767\n",
            "2020-01-03    59.315016\n",
            "Name: High, dtype: float64\n",
            "Date\n",
            "2020-12-29    130.626929\n",
            "2020-12-30    132.038354\n",
            "2020-12-31    131.411328\n",
            "Name: High, dtype: float64\n"
          ]
        }
      ]
    },
    {
      "cell_type": "markdown",
      "metadata": {
        "id": "IxhKxtj-KQ66"
      },
      "source": [
        "# Resampling\n",
        "**_series.resample(freq)_** is a class called \"DatetimeIndexResampler\" which groups data in a Series object into regular time intervals. The argument \"freq\" determines the length of each interval.\n",
        "\n",
        "**_series.resample.mean()_** is a complete statement that groups data into intervals, and then compute the mean of each interval. For example, if we want to aggregate the daily data into monthly data by mean:"
      ]
    },
    {
      "cell_type": "code",
      "metadata": {
        "colab": {
          "base_uri": "https://localhost:8080/"
        },
        "id": "rAV8NkHkHW93",
        "outputId": "0814f4bf-6733-46df-f776-1c4f3255a4e1"
      },
      "source": [
        "by_month = aapl.resample('M').mean()\n",
        "print(by_month)"
      ],
      "execution_count": 173,
      "outputs": [
        {
          "output_type": "stream",
          "name": "stdout",
          "text": [
            "Date\n",
            "2017-01-31    28.178332\n",
            "2017-02-28    31.606276\n",
            "2017-03-31    33.282219\n",
            "2017-04-30    33.819261\n",
            "2017-05-31    36.125683\n",
            "2017-06-30    35.133982\n",
            "2017-07-31    35.245241\n",
            "2017-08-31    37.897228\n",
            "2017-09-30    37.604736\n",
            "2017-10-31    37.654550\n",
            "2017-11-30    41.233915\n",
            "2017-12-31    41.160038\n",
            "Freq: M, Name: Close, dtype: float64\n"
          ]
        }
      ]
    },
    {
      "cell_type": "code",
      "metadata": {
        "colab": {
          "base_uri": "https://localhost:8080/"
        },
        "id": "FOyjH6LswD7L",
        "outputId": "436e2846-ec7a-4bce-a9e4-6923bfeb5ee4"
      },
      "source": [
        "# Xamir \n",
        "nvda_by_month = nvda.resample('M').std()\n",
        "print(nvda_by_month)\n",
        "nvda_by_month = nvda.resample('M').mean()\n",
        "nvda_by_month\n"
      ],
      "execution_count": 174,
      "outputs": [
        {
          "output_type": "stream",
          "name": "stdout",
          "text": [
            "Date\n",
            "2020-01-31    1.405757\n",
            "2020-02-29    5.487433\n",
            "2020-03-31    5.916788\n",
            "2020-04-30    3.880026\n",
            "2020-05-31    6.613445\n",
            "2020-06-30    2.621902\n",
            "2020-07-31    3.155152\n",
            "2020-08-31    7.637566\n",
            "2020-09-30    5.745637\n",
            "2020-10-31    3.839714\n",
            "2020-11-30    4.637830\n",
            "2020-12-31    2.144169\n",
            "Freq: M, Name: High, dtype: float64\n"
          ]
        },
        {
          "output_type": "execute_result",
          "data": {
            "text/plain": [
              "Date\n",
              "2020-01-31     61.663419\n",
              "2020-02-29     68.730589\n",
              "2020-03-31     62.965681\n",
              "2020-04-30     70.770021\n",
              "2020-05-31     83.161185\n",
              "2020-06-30     92.312970\n",
              "2020-07-31    103.569913\n",
              "2020-08-31    121.036726\n",
              "2020-09-30    130.935950\n",
              "2020-10-31    137.840180\n",
              "2020-11-30    136.023776\n",
              "2020-12-31    133.507012\n",
              "Freq: M, Name: High, dtype: float64"
            ]
          },
          "metadata": {},
          "execution_count": 174
        }
      ]
    },
    {
      "cell_type": "markdown",
      "metadata": {
        "id": "QDPfVzBEKV6Q"
      },
      "source": [
        "We can also aggregate the data by week:"
      ]
    },
    {
      "cell_type": "code",
      "metadata": {
        "colab": {
          "base_uri": "https://localhost:8080/"
        },
        "id": "aAP3tKkBHW94",
        "outputId": "15ac8fef-f305-4dcc-e371-384d766a622c"
      },
      "source": [
        "by_week = aapl.resample('W').mean()\n",
        "print(by_week.head())"
      ],
      "execution_count": 175,
      "outputs": [
        {
          "output_type": "stream",
          "name": "stdout",
          "text": [
            "Date\n",
            "2017-01-08    27.495496\n",
            "2017-01-15    28.097735\n",
            "2017-01-22    28.266115\n",
            "2017-01-29    28.553981\n",
            "2017-02-05    29.662544\n",
            "Freq: W-SUN, Name: Close, dtype: float64\n"
          ]
        }
      ]
    },
    {
      "cell_type": "code",
      "metadata": {
        "colab": {
          "base_uri": "https://localhost:8080/"
        },
        "id": "VU4y-lNIw-V1",
        "outputId": "0c9c163e-519f-4363-9d60-e0cd41b218fb"
      },
      "source": [
        "# Xamir \n",
        "nvda_by_day = nvda.resample('D').mean()\n",
        "nvda_by_week = nvda.resample('W').mean()\n",
        "nvda_by_week"
      ],
      "execution_count": 176,
      "outputs": [
        {
          "output_type": "execute_result",
          "data": {
            "text/plain": [
              "Date\n",
              "2020-01-05     59.574392\n",
              "2020-01-12     60.632349\n",
              "2020-01-19     62.456466\n",
              "2020-01-26     63.321637\n",
              "2020-02-02     61.410479\n",
              "2020-02-09     62.309819\n",
              "2020-02-16     68.672536\n",
              "2020-02-23     76.955143\n",
              "2020-03-01     68.629769\n",
              "2020-03-08     69.631462\n",
              "2020-03-15     62.598138\n",
              "2020-03-22     55.098160\n",
              "2020-03-29     62.701949\n",
              "2020-04-05     65.607711\n",
              "2020-04-12     67.940005\n",
              "2020-04-19     71.748134\n",
              "2020-04-26     72.317118\n",
              "2020-05-03     74.647410\n",
              "2020-05-10     75.577235\n",
              "2020-05-17     81.652782\n",
              "2020-05-24     90.222330\n",
              "2020-05-31     88.466743\n",
              "2020-06-07     88.825227\n",
              "2020-06-14     91.772475\n",
              "2020-06-21     92.826053\n",
              "2020-06-28     95.342171\n",
              "2020-07-05     94.982154\n",
              "2020-07-12    102.719737\n",
              "2020-07-19    104.026480\n",
              "2020-07-26    105.069575\n",
              "2020-08-02    105.317244\n",
              "2020-08-09    112.969940\n",
              "2020-08-16    114.722580\n",
              "2020-08-23    124.641231\n",
              "2020-08-30    128.906992\n",
              "2020-09-06    138.556876\n",
              "2020-09-13    127.559011\n",
              "2020-09-20    129.721742\n",
              "2020-09-27    126.568540\n",
              "2020-10-04    134.657593\n",
              "2020-10-11    139.482529\n",
              "2020-10-18    142.182205\n",
              "2020-10-25    137.415683\n",
              "2020-11-01    132.908910\n",
              "2020-11-08    137.250367\n",
              "2020-11-15    138.190881\n",
              "2020-11-22    135.525172\n",
              "2020-11-29    132.914657\n",
              "2020-12-06    135.543736\n",
              "2020-12-13    133.565207\n",
              "2020-12-20    134.048345\n",
              "2020-12-27    132.687250\n",
              "2021-01-03    131.150898\n",
              "Freq: W-SUN, Name: High, dtype: float64"
            ]
          },
          "metadata": {},
          "execution_count": 176
        }
      ]
    },
    {
      "cell_type": "markdown",
      "metadata": {
        "id": "o_MXSVsILoBS"
      },
      "source": [
        "We can also aggregate the data by month with max:"
      ]
    },
    {
      "cell_type": "code",
      "metadata": {
        "colab": {
          "base_uri": "https://localhost:8080/"
        },
        "id": "gn0wqXBTHW95",
        "outputId": "a3f005df-5575-4f63-91ba-4a4951630788"
      },
      "source": [
        "aapl.resample('M').max()"
      ],
      "execution_count": 177,
      "outputs": [
        {
          "output_type": "execute_result",
          "data": {
            "text/plain": [
              "Date\n",
              "2017-01-31    28.739214\n",
              "2017-02-28    32.451965\n",
              "2017-03-31    34.111137\n",
              "2017-04-30    34.264973\n",
              "2017-05-31    37.099133\n",
              "2017-06-30    36.944645\n",
              "2017-07-31    36.471706\n",
              "2017-08-31    39.129723\n",
              "2017-09-30    39.141647\n",
              "2017-10-31    40.332256\n",
              "2017-11-30    42.050140\n",
              "2017-12-31    42.244408\n",
              "Freq: M, Name: Close, dtype: float64"
            ]
          },
          "metadata": {},
          "execution_count": 177
        }
      ]
    },
    {
      "cell_type": "code",
      "metadata": {
        "colab": {
          "base_uri": "https://localhost:8080/"
        },
        "id": "QOPsF5CByk2E",
        "outputId": "832e7991-a96c-4671-d687-17eb5b6d8b48"
      },
      "source": [
        "# Xamir\n",
        "print(nvda.resample('Y').max())\n",
        "nvda.resample('M').max()"
      ],
      "execution_count": 178,
      "outputs": [
        {
          "output_type": "stream",
          "name": "stdout",
          "text": [
            "Date\n",
            "2020-12-31    147.113532\n",
            "Freq: A-DEC, Name: High, dtype: float64\n"
          ]
        },
        {
          "output_type": "execute_result",
          "data": {
            "text/plain": [
              "Date\n",
              "2020-01-31     64.719530\n",
              "2020-02-29     78.890492\n",
              "2020-03-31     71.094327\n",
              "2020-04-30     75.913138\n",
              "2020-05-31     91.652240\n",
              "2020-06-30     96.295394\n",
              "2020-07-31    107.777437\n",
              "2020-08-31    135.567526\n",
              "2020-09-30    147.113532\n",
              "2020-10-31    143.335012\n",
              "2020-11-30    146.761402\n",
              "2020-12-31    137.209485\n",
              "Freq: M, Name: High, dtype: float64"
            ]
          },
          "metadata": {},
          "execution_count": 178
        }
      ]
    },
    {
      "cell_type": "markdown",
      "metadata": {
        "id": "Z8r46UFlLdAh"
      },
      "source": [
        "We can choose almost any frequency by using the format 'nf', where 'n' is an integer and 'f' is M for month, W for week and D for day."
      ]
    },
    {
      "cell_type": "code",
      "metadata": {
        "colab": {
          "base_uri": "https://localhost:8080/"
        },
        "id": "kdVB_-JFHW96",
        "outputId": "c191b2f5-29b5-4082-bdf6-4653938658c5"
      },
      "source": [
        "three_day = aapl.resample('3D').mean()\n",
        "two_week = aapl.resample('2W').mean()\n",
        "two_month = aapl.resample('2M').mean()\n",
        "\n",
        "\n",
        "print(three_day)\n",
        "print(two_week)\n",
        "print(two_month )"
      ],
      "execution_count": 179,
      "outputs": [
        {
          "output_type": "stream",
          "name": "stdout",
          "text": [
            "Date\n",
            "2017-01-03    27.398284\n",
            "2017-01-06    27.787132\n",
            "2017-01-09    28.110774\n",
            "2017-01-12    28.078176\n",
            "2017-01-15    28.279667\n",
            "                ...    \n",
            "2017-12-17    42.019316\n",
            "2017-12-20    41.854097\n",
            "2017-12-23          NaN\n",
            "2017-12-26    40.886702\n",
            "2017-12-29    40.522728\n",
            "Freq: 3D, Name: Close, Length: 121, dtype: float64\n",
            "Date\n",
            "2017-01-08    27.495496\n",
            "2017-01-22    28.172570\n",
            "2017-02-05    29.108263\n",
            "2017-02-19    31.516817\n",
            "2017-03-05    32.595555\n",
            "2017-03-19    33.017881\n",
            "2017-04-02    33.625220\n",
            "2017-04-16    33.849727\n",
            "2017-04-30    33.791842\n",
            "2017-05-14    35.697631\n",
            "2017-05-28    36.496178\n",
            "2017-06-11    36.515004\n",
            "2017-06-25    34.529046\n",
            "2017-07-09    34.265132\n",
            "2017-07-23    35.278870\n",
            "2017-08-06    36.272776\n",
            "2017-08-20    37.904120\n",
            "2017-09-03    38.458790\n",
            "2017-09-17    38.282706\n",
            "2017-10-01    36.840871\n",
            "2017-10-15    37.071593\n",
            "2017-10-29    37.757320\n",
            "2017-11-12    41.032238\n",
            "2017-11-26    41.204377\n",
            "2017-12-10    40.867066\n",
            "2017-12-24    41.620867\n",
            "2018-01-07    40.795709\n",
            "Freq: 2W-SUN, Name: Close, dtype: float64\n",
            "Date\n",
            "2017-01-31    28.178332\n",
            "2017-03-31    32.524055\n",
            "2017-05-31    35.056854\n",
            "2017-07-31    35.186963\n",
            "2017-09-30    37.761185\n",
            "2017-11-30    39.402612\n",
            "2018-01-31    41.160038\n",
            "Freq: 2M, Name: Close, dtype: float64\n"
          ]
        }
      ]
    },
    {
      "cell_type": "code",
      "metadata": {
        "colab": {
          "base_uri": "https://localhost:8080/"
        },
        "id": "rkqN8oft0XvF",
        "outputId": "b88264a5-b25c-420f-d203-400f88a15b47"
      },
      "source": [
        "# Xamir \n",
        "nvda_five_day = nvda.resample('5D').mean()\n",
        "nvda_three_week = nvda.resample('3W').mean()\n",
        "nvda_four_month = nvda.resample('4M').mean()\n",
        "\n",
        "\n",
        "print(nvda_five_day)\n",
        "print(nvda_three_week)\n",
        "print(nvda_four_month )"
      ],
      "execution_count": 180,
      "outputs": [
        {
          "output_type": "stream",
          "name": "stdout",
          "text": [
            "Date\n",
            "2020-01-02     59.441377\n",
            "2020-01-07     60.996599\n",
            "2020-01-12     62.483028\n",
            "2020-01-17     62.261684\n",
            "2020-01-22     63.704466\n",
            "                 ...    \n",
            "2020-12-07    133.565207\n",
            "2020-12-12    134.199234\n",
            "2020-12-17    133.747906\n",
            "2020-12-22    132.383103\n",
            "2020-12-27    131.150898\n",
            "Freq: 5D, Name: High, Length: 73, dtype: float64\n",
            "Date\n",
            "2020-01-05     59.574392\n",
            "2020-01-26     62.052187\n",
            "2020-02-16     64.130945\n",
            "2020-03-08     71.366195\n",
            "2020-03-29     60.132749\n",
            "2020-04-19     68.467089\n",
            "2020-05-10     74.180588\n",
            "2020-05-31     86.660181\n",
            "2020-06-21     91.141252\n",
            "2020-07-12     97.874154\n",
            "2020-08-02    104.804433\n",
            "2020-08-23    117.444584\n",
            "2020-09-13    131.968242\n",
            "2020-10-04    130.315958\n",
            "2020-10-25    139.693472\n",
            "2020-11-15    136.116719\n",
            "2020-12-06    134.785941\n",
            "2020-12-27    133.486912\n",
            "2021-01-17    131.150898\n",
            "Freq: 3W-SUN, Name: High, dtype: float64\n",
            "Date\n",
            "2020-01-31     61.663419\n",
            "2020-05-31     71.225858\n",
            "2020-09-30    111.637786\n",
            "2021-01-31    135.783027\n",
            "Freq: 4M, Name: High, dtype: float64\n"
          ]
        }
      ]
    },
    {
      "cell_type": "markdown",
      "metadata": {
        "id": "iy4RqsnwL-Bw"
      },
      "source": [
        "Besides the mean() method, other methods can also be used with the resampler:\n",
        "\n"
      ]
    },
    {
      "cell_type": "code",
      "metadata": {
        "colab": {
          "base_uri": "https://localhost:8080/"
        },
        "id": "DNT8Fx9dHW96",
        "outputId": "ce2ceaa2-7900-46e6-d532-4e774b1a7795"
      },
      "source": [
        "std = aapl.resample('W').std()\n",
        "max = aapl.resample('W').max()\n",
        "min = aapl.resample('W').min()\n",
        "\n",
        "\n",
        "print(std)\n",
        "print(max)\n",
        "print(min)"
      ],
      "execution_count": 181,
      "outputs": [
        {
          "output_type": "stream",
          "name": "stdout",
          "text": [
            "Date\n",
            "2017-01-08    0.203368\n",
            "2017-01-15    0.072529\n",
            "2017-01-22    0.025557\n",
            "2017-01-29    0.245287\n",
            "2017-02-05    0.943262\n",
            "2017-02-12    0.251999\n",
            "2017-02-19    0.231390\n",
            "2017-02-26    0.059344\n",
            "2017-03-05    0.340092\n",
            "2017-03-12    0.076288\n",
            "2017-03-19    0.177834\n",
            "2017-03-26    0.157266\n",
            "2017-04-02    0.319805\n",
            "2017-04-09    0.128687\n",
            "2017-04-16    0.212472\n",
            "2017-04-23    0.174673\n",
            "2017-04-30    0.090025\n",
            "2017-05-07    0.235640\n",
            "2017-05-14    0.352982\n",
            "2017-05-21    0.536093\n",
            "2017-05-28    0.060389\n",
            "2017-06-04    0.281222\n",
            "2017-06-11    0.620031\n",
            "2017-06-18    0.382566\n",
            "2017-06-25    0.128892\n",
            "2017-07-02    0.264108\n",
            "2017-07-09    0.158890\n",
            "2017-07-16    0.404282\n",
            "2017-07-23    0.124990\n",
            "2017-07-30    0.384444\n",
            "2017-08-06    0.924392\n",
            "2017-08-13    0.467468\n",
            "2017-08-20    0.435253\n",
            "2017-08-27    0.275767\n",
            "2017-09-03    0.251721\n",
            "2017-09-10    0.381635\n",
            "2017-09-17    0.294141\n",
            "2017-09-24    0.735194\n",
            "2017-10-01    0.354846\n",
            "2017-10-08    0.204856\n",
            "2017-10-15    0.118731\n",
            "2017-10-22    0.516998\n",
            "2017-10-29    0.680454\n",
            "2017-11-05    0.560684\n",
            "2017-11-12    0.190970\n",
            "2017-11-19    0.436199\n",
            "2017-11-26    0.563047\n",
            "2017-12-03    0.427445\n",
            "2017-12-10    0.073128\n",
            "2017-12-17    0.205267\n",
            "2017-12-24    0.194127\n",
            "2017-12-31    0.190395\n",
            "Freq: W-SUN, Name: Close, dtype: float64\n",
            "Date\n",
            "2017-01-08    27.787132\n",
            "2017-01-15    28.220751\n",
            "2017-01-22    28.279667\n",
            "2017-01-29    28.739214\n",
            "2017-02-05    30.419497\n",
            "2017-02-12    31.341906\n",
            "2017-02-19    32.122971\n",
            "2017-02-26    32.451965\n",
            "2017-03-05    33.086277\n",
            "2017-03-12    33.022381\n",
            "2017-03-19    33.299297\n",
            "2017-03-26    33.481556\n",
            "2017-04-02    34.111137\n",
            "2017-04-09    34.264973\n",
            "2017-04-16    33.886280\n",
            "2017-04-23    33.713505\n",
            "2017-04-30    34.208172\n",
            "2017-05-07    35.256695\n",
            "2017-05-14    37.099133\n",
            "2017-05-21    37.004063\n",
            "2017-05-28    36.597664\n",
            "2017-06-04    36.944645\n",
            "2017-06-11    36.925629\n",
            "2017-06-18    34.838959\n",
            "2017-06-25    34.779541\n",
            "2017-07-02    34.658325\n",
            "2017-07-09    34.266193\n",
            "2017-07-16    35.421223\n",
            "2017-07-23    35.891808\n",
            "2017-07-30    36.471706\n",
            "2017-08-06    37.346291\n",
            "2017-08-13    38.277939\n",
            "2017-08-20    38.557098\n",
            "2017-08-27    38.170574\n",
            "2017-09-03    39.141647\n",
            "2017-09-10    38.671612\n",
            "2017-09-17    38.533234\n",
            "2017-09-24    37.872322\n",
            "2017-10-01    36.798645\n",
            "2017-10-08    37.075409\n",
            "2017-10-15    37.457161\n",
            "2017-10-22    38.287479\n",
            "2017-10-29    38.903057\n",
            "2017-11-05    41.157784\n",
            "2017-11-12    42.050140\n",
            "2017-11-19    41.657745\n",
            "2017-11-26    41.897198\n",
            "2017-12-03    41.686474\n",
            "2017-12-10    40.659218\n",
            "2017-12-17    41.657745\n",
            "2017-12-24    42.244408\n",
            "2017-12-31    40.965725\n",
            "Freq: W-SUN, Name: Close, dtype: float64\n",
            "Date\n",
            "2017-01-08    27.341726\n",
            "2017-01-15    28.041647\n",
            "2017-01-22    28.227816\n",
            "2017-01-29    28.272598\n",
            "2017-02-05    28.597811\n",
            "2017-02-12    30.704647\n",
            "2017-02-19    31.547831\n",
            "2017-02-26    32.314686\n",
            "2017-03-05    32.409359\n",
            "2017-03-12    32.823555\n",
            "2017-03-19    32.896931\n",
            "2017-03-26    33.098114\n",
            "2017-04-02    33.344280\n",
            "2017-04-09    33.926510\n",
            "2017-04-16    33.384514\n",
            "2017-04-23    33.296928\n",
            "2017-04-30    33.997517\n",
            "2017-05-07    34.681541\n",
            "2017-05-14    36.215260\n",
            "2017-05-21    35.708797\n",
            "2017-05-28    36.443188\n",
            "2017-06-04    36.305336\n",
            "2017-06-11    35.406975\n",
            "2017-06-18    33.812256\n",
            "2017-06-25    34.463455\n",
            "2017-07-02    34.147354\n",
            "2017-07-09    33.921577\n",
            "2017-07-16    34.475330\n",
            "2017-07-23    35.544815\n",
            "2017-07-30    35.530552\n",
            "2017-08-06    35.347557\n",
            "2017-08-13    37.058716\n",
            "2017-08-20    37.578846\n",
            "2017-08-27    37.509655\n",
            "2017-09-03    38.526081\n",
            "2017-09-10    37.848469\n",
            "2017-09-17    37.764950\n",
            "2017-09-24    36.240322\n",
            "2017-10-01    35.920605\n",
            "2017-10-08    36.619690\n",
            "2017-10-15    37.182774\n",
            "2017-10-22    37.216183\n",
            "2017-10-29    37.261520\n",
            "2017-11-05    39.778702\n",
            "2017-11-12    41.575333\n",
            "2017-11-19    40.486813\n",
            "2017-11-26    40.702320\n",
            "2017-12-03    40.582588\n",
            "2017-12-10    40.470055\n",
            "2017-12-17    41.114182\n",
            "2017-12-24    41.748737\n",
            "2017-12-31    40.522728\n",
            "Freq: W-SUN, Name: Close, dtype: float64\n"
          ]
        }
      ]
    },
    {
      "cell_type": "code",
      "metadata": {
        "colab": {
          "base_uri": "https://localhost:8080/"
        },
        "id": "TBaPyf2_2K8B",
        "outputId": "8caee402-860a-44fc-b955-d52c3f1be257"
      },
      "source": [
        "# Xamir \n",
        "nvda_std = nvda.resample('M').std()\n",
        "nvda_max = nvda.resample('M').max()\n",
        "nvda_min = nvda.resample('M').min()\n",
        "\n",
        "\n",
        "print(nvda_std)\n",
        "print(nvda_max)\n",
        "print(nvda_min)"
      ],
      "execution_count": 182,
      "outputs": [
        {
          "output_type": "stream",
          "name": "stdout",
          "text": [
            "Date\n",
            "2020-01-31    1.405757\n",
            "2020-02-29    5.487433\n",
            "2020-03-31    5.916788\n",
            "2020-04-30    3.880026\n",
            "2020-05-31    6.613445\n",
            "2020-06-30    2.621902\n",
            "2020-07-31    3.155152\n",
            "2020-08-31    7.637566\n",
            "2020-09-30    5.745637\n",
            "2020-10-31    3.839714\n",
            "2020-11-30    4.637830\n",
            "2020-12-31    2.144169\n",
            "Freq: M, Name: High, dtype: float64\n",
            "Date\n",
            "2020-01-31     64.719530\n",
            "2020-02-29     78.890492\n",
            "2020-03-31     71.094327\n",
            "2020-04-30     75.913138\n",
            "2020-05-31     91.652240\n",
            "2020-06-30     96.295394\n",
            "2020-07-31    107.777437\n",
            "2020-08-31    135.567526\n",
            "2020-09-30    147.113532\n",
            "2020-10-31    143.335012\n",
            "2020-11-30    146.761402\n",
            "2020-12-31    137.209485\n",
            "Freq: M, Name: High, dtype: float64\n",
            "Date\n",
            "2020-01-31     59.175346\n",
            "2020-02-29     60.133051\n",
            "2020-03-31     52.390538\n",
            "2020-04-30     63.792483\n",
            "2020-05-31     72.095002\n",
            "2020-06-30     88.213445\n",
            "2020-07-31     95.628795\n",
            "2020-08-31    110.838311\n",
            "2020-09-30    125.094084\n",
            "2020-10-31    129.229763\n",
            "2020-11-30    128.233301\n",
            "2020-12-31    130.102305\n",
            "Freq: M, Name: High, dtype: float64\n"
          ]
        }
      ]
    },
    {
      "cell_type": "markdown",
      "metadata": {
        "id": "uqln0s5DMI3I"
      },
      "source": [
        "Often we want to calculate monthly returns of a stock, based on prices on the last day of each month. To fetch those prices, we use the series.resample.agg() method:"
      ]
    },
    {
      "cell_type": "code",
      "metadata": {
        "colab": {
          "base_uri": "https://localhost:8080/"
        },
        "id": "A6FSYvqbHW97",
        "outputId": "78ee1998-2790-4533-82bc-6904deaddb88"
      },
      "source": [
        "last_day = aapl.resample('M').agg(lambda x: x[-1])\n",
        "print(last_day)"
      ],
      "execution_count": 183,
      "outputs": [
        {
          "output_type": "stream",
          "name": "stdout",
          "text": [
            "Date\n",
            "2017-01-31    28.597811\n",
            "2017-02-28    32.423557\n",
            "2017-03-31    34.002258\n",
            "2017-04-30    33.999897\n",
            "2017-05-31    36.305336\n",
            "2017-06-30    34.228165\n",
            "2017-07-31    35.347557\n",
            "2017-08-31    39.129723\n",
            "2017-09-30    36.772388\n",
            "2017-10-31    40.332256\n",
            "2017-11-30    41.150108\n",
            "2017-12-31    40.522728\n",
            "Freq: M, Name: Close, dtype: float64\n"
          ]
        }
      ]
    },
    {
      "cell_type": "code",
      "metadata": {
        "colab": {
          "base_uri": "https://localhost:8080/"
        },
        "id": "WOrf7wlF2cK_",
        "outputId": "b2c38e78-3315-44e8-8252-969be67076a8"
      },
      "source": [
        "# Xamir \n",
        "nvda_last_day = nvda.resample('M').agg(lambda x: x[-1])\n",
        "print(nvda_last_day)"
      ],
      "execution_count": 184,
      "outputs": [
        {
          "output_type": "stream",
          "name": "stdout",
          "text": [
            "Date\n",
            "2020-01-31     60.966047\n",
            "2020-02-29     67.992401\n",
            "2020-03-31     68.726090\n",
            "2020-04-30     74.480709\n",
            "2020-05-31     88.595261\n",
            "2020-06-30     95.134436\n",
            "2020-07-31    107.520276\n",
            "2020-08-31    135.567526\n",
            "2020-09-30    136.082595\n",
            "2020-10-31    129.229763\n",
            "2020-11-30    133.984779\n",
            "2020-12-31    131.411328\n",
            "Freq: M, Name: High, dtype: float64\n"
          ]
        }
      ]
    },
    {
      "cell_type": "code",
      "metadata": {
        "id": "KnCIElA65cjg"
      },
      "source": [
        ""
      ],
      "execution_count": 184,
      "outputs": []
    },
    {
      "cell_type": "markdown",
      "metadata": {
        "id": "uwomY3aXMR46"
      },
      "source": [
        "Or directly calculate the monthly rates of return using the data for the first day and the last day:"
      ]
    },
    {
      "cell_type": "code",
      "metadata": {
        "colab": {
          "base_uri": "https://localhost:8080/"
        },
        "id": "qK2NMJrNHW96",
        "outputId": "b4ee6248-a20c-4139-f3c0-219039415302"
      },
      "source": [
        "monthly_return = aapl.resample('M').agg(lambda x: x[-1]/x[0] - 1)\n",
        "print(monthly_return)"
      ],
      "execution_count": 185,
      "outputs": [
        {
          "output_type": "stream",
          "name": "stdout",
          "text": [
            "Date\n",
            "2017-01-31    0.044770\n",
            "2017-02-28    0.068613\n",
            "2017-03-31    0.027685\n",
            "2017-04-30   -0.000348\n",
            "2017-05-31    0.046463\n",
            "2017-06-30   -0.059799\n",
            "2017-07-31    0.036446\n",
            "2017-08-31    0.097261\n",
            "2017-09-30   -0.060530\n",
            "2017-10-31    0.099018\n",
            "2017-11-30    0.033422\n",
            "2017-12-31   -0.010640\n",
            "Freq: M, Name: Close, dtype: float64\n"
          ]
        }
      ]
    },
    {
      "cell_type": "code",
      "metadata": {
        "colab": {
          "base_uri": "https://localhost:8080/"
        },
        "id": "RoFzphWd6_cM",
        "outputId": "bf4b43b9-67fd-487c-afda-db7d44eb7922"
      },
      "source": [
        "# Xamir \n",
        "nvda_monthly_return = nvda.resample('M').agg(lambda x: x[-1]/x[0] - 1)\n",
        "nvda_monthly_return"
      ],
      "execution_count": 186,
      "outputs": [
        {
          "output_type": "execute_result",
          "data": {
            "text/plain": [
              "Date\n",
              "2020-01-31    0.018924\n",
              "2020-02-29    0.130699\n",
              "2020-03-31   -0.007889\n",
              "2020-04-30    0.141208\n",
              "2020-05-31    0.228868\n",
              "2020-06-30    0.078030\n",
              "2020-07-31    0.124350\n",
              "2020-08-31    0.223111\n",
              "2020-09-30   -0.026530\n",
              "2020-10-31   -0.060035\n",
              "2020-11-30    0.044852\n",
              "2020-12-31   -0.027635\n",
              "Freq: M, Name: High, dtype: float64"
            ]
          },
          "metadata": {},
          "execution_count": 186
        }
      ]
    },
    {
      "cell_type": "markdown",
      "metadata": {
        "id": "_DYbMTFWMj8J"
      },
      "source": [
        "Series object also provides us some convenient methods to do some quick calculation."
      ]
    },
    {
      "cell_type": "code",
      "metadata": {
        "colab": {
          "base_uri": "https://localhost:8080/"
        },
        "id": "1Mxc0HwvHW98",
        "outputId": "c751527c-8971-4a04-98a0-558457056795"
      },
      "source": [
        "print(monthly_return.mean())\n",
        "print(monthly_return.std())\n",
        "print(monthly_return.max())"
      ],
      "execution_count": 187,
      "outputs": [
        {
          "output_type": "stream",
          "name": "stdout",
          "text": [
            "0.026863363082269286\n",
            "0.0522585487653816\n",
            "0.09901848949416614\n"
          ]
        }
      ]
    },
    {
      "cell_type": "code",
      "metadata": {
        "colab": {
          "base_uri": "https://localhost:8080/"
        },
        "id": "IgZ7urBP7Tvz",
        "outputId": "3a43fddd-49ae-48eb-a726-1a243af8e989"
      },
      "source": [
        "# Xamir\n",
        "print(nvda_monthly_return.mean())\n",
        "print(nvda_monthly_return.std())\n",
        "print(nvda_monthly_return.max())"
      ],
      "execution_count": 188,
      "outputs": [
        {
          "output_type": "stream",
          "name": "stdout",
          "text": [
            "0.07232940546064781\n",
            "0.09791367964074535\n",
            "0.2288682799901085\n"
          ]
        }
      ]
    },
    {
      "cell_type": "markdown",
      "metadata": {
        "id": "mn59J5dqMpqX"
      },
      "source": [
        "Another two methods frequently used on Series are .diff() and .pct_change(). The former calculates the difference between consecutive elements, and the latter calculates the percentage change."
      ]
    },
    {
      "cell_type": "code",
      "metadata": {
        "colab": {
          "base_uri": "https://localhost:8080/"
        },
        "id": "DupZTSqqHW99",
        "outputId": "5503914a-bf12-49d1-ffe2-66a23f5e2ff5"
      },
      "source": [
        "print(last_day.diff())\n",
        "print(last_day.pct_change())"
      ],
      "execution_count": 189,
      "outputs": [
        {
          "output_type": "stream",
          "name": "stdout",
          "text": [
            "Date\n",
            "2017-01-31         NaN\n",
            "2017-02-28    3.825747\n",
            "2017-03-31    1.578701\n",
            "2017-04-30   -0.002361\n",
            "2017-05-31    2.305439\n",
            "2017-06-30   -2.077171\n",
            "2017-07-31    1.119392\n",
            "2017-08-31    3.782166\n",
            "2017-09-30   -2.357334\n",
            "2017-10-31    3.559868\n",
            "2017-11-30    0.817852\n",
            "2017-12-31   -0.627380\n",
            "Freq: M, Name: Close, dtype: float64\n",
            "Date\n",
            "2017-01-31         NaN\n",
            "2017-02-28    0.133778\n",
            "2017-03-31    0.048690\n",
            "2017-04-30   -0.000069\n",
            "2017-05-31    0.067807\n",
            "2017-06-30   -0.057214\n",
            "2017-07-31    0.032704\n",
            "2017-08-31    0.106999\n",
            "2017-09-30   -0.060244\n",
            "2017-10-31    0.096808\n",
            "2017-11-30    0.020278\n",
            "2017-12-31   -0.015246\n",
            "Freq: M, Name: Close, dtype: float64\n"
          ]
        }
      ]
    },
    {
      "cell_type": "code",
      "metadata": {
        "colab": {
          "base_uri": "https://localhost:8080/"
        },
        "id": "sI8wmyFz773I",
        "outputId": "8bcf9e59-f7df-4631-d927-7245d522aed1"
      },
      "source": [
        "# Xamir\n",
        "# diff = x[n] - x[n-1]\n",
        "print(nvda_last_day.diff())\n",
        "# pct_change = he percentage change.\n",
        "print(nvda_last_day.pct_change())"
      ],
      "execution_count": 190,
      "outputs": [
        {
          "output_type": "stream",
          "name": "stdout",
          "text": [
            "Date\n",
            "2020-01-31          NaN\n",
            "2020-02-29     7.026354\n",
            "2020-03-31     0.733689\n",
            "2020-04-30     5.754619\n",
            "2020-05-31    14.114551\n",
            "2020-06-30     6.539175\n",
            "2020-07-31    12.385840\n",
            "2020-08-31    28.047250\n",
            "2020-09-30     0.515070\n",
            "2020-10-31    -6.852833\n",
            "2020-11-30     4.755016\n",
            "2020-12-31    -2.573451\n",
            "Freq: M, Name: High, dtype: float64\n",
            "Date\n",
            "2020-01-31         NaN\n",
            "2020-02-29    0.115250\n",
            "2020-03-31    0.010791\n",
            "2020-04-30    0.083733\n",
            "2020-05-31    0.189506\n",
            "2020-06-30    0.073810\n",
            "2020-07-31    0.130193\n",
            "2020-08-31    0.260855\n",
            "2020-09-30    0.003799\n",
            "2020-10-31   -0.050358\n",
            "2020-11-30    0.036795\n",
            "2020-12-31   -0.019207\n",
            "Freq: M, Name: High, dtype: float64\n"
          ]
        }
      ]
    },
    {
      "cell_type": "markdown",
      "metadata": {
        "id": "RaMAOFepM6Io"
      },
      "source": [
        "Notice that we induced a NaN value while calculating percentage changes i.e. returns.\n",
        "\n",
        "When dealing with NaN values, we usually either removing the data point or fill it with a specific value. Here we fill it with 0:"
      ]
    },
    {
      "cell_type": "code",
      "metadata": {
        "colab": {
          "base_uri": "https://localhost:8080/"
        },
        "id": "-xyLb3A3HW99",
        "outputId": "907803bf-db0a-4a4e-a42b-b2f9f39e5cad"
      },
      "source": [
        "daily_return = last_day.pct_change()\n",
        "print(daily_return.fillna(0))"
      ],
      "execution_count": 191,
      "outputs": [
        {
          "output_type": "stream",
          "name": "stdout",
          "text": [
            "Date\n",
            "2017-01-31    0.000000\n",
            "2017-02-28    0.133778\n",
            "2017-03-31    0.048690\n",
            "2017-04-30   -0.000069\n",
            "2017-05-31    0.067807\n",
            "2017-06-30   -0.057214\n",
            "2017-07-31    0.032704\n",
            "2017-08-31    0.106999\n",
            "2017-09-30   -0.060244\n",
            "2017-10-31    0.096808\n",
            "2017-11-30    0.020278\n",
            "2017-12-31   -0.015246\n",
            "Freq: M, Name: Close, dtype: float64\n"
          ]
        }
      ]
    },
    {
      "cell_type": "code",
      "metadata": {
        "colab": {
          "base_uri": "https://localhost:8080/"
        },
        "id": "wtn7XBOZ8TaQ",
        "outputId": "1341e4e8-3184-4b94-f7c3-9cf71c337df4"
      },
      "source": [
        "# Xamir\n",
        "# Fill na with 0\n",
        "nvda_daily_return = nvda_last_day.pct_change()\n",
        "nvda_daily_return.fillna(0)"
      ],
      "execution_count": 192,
      "outputs": [
        {
          "output_type": "execute_result",
          "data": {
            "text/plain": [
              "Date\n",
              "2020-01-31    0.000000\n",
              "2020-02-29    0.115250\n",
              "2020-03-31    0.010791\n",
              "2020-04-30    0.083733\n",
              "2020-05-31    0.189506\n",
              "2020-06-30    0.073810\n",
              "2020-07-31    0.130193\n",
              "2020-08-31    0.260855\n",
              "2020-09-30    0.003799\n",
              "2020-10-31   -0.050358\n",
              "2020-11-30    0.036795\n",
              "2020-12-31   -0.019207\n",
              "Freq: M, Name: High, dtype: float64"
            ]
          },
          "metadata": {},
          "execution_count": 192
        }
      ]
    },
    {
      "cell_type": "markdown",
      "metadata": {
        "id": "BYS10Om1NQVC"
      },
      "source": [
        "Alternatively, we can fill a NaN with the next fitted value. This is called 'backward fill', or 'bfill' in short:"
      ]
    },
    {
      "cell_type": "code",
      "metadata": {
        "colab": {
          "base_uri": "https://localhost:8080/"
        },
        "id": "J513kHeKHW9-",
        "outputId": "991b0f85-000e-4cda-9989-3e3a5f8a76e5"
      },
      "source": [
        "daily_return = last_day.pct_change()\n",
        "print(daily_return.fillna(method = 'bfill'))"
      ],
      "execution_count": 193,
      "outputs": [
        {
          "output_type": "stream",
          "name": "stdout",
          "text": [
            "Date\n",
            "2017-01-31    0.133778\n",
            "2017-02-28    0.133778\n",
            "2017-03-31    0.048690\n",
            "2017-04-30   -0.000069\n",
            "2017-05-31    0.067807\n",
            "2017-06-30   -0.057214\n",
            "2017-07-31    0.032704\n",
            "2017-08-31    0.106999\n",
            "2017-09-30   -0.060244\n",
            "2017-10-31    0.096808\n",
            "2017-11-30    0.020278\n",
            "2017-12-31   -0.015246\n",
            "Freq: M, Name: Close, dtype: float64\n"
          ]
        }
      ]
    },
    {
      "cell_type": "code",
      "metadata": {
        "colab": {
          "base_uri": "https://localhost:8080/"
        },
        "id": "tD0NFbmd9M0d",
        "outputId": "8eb90f42-3435-4342-c5c1-35f436190725"
      },
      "source": [
        "# Xamir\n",
        "# Backward fill\n",
        "nvda_daily_return = nvda_last_day.pct_change()\n",
        "temp_sr = pd.Series([0,2,4,56,np.nan,12])\n",
        "print('\\033[94m' + \" Original Temporal Serie\" + '\\033[0m')\n",
        "print(temp_sr)\n",
        "print('\\033[94m' + \" Using Backward fill in Temporal Serie\" + '\\033[0m')\n",
        "print(temp_sr.fillna(method = 'bfill'))\n",
        "print('\\033[94m' + \" Using Backward fill in nvda daily return\" + '\\033[0m')\n",
        "print(nvda_daily_return.fillna(method = 'bfill'))\n",
        "print('\\033[94m' + \" Using Forckward fill in Temporal Serie\" + '\\033[0m')\n",
        "print(temp_sr.fillna(method = 'ffill'))\n",
        "print('\\033[94m' + \" Using Forckward fill in nvda daily return\" + '\\033[0m')\n",
        "nvda_daily_return.fillna(method = 'ffill')"
      ],
      "execution_count": 194,
      "outputs": [
        {
          "output_type": "stream",
          "name": "stdout",
          "text": [
            "\u001b[94m Original Temporal Serie\u001b[0m\n",
            "0     0.0\n",
            "1     2.0\n",
            "2     4.0\n",
            "3    56.0\n",
            "4     NaN\n",
            "5    12.0\n",
            "dtype: float64\n",
            "\u001b[94m Using Backward fill in Temporal Serie\u001b[0m\n",
            "0     0.0\n",
            "1     2.0\n",
            "2     4.0\n",
            "3    56.0\n",
            "4    12.0\n",
            "5    12.0\n",
            "dtype: float64\n",
            "\u001b[94m Using Backward fill in nvda daily return\u001b[0m\n",
            "Date\n",
            "2020-01-31    0.115250\n",
            "2020-02-29    0.115250\n",
            "2020-03-31    0.010791\n",
            "2020-04-30    0.083733\n",
            "2020-05-31    0.189506\n",
            "2020-06-30    0.073810\n",
            "2020-07-31    0.130193\n",
            "2020-08-31    0.260855\n",
            "2020-09-30    0.003799\n",
            "2020-10-31   -0.050358\n",
            "2020-11-30    0.036795\n",
            "2020-12-31   -0.019207\n",
            "Freq: M, Name: High, dtype: float64\n",
            "\u001b[94m Using Forckward fill in Temporal Serie\u001b[0m\n",
            "0     0.0\n",
            "1     2.0\n",
            "2     4.0\n",
            "3    56.0\n",
            "4    56.0\n",
            "5    12.0\n",
            "dtype: float64\n",
            "\u001b[94m Using Forckward fill in nvda daily return\u001b[0m\n"
          ]
        },
        {
          "output_type": "execute_result",
          "data": {
            "text/plain": [
              "Date\n",
              "2020-01-31         NaN\n",
              "2020-02-29    0.115250\n",
              "2020-03-31    0.010791\n",
              "2020-04-30    0.083733\n",
              "2020-05-31    0.189506\n",
              "2020-06-30    0.073810\n",
              "2020-07-31    0.130193\n",
              "2020-08-31    0.260855\n",
              "2020-09-30    0.003799\n",
              "2020-10-31   -0.050358\n",
              "2020-11-30    0.036795\n",
              "2020-12-31   -0.019207\n",
              "Freq: M, Name: High, dtype: float64"
            ]
          },
          "metadata": {},
          "execution_count": 194
        }
      ]
    },
    {
      "cell_type": "markdown",
      "metadata": {
        "id": "bj8QUSgdNepf"
      },
      "source": [
        "As expected, since there is a 'backward fill' method, there must be a 'forward fill' method, or 'ffill' in short. However we can't use it here because the NaN is the first value.\n",
        "\n",
        "We can also simply remove NaN values by **_.dropna()_**"
      ]
    },
    {
      "cell_type": "code",
      "metadata": {
        "colab": {
          "base_uri": "https://localhost:8080/"
        },
        "id": "WG5ux1lqHW9-",
        "outputId": "0473aea0-1d75-416e-fc28-71202662b425"
      },
      "source": [
        "daily_return = last_day.pct_change()\n",
        "daily_return.dropna()"
      ],
      "execution_count": 195,
      "outputs": [
        {
          "output_type": "execute_result",
          "data": {
            "text/plain": [
              "Date\n",
              "2017-02-28    0.133778\n",
              "2017-03-31    0.048690\n",
              "2017-04-30   -0.000069\n",
              "2017-05-31    0.067807\n",
              "2017-06-30   -0.057214\n",
              "2017-07-31    0.032704\n",
              "2017-08-31    0.106999\n",
              "2017-09-30   -0.060244\n",
              "2017-10-31    0.096808\n",
              "2017-11-30    0.020278\n",
              "2017-12-31   -0.015246\n",
              "Freq: M, Name: Close, dtype: float64"
            ]
          },
          "metadata": {},
          "execution_count": 195
        }
      ]
    },
    {
      "cell_type": "code",
      "metadata": {
        "colab": {
          "base_uri": "https://localhost:8080/"
        },
        "id": "rayLBwQLBnCe",
        "outputId": "51164d11-0828-4403-b8c9-0315974833f2"
      },
      "source": [
        "# Xamir \n",
        "nvda_daily_return = nvda_last_day.pct_change()\n",
        "nvda_daily_return.dropna()"
      ],
      "execution_count": 196,
      "outputs": [
        {
          "output_type": "execute_result",
          "data": {
            "text/plain": [
              "Date\n",
              "2020-02-29    0.115250\n",
              "2020-03-31    0.010791\n",
              "2020-04-30    0.083733\n",
              "2020-05-31    0.189506\n",
              "2020-06-30    0.073810\n",
              "2020-07-31    0.130193\n",
              "2020-08-31    0.260855\n",
              "2020-09-30    0.003799\n",
              "2020-10-31   -0.050358\n",
              "2020-11-30    0.036795\n",
              "2020-12-31   -0.019207\n",
              "Freq: M, Name: High, dtype: float64"
            ]
          },
          "metadata": {},
          "execution_count": 196
        }
      ]
    },
    {
      "cell_type": "markdown",
      "metadata": {
        "id": "nQH2eBWkNjdC"
      },
      "source": [
        "# DataFrame\n",
        "The **DataFrame** is the most commonly used data structure in Pandas. It is essentially a table, just like an Excel spreadsheet.\n",
        "\n",
        "More precisely, a DataFrame is a collection of Series objects, each of which may contain different data types. A DataFrame can be created from various data types: dictionary, 2-D numpy.ndarray, a Series or another DataFrame.\n",
        "\n",
        "## Create DataFrames\n",
        "\n",
        "The most common method of creating a DataFrame is passing a dictionary:"
      ]
    },
    {
      "cell_type": "code",
      "metadata": {
        "colab": {
          "base_uri": "https://localhost:8080/",
          "height": 203
        },
        "id": "vd5Wf1ohHW9-",
        "outputId": "2afd98ae-9649-4a21-9169-eef79263422c"
      },
      "source": [
        "import pandas as pd\n",
        "\n",
        "example_dict = {'AAPL': [143.5, 144.09, 142.73, 144.18, 143.77],'GOOG':[898.7, 911.71, 906.69, 918.59, 926.99],\n",
        "        'IBM':[155.58, 153.67, 152.36, 152.94, 153.49]}\n",
        "data_index = pd.date_range('2017-07-03',periods = 5, freq = 'D')\n",
        "df = pd.DataFrame(example_dict, index = data_index)\n",
        "df"
      ],
      "execution_count": 197,
      "outputs": [
        {
          "output_type": "execute_result",
          "data": {
            "text/html": [
              "<div>\n",
              "<style scoped>\n",
              "    .dataframe tbody tr th:only-of-type {\n",
              "        vertical-align: middle;\n",
              "    }\n",
              "\n",
              "    .dataframe tbody tr th {\n",
              "        vertical-align: top;\n",
              "    }\n",
              "\n",
              "    .dataframe thead th {\n",
              "        text-align: right;\n",
              "    }\n",
              "</style>\n",
              "<table border=\"1\" class=\"dataframe\">\n",
              "  <thead>\n",
              "    <tr style=\"text-align: right;\">\n",
              "      <th></th>\n",
              "      <th>AAPL</th>\n",
              "      <th>GOOG</th>\n",
              "      <th>IBM</th>\n",
              "    </tr>\n",
              "  </thead>\n",
              "  <tbody>\n",
              "    <tr>\n",
              "      <th>2017-07-03</th>\n",
              "      <td>143.50</td>\n",
              "      <td>898.70</td>\n",
              "      <td>155.58</td>\n",
              "    </tr>\n",
              "    <tr>\n",
              "      <th>2017-07-04</th>\n",
              "      <td>144.09</td>\n",
              "      <td>911.71</td>\n",
              "      <td>153.67</td>\n",
              "    </tr>\n",
              "    <tr>\n",
              "      <th>2017-07-05</th>\n",
              "      <td>142.73</td>\n",
              "      <td>906.69</td>\n",
              "      <td>152.36</td>\n",
              "    </tr>\n",
              "    <tr>\n",
              "      <th>2017-07-06</th>\n",
              "      <td>144.18</td>\n",
              "      <td>918.59</td>\n",
              "      <td>152.94</td>\n",
              "    </tr>\n",
              "    <tr>\n",
              "      <th>2017-07-07</th>\n",
              "      <td>143.77</td>\n",
              "      <td>926.99</td>\n",
              "      <td>153.49</td>\n",
              "    </tr>\n",
              "  </tbody>\n",
              "</table>\n",
              "</div>"
            ],
            "text/plain": [
              "              AAPL    GOOG     IBM\n",
              "2017-07-03  143.50  898.70  155.58\n",
              "2017-07-04  144.09  911.71  153.67\n",
              "2017-07-05  142.73  906.69  152.36\n",
              "2017-07-06  144.18  918.59  152.94\n",
              "2017-07-07  143.77  926.99  153.49"
            ]
          },
          "metadata": {},
          "execution_count": 197
        }
      ]
    },
    {
      "cell_type": "code",
      "metadata": {
        "colab": {
          "base_uri": "https://localhost:8080/",
          "height": 265
        },
        "id": "DqusVYEtEunO",
        "outputId": "da889957-3069-4aed-97b1-f987ce69426e"
      },
      "source": [
        "# Xamir\n",
        "import pandas as pd \n",
        "users_data = {\n",
        "    'edad': [10,9,13,14,12,11,12],\n",
        "    'cm': [115,110,130,155,125,120,125],\n",
        "    'pais':['co','mx','co','mx','mx','ch','ch'],\n",
        "    'genero':['M','F','F','M','M','M','F'],\n",
        "    'Q1':[5,10,8,np.nan,7,8,3],\n",
        "    'Q2':[7,9,9,8,8,8,9]\n",
        "}\n",
        "users_df = pd.DataFrame(users_data)\n",
        "users_df.index = ['user 1','user 2','user 3','user 4','user 5','user 6','user 7']\n",
        "users_df"
      ],
      "execution_count": 198,
      "outputs": [
        {
          "output_type": "execute_result",
          "data": {
            "text/html": [
              "<div>\n",
              "<style scoped>\n",
              "    .dataframe tbody tr th:only-of-type {\n",
              "        vertical-align: middle;\n",
              "    }\n",
              "\n",
              "    .dataframe tbody tr th {\n",
              "        vertical-align: top;\n",
              "    }\n",
              "\n",
              "    .dataframe thead th {\n",
              "        text-align: right;\n",
              "    }\n",
              "</style>\n",
              "<table border=\"1\" class=\"dataframe\">\n",
              "  <thead>\n",
              "    <tr style=\"text-align: right;\">\n",
              "      <th></th>\n",
              "      <th>edad</th>\n",
              "      <th>cm</th>\n",
              "      <th>pais</th>\n",
              "      <th>genero</th>\n",
              "      <th>Q1</th>\n",
              "      <th>Q2</th>\n",
              "    </tr>\n",
              "  </thead>\n",
              "  <tbody>\n",
              "    <tr>\n",
              "      <th>user 1</th>\n",
              "      <td>10</td>\n",
              "      <td>115</td>\n",
              "      <td>co</td>\n",
              "      <td>M</td>\n",
              "      <td>5.0</td>\n",
              "      <td>7</td>\n",
              "    </tr>\n",
              "    <tr>\n",
              "      <th>user 2</th>\n",
              "      <td>9</td>\n",
              "      <td>110</td>\n",
              "      <td>mx</td>\n",
              "      <td>F</td>\n",
              "      <td>10.0</td>\n",
              "      <td>9</td>\n",
              "    </tr>\n",
              "    <tr>\n",
              "      <th>user 3</th>\n",
              "      <td>13</td>\n",
              "      <td>130</td>\n",
              "      <td>co</td>\n",
              "      <td>F</td>\n",
              "      <td>8.0</td>\n",
              "      <td>9</td>\n",
              "    </tr>\n",
              "    <tr>\n",
              "      <th>user 4</th>\n",
              "      <td>14</td>\n",
              "      <td>155</td>\n",
              "      <td>mx</td>\n",
              "      <td>M</td>\n",
              "      <td>NaN</td>\n",
              "      <td>8</td>\n",
              "    </tr>\n",
              "    <tr>\n",
              "      <th>user 5</th>\n",
              "      <td>12</td>\n",
              "      <td>125</td>\n",
              "      <td>mx</td>\n",
              "      <td>M</td>\n",
              "      <td>7.0</td>\n",
              "      <td>8</td>\n",
              "    </tr>\n",
              "    <tr>\n",
              "      <th>user 6</th>\n",
              "      <td>11</td>\n",
              "      <td>120</td>\n",
              "      <td>ch</td>\n",
              "      <td>M</td>\n",
              "      <td>8.0</td>\n",
              "      <td>8</td>\n",
              "    </tr>\n",
              "    <tr>\n",
              "      <th>user 7</th>\n",
              "      <td>12</td>\n",
              "      <td>125</td>\n",
              "      <td>ch</td>\n",
              "      <td>F</td>\n",
              "      <td>3.0</td>\n",
              "      <td>9</td>\n",
              "    </tr>\n",
              "  </tbody>\n",
              "</table>\n",
              "</div>"
            ],
            "text/plain": [
              "        edad   cm pais genero    Q1  Q2\n",
              "user 1    10  115   co      M   5.0   7\n",
              "user 2     9  110   mx      F  10.0   9\n",
              "user 3    13  130   co      F   8.0   9\n",
              "user 4    14  155   mx      M   NaN   8\n",
              "user 5    12  125   mx      M   7.0   8\n",
              "user 6    11  120   ch      M   8.0   8\n",
              "user 7    12  125   ch      F   3.0   9"
            ]
          },
          "metadata": {},
          "execution_count": 198
        }
      ]
    },
    {
      "cell_type": "markdown",
      "metadata": {
        "id": "0uYmLQTgOPnX"
      },
      "source": [
        "## Manipulating DataFrames\n",
        "We can fetch values in a DataFrame by columns and index. Each column in a DataFrame is essentially a Pandas Series. We can fetch a column by square brackets: **df['column_name']**\n",
        "\n",
        "If a column name contains no spaces, then we can also use df.column_name to fetch a column:"
      ]
    },
    {
      "cell_type": "code",
      "metadata": {
        "colab": {
          "base_uri": "https://localhost:8080/"
        },
        "id": "2pB2f7lBHW9_",
        "outputId": "311bbcba-2bbd-40d3-9058-84830437d958"
      },
      "source": [
        "df = aapl_table\n",
        "print(df.Close.tail(5))\n",
        "print(df['Volume'].tail(5))"
      ],
      "execution_count": 199,
      "outputs": [
        {
          "output_type": "stream",
          "name": "stdout",
          "text": [
            "Date\n",
            "2017-12-22    41.906776\n",
            "2017-12-26    40.843597\n",
            "2017-12-27    40.850784\n",
            "2017-12-28    40.965725\n",
            "2017-12-29    40.522728\n",
            "Name: Close, dtype: float64\n",
            "Date\n",
            "2017-12-22     65397600\n",
            "2017-12-26    132742000\n",
            "2017-12-27     85992800\n",
            "2017-12-28     65920800\n",
            "2017-12-29    103999600\n",
            "Name: Volume, dtype: int64\n"
          ]
        }
      ]
    },
    {
      "cell_type": "code",
      "metadata": {
        "colab": {
          "base_uri": "https://localhost:8080/"
        },
        "id": "HS_eqZuzIA3o",
        "outputId": "9eafcbc6-653a-48e6-f45f-3c0d1fbcb7e6"
      },
      "source": [
        "# Xamir\n",
        "nvda_df = nvda_table\n",
        "print(nvda_df.tail(5))\n",
        "print(nvda_df.High.tail(5))\n",
        "print(nvda_df['Close'].tail(5))\n",
        "print(nvda_df['Close']['2020-1'])\n",
        "print(nvda_df['Close'].tail(5))\n",
        "print(nvda_df['Close']['2020-1'])\n",
        "print(nvda_df['2020-1']['Dividends'])\n"
      ],
      "execution_count": 200,
      "outputs": [
        {
          "output_type": "stream",
          "name": "stdout",
          "text": [
            "                  Open        High  ...  Dividends  Stock Splits\n",
            "Date                                ...                         \n",
            "2020-12-24  130.274683  131.226468  ...        0.0             0\n",
            "2020-12-28  130.526979  130.526979  ...        0.0             0\n",
            "2020-12-29  129.153030  130.626929  ...        0.0             0\n",
            "2020-12-30  129.805030  132.038354  ...        0.0             0\n",
            "2020-12-31  131.266448  131.411328  ...        0.0             0\n",
            "\n",
            "[5 rows x 7 columns]\n",
            "Date\n",
            "2020-12-24    131.226468\n",
            "2020-12-28    130.526979\n",
            "2020-12-29    130.626929\n",
            "2020-12-30    132.038354\n",
            "2020-12-31    131.411328\n",
            "Name: High, dtype: float64\n",
            "Date\n",
            "2020-12-24    129.840012\n",
            "2020-12-28    128.903198\n",
            "2020-12-29    129.335388\n",
            "2020-12-30    131.358871\n",
            "2020-12-31    130.452057\n",
            "Name: Close, dtype: float64\n",
            "Date\n",
            "2020-01-02    59.833767\n",
            "2020-01-03    58.876072\n",
            "2020-01-06    59.122971\n",
            "2020-01-07    59.838753\n",
            "2020-01-08    59.950985\n",
            "2020-01-09    60.609409\n",
            "2020-01-10    60.933628\n",
            "2020-01-13    62.844032\n",
            "2020-01-14    61.671856\n",
            "2020-01-15    61.245377\n",
            "2020-01-16    62.083359\n",
            "2020-01-17    62.170650\n",
            "2020-01-21    61.836460\n",
            "2020-01-22    62.377655\n",
            "2020-01-23    63.063503\n",
            "2020-01-24    62.469933\n",
            "2020-01-27    59.906090\n",
            "2020-01-28    61.843937\n",
            "2020-01-29    61.237896\n",
            "2020-01-30    61.305229\n",
            "2020-01-31    58.965851\n",
            "Name: Close, dtype: float64\n",
            "Date\n",
            "2020-12-24    129.840012\n",
            "2020-12-28    128.903198\n",
            "2020-12-29    129.335388\n",
            "2020-12-30    131.358871\n",
            "2020-12-31    130.452057\n",
            "Name: Close, dtype: float64\n",
            "Date\n",
            "2020-01-02    59.833767\n",
            "2020-01-03    58.876072\n",
            "2020-01-06    59.122971\n",
            "2020-01-07    59.838753\n",
            "2020-01-08    59.950985\n",
            "2020-01-09    60.609409\n",
            "2020-01-10    60.933628\n",
            "2020-01-13    62.844032\n",
            "2020-01-14    61.671856\n",
            "2020-01-15    61.245377\n",
            "2020-01-16    62.083359\n",
            "2020-01-17    62.170650\n",
            "2020-01-21    61.836460\n",
            "2020-01-22    62.377655\n",
            "2020-01-23    63.063503\n",
            "2020-01-24    62.469933\n",
            "2020-01-27    59.906090\n",
            "2020-01-28    61.843937\n",
            "2020-01-29    61.237896\n",
            "2020-01-30    61.305229\n",
            "2020-01-31    58.965851\n",
            "Name: Close, dtype: float64\n",
            "Date\n",
            "2020-01-02    0.0\n",
            "2020-01-03    0.0\n",
            "2020-01-06    0.0\n",
            "2020-01-07    0.0\n",
            "2020-01-08    0.0\n",
            "2020-01-09    0.0\n",
            "2020-01-10    0.0\n",
            "2020-01-13    0.0\n",
            "2020-01-14    0.0\n",
            "2020-01-15    0.0\n",
            "2020-01-16    0.0\n",
            "2020-01-17    0.0\n",
            "2020-01-21    0.0\n",
            "2020-01-22    0.0\n",
            "2020-01-23    0.0\n",
            "2020-01-24    0.0\n",
            "2020-01-27    0.0\n",
            "2020-01-28    0.0\n",
            "2020-01-29    0.0\n",
            "2020-01-30    0.0\n",
            "2020-01-31    0.0\n",
            "Name: Dividends, dtype: float64\n"
          ]
        }
      ]
    },
    {
      "cell_type": "markdown",
      "metadata": {
        "id": "z0ugOel9O4-P"
      },
      "source": [
        "All the methods we applied to a Series index such as iloc[], loc[] and resampling methods, can also be applied to a DataFrame:"
      ]
    },
    {
      "cell_type": "code",
      "metadata": {
        "colab": {
          "base_uri": "https://localhost:8080/",
          "height": 451
        },
        "id": "_8dfjkedHW9_",
        "outputId": "2699d9ba-2486-4980-d9b1-39b7dd1585e7"
      },
      "source": [
        "aapl_2016 = df['2016']\n",
        "aapl_month = aapl_2016.resample('M').agg(lambda x: x[-1])\n",
        "aapl_month"
      ],
      "execution_count": 201,
      "outputs": [
        {
          "output_type": "execute_result",
          "data": {
            "text/html": [
              "<div>\n",
              "<style scoped>\n",
              "    .dataframe tbody tr th:only-of-type {\n",
              "        vertical-align: middle;\n",
              "    }\n",
              "\n",
              "    .dataframe tbody tr th {\n",
              "        vertical-align: top;\n",
              "    }\n",
              "\n",
              "    .dataframe thead th {\n",
              "        text-align: right;\n",
              "    }\n",
              "</style>\n",
              "<table border=\"1\" class=\"dataframe\">\n",
              "  <thead>\n",
              "    <tr style=\"text-align: right;\">\n",
              "      <th></th>\n",
              "      <th>Open</th>\n",
              "      <th>High</th>\n",
              "      <th>Low</th>\n",
              "      <th>Close</th>\n",
              "      <th>Volume</th>\n",
              "      <th>Dividends</th>\n",
              "      <th>Stock Splits</th>\n",
              "    </tr>\n",
              "    <tr>\n",
              "      <th>Date</th>\n",
              "      <th></th>\n",
              "      <th></th>\n",
              "      <th></th>\n",
              "      <th></th>\n",
              "      <th></th>\n",
              "      <th></th>\n",
              "      <th></th>\n",
              "    </tr>\n",
              "  </thead>\n",
              "  <tbody>\n",
              "    <tr>\n",
              "      <th>2016-01-31</th>\n",
              "      <td>21.852388</td>\n",
              "      <td>22.440250</td>\n",
              "      <td>21.750952</td>\n",
              "      <td>22.440250</td>\n",
              "      <td>257666000</td>\n",
              "      <td>0.0</td>\n",
              "      <td>0</td>\n",
              "    </tr>\n",
              "    <tr>\n",
              "      <th>2016-02-29</th>\n",
              "      <td>22.450755</td>\n",
              "      <td>22.768302</td>\n",
              "      <td>22.402081</td>\n",
              "      <td>22.411352</td>\n",
              "      <td>140865200</td>\n",
              "      <td>0.0</td>\n",
              "      <td>0</td>\n",
              "    </tr>\n",
              "    <tr>\n",
              "      <th>2016-03-31</th>\n",
              "      <td>25.431524</td>\n",
              "      <td>25.473245</td>\n",
              "      <td>25.236823</td>\n",
              "      <td>25.262320</td>\n",
              "      <td>103553600</td>\n",
              "      <td>0.0</td>\n",
              "      <td>0</td>\n",
              "    </tr>\n",
              "    <tr>\n",
              "      <th>2016-04-30</th>\n",
              "      <td>21.785531</td>\n",
              "      <td>21.954736</td>\n",
              "      <td>21.442489</td>\n",
              "      <td>21.727585</td>\n",
              "      <td>274126000</td>\n",
              "      <td>0.0</td>\n",
              "      <td>0</td>\n",
              "    </tr>\n",
              "    <tr>\n",
              "      <th>2016-05-31</th>\n",
              "      <td>23.226407</td>\n",
              "      <td>23.412965</td>\n",
              "      <td>23.044514</td>\n",
              "      <td>23.287039</td>\n",
              "      <td>169228800</td>\n",
              "      <td>0.0</td>\n",
              "      <td>0</td>\n",
              "    </tr>\n",
              "    <tr>\n",
              "      <th>2016-06-30</th>\n",
              "      <td>22.023110</td>\n",
              "      <td>22.333260</td>\n",
              "      <td>21.990462</td>\n",
              "      <td>22.293617</td>\n",
              "      <td>143345600</td>\n",
              "      <td>0.0</td>\n",
              "      <td>0</td>\n",
              "    </tr>\n",
              "    <tr>\n",
              "      <th>2016-07-31</th>\n",
              "      <td>24.296780</td>\n",
              "      <td>24.380731</td>\n",
              "      <td>24.177849</td>\n",
              "      <td>24.301443</td>\n",
              "      <td>110934800</td>\n",
              "      <td>0.0</td>\n",
              "      <td>0</td>\n",
              "    </tr>\n",
              "    <tr>\n",
              "      <th>2016-08-31</th>\n",
              "      <td>24.773054</td>\n",
              "      <td>24.986412</td>\n",
              "      <td>24.768364</td>\n",
              "      <td>24.876215</td>\n",
              "      <td>118649600</td>\n",
              "      <td>0.0</td>\n",
              "      <td>0</td>\n",
              "    </tr>\n",
              "    <tr>\n",
              "      <th>2016-09-30</th>\n",
              "      <td>26.367382</td>\n",
              "      <td>26.580742</td>\n",
              "      <td>26.212639</td>\n",
              "      <td>26.505714</td>\n",
              "      <td>145516400</td>\n",
              "      <td>0.0</td>\n",
              "      <td>0</td>\n",
              "    </tr>\n",
              "    <tr>\n",
              "      <th>2016-10-31</th>\n",
              "      <td>26.646391</td>\n",
              "      <td>26.782378</td>\n",
              "      <td>26.540882</td>\n",
              "      <td>26.620600</td>\n",
              "      <td>105677600</td>\n",
              "      <td>0.0</td>\n",
              "      <td>0</td>\n",
              "    </tr>\n",
              "    <tr>\n",
              "      <th>2016-11-30</th>\n",
              "      <td>26.300088</td>\n",
              "      <td>26.441486</td>\n",
              "      <td>25.986654</td>\n",
              "      <td>26.045570</td>\n",
              "      <td>144649200</td>\n",
              "      <td>0.0</td>\n",
              "      <td>0</td>\n",
              "    </tr>\n",
              "    <tr>\n",
              "      <th>2016-12-31</th>\n",
              "      <td>27.490195</td>\n",
              "      <td>27.619809</td>\n",
              "      <td>27.202685</td>\n",
              "      <td>27.294594</td>\n",
              "      <td>122345200</td>\n",
              "      <td>0.0</td>\n",
              "      <td>0</td>\n",
              "    </tr>\n",
              "  </tbody>\n",
              "</table>\n",
              "</div>"
            ],
            "text/plain": [
              "                 Open       High        Low  ...     Volume  Dividends  Stock Splits\n",
              "Date                                         ...                                    \n",
              "2016-01-31  21.852388  22.440250  21.750952  ...  257666000        0.0             0\n",
              "2016-02-29  22.450755  22.768302  22.402081  ...  140865200        0.0             0\n",
              "2016-03-31  25.431524  25.473245  25.236823  ...  103553600        0.0             0\n",
              "2016-04-30  21.785531  21.954736  21.442489  ...  274126000        0.0             0\n",
              "2016-05-31  23.226407  23.412965  23.044514  ...  169228800        0.0             0\n",
              "2016-06-30  22.023110  22.333260  21.990462  ...  143345600        0.0             0\n",
              "2016-07-31  24.296780  24.380731  24.177849  ...  110934800        0.0             0\n",
              "2016-08-31  24.773054  24.986412  24.768364  ...  118649600        0.0             0\n",
              "2016-09-30  26.367382  26.580742  26.212639  ...  145516400        0.0             0\n",
              "2016-10-31  26.646391  26.782378  26.540882  ...  105677600        0.0             0\n",
              "2016-11-30  26.300088  26.441486  25.986654  ...  144649200        0.0             0\n",
              "2016-12-31  27.490195  27.619809  27.202685  ...  122345200        0.0             0\n",
              "\n",
              "[12 rows x 7 columns]"
            ]
          },
          "metadata": {},
          "execution_count": 201
        }
      ]
    },
    {
      "cell_type": "code",
      "metadata": {
        "colab": {
          "base_uri": "https://localhost:8080/",
          "height": 451
        },
        "id": "5fFnFtYbJFlX",
        "outputId": "48945f66-c7b5-4586-a2aa-e9d1044dace7"
      },
      "source": [
        "# Xamir\n",
        "nvda_month = nvda_df.resample('M').agg(lambda x: x[-1])\n",
        "nvda_month"
      ],
      "execution_count": 202,
      "outputs": [
        {
          "output_type": "execute_result",
          "data": {
            "text/html": [
              "<div>\n",
              "<style scoped>\n",
              "    .dataframe tbody tr th:only-of-type {\n",
              "        vertical-align: middle;\n",
              "    }\n",
              "\n",
              "    .dataframe tbody tr th {\n",
              "        vertical-align: top;\n",
              "    }\n",
              "\n",
              "    .dataframe thead th {\n",
              "        text-align: right;\n",
              "    }\n",
              "</style>\n",
              "<table border=\"1\" class=\"dataframe\">\n",
              "  <thead>\n",
              "    <tr style=\"text-align: right;\">\n",
              "      <th></th>\n",
              "      <th>Open</th>\n",
              "      <th>High</th>\n",
              "      <th>Low</th>\n",
              "      <th>Close</th>\n",
              "      <th>Volume</th>\n",
              "      <th>Dividends</th>\n",
              "      <th>Stock Splits</th>\n",
              "    </tr>\n",
              "    <tr>\n",
              "      <th>Date</th>\n",
              "      <th></th>\n",
              "      <th></th>\n",
              "      <th></th>\n",
              "      <th></th>\n",
              "      <th></th>\n",
              "      <th></th>\n",
              "      <th></th>\n",
              "    </tr>\n",
              "  </thead>\n",
              "  <tbody>\n",
              "    <tr>\n",
              "      <th>2020-01-31</th>\n",
              "      <td>60.846336</td>\n",
              "      <td>60.966047</td>\n",
              "      <td>58.546859</td>\n",
              "      <td>58.965851</td>\n",
              "      <td>37042000</td>\n",
              "      <td>0.0</td>\n",
              "      <td>0</td>\n",
              "    </tr>\n",
              "    <tr>\n",
              "      <th>2020-02-29</th>\n",
              "      <td>60.505904</td>\n",
              "      <td>67.992401</td>\n",
              "      <td>60.338702</td>\n",
              "      <td>67.395981</td>\n",
              "      <td>113325200</td>\n",
              "      <td>0.0</td>\n",
              "      <td>0</td>\n",
              "    </tr>\n",
              "    <tr>\n",
              "      <th>2020-03-31</th>\n",
              "      <td>66.679784</td>\n",
              "      <td>68.726090</td>\n",
              "      <td>64.321533</td>\n",
              "      <td>65.781403</td>\n",
              "      <td>94996000</td>\n",
              "      <td>0.0</td>\n",
              "      <td>0</td>\n",
              "    </tr>\n",
              "    <tr>\n",
              "      <th>2020-04-30</th>\n",
              "      <td>73.939190</td>\n",
              "      <td>74.480709</td>\n",
              "      <td>72.798744</td>\n",
              "      <td>72.938492</td>\n",
              "      <td>37591600</td>\n",
              "      <td>0.0</td>\n",
              "      <td>0</td>\n",
              "    </tr>\n",
              "    <tr>\n",
              "      <th>2020-05-31</th>\n",
              "      <td>85.391039</td>\n",
              "      <td>88.595261</td>\n",
              "      <td>84.697290</td>\n",
              "      <td>88.595261</td>\n",
              "      <td>74525600</td>\n",
              "      <td>0.0</td>\n",
              "      <td>0</td>\n",
              "    </tr>\n",
              "    <tr>\n",
              "      <th>2020-06-30</th>\n",
              "      <td>93.014792</td>\n",
              "      <td>95.134436</td>\n",
              "      <td>92.540432</td>\n",
              "      <td>94.849823</td>\n",
              "      <td>36789200</td>\n",
              "      <td>0.0</td>\n",
              "      <td>0</td>\n",
              "    </tr>\n",
              "    <tr>\n",
              "      <th>2020-07-31</th>\n",
              "      <td>105.490507</td>\n",
              "      <td>107.520276</td>\n",
              "      <td>104.189760</td>\n",
              "      <td>106.004814</td>\n",
              "      <td>38608000</td>\n",
              "      <td>0.0</td>\n",
              "      <td>0</td>\n",
              "    </tr>\n",
              "    <tr>\n",
              "      <th>2020-08-31</th>\n",
              "      <td>131.650298</td>\n",
              "      <td>135.567526</td>\n",
              "      <td>130.202250</td>\n",
              "      <td>133.565216</td>\n",
              "      <td>50084000</td>\n",
              "      <td>0.0</td>\n",
              "      <td>0</td>\n",
              "    </tr>\n",
              "    <tr>\n",
              "      <th>2020-09-30</th>\n",
              "      <td>131.437447</td>\n",
              "      <td>136.082595</td>\n",
              "      <td>131.365029</td>\n",
              "      <td>135.163544</td>\n",
              "      <td>68918400</td>\n",
              "      <td>0.0</td>\n",
              "      <td>0</td>\n",
              "    </tr>\n",
              "    <tr>\n",
              "      <th>2020-10-31</th>\n",
              "      <td>128.365662</td>\n",
              "      <td>129.229763</td>\n",
              "      <td>122.871411</td>\n",
              "      <td>125.208961</td>\n",
              "      <td>41682000</td>\n",
              "      <td>0.0</td>\n",
              "      <td>0</td>\n",
              "    </tr>\n",
              "    <tr>\n",
              "      <th>2020-11-30</th>\n",
              "      <td>132.511315</td>\n",
              "      <td>133.984779</td>\n",
              "      <td>129.586885</td>\n",
              "      <td>133.874893</td>\n",
              "      <td>28695200</td>\n",
              "      <td>0.0</td>\n",
              "      <td>0</td>\n",
              "    </tr>\n",
              "    <tr>\n",
              "      <th>2020-12-31</th>\n",
              "      <td>131.266448</td>\n",
              "      <td>131.411328</td>\n",
              "      <td>129.053098</td>\n",
              "      <td>130.452057</td>\n",
              "      <td>19242400</td>\n",
              "      <td>0.0</td>\n",
              "      <td>0</td>\n",
              "    </tr>\n",
              "  </tbody>\n",
              "</table>\n",
              "</div>"
            ],
            "text/plain": [
              "                  Open        High  ...  Dividends  Stock Splits\n",
              "Date                                ...                         \n",
              "2020-01-31   60.846336   60.966047  ...        0.0             0\n",
              "2020-02-29   60.505904   67.992401  ...        0.0             0\n",
              "2020-03-31   66.679784   68.726090  ...        0.0             0\n",
              "2020-04-30   73.939190   74.480709  ...        0.0             0\n",
              "2020-05-31   85.391039   88.595261  ...        0.0             0\n",
              "2020-06-30   93.014792   95.134436  ...        0.0             0\n",
              "2020-07-31  105.490507  107.520276  ...        0.0             0\n",
              "2020-08-31  131.650298  135.567526  ...        0.0             0\n",
              "2020-09-30  131.437447  136.082595  ...        0.0             0\n",
              "2020-10-31  128.365662  129.229763  ...        0.0             0\n",
              "2020-11-30  132.511315  133.984779  ...        0.0             0\n",
              "2020-12-31  131.266448  131.411328  ...        0.0             0\n",
              "\n",
              "[12 rows x 7 columns]"
            ]
          },
          "metadata": {},
          "execution_count": 202
        }
      ]
    },
    {
      "cell_type": "markdown",
      "metadata": {
        "id": "CqrbrbFZPTJe"
      },
      "source": [
        "We may select certain columns of a DataFrame using their names:"
      ]
    },
    {
      "cell_type": "code",
      "metadata": {
        "colab": {
          "base_uri": "https://localhost:8080/"
        },
        "id": "7bQGeyCAHW9_",
        "outputId": "cdb2c6e5-7e37-48d7-bf71-a431105e1077"
      },
      "source": [
        "aapl_bar = aapl_month[['Open', 'High', 'Low', 'Close']]\n",
        "print(aapl_bar)"
      ],
      "execution_count": 203,
      "outputs": [
        {
          "output_type": "stream",
          "name": "stdout",
          "text": [
            "                 Open       High        Low      Close\n",
            "Date                                                  \n",
            "2016-01-31  21.852388  22.440250  21.750952  22.440250\n",
            "2016-02-29  22.450755  22.768302  22.402081  22.411352\n",
            "2016-03-31  25.431524  25.473245  25.236823  25.262320\n",
            "2016-04-30  21.785531  21.954736  21.442489  21.727585\n",
            "2016-05-31  23.226407  23.412965  23.044514  23.287039\n",
            "2016-06-30  22.023110  22.333260  21.990462  22.293617\n",
            "2016-07-31  24.296780  24.380731  24.177849  24.301443\n",
            "2016-08-31  24.773054  24.986412  24.768364  24.876215\n",
            "2016-09-30  26.367382  26.580742  26.212639  26.505714\n",
            "2016-10-31  26.646391  26.782378  26.540882  26.620600\n",
            "2016-11-30  26.300088  26.441486  25.986654  26.045570\n",
            "2016-12-31  27.490195  27.619809  27.202685  27.294594\n"
          ]
        }
      ]
    },
    {
      "cell_type": "code",
      "metadata": {
        "colab": {
          "base_uri": "https://localhost:8080/",
          "height": 701
        },
        "id": "zTAX8atgLV6Q",
        "outputId": "9668a6d6-80d3-4dc5-807d-e8a15b8a11d1"
      },
      "source": [
        "# Xamir\n",
        "nvda_bar = nvda_month['Open']\n",
        "print(nvda_bar)\n",
        "nvda_bar = nvda_month[['Open', 'High', 'Low', 'Close']]\n",
        "nvda_bar"
      ],
      "execution_count": 204,
      "outputs": [
        {
          "output_type": "stream",
          "name": "stdout",
          "text": [
            "Date\n",
            "2020-01-31     60.846336\n",
            "2020-02-29     60.505904\n",
            "2020-03-31     66.679784\n",
            "2020-04-30     73.939190\n",
            "2020-05-31     85.391039\n",
            "2020-06-30     93.014792\n",
            "2020-07-31    105.490507\n",
            "2020-08-31    131.650298\n",
            "2020-09-30    131.437447\n",
            "2020-10-31    128.365662\n",
            "2020-11-30    132.511315\n",
            "2020-12-31    131.266448\n",
            "Freq: M, Name: Open, dtype: float64\n"
          ]
        },
        {
          "output_type": "execute_result",
          "data": {
            "text/html": [
              "<div>\n",
              "<style scoped>\n",
              "    .dataframe tbody tr th:only-of-type {\n",
              "        vertical-align: middle;\n",
              "    }\n",
              "\n",
              "    .dataframe tbody tr th {\n",
              "        vertical-align: top;\n",
              "    }\n",
              "\n",
              "    .dataframe thead th {\n",
              "        text-align: right;\n",
              "    }\n",
              "</style>\n",
              "<table border=\"1\" class=\"dataframe\">\n",
              "  <thead>\n",
              "    <tr style=\"text-align: right;\">\n",
              "      <th></th>\n",
              "      <th>Open</th>\n",
              "      <th>High</th>\n",
              "      <th>Low</th>\n",
              "      <th>Close</th>\n",
              "    </tr>\n",
              "    <tr>\n",
              "      <th>Date</th>\n",
              "      <th></th>\n",
              "      <th></th>\n",
              "      <th></th>\n",
              "      <th></th>\n",
              "    </tr>\n",
              "  </thead>\n",
              "  <tbody>\n",
              "    <tr>\n",
              "      <th>2020-01-31</th>\n",
              "      <td>60.846336</td>\n",
              "      <td>60.966047</td>\n",
              "      <td>58.546859</td>\n",
              "      <td>58.965851</td>\n",
              "    </tr>\n",
              "    <tr>\n",
              "      <th>2020-02-29</th>\n",
              "      <td>60.505904</td>\n",
              "      <td>67.992401</td>\n",
              "      <td>60.338702</td>\n",
              "      <td>67.395981</td>\n",
              "    </tr>\n",
              "    <tr>\n",
              "      <th>2020-03-31</th>\n",
              "      <td>66.679784</td>\n",
              "      <td>68.726090</td>\n",
              "      <td>64.321533</td>\n",
              "      <td>65.781403</td>\n",
              "    </tr>\n",
              "    <tr>\n",
              "      <th>2020-04-30</th>\n",
              "      <td>73.939190</td>\n",
              "      <td>74.480709</td>\n",
              "      <td>72.798744</td>\n",
              "      <td>72.938492</td>\n",
              "    </tr>\n",
              "    <tr>\n",
              "      <th>2020-05-31</th>\n",
              "      <td>85.391039</td>\n",
              "      <td>88.595261</td>\n",
              "      <td>84.697290</td>\n",
              "      <td>88.595261</td>\n",
              "    </tr>\n",
              "    <tr>\n",
              "      <th>2020-06-30</th>\n",
              "      <td>93.014792</td>\n",
              "      <td>95.134436</td>\n",
              "      <td>92.540432</td>\n",
              "      <td>94.849823</td>\n",
              "    </tr>\n",
              "    <tr>\n",
              "      <th>2020-07-31</th>\n",
              "      <td>105.490507</td>\n",
              "      <td>107.520276</td>\n",
              "      <td>104.189760</td>\n",
              "      <td>106.004814</td>\n",
              "    </tr>\n",
              "    <tr>\n",
              "      <th>2020-08-31</th>\n",
              "      <td>131.650298</td>\n",
              "      <td>135.567526</td>\n",
              "      <td>130.202250</td>\n",
              "      <td>133.565216</td>\n",
              "    </tr>\n",
              "    <tr>\n",
              "      <th>2020-09-30</th>\n",
              "      <td>131.437447</td>\n",
              "      <td>136.082595</td>\n",
              "      <td>131.365029</td>\n",
              "      <td>135.163544</td>\n",
              "    </tr>\n",
              "    <tr>\n",
              "      <th>2020-10-31</th>\n",
              "      <td>128.365662</td>\n",
              "      <td>129.229763</td>\n",
              "      <td>122.871411</td>\n",
              "      <td>125.208961</td>\n",
              "    </tr>\n",
              "    <tr>\n",
              "      <th>2020-11-30</th>\n",
              "      <td>132.511315</td>\n",
              "      <td>133.984779</td>\n",
              "      <td>129.586885</td>\n",
              "      <td>133.874893</td>\n",
              "    </tr>\n",
              "    <tr>\n",
              "      <th>2020-12-31</th>\n",
              "      <td>131.266448</td>\n",
              "      <td>131.411328</td>\n",
              "      <td>129.053098</td>\n",
              "      <td>130.452057</td>\n",
              "    </tr>\n",
              "  </tbody>\n",
              "</table>\n",
              "</div>"
            ],
            "text/plain": [
              "                  Open        High         Low       Close\n",
              "Date                                                      \n",
              "2020-01-31   60.846336   60.966047   58.546859   58.965851\n",
              "2020-02-29   60.505904   67.992401   60.338702   67.395981\n",
              "2020-03-31   66.679784   68.726090   64.321533   65.781403\n",
              "2020-04-30   73.939190   74.480709   72.798744   72.938492\n",
              "2020-05-31   85.391039   88.595261   84.697290   88.595261\n",
              "2020-06-30   93.014792   95.134436   92.540432   94.849823\n",
              "2020-07-31  105.490507  107.520276  104.189760  106.004814\n",
              "2020-08-31  131.650298  135.567526  130.202250  133.565216\n",
              "2020-09-30  131.437447  136.082595  131.365029  135.163544\n",
              "2020-10-31  128.365662  129.229763  122.871411  125.208961\n",
              "2020-11-30  132.511315  133.984779  129.586885  133.874893\n",
              "2020-12-31  131.266448  131.411328  129.053098  130.452057"
            ]
          },
          "metadata": {},
          "execution_count": 204
        }
      ]
    },
    {
      "cell_type": "markdown",
      "metadata": {
        "id": "8CQaZCAQP68O"
      },
      "source": [
        "We can even specify both rows and columns using loc[]. The row indices and column names are separated by a comma:"
      ]
    },
    {
      "cell_type": "code",
      "metadata": {
        "colab": {
          "base_uri": "https://localhost:8080/"
        },
        "id": "YjWWiHVpHW-A",
        "outputId": "bd3d327d-2d78-4f50-92bc-4387b6a83fe5"
      },
      "source": [
        "print(aapl_month.loc['2016-03':'2016-06',['Open', 'High', 'Low', 'Close']])"
      ],
      "execution_count": 205,
      "outputs": [
        {
          "output_type": "stream",
          "name": "stdout",
          "text": [
            "                 Open       High        Low      Close\n",
            "Date                                                  \n",
            "2016-03-31  25.431524  25.473245  25.236823  25.262320\n",
            "2016-04-30  21.785531  21.954736  21.442489  21.727585\n",
            "2016-05-31  23.226407  23.412965  23.044514  23.287039\n",
            "2016-06-30  22.023110  22.333260  21.990462  22.293617\n"
          ]
        }
      ]
    },
    {
      "cell_type": "code",
      "metadata": {
        "colab": {
          "base_uri": "https://localhost:8080/",
          "height": 173
        },
        "id": "PDWY38ybMjyn",
        "outputId": "e0639035-b1ae-4012-edff-a36b2b98a756"
      },
      "source": [
        "# Xamir\n",
        "nvda_month.loc['2020-03':'2020-05',['Open', 'High', 'Low', 'Close']]"
      ],
      "execution_count": 206,
      "outputs": [
        {
          "output_type": "execute_result",
          "data": {
            "text/html": [
              "<div>\n",
              "<style scoped>\n",
              "    .dataframe tbody tr th:only-of-type {\n",
              "        vertical-align: middle;\n",
              "    }\n",
              "\n",
              "    .dataframe tbody tr th {\n",
              "        vertical-align: top;\n",
              "    }\n",
              "\n",
              "    .dataframe thead th {\n",
              "        text-align: right;\n",
              "    }\n",
              "</style>\n",
              "<table border=\"1\" class=\"dataframe\">\n",
              "  <thead>\n",
              "    <tr style=\"text-align: right;\">\n",
              "      <th></th>\n",
              "      <th>Open</th>\n",
              "      <th>High</th>\n",
              "      <th>Low</th>\n",
              "      <th>Close</th>\n",
              "    </tr>\n",
              "    <tr>\n",
              "      <th>Date</th>\n",
              "      <th></th>\n",
              "      <th></th>\n",
              "      <th></th>\n",
              "      <th></th>\n",
              "    </tr>\n",
              "  </thead>\n",
              "  <tbody>\n",
              "    <tr>\n",
              "      <th>2020-03-31</th>\n",
              "      <td>66.679784</td>\n",
              "      <td>68.726090</td>\n",
              "      <td>64.321533</td>\n",
              "      <td>65.781403</td>\n",
              "    </tr>\n",
              "    <tr>\n",
              "      <th>2020-04-30</th>\n",
              "      <td>73.939190</td>\n",
              "      <td>74.480709</td>\n",
              "      <td>72.798744</td>\n",
              "      <td>72.938492</td>\n",
              "    </tr>\n",
              "    <tr>\n",
              "      <th>2020-05-31</th>\n",
              "      <td>85.391039</td>\n",
              "      <td>88.595261</td>\n",
              "      <td>84.697290</td>\n",
              "      <td>88.595261</td>\n",
              "    </tr>\n",
              "  </tbody>\n",
              "</table>\n",
              "</div>"
            ],
            "text/plain": [
              "                 Open       High        Low      Close\n",
              "Date                                                  \n",
              "2020-03-31  66.679784  68.726090  64.321533  65.781403\n",
              "2020-04-30  73.939190  74.480709  72.798744  72.938492\n",
              "2020-05-31  85.391039  88.595261  84.697290  88.595261"
            ]
          },
          "metadata": {},
          "execution_count": 206
        }
      ]
    },
    {
      "cell_type": "markdown",
      "metadata": {
        "id": "Xcn_pHNLQBEH"
      },
      "source": [
        "The subset methods in DataFrame is quite useful. By writing logical statements in square brackets, we can make customized subsets:"
      ]
    },
    {
      "cell_type": "code",
      "metadata": {
        "colab": {
          "base_uri": "https://localhost:8080/"
        },
        "id": "RxKg4dObHW-A",
        "outputId": "dc6cf265-c2a7-4f98-cef0-3fbc7f2114e7"
      },
      "source": [
        "import numpy as np\n",
        "\n",
        "above = aapl_bar[aapl_bar.Close > np.mean(aapl_bar.Close)]\n",
        "print(above)"
      ],
      "execution_count": 207,
      "outputs": [
        {
          "output_type": "stream",
          "name": "stdout",
          "text": [
            "                 Open       High        Low      Close\n",
            "Date                                                  \n",
            "2016-03-31  25.431524  25.473245  25.236823  25.262320\n",
            "2016-08-31  24.773054  24.986412  24.768364  24.876215\n",
            "2016-09-30  26.367382  26.580742  26.212639  26.505714\n",
            "2016-10-31  26.646391  26.782378  26.540882  26.620600\n",
            "2016-11-30  26.300088  26.441486  25.986654  26.045570\n",
            "2016-12-31  27.490195  27.619809  27.202685  27.294594\n"
          ]
        }
      ]
    },
    {
      "cell_type": "code",
      "metadata": {
        "colab": {
          "base_uri": "https://localhost:8080/",
          "height": 346
        },
        "id": "278piO6KNIyG",
        "outputId": "d85341aa-12a3-4877-fc39-79331578829b"
      },
      "source": [
        "# Xamir\n",
        "import numpy as np\n",
        "\n",
        "nvda_above = nvda_bar[nvda_bar.Close > np.mean(nvda_bar.Close)]\n",
        "print(nvda_above)\n",
        "nvda_above = nvda_bar[nvda_bar['Close'] > np.mean(nvda_bar['Close'])]\n",
        "nvda_above\n",
        "# using query()\n",
        "above_query = 'Close > {}'.format(np.mean(nvda_above.Close))\n",
        "nvda_above = nvda_bar.query(above_query)\n",
        "nvda_above"
      ],
      "execution_count": 208,
      "outputs": [
        {
          "output_type": "stream",
          "name": "stdout",
          "text": [
            "                  Open        High         Low       Close\n",
            "Date                                                      \n",
            "2020-07-31  105.490507  107.520276  104.189760  106.004814\n",
            "2020-08-31  131.650298  135.567526  130.202250  133.565216\n",
            "2020-09-30  131.437447  136.082595  131.365029  135.163544\n",
            "2020-10-31  128.365662  129.229763  122.871411  125.208961\n",
            "2020-11-30  132.511315  133.984779  129.586885  133.874893\n",
            "2020-12-31  131.266448  131.411328  129.053098  130.452057\n"
          ]
        },
        {
          "output_type": "execute_result",
          "data": {
            "text/html": [
              "<div>\n",
              "<style scoped>\n",
              "    .dataframe tbody tr th:only-of-type {\n",
              "        vertical-align: middle;\n",
              "    }\n",
              "\n",
              "    .dataframe tbody tr th {\n",
              "        vertical-align: top;\n",
              "    }\n",
              "\n",
              "    .dataframe thead th {\n",
              "        text-align: right;\n",
              "    }\n",
              "</style>\n",
              "<table border=\"1\" class=\"dataframe\">\n",
              "  <thead>\n",
              "    <tr style=\"text-align: right;\">\n",
              "      <th></th>\n",
              "      <th>Open</th>\n",
              "      <th>High</th>\n",
              "      <th>Low</th>\n",
              "      <th>Close</th>\n",
              "    </tr>\n",
              "    <tr>\n",
              "      <th>Date</th>\n",
              "      <th></th>\n",
              "      <th></th>\n",
              "      <th></th>\n",
              "      <th></th>\n",
              "    </tr>\n",
              "  </thead>\n",
              "  <tbody>\n",
              "    <tr>\n",
              "      <th>2020-08-31</th>\n",
              "      <td>131.650298</td>\n",
              "      <td>135.567526</td>\n",
              "      <td>130.202250</td>\n",
              "      <td>133.565216</td>\n",
              "    </tr>\n",
              "    <tr>\n",
              "      <th>2020-09-30</th>\n",
              "      <td>131.437447</td>\n",
              "      <td>136.082595</td>\n",
              "      <td>131.365029</td>\n",
              "      <td>135.163544</td>\n",
              "    </tr>\n",
              "    <tr>\n",
              "      <th>2020-11-30</th>\n",
              "      <td>132.511315</td>\n",
              "      <td>133.984779</td>\n",
              "      <td>129.586885</td>\n",
              "      <td>133.874893</td>\n",
              "    </tr>\n",
              "    <tr>\n",
              "      <th>2020-12-31</th>\n",
              "      <td>131.266448</td>\n",
              "      <td>131.411328</td>\n",
              "      <td>129.053098</td>\n",
              "      <td>130.452057</td>\n",
              "    </tr>\n",
              "  </tbody>\n",
              "</table>\n",
              "</div>"
            ],
            "text/plain": [
              "                  Open        High         Low       Close\n",
              "Date                                                      \n",
              "2020-08-31  131.650298  135.567526  130.202250  133.565216\n",
              "2020-09-30  131.437447  136.082595  131.365029  135.163544\n",
              "2020-11-30  132.511315  133.984779  129.586885  133.874893\n",
              "2020-12-31  131.266448  131.411328  129.053098  130.452057"
            ]
          },
          "metadata": {},
          "execution_count": 208
        }
      ]
    },
    {
      "cell_type": "markdown",
      "metadata": {
        "id": "wcm_UadkQLL5"
      },
      "source": [
        "## Data Validation\n",
        "As mentioned, all methods that apply to a Series can also be applied to a DataFrame. Here we add a new column to an existing DataFrame:"
      ]
    },
    {
      "cell_type": "code",
      "metadata": {
        "colab": {
          "base_uri": "https://localhost:8080/"
        },
        "id": "jZXFdOVFHW-A",
        "outputId": "03d37229-738f-41f7-e8ec-6b608e128c11"
      },
      "source": [
        "aapl_bar['rate_return'] = aapl_bar.Close.pct_change()\n",
        "print(aapl_bar)"
      ],
      "execution_count": 209,
      "outputs": [
        {
          "output_type": "stream",
          "name": "stdout",
          "text": [
            "                 Open       High        Low      Close  rate_return\n",
            "Date                                                               \n",
            "2016-01-31  21.852388  22.440250  21.750952  22.440250          NaN\n",
            "2016-02-29  22.450755  22.768302  22.402081  22.411352    -0.001288\n",
            "2016-03-31  25.431524  25.473245  25.236823  25.262320     0.127211\n",
            "2016-04-30  21.785531  21.954736  21.442489  21.727585    -0.139921\n",
            "2016-05-31  23.226407  23.412965  23.044514  23.287039     0.071773\n",
            "2016-06-30  22.023110  22.333260  21.990462  22.293617    -0.042660\n",
            "2016-07-31  24.296780  24.380731  24.177849  24.301443     0.090063\n",
            "2016-08-31  24.773054  24.986412  24.768364  24.876215     0.023652\n",
            "2016-09-30  26.367382  26.580742  26.212639  26.505714     0.065504\n",
            "2016-10-31  26.646391  26.782378  26.540882  26.620600     0.004334\n",
            "2016-11-30  26.300088  26.441486  25.986654  26.045570    -0.021601\n",
            "2016-12-31  27.490195  27.619809  27.202685  27.294594     0.047955\n"
          ]
        },
        {
          "output_type": "stream",
          "name": "stderr",
          "text": [
            "/usr/local/lib/python3.7/dist-packages/ipykernel_launcher.py:1: SettingWithCopyWarning: \n",
            "A value is trying to be set on a copy of a slice from a DataFrame.\n",
            "Try using .loc[row_indexer,col_indexer] = value instead\n",
            "\n",
            "See the caveats in the documentation: https://pandas.pydata.org/pandas-docs/stable/user_guide/indexing.html#returning-a-view-versus-a-copy\n",
            "  \"\"\"Entry point for launching an IPython kernel.\n"
          ]
        }
      ]
    },
    {
      "cell_type": "code",
      "metadata": {
        "colab": {
          "base_uri": "https://localhost:8080/",
          "height": 558
        },
        "id": "ZfmeAz_jOmo0",
        "outputId": "c0bebb39-1af6-44ef-d8a2-8fc232f48ca4"
      },
      "source": [
        "# Xamir\n",
        "nvda_bar['rate_return'] = nvda_bar.Close.pct_change()\n",
        "nvda_bar"
      ],
      "execution_count": 210,
      "outputs": [
        {
          "output_type": "stream",
          "name": "stderr",
          "text": [
            "/usr/local/lib/python3.7/dist-packages/ipykernel_launcher.py:2: SettingWithCopyWarning: \n",
            "A value is trying to be set on a copy of a slice from a DataFrame.\n",
            "Try using .loc[row_indexer,col_indexer] = value instead\n",
            "\n",
            "See the caveats in the documentation: https://pandas.pydata.org/pandas-docs/stable/user_guide/indexing.html#returning-a-view-versus-a-copy\n",
            "  \n"
          ]
        },
        {
          "output_type": "execute_result",
          "data": {
            "text/html": [
              "<div>\n",
              "<style scoped>\n",
              "    .dataframe tbody tr th:only-of-type {\n",
              "        vertical-align: middle;\n",
              "    }\n",
              "\n",
              "    .dataframe tbody tr th {\n",
              "        vertical-align: top;\n",
              "    }\n",
              "\n",
              "    .dataframe thead th {\n",
              "        text-align: right;\n",
              "    }\n",
              "</style>\n",
              "<table border=\"1\" class=\"dataframe\">\n",
              "  <thead>\n",
              "    <tr style=\"text-align: right;\">\n",
              "      <th></th>\n",
              "      <th>Open</th>\n",
              "      <th>High</th>\n",
              "      <th>Low</th>\n",
              "      <th>Close</th>\n",
              "      <th>rate_return</th>\n",
              "    </tr>\n",
              "    <tr>\n",
              "      <th>Date</th>\n",
              "      <th></th>\n",
              "      <th></th>\n",
              "      <th></th>\n",
              "      <th></th>\n",
              "      <th></th>\n",
              "    </tr>\n",
              "  </thead>\n",
              "  <tbody>\n",
              "    <tr>\n",
              "      <th>2020-01-31</th>\n",
              "      <td>60.846336</td>\n",
              "      <td>60.966047</td>\n",
              "      <td>58.546859</td>\n",
              "      <td>58.965851</td>\n",
              "      <td>NaN</td>\n",
              "    </tr>\n",
              "    <tr>\n",
              "      <th>2020-02-29</th>\n",
              "      <td>60.505904</td>\n",
              "      <td>67.992401</td>\n",
              "      <td>60.338702</td>\n",
              "      <td>67.395981</td>\n",
              "      <td>0.142966</td>\n",
              "    </tr>\n",
              "    <tr>\n",
              "      <th>2020-03-31</th>\n",
              "      <td>66.679784</td>\n",
              "      <td>68.726090</td>\n",
              "      <td>64.321533</td>\n",
              "      <td>65.781403</td>\n",
              "      <td>-0.023957</td>\n",
              "    </tr>\n",
              "    <tr>\n",
              "      <th>2020-04-30</th>\n",
              "      <td>73.939190</td>\n",
              "      <td>74.480709</td>\n",
              "      <td>72.798744</td>\n",
              "      <td>72.938492</td>\n",
              "      <td>0.108801</td>\n",
              "    </tr>\n",
              "    <tr>\n",
              "      <th>2020-05-31</th>\n",
              "      <td>85.391039</td>\n",
              "      <td>88.595261</td>\n",
              "      <td>84.697290</td>\n",
              "      <td>88.595261</td>\n",
              "      <td>0.214657</td>\n",
              "    </tr>\n",
              "    <tr>\n",
              "      <th>2020-06-30</th>\n",
              "      <td>93.014792</td>\n",
              "      <td>95.134436</td>\n",
              "      <td>92.540432</td>\n",
              "      <td>94.849823</td>\n",
              "      <td>0.070597</td>\n",
              "    </tr>\n",
              "    <tr>\n",
              "      <th>2020-07-31</th>\n",
              "      <td>105.490507</td>\n",
              "      <td>107.520276</td>\n",
              "      <td>104.189760</td>\n",
              "      <td>106.004814</td>\n",
              "      <td>0.117607</td>\n",
              "    </tr>\n",
              "    <tr>\n",
              "      <th>2020-08-31</th>\n",
              "      <td>131.650298</td>\n",
              "      <td>135.567526</td>\n",
              "      <td>130.202250</td>\n",
              "      <td>133.565216</td>\n",
              "      <td>0.259992</td>\n",
              "    </tr>\n",
              "    <tr>\n",
              "      <th>2020-09-30</th>\n",
              "      <td>131.437447</td>\n",
              "      <td>136.082595</td>\n",
              "      <td>131.365029</td>\n",
              "      <td>135.163544</td>\n",
              "      <td>0.011967</td>\n",
              "    </tr>\n",
              "    <tr>\n",
              "      <th>2020-10-31</th>\n",
              "      <td>128.365662</td>\n",
              "      <td>129.229763</td>\n",
              "      <td>122.871411</td>\n",
              "      <td>125.208961</td>\n",
              "      <td>-0.073648</td>\n",
              "    </tr>\n",
              "    <tr>\n",
              "      <th>2020-11-30</th>\n",
              "      <td>132.511315</td>\n",
              "      <td>133.984779</td>\n",
              "      <td>129.586885</td>\n",
              "      <td>133.874893</td>\n",
              "      <td>0.069212</td>\n",
              "    </tr>\n",
              "    <tr>\n",
              "      <th>2020-12-31</th>\n",
              "      <td>131.266448</td>\n",
              "      <td>131.411328</td>\n",
              "      <td>129.053098</td>\n",
              "      <td>130.452057</td>\n",
              "      <td>-0.025567</td>\n",
              "    </tr>\n",
              "  </tbody>\n",
              "</table>\n",
              "</div>"
            ],
            "text/plain": [
              "                  Open        High         Low       Close  rate_return\n",
              "Date                                                                   \n",
              "2020-01-31   60.846336   60.966047   58.546859   58.965851          NaN\n",
              "2020-02-29   60.505904   67.992401   60.338702   67.395981     0.142966\n",
              "2020-03-31   66.679784   68.726090   64.321533   65.781403    -0.023957\n",
              "2020-04-30   73.939190   74.480709   72.798744   72.938492     0.108801\n",
              "2020-05-31   85.391039   88.595261   84.697290   88.595261     0.214657\n",
              "2020-06-30   93.014792   95.134436   92.540432   94.849823     0.070597\n",
              "2020-07-31  105.490507  107.520276  104.189760  106.004814     0.117607\n",
              "2020-08-31  131.650298  135.567526  130.202250  133.565216     0.259992\n",
              "2020-09-30  131.437447  136.082595  131.365029  135.163544     0.011967\n",
              "2020-10-31  128.365662  129.229763  122.871411  125.208961    -0.073648\n",
              "2020-11-30  132.511315  133.984779  129.586885  133.874893     0.069212\n",
              "2020-12-31  131.266448  131.411328  129.053098  130.452057    -0.025567"
            ]
          },
          "metadata": {},
          "execution_count": 210
        }
      ]
    },
    {
      "cell_type": "markdown",
      "metadata": {
        "id": "_or6n5-LQUa-"
      },
      "source": [
        "Here the calculation introduced a NaN value. If the DataFrame is large, we would not be able to observe it. **isnull()** provides a convenient way to check abnormal values."
      ]
    },
    {
      "cell_type": "code",
      "metadata": {
        "colab": {
          "base_uri": "https://localhost:8080/"
        },
        "id": "V5wgmhIPHW-B",
        "outputId": "8451d65b-8c02-4a14-a7d1-6705ae621017"
      },
      "source": [
        "missing = aapl_bar.isnull()\n",
        "print(missing)\n",
        "print('---------------------------------------------')\n",
        "print(missing.describe())"
      ],
      "execution_count": 211,
      "outputs": [
        {
          "output_type": "stream",
          "name": "stdout",
          "text": [
            "             Open   High    Low  Close  rate_return\n",
            "Date                                               \n",
            "2016-01-31  False  False  False  False         True\n",
            "2016-02-29  False  False  False  False        False\n",
            "2016-03-31  False  False  False  False        False\n",
            "2016-04-30  False  False  False  False        False\n",
            "2016-05-31  False  False  False  False        False\n",
            "2016-06-30  False  False  False  False        False\n",
            "2016-07-31  False  False  False  False        False\n",
            "2016-08-31  False  False  False  False        False\n",
            "2016-09-30  False  False  False  False        False\n",
            "2016-10-31  False  False  False  False        False\n",
            "2016-11-30  False  False  False  False        False\n",
            "2016-12-31  False  False  False  False        False\n",
            "---------------------------------------------\n",
            "         Open   High    Low  Close rate_return\n",
            "count      12     12     12     12          12\n",
            "unique      1      1      1      1           2\n",
            "top     False  False  False  False       False\n",
            "freq       12     12     12     12          11\n"
          ]
        }
      ]
    },
    {
      "cell_type": "code",
      "metadata": {
        "colab": {
          "base_uri": "https://localhost:8080/",
          "height": 424
        },
        "id": "qll5WFDbQHIO",
        "outputId": "96db33ff-fc0e-4396-b325-90f59eba4e4d"
      },
      "source": [
        "# Xamir\n",
        "nvda_missing = nvda_bar.isnull()\n",
        "print(nvda_missing)\n",
        "nvda_missing.describe()\n"
      ],
      "execution_count": 212,
      "outputs": [
        {
          "output_type": "stream",
          "name": "stdout",
          "text": [
            "             Open   High    Low  Close  rate_return\n",
            "Date                                               \n",
            "2020-01-31  False  False  False  False         True\n",
            "2020-02-29  False  False  False  False        False\n",
            "2020-03-31  False  False  False  False        False\n",
            "2020-04-30  False  False  False  False        False\n",
            "2020-05-31  False  False  False  False        False\n",
            "2020-06-30  False  False  False  False        False\n",
            "2020-07-31  False  False  False  False        False\n",
            "2020-08-31  False  False  False  False        False\n",
            "2020-09-30  False  False  False  False        False\n",
            "2020-10-31  False  False  False  False        False\n",
            "2020-11-30  False  False  False  False        False\n",
            "2020-12-31  False  False  False  False        False\n"
          ]
        },
        {
          "output_type": "execute_result",
          "data": {
            "text/html": [
              "<div>\n",
              "<style scoped>\n",
              "    .dataframe tbody tr th:only-of-type {\n",
              "        vertical-align: middle;\n",
              "    }\n",
              "\n",
              "    .dataframe tbody tr th {\n",
              "        vertical-align: top;\n",
              "    }\n",
              "\n",
              "    .dataframe thead th {\n",
              "        text-align: right;\n",
              "    }\n",
              "</style>\n",
              "<table border=\"1\" class=\"dataframe\">\n",
              "  <thead>\n",
              "    <tr style=\"text-align: right;\">\n",
              "      <th></th>\n",
              "      <th>Open</th>\n",
              "      <th>High</th>\n",
              "      <th>Low</th>\n",
              "      <th>Close</th>\n",
              "      <th>rate_return</th>\n",
              "    </tr>\n",
              "  </thead>\n",
              "  <tbody>\n",
              "    <tr>\n",
              "      <th>count</th>\n",
              "      <td>12</td>\n",
              "      <td>12</td>\n",
              "      <td>12</td>\n",
              "      <td>12</td>\n",
              "      <td>12</td>\n",
              "    </tr>\n",
              "    <tr>\n",
              "      <th>unique</th>\n",
              "      <td>1</td>\n",
              "      <td>1</td>\n",
              "      <td>1</td>\n",
              "      <td>1</td>\n",
              "      <td>2</td>\n",
              "    </tr>\n",
              "    <tr>\n",
              "      <th>top</th>\n",
              "      <td>False</td>\n",
              "      <td>False</td>\n",
              "      <td>False</td>\n",
              "      <td>False</td>\n",
              "      <td>False</td>\n",
              "    </tr>\n",
              "    <tr>\n",
              "      <th>freq</th>\n",
              "      <td>12</td>\n",
              "      <td>12</td>\n",
              "      <td>12</td>\n",
              "      <td>12</td>\n",
              "      <td>11</td>\n",
              "    </tr>\n",
              "  </tbody>\n",
              "</table>\n",
              "</div>"
            ],
            "text/plain": [
              "         Open   High    Low  Close rate_return\n",
              "count      12     12     12     12          12\n",
              "unique      1      1      1      1           2\n",
              "top     False  False  False  False       False\n",
              "freq       12     12     12     12          11"
            ]
          },
          "metadata": {},
          "execution_count": 212
        }
      ]
    },
    {
      "cell_type": "markdown",
      "metadata": {
        "id": "d6KFV4i0QfLW"
      },
      "source": [
        "The row labelled \"unique\" indicates the number of unique values in each column. Since the \"rate_return\" column has 2 unique values, it has at least one missing value.\n",
        "\n",
        "We can deduce the number of missing values by comparing \"count\" with \"freq\". There are 12 counts and 11 False values, so there is one True value which corresponds to the missing value.\n",
        "\n",
        "We can also find the rows with missing values easily:"
      ]
    },
    {
      "cell_type": "code",
      "metadata": {
        "colab": {
          "base_uri": "https://localhost:8080/"
        },
        "id": "Eo0ZAhCsHW-B",
        "outputId": "03361797-afbd-4cff-e469-7bfa29665a06"
      },
      "source": [
        "print(missing[missing.rate_return == True])"
      ],
      "execution_count": 213,
      "outputs": [
        {
          "output_type": "stream",
          "name": "stdout",
          "text": [
            "             Open   High    Low  Close  rate_return\n",
            "Date                                               \n",
            "2016-01-31  False  False  False  False         True\n"
          ]
        }
      ]
    },
    {
      "cell_type": "code",
      "metadata": {
        "colab": {
          "base_uri": "https://localhost:8080/",
          "height": 111
        },
        "id": "siUokEhCQeTn",
        "outputId": "4c48c838-25ba-4607-ab44-1f699531d96b"
      },
      "source": [
        "# Xamir\n",
        "nvda_missing[nvda_missing.rate_return == True]"
      ],
      "execution_count": 214,
      "outputs": [
        {
          "output_type": "execute_result",
          "data": {
            "text/html": [
              "<div>\n",
              "<style scoped>\n",
              "    .dataframe tbody tr th:only-of-type {\n",
              "        vertical-align: middle;\n",
              "    }\n",
              "\n",
              "    .dataframe tbody tr th {\n",
              "        vertical-align: top;\n",
              "    }\n",
              "\n",
              "    .dataframe thead th {\n",
              "        text-align: right;\n",
              "    }\n",
              "</style>\n",
              "<table border=\"1\" class=\"dataframe\">\n",
              "  <thead>\n",
              "    <tr style=\"text-align: right;\">\n",
              "      <th></th>\n",
              "      <th>Open</th>\n",
              "      <th>High</th>\n",
              "      <th>Low</th>\n",
              "      <th>Close</th>\n",
              "      <th>rate_return</th>\n",
              "    </tr>\n",
              "    <tr>\n",
              "      <th>Date</th>\n",
              "      <th></th>\n",
              "      <th></th>\n",
              "      <th></th>\n",
              "      <th></th>\n",
              "      <th></th>\n",
              "    </tr>\n",
              "  </thead>\n",
              "  <tbody>\n",
              "    <tr>\n",
              "      <th>2020-01-31</th>\n",
              "      <td>False</td>\n",
              "      <td>False</td>\n",
              "      <td>False</td>\n",
              "      <td>False</td>\n",
              "      <td>True</td>\n",
              "    </tr>\n",
              "  </tbody>\n",
              "</table>\n",
              "</div>"
            ],
            "text/plain": [
              "             Open   High    Low  Close  rate_return\n",
              "Date                                               \n",
              "2020-01-31  False  False  False  False         True"
            ]
          },
          "metadata": {},
          "execution_count": 214
        }
      ]
    },
    {
      "cell_type": "markdown",
      "metadata": {
        "id": "qgggpD8OQkZX"
      },
      "source": [
        "Usually when dealing with missing data, we either delete the whole row or fill it with some value. As we introduced in the Series chapter, the same method **dropna()** and **fillna()** can be applied to a DataFrame."
      ]
    },
    {
      "cell_type": "code",
      "metadata": {
        "colab": {
          "base_uri": "https://localhost:8080/"
        },
        "id": "j8PaIokjHW-B",
        "outputId": "4cf189e1-aab0-4c6f-9978-8c08e9cfc994"
      },
      "source": [
        "drop = aapl_bar.dropna()\n",
        "print(drop)\n",
        "print('\\n--------------------------------------------------\\n')\n",
        "fill = aapl_bar.fillna(0)\n",
        "print(fill)"
      ],
      "execution_count": 215,
      "outputs": [
        {
          "output_type": "stream",
          "name": "stdout",
          "text": [
            "                 Open       High        Low      Close  rate_return\n",
            "Date                                                               \n",
            "2016-02-29  22.450755  22.768302  22.402081  22.411352    -0.001288\n",
            "2016-03-31  25.431524  25.473245  25.236823  25.262320     0.127211\n",
            "2016-04-30  21.785531  21.954736  21.442489  21.727585    -0.139921\n",
            "2016-05-31  23.226407  23.412965  23.044514  23.287039     0.071773\n",
            "2016-06-30  22.023110  22.333260  21.990462  22.293617    -0.042660\n",
            "2016-07-31  24.296780  24.380731  24.177849  24.301443     0.090063\n",
            "2016-08-31  24.773054  24.986412  24.768364  24.876215     0.023652\n",
            "2016-09-30  26.367382  26.580742  26.212639  26.505714     0.065504\n",
            "2016-10-31  26.646391  26.782378  26.540882  26.620600     0.004334\n",
            "2016-11-30  26.300088  26.441486  25.986654  26.045570    -0.021601\n",
            "2016-12-31  27.490195  27.619809  27.202685  27.294594     0.047955\n",
            "\n",
            "--------------------------------------------------\n",
            "\n",
            "                 Open       High        Low      Close  rate_return\n",
            "Date                                                               \n",
            "2016-01-31  21.852388  22.440250  21.750952  22.440250     0.000000\n",
            "2016-02-29  22.450755  22.768302  22.402081  22.411352    -0.001288\n",
            "2016-03-31  25.431524  25.473245  25.236823  25.262320     0.127211\n",
            "2016-04-30  21.785531  21.954736  21.442489  21.727585    -0.139921\n",
            "2016-05-31  23.226407  23.412965  23.044514  23.287039     0.071773\n",
            "2016-06-30  22.023110  22.333260  21.990462  22.293617    -0.042660\n",
            "2016-07-31  24.296780  24.380731  24.177849  24.301443     0.090063\n",
            "2016-08-31  24.773054  24.986412  24.768364  24.876215     0.023652\n",
            "2016-09-30  26.367382  26.580742  26.212639  26.505714     0.065504\n",
            "2016-10-31  26.646391  26.782378  26.540882  26.620600     0.004334\n",
            "2016-11-30  26.300088  26.441486  25.986654  26.045570    -0.021601\n",
            "2016-12-31  27.490195  27.619809  27.202685  27.294594     0.047955\n"
          ]
        }
      ]
    },
    {
      "cell_type": "code",
      "metadata": {
        "colab": {
          "base_uri": "https://localhost:8080/",
          "height": 737
        },
        "id": "zPuCkmHHQqYw",
        "outputId": "017b40ab-7b24-473e-ca5c-a1f099a83cd6"
      },
      "source": [
        "# Xamir\n",
        "drop = nvda_bar.dropna()\n",
        "print(drop)\n",
        "print('\\n--------------------------------------------------\\n')\n",
        "fill = nvda_bar.fillna(0)\n",
        "fill"
      ],
      "execution_count": 216,
      "outputs": [
        {
          "output_type": "stream",
          "name": "stdout",
          "text": [
            "                  Open        High         Low       Close  rate_return\n",
            "Date                                                                   \n",
            "2020-02-29   60.505904   67.992401   60.338702   67.395981     0.142966\n",
            "2020-03-31   66.679784   68.726090   64.321533   65.781403    -0.023957\n",
            "2020-04-30   73.939190   74.480709   72.798744   72.938492     0.108801\n",
            "2020-05-31   85.391039   88.595261   84.697290   88.595261     0.214657\n",
            "2020-06-30   93.014792   95.134436   92.540432   94.849823     0.070597\n",
            "2020-07-31  105.490507  107.520276  104.189760  106.004814     0.117607\n",
            "2020-08-31  131.650298  135.567526  130.202250  133.565216     0.259992\n",
            "2020-09-30  131.437447  136.082595  131.365029  135.163544     0.011967\n",
            "2020-10-31  128.365662  129.229763  122.871411  125.208961    -0.073648\n",
            "2020-11-30  132.511315  133.984779  129.586885  133.874893     0.069212\n",
            "2020-12-31  131.266448  131.411328  129.053098  130.452057    -0.025567\n",
            "\n",
            "--------------------------------------------------\n",
            "\n"
          ]
        },
        {
          "output_type": "execute_result",
          "data": {
            "text/html": [
              "<div>\n",
              "<style scoped>\n",
              "    .dataframe tbody tr th:only-of-type {\n",
              "        vertical-align: middle;\n",
              "    }\n",
              "\n",
              "    .dataframe tbody tr th {\n",
              "        vertical-align: top;\n",
              "    }\n",
              "\n",
              "    .dataframe thead th {\n",
              "        text-align: right;\n",
              "    }\n",
              "</style>\n",
              "<table border=\"1\" class=\"dataframe\">\n",
              "  <thead>\n",
              "    <tr style=\"text-align: right;\">\n",
              "      <th></th>\n",
              "      <th>Open</th>\n",
              "      <th>High</th>\n",
              "      <th>Low</th>\n",
              "      <th>Close</th>\n",
              "      <th>rate_return</th>\n",
              "    </tr>\n",
              "    <tr>\n",
              "      <th>Date</th>\n",
              "      <th></th>\n",
              "      <th></th>\n",
              "      <th></th>\n",
              "      <th></th>\n",
              "      <th></th>\n",
              "    </tr>\n",
              "  </thead>\n",
              "  <tbody>\n",
              "    <tr>\n",
              "      <th>2020-01-31</th>\n",
              "      <td>60.846336</td>\n",
              "      <td>60.966047</td>\n",
              "      <td>58.546859</td>\n",
              "      <td>58.965851</td>\n",
              "      <td>0.000000</td>\n",
              "    </tr>\n",
              "    <tr>\n",
              "      <th>2020-02-29</th>\n",
              "      <td>60.505904</td>\n",
              "      <td>67.992401</td>\n",
              "      <td>60.338702</td>\n",
              "      <td>67.395981</td>\n",
              "      <td>0.142966</td>\n",
              "    </tr>\n",
              "    <tr>\n",
              "      <th>2020-03-31</th>\n",
              "      <td>66.679784</td>\n",
              "      <td>68.726090</td>\n",
              "      <td>64.321533</td>\n",
              "      <td>65.781403</td>\n",
              "      <td>-0.023957</td>\n",
              "    </tr>\n",
              "    <tr>\n",
              "      <th>2020-04-30</th>\n",
              "      <td>73.939190</td>\n",
              "      <td>74.480709</td>\n",
              "      <td>72.798744</td>\n",
              "      <td>72.938492</td>\n",
              "      <td>0.108801</td>\n",
              "    </tr>\n",
              "    <tr>\n",
              "      <th>2020-05-31</th>\n",
              "      <td>85.391039</td>\n",
              "      <td>88.595261</td>\n",
              "      <td>84.697290</td>\n",
              "      <td>88.595261</td>\n",
              "      <td>0.214657</td>\n",
              "    </tr>\n",
              "    <tr>\n",
              "      <th>2020-06-30</th>\n",
              "      <td>93.014792</td>\n",
              "      <td>95.134436</td>\n",
              "      <td>92.540432</td>\n",
              "      <td>94.849823</td>\n",
              "      <td>0.070597</td>\n",
              "    </tr>\n",
              "    <tr>\n",
              "      <th>2020-07-31</th>\n",
              "      <td>105.490507</td>\n",
              "      <td>107.520276</td>\n",
              "      <td>104.189760</td>\n",
              "      <td>106.004814</td>\n",
              "      <td>0.117607</td>\n",
              "    </tr>\n",
              "    <tr>\n",
              "      <th>2020-08-31</th>\n",
              "      <td>131.650298</td>\n",
              "      <td>135.567526</td>\n",
              "      <td>130.202250</td>\n",
              "      <td>133.565216</td>\n",
              "      <td>0.259992</td>\n",
              "    </tr>\n",
              "    <tr>\n",
              "      <th>2020-09-30</th>\n",
              "      <td>131.437447</td>\n",
              "      <td>136.082595</td>\n",
              "      <td>131.365029</td>\n",
              "      <td>135.163544</td>\n",
              "      <td>0.011967</td>\n",
              "    </tr>\n",
              "    <tr>\n",
              "      <th>2020-10-31</th>\n",
              "      <td>128.365662</td>\n",
              "      <td>129.229763</td>\n",
              "      <td>122.871411</td>\n",
              "      <td>125.208961</td>\n",
              "      <td>-0.073648</td>\n",
              "    </tr>\n",
              "    <tr>\n",
              "      <th>2020-11-30</th>\n",
              "      <td>132.511315</td>\n",
              "      <td>133.984779</td>\n",
              "      <td>129.586885</td>\n",
              "      <td>133.874893</td>\n",
              "      <td>0.069212</td>\n",
              "    </tr>\n",
              "    <tr>\n",
              "      <th>2020-12-31</th>\n",
              "      <td>131.266448</td>\n",
              "      <td>131.411328</td>\n",
              "      <td>129.053098</td>\n",
              "      <td>130.452057</td>\n",
              "      <td>-0.025567</td>\n",
              "    </tr>\n",
              "  </tbody>\n",
              "</table>\n",
              "</div>"
            ],
            "text/plain": [
              "                  Open        High         Low       Close  rate_return\n",
              "Date                                                                   \n",
              "2020-01-31   60.846336   60.966047   58.546859   58.965851     0.000000\n",
              "2020-02-29   60.505904   67.992401   60.338702   67.395981     0.142966\n",
              "2020-03-31   66.679784   68.726090   64.321533   65.781403    -0.023957\n",
              "2020-04-30   73.939190   74.480709   72.798744   72.938492     0.108801\n",
              "2020-05-31   85.391039   88.595261   84.697290   88.595261     0.214657\n",
              "2020-06-30   93.014792   95.134436   92.540432   94.849823     0.070597\n",
              "2020-07-31  105.490507  107.520276  104.189760  106.004814     0.117607\n",
              "2020-08-31  131.650298  135.567526  130.202250  133.565216     0.259992\n",
              "2020-09-30  131.437447  136.082595  131.365029  135.163544     0.011967\n",
              "2020-10-31  128.365662  129.229763  122.871411  125.208961    -0.073648\n",
              "2020-11-30  132.511315  133.984779  129.586885  133.874893     0.069212\n",
              "2020-12-31  131.266448  131.411328  129.053098  130.452057    -0.025567"
            ]
          },
          "metadata": {},
          "execution_count": 216
        }
      ]
    },
    {
      "cell_type": "markdown",
      "metadata": {
        "id": "0tvoFlKWQxYG"
      },
      "source": [
        "## DataFrame Concat\n",
        "We have seen how to extract a Series from a dataFrame. Now we need to consider how to merge a Series or a DataFrame into another one.\n",
        "\n",
        "In Pandas, the function **concat()** allows us to merge multiple Series into a DataFrame:"
      ]
    },
    {
      "cell_type": "code",
      "metadata": {
        "colab": {
          "base_uri": "https://localhost:8080/"
        },
        "id": "uQrmLIWKHW-C",
        "outputId": "695fdf25-1de8-425d-93ed-66cb63c28e92"
      },
      "source": [
        "s1 = pd.Series([143.5, 144.09, 142.73, 144.18, 143.77], name = 'AAPL')\n",
        "s2 = pd.Series([898.7, 911.71, 906.69, 918.59, 926.99], name = 'GOOG')\n",
        "data_frame = pd.concat([s1,s2], axis = 1)\n",
        "print(data_frame)"
      ],
      "execution_count": 217,
      "outputs": [
        {
          "output_type": "stream",
          "name": "stdout",
          "text": [
            "     AAPL    GOOG\n",
            "0  143.50  898.70\n",
            "1  144.09  911.71\n",
            "2  142.73  906.69\n",
            "3  144.18  918.59\n",
            "4  143.77  926.99\n"
          ]
        }
      ]
    },
    {
      "cell_type": "code",
      "metadata": {
        "colab": {
          "base_uri": "https://localhost:8080/",
          "height": 328
        },
        "id": "NjHrBv5FQy1-",
        "outputId": "d4aa4017-4c50-434a-ac30-78887628b53a"
      },
      "source": [
        "# Xamir\n",
        "s1 = pd.Series([1,2,3,4,5,6,7,8,9], name= 'ALGO')\n",
        "s2 = pd.Series([91,82,73,64,55,46,37,28,19], name= 'MN')\n",
        "data_frame = pd.concat([s1,s2], axis = 1)\n",
        "data_frame"
      ],
      "execution_count": 218,
      "outputs": [
        {
          "output_type": "execute_result",
          "data": {
            "text/html": [
              "<div>\n",
              "<style scoped>\n",
              "    .dataframe tbody tr th:only-of-type {\n",
              "        vertical-align: middle;\n",
              "    }\n",
              "\n",
              "    .dataframe tbody tr th {\n",
              "        vertical-align: top;\n",
              "    }\n",
              "\n",
              "    .dataframe thead th {\n",
              "        text-align: right;\n",
              "    }\n",
              "</style>\n",
              "<table border=\"1\" class=\"dataframe\">\n",
              "  <thead>\n",
              "    <tr style=\"text-align: right;\">\n",
              "      <th></th>\n",
              "      <th>ALGO</th>\n",
              "      <th>MN</th>\n",
              "    </tr>\n",
              "  </thead>\n",
              "  <tbody>\n",
              "    <tr>\n",
              "      <th>0</th>\n",
              "      <td>1</td>\n",
              "      <td>91</td>\n",
              "    </tr>\n",
              "    <tr>\n",
              "      <th>1</th>\n",
              "      <td>2</td>\n",
              "      <td>82</td>\n",
              "    </tr>\n",
              "    <tr>\n",
              "      <th>2</th>\n",
              "      <td>3</td>\n",
              "      <td>73</td>\n",
              "    </tr>\n",
              "    <tr>\n",
              "      <th>3</th>\n",
              "      <td>4</td>\n",
              "      <td>64</td>\n",
              "    </tr>\n",
              "    <tr>\n",
              "      <th>4</th>\n",
              "      <td>5</td>\n",
              "      <td>55</td>\n",
              "    </tr>\n",
              "    <tr>\n",
              "      <th>5</th>\n",
              "      <td>6</td>\n",
              "      <td>46</td>\n",
              "    </tr>\n",
              "    <tr>\n",
              "      <th>6</th>\n",
              "      <td>7</td>\n",
              "      <td>37</td>\n",
              "    </tr>\n",
              "    <tr>\n",
              "      <th>7</th>\n",
              "      <td>8</td>\n",
              "      <td>28</td>\n",
              "    </tr>\n",
              "    <tr>\n",
              "      <th>8</th>\n",
              "      <td>9</td>\n",
              "      <td>19</td>\n",
              "    </tr>\n",
              "  </tbody>\n",
              "</table>\n",
              "</div>"
            ],
            "text/plain": [
              "   ALGO  MN\n",
              "0     1  91\n",
              "1     2  82\n",
              "2     3  73\n",
              "3     4  64\n",
              "4     5  55\n",
              "5     6  46\n",
              "6     7  37\n",
              "7     8  28\n",
              "8     9  19"
            ]
          },
          "metadata": {},
          "execution_count": 218
        }
      ]
    },
    {
      "cell_type": "markdown",
      "metadata": {
        "id": "3ojbNYJLR2vv"
      },
      "source": [
        "The \"axis = 1\" parameter will join two DataFrames by columns:"
      ]
    },
    {
      "cell_type": "code",
      "metadata": {
        "colab": {
          "base_uri": "https://localhost:8080/"
        },
        "id": "DJsaLd-cRoIm",
        "outputId": "097b8ab3-c7d3-4d3d-f53f-a8f86195e14d"
      },
      "source": [
        "log_price = np.log(aapl_bar.Close)\n",
        "log_price.name = 'log_price'\n",
        "print(log_price)\n",
        "print('\\n---------------------- separate line--------------------\\n')\n",
        "concat = pd.concat([aapl_bar, log_price], axis = 1)\n",
        "print(concat)"
      ],
      "execution_count": 219,
      "outputs": [
        {
          "output_type": "stream",
          "name": "stdout",
          "text": [
            "Date\n",
            "2016-01-31    3.110856\n",
            "2016-02-29    3.109568\n",
            "2016-03-31    3.229314\n",
            "2016-04-30    3.078583\n",
            "2016-05-31    3.147897\n",
            "2016-06-30    3.104300\n",
            "2016-07-31    3.190536\n",
            "2016-08-31    3.213912\n",
            "2016-09-30    3.277360\n",
            "2016-10-31    3.281685\n",
            "2016-11-30    3.259848\n",
            "2016-12-31    3.306689\n",
            "Freq: M, Name: log_price, dtype: float64\n",
            "\n",
            "---------------------- separate line--------------------\n",
            "\n",
            "                 Open       High        Low      Close  rate_return  log_price\n",
            "Date                                                                          \n",
            "2016-01-31  21.852388  22.440250  21.750952  22.440250          NaN   3.110856\n",
            "2016-02-29  22.450755  22.768302  22.402081  22.411352    -0.001288   3.109568\n",
            "2016-03-31  25.431524  25.473245  25.236823  25.262320     0.127211   3.229314\n",
            "2016-04-30  21.785531  21.954736  21.442489  21.727585    -0.139921   3.078583\n",
            "2016-05-31  23.226407  23.412965  23.044514  23.287039     0.071773   3.147897\n",
            "2016-06-30  22.023110  22.333260  21.990462  22.293617    -0.042660   3.104300\n",
            "2016-07-31  24.296780  24.380731  24.177849  24.301443     0.090063   3.190536\n",
            "2016-08-31  24.773054  24.986412  24.768364  24.876215     0.023652   3.213912\n",
            "2016-09-30  26.367382  26.580742  26.212639  26.505714     0.065504   3.277360\n",
            "2016-10-31  26.646391  26.782378  26.540882  26.620600     0.004334   3.281685\n",
            "2016-11-30  26.300088  26.441486  25.986654  26.045570    -0.021601   3.259848\n",
            "2016-12-31  27.490195  27.619809  27.202685  27.294594     0.047955   3.306689\n"
          ]
        }
      ]
    },
    {
      "cell_type": "code",
      "metadata": {
        "colab": {
          "base_uri": "https://localhost:8080/",
          "height": 755
        },
        "id": "VgbXf4uSRk0K",
        "outputId": "6615ac89-373a-4d02-aa63-42553e539d16"
      },
      "source": [
        "# Xamir\n",
        "nvda_log_price = np.log(nvda_bar.Close)\n",
        "nvda_log_price.name = 'log_price'\n",
        "print(nvda_log_price)\n",
        "print('\\n---------------------- separate line--------------------\\n')\n",
        "concat = pd.concat([nvda_bar, nvda_log_price], axis = 1)\n",
        "concat"
      ],
      "execution_count": 220,
      "outputs": [
        {
          "output_type": "stream",
          "name": "stdout",
          "text": [
            "Date\n",
            "2020-01-31    4.076958\n",
            "2020-02-29    4.210585\n",
            "2020-03-31    4.186337\n",
            "2020-04-30    4.289617\n",
            "2020-05-31    4.484078\n",
            "2020-06-30    4.552295\n",
            "2020-07-31    4.663485\n",
            "2020-08-31    4.894590\n",
            "2020-09-30    4.906485\n",
            "2020-10-31    4.829984\n",
            "2020-11-30    4.896906\n",
            "2020-12-31    4.871006\n",
            "Freq: M, Name: log_price, dtype: float64\n",
            "\n",
            "---------------------- separate line--------------------\n",
            "\n"
          ]
        },
        {
          "output_type": "execute_result",
          "data": {
            "text/html": [
              "<div>\n",
              "<style scoped>\n",
              "    .dataframe tbody tr th:only-of-type {\n",
              "        vertical-align: middle;\n",
              "    }\n",
              "\n",
              "    .dataframe tbody tr th {\n",
              "        vertical-align: top;\n",
              "    }\n",
              "\n",
              "    .dataframe thead th {\n",
              "        text-align: right;\n",
              "    }\n",
              "</style>\n",
              "<table border=\"1\" class=\"dataframe\">\n",
              "  <thead>\n",
              "    <tr style=\"text-align: right;\">\n",
              "      <th></th>\n",
              "      <th>Open</th>\n",
              "      <th>High</th>\n",
              "      <th>Low</th>\n",
              "      <th>Close</th>\n",
              "      <th>rate_return</th>\n",
              "      <th>log_price</th>\n",
              "    </tr>\n",
              "    <tr>\n",
              "      <th>Date</th>\n",
              "      <th></th>\n",
              "      <th></th>\n",
              "      <th></th>\n",
              "      <th></th>\n",
              "      <th></th>\n",
              "      <th></th>\n",
              "    </tr>\n",
              "  </thead>\n",
              "  <tbody>\n",
              "    <tr>\n",
              "      <th>2020-01-31</th>\n",
              "      <td>60.846336</td>\n",
              "      <td>60.966047</td>\n",
              "      <td>58.546859</td>\n",
              "      <td>58.965851</td>\n",
              "      <td>NaN</td>\n",
              "      <td>4.076958</td>\n",
              "    </tr>\n",
              "    <tr>\n",
              "      <th>2020-02-29</th>\n",
              "      <td>60.505904</td>\n",
              "      <td>67.992401</td>\n",
              "      <td>60.338702</td>\n",
              "      <td>67.395981</td>\n",
              "      <td>0.142966</td>\n",
              "      <td>4.210585</td>\n",
              "    </tr>\n",
              "    <tr>\n",
              "      <th>2020-03-31</th>\n",
              "      <td>66.679784</td>\n",
              "      <td>68.726090</td>\n",
              "      <td>64.321533</td>\n",
              "      <td>65.781403</td>\n",
              "      <td>-0.023957</td>\n",
              "      <td>4.186337</td>\n",
              "    </tr>\n",
              "    <tr>\n",
              "      <th>2020-04-30</th>\n",
              "      <td>73.939190</td>\n",
              "      <td>74.480709</td>\n",
              "      <td>72.798744</td>\n",
              "      <td>72.938492</td>\n",
              "      <td>0.108801</td>\n",
              "      <td>4.289617</td>\n",
              "    </tr>\n",
              "    <tr>\n",
              "      <th>2020-05-31</th>\n",
              "      <td>85.391039</td>\n",
              "      <td>88.595261</td>\n",
              "      <td>84.697290</td>\n",
              "      <td>88.595261</td>\n",
              "      <td>0.214657</td>\n",
              "      <td>4.484078</td>\n",
              "    </tr>\n",
              "    <tr>\n",
              "      <th>2020-06-30</th>\n",
              "      <td>93.014792</td>\n",
              "      <td>95.134436</td>\n",
              "      <td>92.540432</td>\n",
              "      <td>94.849823</td>\n",
              "      <td>0.070597</td>\n",
              "      <td>4.552295</td>\n",
              "    </tr>\n",
              "    <tr>\n",
              "      <th>2020-07-31</th>\n",
              "      <td>105.490507</td>\n",
              "      <td>107.520276</td>\n",
              "      <td>104.189760</td>\n",
              "      <td>106.004814</td>\n",
              "      <td>0.117607</td>\n",
              "      <td>4.663485</td>\n",
              "    </tr>\n",
              "    <tr>\n",
              "      <th>2020-08-31</th>\n",
              "      <td>131.650298</td>\n",
              "      <td>135.567526</td>\n",
              "      <td>130.202250</td>\n",
              "      <td>133.565216</td>\n",
              "      <td>0.259992</td>\n",
              "      <td>4.894590</td>\n",
              "    </tr>\n",
              "    <tr>\n",
              "      <th>2020-09-30</th>\n",
              "      <td>131.437447</td>\n",
              "      <td>136.082595</td>\n",
              "      <td>131.365029</td>\n",
              "      <td>135.163544</td>\n",
              "      <td>0.011967</td>\n",
              "      <td>4.906485</td>\n",
              "    </tr>\n",
              "    <tr>\n",
              "      <th>2020-10-31</th>\n",
              "      <td>128.365662</td>\n",
              "      <td>129.229763</td>\n",
              "      <td>122.871411</td>\n",
              "      <td>125.208961</td>\n",
              "      <td>-0.073648</td>\n",
              "      <td>4.829984</td>\n",
              "    </tr>\n",
              "    <tr>\n",
              "      <th>2020-11-30</th>\n",
              "      <td>132.511315</td>\n",
              "      <td>133.984779</td>\n",
              "      <td>129.586885</td>\n",
              "      <td>133.874893</td>\n",
              "      <td>0.069212</td>\n",
              "      <td>4.896906</td>\n",
              "    </tr>\n",
              "    <tr>\n",
              "      <th>2020-12-31</th>\n",
              "      <td>131.266448</td>\n",
              "      <td>131.411328</td>\n",
              "      <td>129.053098</td>\n",
              "      <td>130.452057</td>\n",
              "      <td>-0.025567</td>\n",
              "      <td>4.871006</td>\n",
              "    </tr>\n",
              "  </tbody>\n",
              "</table>\n",
              "</div>"
            ],
            "text/plain": [
              "                  Open        High  ...  rate_return  log_price\n",
              "Date                                ...                        \n",
              "2020-01-31   60.846336   60.966047  ...          NaN   4.076958\n",
              "2020-02-29   60.505904   67.992401  ...     0.142966   4.210585\n",
              "2020-03-31   66.679784   68.726090  ...    -0.023957   4.186337\n",
              "2020-04-30   73.939190   74.480709  ...     0.108801   4.289617\n",
              "2020-05-31   85.391039   88.595261  ...     0.214657   4.484078\n",
              "2020-06-30   93.014792   95.134436  ...     0.070597   4.552295\n",
              "2020-07-31  105.490507  107.520276  ...     0.117607   4.663485\n",
              "2020-08-31  131.650298  135.567526  ...     0.259992   4.894590\n",
              "2020-09-30  131.437447  136.082595  ...     0.011967   4.906485\n",
              "2020-10-31  128.365662  129.229763  ...    -0.073648   4.829984\n",
              "2020-11-30  132.511315  133.984779  ...     0.069212   4.896906\n",
              "2020-12-31  131.266448  131.411328  ...    -0.025567   4.871006\n",
              "\n",
              "[12 rows x 6 columns]"
            ]
          },
          "metadata": {},
          "execution_count": 220
        }
      ]
    },
    {
      "cell_type": "markdown",
      "metadata": {
        "id": "mIZz-FUyR_62"
      },
      "source": [
        "We can also join two DataFrames by rows. Consider these two DataFrames:"
      ]
    },
    {
      "cell_type": "code",
      "metadata": {
        "colab": {
          "base_uri": "https://localhost:8080/"
        },
        "id": "W7uXZptLHW-C",
        "outputId": "89747678-210b-479e-a10d-e8eb6ef2b694"
      },
      "source": [
        "df_volume = aapl_table.loc['2016-10':'2017-04',['Volume', 'Stock Splits']].resample('M').agg(lambda x: x[-1])\n",
        "print(df_volume)\n",
        "print('\\n---------------------- separate line--------------------\\n')\n",
        "df_2017 = aapl_table.loc['2016-10':'2017-04',['Open', 'High', 'Low', 'Close']].resample('M').agg(lambda x: x[-1])\n",
        "print(df_2017)"
      ],
      "execution_count": 221,
      "outputs": [
        {
          "output_type": "stream",
          "name": "stdout",
          "text": [
            "               Volume  Stock Splits\n",
            "Date                               \n",
            "2016-10-31  105677600             0\n",
            "2016-11-30  144649200             0\n",
            "2016-12-31  122345200             0\n",
            "2017-01-31  196804000             0\n",
            "2017-02-28   93931600             0\n",
            "2017-03-31   78646800             0\n",
            "2017-04-30   83441600             0\n",
            "\n",
            "---------------------- separate line--------------------\n",
            "\n",
            "                 Open       High        Low      Close\n",
            "Date                                                  \n",
            "2016-10-31  26.646391  26.782378  26.540882  26.620600\n",
            "2016-11-30  26.300088  26.441486  25.986654  26.045570\n",
            "2016-12-31  27.490195  27.619809  27.202685  27.294594\n",
            "2017-01-31  28.550679  28.607238  28.425777  28.597811\n",
            "2017-02-28  32.444858  32.530065  32.354916  32.423557\n",
            "2017-03-31  34.016459  34.146637  33.848410  34.002258\n",
            "2017-04-30  34.104039  34.153745  33.909959  33.999897\n"
          ]
        }
      ]
    },
    {
      "cell_type": "code",
      "metadata": {
        "colab": {
          "base_uri": "https://localhost:8080/",
          "height": 511
        },
        "id": "PPX0DMvISoHY",
        "outputId": "61be58ea-b17f-4a41-9e34-87489a8e8fca"
      },
      "source": [
        "# Xamir \n",
        "nvda_df_volume = nvda_table.loc['2020-3':'2020-09',['Volume', 'Stock Splits']].resample('M').agg(lambda x: x[-1])\n",
        "print(nvda_df_volume)\n",
        "print('\\n---------------------- separate line--------------------\\n')\n",
        "nvda_df_2020 = nvda_table.loc['2020-6':'2020-12',['Open', 'High', 'Low', 'Close']].resample('M').agg(lambda x: x[-1])\n",
        "nvda_df_2020"
      ],
      "execution_count": 222,
      "outputs": [
        {
          "output_type": "stream",
          "name": "stdout",
          "text": [
            "              Volume  Stock Splits\n",
            "Date                              \n",
            "2020-03-31  94996000             0\n",
            "2020-04-30  37591600             0\n",
            "2020-05-31  74525600             0\n",
            "2020-06-30  36789200             0\n",
            "2020-07-31  38608000             0\n",
            "2020-08-31  50084000             0\n",
            "2020-09-30  68918400             0\n",
            "\n",
            "---------------------- separate line--------------------\n",
            "\n"
          ]
        },
        {
          "output_type": "execute_result",
          "data": {
            "text/html": [
              "<div>\n",
              "<style scoped>\n",
              "    .dataframe tbody tr th:only-of-type {\n",
              "        vertical-align: middle;\n",
              "    }\n",
              "\n",
              "    .dataframe tbody tr th {\n",
              "        vertical-align: top;\n",
              "    }\n",
              "\n",
              "    .dataframe thead th {\n",
              "        text-align: right;\n",
              "    }\n",
              "</style>\n",
              "<table border=\"1\" class=\"dataframe\">\n",
              "  <thead>\n",
              "    <tr style=\"text-align: right;\">\n",
              "      <th></th>\n",
              "      <th>Open</th>\n",
              "      <th>High</th>\n",
              "      <th>Low</th>\n",
              "      <th>Close</th>\n",
              "    </tr>\n",
              "    <tr>\n",
              "      <th>Date</th>\n",
              "      <th></th>\n",
              "      <th></th>\n",
              "      <th></th>\n",
              "      <th></th>\n",
              "    </tr>\n",
              "  </thead>\n",
              "  <tbody>\n",
              "    <tr>\n",
              "      <th>2020-06-30</th>\n",
              "      <td>93.014792</td>\n",
              "      <td>95.134436</td>\n",
              "      <td>92.540432</td>\n",
              "      <td>94.849823</td>\n",
              "    </tr>\n",
              "    <tr>\n",
              "      <th>2020-07-31</th>\n",
              "      <td>105.490507</td>\n",
              "      <td>107.520276</td>\n",
              "      <td>104.189760</td>\n",
              "      <td>106.004814</td>\n",
              "    </tr>\n",
              "    <tr>\n",
              "      <th>2020-08-31</th>\n",
              "      <td>131.650298</td>\n",
              "      <td>135.567526</td>\n",
              "      <td>130.202250</td>\n",
              "      <td>133.565216</td>\n",
              "    </tr>\n",
              "    <tr>\n",
              "      <th>2020-09-30</th>\n",
              "      <td>131.437447</td>\n",
              "      <td>136.082595</td>\n",
              "      <td>131.365029</td>\n",
              "      <td>135.163544</td>\n",
              "    </tr>\n",
              "    <tr>\n",
              "      <th>2020-10-31</th>\n",
              "      <td>128.365662</td>\n",
              "      <td>129.229763</td>\n",
              "      <td>122.871411</td>\n",
              "      <td>125.208961</td>\n",
              "    </tr>\n",
              "    <tr>\n",
              "      <th>2020-11-30</th>\n",
              "      <td>132.511315</td>\n",
              "      <td>133.984779</td>\n",
              "      <td>129.586885</td>\n",
              "      <td>133.874893</td>\n",
              "    </tr>\n",
              "    <tr>\n",
              "      <th>2020-12-31</th>\n",
              "      <td>131.266448</td>\n",
              "      <td>131.411328</td>\n",
              "      <td>129.053098</td>\n",
              "      <td>130.452057</td>\n",
              "    </tr>\n",
              "  </tbody>\n",
              "</table>\n",
              "</div>"
            ],
            "text/plain": [
              "                  Open        High         Low       Close\n",
              "Date                                                      \n",
              "2020-06-30   93.014792   95.134436   92.540432   94.849823\n",
              "2020-07-31  105.490507  107.520276  104.189760  106.004814\n",
              "2020-08-31  131.650298  135.567526  130.202250  133.565216\n",
              "2020-09-30  131.437447  136.082595  131.365029  135.163544\n",
              "2020-10-31  128.365662  129.229763  122.871411  125.208961\n",
              "2020-11-30  132.511315  133.984779  129.586885  133.874893\n",
              "2020-12-31  131.266448  131.411328  129.053098  130.452057"
            ]
          },
          "metadata": {},
          "execution_count": 222
        }
      ]
    },
    {
      "cell_type": "markdown",
      "metadata": {
        "id": "iZk_C9aSSLeP"
      },
      "source": [
        "Now we merge the DataFrames with our DataFrame 'aapl_bar'"
      ]
    },
    {
      "cell_type": "code",
      "metadata": {
        "colab": {
          "base_uri": "https://localhost:8080/"
        },
        "id": "aFqmjokOHW-C",
        "outputId": "cec4cb52-c669-46a8-9c09-585b81c9e721"
      },
      "source": [
        "concat = pd.concat([aapl_bar, df_volume], axis = 1)\n",
        "print(concat)"
      ],
      "execution_count": 223,
      "outputs": [
        {
          "output_type": "stream",
          "name": "stdout",
          "text": [
            "                 Open       High  ...       Volume  Stock Splits\n",
            "Date                              ...                           \n",
            "2016-01-31  21.852388  22.440250  ...          NaN           NaN\n",
            "2016-02-29  22.450755  22.768302  ...          NaN           NaN\n",
            "2016-03-31  25.431524  25.473245  ...          NaN           NaN\n",
            "2016-04-30  21.785531  21.954736  ...          NaN           NaN\n",
            "2016-05-31  23.226407  23.412965  ...          NaN           NaN\n",
            "2016-06-30  22.023110  22.333260  ...          NaN           NaN\n",
            "2016-07-31  24.296780  24.380731  ...          NaN           NaN\n",
            "2016-08-31  24.773054  24.986412  ...          NaN           NaN\n",
            "2016-09-30  26.367382  26.580742  ...          NaN           NaN\n",
            "2016-10-31  26.646391  26.782378  ...  105677600.0           0.0\n",
            "2016-11-30  26.300088  26.441486  ...  144649200.0           0.0\n",
            "2016-12-31  27.490195  27.619809  ...  122345200.0           0.0\n",
            "2017-01-31        NaN        NaN  ...  196804000.0           0.0\n",
            "2017-02-28        NaN        NaN  ...   93931600.0           0.0\n",
            "2017-03-31        NaN        NaN  ...   78646800.0           0.0\n",
            "2017-04-30        NaN        NaN  ...   83441600.0           0.0\n",
            "\n",
            "[16 rows x 7 columns]\n"
          ]
        }
      ]
    },
    {
      "cell_type": "code",
      "metadata": {
        "colab": {
          "base_uri": "https://localhost:8080/",
          "height": 451
        },
        "id": "FiLKzOvjTeQ4",
        "outputId": "dbe44661-0dda-4877-e2c5-934dd27e0d3d"
      },
      "source": [
        "# Xamir\n",
        "concat = pd.concat([nvda_bar, nvda_df_volume], axis = 1)\n",
        "concat"
      ],
      "execution_count": 224,
      "outputs": [
        {
          "output_type": "execute_result",
          "data": {
            "text/html": [
              "<div>\n",
              "<style scoped>\n",
              "    .dataframe tbody tr th:only-of-type {\n",
              "        vertical-align: middle;\n",
              "    }\n",
              "\n",
              "    .dataframe tbody tr th {\n",
              "        vertical-align: top;\n",
              "    }\n",
              "\n",
              "    .dataframe thead th {\n",
              "        text-align: right;\n",
              "    }\n",
              "</style>\n",
              "<table border=\"1\" class=\"dataframe\">\n",
              "  <thead>\n",
              "    <tr style=\"text-align: right;\">\n",
              "      <th></th>\n",
              "      <th>Open</th>\n",
              "      <th>High</th>\n",
              "      <th>Low</th>\n",
              "      <th>Close</th>\n",
              "      <th>rate_return</th>\n",
              "      <th>Volume</th>\n",
              "      <th>Stock Splits</th>\n",
              "    </tr>\n",
              "    <tr>\n",
              "      <th>Date</th>\n",
              "      <th></th>\n",
              "      <th></th>\n",
              "      <th></th>\n",
              "      <th></th>\n",
              "      <th></th>\n",
              "      <th></th>\n",
              "      <th></th>\n",
              "    </tr>\n",
              "  </thead>\n",
              "  <tbody>\n",
              "    <tr>\n",
              "      <th>2020-01-31</th>\n",
              "      <td>60.846336</td>\n",
              "      <td>60.966047</td>\n",
              "      <td>58.546859</td>\n",
              "      <td>58.965851</td>\n",
              "      <td>NaN</td>\n",
              "      <td>NaN</td>\n",
              "      <td>NaN</td>\n",
              "    </tr>\n",
              "    <tr>\n",
              "      <th>2020-02-29</th>\n",
              "      <td>60.505904</td>\n",
              "      <td>67.992401</td>\n",
              "      <td>60.338702</td>\n",
              "      <td>67.395981</td>\n",
              "      <td>0.142966</td>\n",
              "      <td>NaN</td>\n",
              "      <td>NaN</td>\n",
              "    </tr>\n",
              "    <tr>\n",
              "      <th>2020-03-31</th>\n",
              "      <td>66.679784</td>\n",
              "      <td>68.726090</td>\n",
              "      <td>64.321533</td>\n",
              "      <td>65.781403</td>\n",
              "      <td>-0.023957</td>\n",
              "      <td>94996000.0</td>\n",
              "      <td>0.0</td>\n",
              "    </tr>\n",
              "    <tr>\n",
              "      <th>2020-04-30</th>\n",
              "      <td>73.939190</td>\n",
              "      <td>74.480709</td>\n",
              "      <td>72.798744</td>\n",
              "      <td>72.938492</td>\n",
              "      <td>0.108801</td>\n",
              "      <td>37591600.0</td>\n",
              "      <td>0.0</td>\n",
              "    </tr>\n",
              "    <tr>\n",
              "      <th>2020-05-31</th>\n",
              "      <td>85.391039</td>\n",
              "      <td>88.595261</td>\n",
              "      <td>84.697290</td>\n",
              "      <td>88.595261</td>\n",
              "      <td>0.214657</td>\n",
              "      <td>74525600.0</td>\n",
              "      <td>0.0</td>\n",
              "    </tr>\n",
              "    <tr>\n",
              "      <th>2020-06-30</th>\n",
              "      <td>93.014792</td>\n",
              "      <td>95.134436</td>\n",
              "      <td>92.540432</td>\n",
              "      <td>94.849823</td>\n",
              "      <td>0.070597</td>\n",
              "      <td>36789200.0</td>\n",
              "      <td>0.0</td>\n",
              "    </tr>\n",
              "    <tr>\n",
              "      <th>2020-07-31</th>\n",
              "      <td>105.490507</td>\n",
              "      <td>107.520276</td>\n",
              "      <td>104.189760</td>\n",
              "      <td>106.004814</td>\n",
              "      <td>0.117607</td>\n",
              "      <td>38608000.0</td>\n",
              "      <td>0.0</td>\n",
              "    </tr>\n",
              "    <tr>\n",
              "      <th>2020-08-31</th>\n",
              "      <td>131.650298</td>\n",
              "      <td>135.567526</td>\n",
              "      <td>130.202250</td>\n",
              "      <td>133.565216</td>\n",
              "      <td>0.259992</td>\n",
              "      <td>50084000.0</td>\n",
              "      <td>0.0</td>\n",
              "    </tr>\n",
              "    <tr>\n",
              "      <th>2020-09-30</th>\n",
              "      <td>131.437447</td>\n",
              "      <td>136.082595</td>\n",
              "      <td>131.365029</td>\n",
              "      <td>135.163544</td>\n",
              "      <td>0.011967</td>\n",
              "      <td>68918400.0</td>\n",
              "      <td>0.0</td>\n",
              "    </tr>\n",
              "    <tr>\n",
              "      <th>2020-10-31</th>\n",
              "      <td>128.365662</td>\n",
              "      <td>129.229763</td>\n",
              "      <td>122.871411</td>\n",
              "      <td>125.208961</td>\n",
              "      <td>-0.073648</td>\n",
              "      <td>NaN</td>\n",
              "      <td>NaN</td>\n",
              "    </tr>\n",
              "    <tr>\n",
              "      <th>2020-11-30</th>\n",
              "      <td>132.511315</td>\n",
              "      <td>133.984779</td>\n",
              "      <td>129.586885</td>\n",
              "      <td>133.874893</td>\n",
              "      <td>0.069212</td>\n",
              "      <td>NaN</td>\n",
              "      <td>NaN</td>\n",
              "    </tr>\n",
              "    <tr>\n",
              "      <th>2020-12-31</th>\n",
              "      <td>131.266448</td>\n",
              "      <td>131.411328</td>\n",
              "      <td>129.053098</td>\n",
              "      <td>130.452057</td>\n",
              "      <td>-0.025567</td>\n",
              "      <td>NaN</td>\n",
              "      <td>NaN</td>\n",
              "    </tr>\n",
              "  </tbody>\n",
              "</table>\n",
              "</div>"
            ],
            "text/plain": [
              "                  Open        High  ...      Volume  Stock Splits\n",
              "Date                                ...                          \n",
              "2020-01-31   60.846336   60.966047  ...         NaN           NaN\n",
              "2020-02-29   60.505904   67.992401  ...         NaN           NaN\n",
              "2020-03-31   66.679784   68.726090  ...  94996000.0           0.0\n",
              "2020-04-30   73.939190   74.480709  ...  37591600.0           0.0\n",
              "2020-05-31   85.391039   88.595261  ...  74525600.0           0.0\n",
              "2020-06-30   93.014792   95.134436  ...  36789200.0           0.0\n",
              "2020-07-31  105.490507  107.520276  ...  38608000.0           0.0\n",
              "2020-08-31  131.650298  135.567526  ...  50084000.0           0.0\n",
              "2020-09-30  131.437447  136.082595  ...  68918400.0           0.0\n",
              "2020-10-31  128.365662  129.229763  ...         NaN           NaN\n",
              "2020-11-30  132.511315  133.984779  ...         NaN           NaN\n",
              "2020-12-31  131.266448  131.411328  ...         NaN           NaN\n",
              "\n",
              "[12 rows x 7 columns]"
            ]
          },
          "metadata": {},
          "execution_count": 224
        }
      ]
    },
    {
      "cell_type": "markdown",
      "metadata": {
        "id": "7yI3tgB4SR4O"
      },
      "source": [
        "By default the DataFrame are joined with all of the data. This default options results in zero information loss. We can also merge them by intersection, this is called 'inner join"
      ]
    },
    {
      "cell_type": "code",
      "metadata": {
        "colab": {
          "base_uri": "https://localhost:8080/"
        },
        "id": "31QGLyijHW-C",
        "outputId": "baa74941-cd1a-4b0e-d25b-ada7bf15dc01"
      },
      "source": [
        "concat = pd.concat([aapl_bar,df_volume],axis = 1, join = 'inner')\n",
        "print(concat)"
      ],
      "execution_count": 225,
      "outputs": [
        {
          "output_type": "stream",
          "name": "stdout",
          "text": [
            "                 Open       High  ...     Volume  Stock Splits\n",
            "Date                              ...                         \n",
            "2016-10-31  26.646391  26.782378  ...  105677600             0\n",
            "2016-11-30  26.300088  26.441486  ...  144649200             0\n",
            "2016-12-31  27.490195  27.619809  ...  122345200             0\n",
            "\n",
            "[3 rows x 7 columns]\n"
          ]
        }
      ]
    },
    {
      "cell_type": "code",
      "metadata": {
        "colab": {
          "base_uri": "https://localhost:8080/",
          "height": 296
        },
        "id": "OiV5B7RNT-zc",
        "outputId": "a6627ee4-eaf6-4b2d-8dda-7f148eae6a55"
      },
      "source": [
        "# Xamir \n",
        "concat = pd.concat([nvda_bar,nvda_df_volume],axis = 1, join = 'inner')\n",
        "concat"
      ],
      "execution_count": 226,
      "outputs": [
        {
          "output_type": "execute_result",
          "data": {
            "text/html": [
              "<div>\n",
              "<style scoped>\n",
              "    .dataframe tbody tr th:only-of-type {\n",
              "        vertical-align: middle;\n",
              "    }\n",
              "\n",
              "    .dataframe tbody tr th {\n",
              "        vertical-align: top;\n",
              "    }\n",
              "\n",
              "    .dataframe thead th {\n",
              "        text-align: right;\n",
              "    }\n",
              "</style>\n",
              "<table border=\"1\" class=\"dataframe\">\n",
              "  <thead>\n",
              "    <tr style=\"text-align: right;\">\n",
              "      <th></th>\n",
              "      <th>Open</th>\n",
              "      <th>High</th>\n",
              "      <th>Low</th>\n",
              "      <th>Close</th>\n",
              "      <th>rate_return</th>\n",
              "      <th>Volume</th>\n",
              "      <th>Stock Splits</th>\n",
              "    </tr>\n",
              "    <tr>\n",
              "      <th>Date</th>\n",
              "      <th></th>\n",
              "      <th></th>\n",
              "      <th></th>\n",
              "      <th></th>\n",
              "      <th></th>\n",
              "      <th></th>\n",
              "      <th></th>\n",
              "    </tr>\n",
              "  </thead>\n",
              "  <tbody>\n",
              "    <tr>\n",
              "      <th>2020-03-31</th>\n",
              "      <td>66.679784</td>\n",
              "      <td>68.726090</td>\n",
              "      <td>64.321533</td>\n",
              "      <td>65.781403</td>\n",
              "      <td>-0.023957</td>\n",
              "      <td>94996000</td>\n",
              "      <td>0</td>\n",
              "    </tr>\n",
              "    <tr>\n",
              "      <th>2020-04-30</th>\n",
              "      <td>73.939190</td>\n",
              "      <td>74.480709</td>\n",
              "      <td>72.798744</td>\n",
              "      <td>72.938492</td>\n",
              "      <td>0.108801</td>\n",
              "      <td>37591600</td>\n",
              "      <td>0</td>\n",
              "    </tr>\n",
              "    <tr>\n",
              "      <th>2020-05-31</th>\n",
              "      <td>85.391039</td>\n",
              "      <td>88.595261</td>\n",
              "      <td>84.697290</td>\n",
              "      <td>88.595261</td>\n",
              "      <td>0.214657</td>\n",
              "      <td>74525600</td>\n",
              "      <td>0</td>\n",
              "    </tr>\n",
              "    <tr>\n",
              "      <th>2020-06-30</th>\n",
              "      <td>93.014792</td>\n",
              "      <td>95.134436</td>\n",
              "      <td>92.540432</td>\n",
              "      <td>94.849823</td>\n",
              "      <td>0.070597</td>\n",
              "      <td>36789200</td>\n",
              "      <td>0</td>\n",
              "    </tr>\n",
              "    <tr>\n",
              "      <th>2020-07-31</th>\n",
              "      <td>105.490507</td>\n",
              "      <td>107.520276</td>\n",
              "      <td>104.189760</td>\n",
              "      <td>106.004814</td>\n",
              "      <td>0.117607</td>\n",
              "      <td>38608000</td>\n",
              "      <td>0</td>\n",
              "    </tr>\n",
              "    <tr>\n",
              "      <th>2020-08-31</th>\n",
              "      <td>131.650298</td>\n",
              "      <td>135.567526</td>\n",
              "      <td>130.202250</td>\n",
              "      <td>133.565216</td>\n",
              "      <td>0.259992</td>\n",
              "      <td>50084000</td>\n",
              "      <td>0</td>\n",
              "    </tr>\n",
              "    <tr>\n",
              "      <th>2020-09-30</th>\n",
              "      <td>131.437447</td>\n",
              "      <td>136.082595</td>\n",
              "      <td>131.365029</td>\n",
              "      <td>135.163544</td>\n",
              "      <td>0.011967</td>\n",
              "      <td>68918400</td>\n",
              "      <td>0</td>\n",
              "    </tr>\n",
              "  </tbody>\n",
              "</table>\n",
              "</div>"
            ],
            "text/plain": [
              "                  Open        High  ...    Volume  Stock Splits\n",
              "Date                                ...                        \n",
              "2020-03-31   66.679784   68.726090  ...  94996000             0\n",
              "2020-04-30   73.939190   74.480709  ...  37591600             0\n",
              "2020-05-31   85.391039   88.595261  ...  74525600             0\n",
              "2020-06-30   93.014792   95.134436  ...  36789200             0\n",
              "2020-07-31  105.490507  107.520276  ...  38608000             0\n",
              "2020-08-31  131.650298  135.567526  ...  50084000             0\n",
              "2020-09-30  131.437447  136.082595  ...  68918400             0\n",
              "\n",
              "[7 rows x 7 columns]"
            ]
          },
          "metadata": {},
          "execution_count": 226
        }
      ]
    },
    {
      "cell_type": "markdown",
      "metadata": {
        "id": "oudcWMm5Sd0u"
      },
      "source": [
        "Only the intersection part was left if use 'inner join' method. Now let's try to append a DataFrame to another one:"
      ]
    },
    {
      "cell_type": "code",
      "metadata": {
        "colab": {
          "base_uri": "https://localhost:8080/"
        },
        "id": "lgw0qaOsHW-D",
        "outputId": "b5df2670-1e74-469e-8717-591fdf55420c"
      },
      "source": [
        "append = aapl_bar.append(df_2017)\n",
        "print(append)"
      ],
      "execution_count": 227,
      "outputs": [
        {
          "output_type": "stream",
          "name": "stdout",
          "text": [
            "                 Open       High        Low      Close  rate_return\n",
            "Date                                                               \n",
            "2016-01-31  21.852388  22.440250  21.750952  22.440250          NaN\n",
            "2016-02-29  22.450755  22.768302  22.402081  22.411352    -0.001288\n",
            "2016-03-31  25.431524  25.473245  25.236823  25.262320     0.127211\n",
            "2016-04-30  21.785531  21.954736  21.442489  21.727585    -0.139921\n",
            "2016-05-31  23.226407  23.412965  23.044514  23.287039     0.071773\n",
            "2016-06-30  22.023110  22.333260  21.990462  22.293617    -0.042660\n",
            "2016-07-31  24.296780  24.380731  24.177849  24.301443     0.090063\n",
            "2016-08-31  24.773054  24.986412  24.768364  24.876215     0.023652\n",
            "2016-09-30  26.367382  26.580742  26.212639  26.505714     0.065504\n",
            "2016-10-31  26.646391  26.782378  26.540882  26.620600     0.004334\n",
            "2016-11-30  26.300088  26.441486  25.986654  26.045570    -0.021601\n",
            "2016-12-31  27.490195  27.619809  27.202685  27.294594     0.047955\n",
            "2016-10-31  26.646391  26.782378  26.540882  26.620600          NaN\n",
            "2016-11-30  26.300088  26.441486  25.986654  26.045570          NaN\n",
            "2016-12-31  27.490195  27.619809  27.202685  27.294594          NaN\n",
            "2017-01-31  28.550679  28.607238  28.425777  28.597811          NaN\n",
            "2017-02-28  32.444858  32.530065  32.354916  32.423557          NaN\n",
            "2017-03-31  34.016459  34.146637  33.848410  34.002258          NaN\n",
            "2017-04-30  34.104039  34.153745  33.909959  33.999897          NaN\n"
          ]
        }
      ]
    },
    {
      "cell_type": "code",
      "metadata": {
        "colab": {
          "base_uri": "https://localhost:8080/",
          "height": 668
        },
        "id": "WRkwKxwyUXrU",
        "outputId": "489f9314-0e86-4d83-e033-34c22bed3fa3"
      },
      "source": [
        "# Xamir\n",
        "append = nvda_bar.append(nvda_df_2020)\n",
        "append"
      ],
      "execution_count": 228,
      "outputs": [
        {
          "output_type": "execute_result",
          "data": {
            "text/html": [
              "<div>\n",
              "<style scoped>\n",
              "    .dataframe tbody tr th:only-of-type {\n",
              "        vertical-align: middle;\n",
              "    }\n",
              "\n",
              "    .dataframe tbody tr th {\n",
              "        vertical-align: top;\n",
              "    }\n",
              "\n",
              "    .dataframe thead th {\n",
              "        text-align: right;\n",
              "    }\n",
              "</style>\n",
              "<table border=\"1\" class=\"dataframe\">\n",
              "  <thead>\n",
              "    <tr style=\"text-align: right;\">\n",
              "      <th></th>\n",
              "      <th>Open</th>\n",
              "      <th>High</th>\n",
              "      <th>Low</th>\n",
              "      <th>Close</th>\n",
              "      <th>rate_return</th>\n",
              "    </tr>\n",
              "    <tr>\n",
              "      <th>Date</th>\n",
              "      <th></th>\n",
              "      <th></th>\n",
              "      <th></th>\n",
              "      <th></th>\n",
              "      <th></th>\n",
              "    </tr>\n",
              "  </thead>\n",
              "  <tbody>\n",
              "    <tr>\n",
              "      <th>2020-01-31</th>\n",
              "      <td>60.846336</td>\n",
              "      <td>60.966047</td>\n",
              "      <td>58.546859</td>\n",
              "      <td>58.965851</td>\n",
              "      <td>NaN</td>\n",
              "    </tr>\n",
              "    <tr>\n",
              "      <th>2020-02-29</th>\n",
              "      <td>60.505904</td>\n",
              "      <td>67.992401</td>\n",
              "      <td>60.338702</td>\n",
              "      <td>67.395981</td>\n",
              "      <td>0.142966</td>\n",
              "    </tr>\n",
              "    <tr>\n",
              "      <th>2020-03-31</th>\n",
              "      <td>66.679784</td>\n",
              "      <td>68.726090</td>\n",
              "      <td>64.321533</td>\n",
              "      <td>65.781403</td>\n",
              "      <td>-0.023957</td>\n",
              "    </tr>\n",
              "    <tr>\n",
              "      <th>2020-04-30</th>\n",
              "      <td>73.939190</td>\n",
              "      <td>74.480709</td>\n",
              "      <td>72.798744</td>\n",
              "      <td>72.938492</td>\n",
              "      <td>0.108801</td>\n",
              "    </tr>\n",
              "    <tr>\n",
              "      <th>2020-05-31</th>\n",
              "      <td>85.391039</td>\n",
              "      <td>88.595261</td>\n",
              "      <td>84.697290</td>\n",
              "      <td>88.595261</td>\n",
              "      <td>0.214657</td>\n",
              "    </tr>\n",
              "    <tr>\n",
              "      <th>2020-06-30</th>\n",
              "      <td>93.014792</td>\n",
              "      <td>95.134436</td>\n",
              "      <td>92.540432</td>\n",
              "      <td>94.849823</td>\n",
              "      <td>0.070597</td>\n",
              "    </tr>\n",
              "    <tr>\n",
              "      <th>2020-07-31</th>\n",
              "      <td>105.490507</td>\n",
              "      <td>107.520276</td>\n",
              "      <td>104.189760</td>\n",
              "      <td>106.004814</td>\n",
              "      <td>0.117607</td>\n",
              "    </tr>\n",
              "    <tr>\n",
              "      <th>2020-08-31</th>\n",
              "      <td>131.650298</td>\n",
              "      <td>135.567526</td>\n",
              "      <td>130.202250</td>\n",
              "      <td>133.565216</td>\n",
              "      <td>0.259992</td>\n",
              "    </tr>\n",
              "    <tr>\n",
              "      <th>2020-09-30</th>\n",
              "      <td>131.437447</td>\n",
              "      <td>136.082595</td>\n",
              "      <td>131.365029</td>\n",
              "      <td>135.163544</td>\n",
              "      <td>0.011967</td>\n",
              "    </tr>\n",
              "    <tr>\n",
              "      <th>2020-10-31</th>\n",
              "      <td>128.365662</td>\n",
              "      <td>129.229763</td>\n",
              "      <td>122.871411</td>\n",
              "      <td>125.208961</td>\n",
              "      <td>-0.073648</td>\n",
              "    </tr>\n",
              "    <tr>\n",
              "      <th>2020-11-30</th>\n",
              "      <td>132.511315</td>\n",
              "      <td>133.984779</td>\n",
              "      <td>129.586885</td>\n",
              "      <td>133.874893</td>\n",
              "      <td>0.069212</td>\n",
              "    </tr>\n",
              "    <tr>\n",
              "      <th>2020-12-31</th>\n",
              "      <td>131.266448</td>\n",
              "      <td>131.411328</td>\n",
              "      <td>129.053098</td>\n",
              "      <td>130.452057</td>\n",
              "      <td>-0.025567</td>\n",
              "    </tr>\n",
              "    <tr>\n",
              "      <th>2020-06-30</th>\n",
              "      <td>93.014792</td>\n",
              "      <td>95.134436</td>\n",
              "      <td>92.540432</td>\n",
              "      <td>94.849823</td>\n",
              "      <td>NaN</td>\n",
              "    </tr>\n",
              "    <tr>\n",
              "      <th>2020-07-31</th>\n",
              "      <td>105.490507</td>\n",
              "      <td>107.520276</td>\n",
              "      <td>104.189760</td>\n",
              "      <td>106.004814</td>\n",
              "      <td>NaN</td>\n",
              "    </tr>\n",
              "    <tr>\n",
              "      <th>2020-08-31</th>\n",
              "      <td>131.650298</td>\n",
              "      <td>135.567526</td>\n",
              "      <td>130.202250</td>\n",
              "      <td>133.565216</td>\n",
              "      <td>NaN</td>\n",
              "    </tr>\n",
              "    <tr>\n",
              "      <th>2020-09-30</th>\n",
              "      <td>131.437447</td>\n",
              "      <td>136.082595</td>\n",
              "      <td>131.365029</td>\n",
              "      <td>135.163544</td>\n",
              "      <td>NaN</td>\n",
              "    </tr>\n",
              "    <tr>\n",
              "      <th>2020-10-31</th>\n",
              "      <td>128.365662</td>\n",
              "      <td>129.229763</td>\n",
              "      <td>122.871411</td>\n",
              "      <td>125.208961</td>\n",
              "      <td>NaN</td>\n",
              "    </tr>\n",
              "    <tr>\n",
              "      <th>2020-11-30</th>\n",
              "      <td>132.511315</td>\n",
              "      <td>133.984779</td>\n",
              "      <td>129.586885</td>\n",
              "      <td>133.874893</td>\n",
              "      <td>NaN</td>\n",
              "    </tr>\n",
              "    <tr>\n",
              "      <th>2020-12-31</th>\n",
              "      <td>131.266448</td>\n",
              "      <td>131.411328</td>\n",
              "      <td>129.053098</td>\n",
              "      <td>130.452057</td>\n",
              "      <td>NaN</td>\n",
              "    </tr>\n",
              "  </tbody>\n",
              "</table>\n",
              "</div>"
            ],
            "text/plain": [
              "                  Open        High         Low       Close  rate_return\n",
              "Date                                                                   \n",
              "2020-01-31   60.846336   60.966047   58.546859   58.965851          NaN\n",
              "2020-02-29   60.505904   67.992401   60.338702   67.395981     0.142966\n",
              "2020-03-31   66.679784   68.726090   64.321533   65.781403    -0.023957\n",
              "2020-04-30   73.939190   74.480709   72.798744   72.938492     0.108801\n",
              "2020-05-31   85.391039   88.595261   84.697290   88.595261     0.214657\n",
              "2020-06-30   93.014792   95.134436   92.540432   94.849823     0.070597\n",
              "2020-07-31  105.490507  107.520276  104.189760  106.004814     0.117607\n",
              "2020-08-31  131.650298  135.567526  130.202250  133.565216     0.259992\n",
              "2020-09-30  131.437447  136.082595  131.365029  135.163544     0.011967\n",
              "2020-10-31  128.365662  129.229763  122.871411  125.208961    -0.073648\n",
              "2020-11-30  132.511315  133.984779  129.586885  133.874893     0.069212\n",
              "2020-12-31  131.266448  131.411328  129.053098  130.452057    -0.025567\n",
              "2020-06-30   93.014792   95.134436   92.540432   94.849823          NaN\n",
              "2020-07-31  105.490507  107.520276  104.189760  106.004814          NaN\n",
              "2020-08-31  131.650298  135.567526  130.202250  133.565216          NaN\n",
              "2020-09-30  131.437447  136.082595  131.365029  135.163544          NaN\n",
              "2020-10-31  128.365662  129.229763  122.871411  125.208961          NaN\n",
              "2020-11-30  132.511315  133.984779  129.586885  133.874893          NaN\n",
              "2020-12-31  131.266448  131.411328  129.053098  130.452057          NaN"
            ]
          },
          "metadata": {},
          "execution_count": 228
        }
      ]
    },
    {
      "cell_type": "markdown",
      "metadata": {
        "id": "zXT6cMquSq_P"
      },
      "source": [
        "'Append' is essentially to concat two DataFrames by axis = 0, thus here is an alternative way to append:"
      ]
    },
    {
      "cell_type": "code",
      "metadata": {
        "colab": {
          "base_uri": "https://localhost:8080/"
        },
        "id": "2EuSaFO9HW-D",
        "outputId": "6701179d-b9cc-4859-db7b-483d534c0072"
      },
      "source": [
        "concat = pd.concat([aapl_bar, df_2017], axis = 0)\n",
        "print(concat)"
      ],
      "execution_count": 229,
      "outputs": [
        {
          "output_type": "stream",
          "name": "stdout",
          "text": [
            "                 Open       High        Low      Close  rate_return\n",
            "Date                                                               \n",
            "2016-01-31  21.852388  22.440250  21.750952  22.440250          NaN\n",
            "2016-02-29  22.450755  22.768302  22.402081  22.411352    -0.001288\n",
            "2016-03-31  25.431524  25.473245  25.236823  25.262320     0.127211\n",
            "2016-04-30  21.785531  21.954736  21.442489  21.727585    -0.139921\n",
            "2016-05-31  23.226407  23.412965  23.044514  23.287039     0.071773\n",
            "2016-06-30  22.023110  22.333260  21.990462  22.293617    -0.042660\n",
            "2016-07-31  24.296780  24.380731  24.177849  24.301443     0.090063\n",
            "2016-08-31  24.773054  24.986412  24.768364  24.876215     0.023652\n",
            "2016-09-30  26.367382  26.580742  26.212639  26.505714     0.065504\n",
            "2016-10-31  26.646391  26.782378  26.540882  26.620600     0.004334\n",
            "2016-11-30  26.300088  26.441486  25.986654  26.045570    -0.021601\n",
            "2016-12-31  27.490195  27.619809  27.202685  27.294594     0.047955\n",
            "2016-10-31  26.646391  26.782378  26.540882  26.620600          NaN\n",
            "2016-11-30  26.300088  26.441486  25.986654  26.045570          NaN\n",
            "2016-12-31  27.490195  27.619809  27.202685  27.294594          NaN\n",
            "2017-01-31  28.550679  28.607238  28.425777  28.597811          NaN\n",
            "2017-02-28  32.444858  32.530065  32.354916  32.423557          NaN\n",
            "2017-03-31  34.016459  34.146637  33.848410  34.002258          NaN\n",
            "2017-04-30  34.104039  34.153745  33.909959  33.999897          NaN\n"
          ]
        }
      ]
    },
    {
      "cell_type": "code",
      "metadata": {
        "colab": {
          "base_uri": "https://localhost:8080/",
          "height": 668
        },
        "id": "MN00b5GsVLyj",
        "outputId": "92339b36-c1a5-4ab9-ac79-8c93c6659786"
      },
      "source": [
        "# Xamir\n",
        "concat = pd.concat([nvda_bar, nvda_df_2020], axis = 0)\n",
        "concat"
      ],
      "execution_count": 230,
      "outputs": [
        {
          "output_type": "execute_result",
          "data": {
            "text/html": [
              "<div>\n",
              "<style scoped>\n",
              "    .dataframe tbody tr th:only-of-type {\n",
              "        vertical-align: middle;\n",
              "    }\n",
              "\n",
              "    .dataframe tbody tr th {\n",
              "        vertical-align: top;\n",
              "    }\n",
              "\n",
              "    .dataframe thead th {\n",
              "        text-align: right;\n",
              "    }\n",
              "</style>\n",
              "<table border=\"1\" class=\"dataframe\">\n",
              "  <thead>\n",
              "    <tr style=\"text-align: right;\">\n",
              "      <th></th>\n",
              "      <th>Open</th>\n",
              "      <th>High</th>\n",
              "      <th>Low</th>\n",
              "      <th>Close</th>\n",
              "      <th>rate_return</th>\n",
              "    </tr>\n",
              "    <tr>\n",
              "      <th>Date</th>\n",
              "      <th></th>\n",
              "      <th></th>\n",
              "      <th></th>\n",
              "      <th></th>\n",
              "      <th></th>\n",
              "    </tr>\n",
              "  </thead>\n",
              "  <tbody>\n",
              "    <tr>\n",
              "      <th>2020-01-31</th>\n",
              "      <td>60.846336</td>\n",
              "      <td>60.966047</td>\n",
              "      <td>58.546859</td>\n",
              "      <td>58.965851</td>\n",
              "      <td>NaN</td>\n",
              "    </tr>\n",
              "    <tr>\n",
              "      <th>2020-02-29</th>\n",
              "      <td>60.505904</td>\n",
              "      <td>67.992401</td>\n",
              "      <td>60.338702</td>\n",
              "      <td>67.395981</td>\n",
              "      <td>0.142966</td>\n",
              "    </tr>\n",
              "    <tr>\n",
              "      <th>2020-03-31</th>\n",
              "      <td>66.679784</td>\n",
              "      <td>68.726090</td>\n",
              "      <td>64.321533</td>\n",
              "      <td>65.781403</td>\n",
              "      <td>-0.023957</td>\n",
              "    </tr>\n",
              "    <tr>\n",
              "      <th>2020-04-30</th>\n",
              "      <td>73.939190</td>\n",
              "      <td>74.480709</td>\n",
              "      <td>72.798744</td>\n",
              "      <td>72.938492</td>\n",
              "      <td>0.108801</td>\n",
              "    </tr>\n",
              "    <tr>\n",
              "      <th>2020-05-31</th>\n",
              "      <td>85.391039</td>\n",
              "      <td>88.595261</td>\n",
              "      <td>84.697290</td>\n",
              "      <td>88.595261</td>\n",
              "      <td>0.214657</td>\n",
              "    </tr>\n",
              "    <tr>\n",
              "      <th>2020-06-30</th>\n",
              "      <td>93.014792</td>\n",
              "      <td>95.134436</td>\n",
              "      <td>92.540432</td>\n",
              "      <td>94.849823</td>\n",
              "      <td>0.070597</td>\n",
              "    </tr>\n",
              "    <tr>\n",
              "      <th>2020-07-31</th>\n",
              "      <td>105.490507</td>\n",
              "      <td>107.520276</td>\n",
              "      <td>104.189760</td>\n",
              "      <td>106.004814</td>\n",
              "      <td>0.117607</td>\n",
              "    </tr>\n",
              "    <tr>\n",
              "      <th>2020-08-31</th>\n",
              "      <td>131.650298</td>\n",
              "      <td>135.567526</td>\n",
              "      <td>130.202250</td>\n",
              "      <td>133.565216</td>\n",
              "      <td>0.259992</td>\n",
              "    </tr>\n",
              "    <tr>\n",
              "      <th>2020-09-30</th>\n",
              "      <td>131.437447</td>\n",
              "      <td>136.082595</td>\n",
              "      <td>131.365029</td>\n",
              "      <td>135.163544</td>\n",
              "      <td>0.011967</td>\n",
              "    </tr>\n",
              "    <tr>\n",
              "      <th>2020-10-31</th>\n",
              "      <td>128.365662</td>\n",
              "      <td>129.229763</td>\n",
              "      <td>122.871411</td>\n",
              "      <td>125.208961</td>\n",
              "      <td>-0.073648</td>\n",
              "    </tr>\n",
              "    <tr>\n",
              "      <th>2020-11-30</th>\n",
              "      <td>132.511315</td>\n",
              "      <td>133.984779</td>\n",
              "      <td>129.586885</td>\n",
              "      <td>133.874893</td>\n",
              "      <td>0.069212</td>\n",
              "    </tr>\n",
              "    <tr>\n",
              "      <th>2020-12-31</th>\n",
              "      <td>131.266448</td>\n",
              "      <td>131.411328</td>\n",
              "      <td>129.053098</td>\n",
              "      <td>130.452057</td>\n",
              "      <td>-0.025567</td>\n",
              "    </tr>\n",
              "    <tr>\n",
              "      <th>2020-06-30</th>\n",
              "      <td>93.014792</td>\n",
              "      <td>95.134436</td>\n",
              "      <td>92.540432</td>\n",
              "      <td>94.849823</td>\n",
              "      <td>NaN</td>\n",
              "    </tr>\n",
              "    <tr>\n",
              "      <th>2020-07-31</th>\n",
              "      <td>105.490507</td>\n",
              "      <td>107.520276</td>\n",
              "      <td>104.189760</td>\n",
              "      <td>106.004814</td>\n",
              "      <td>NaN</td>\n",
              "    </tr>\n",
              "    <tr>\n",
              "      <th>2020-08-31</th>\n",
              "      <td>131.650298</td>\n",
              "      <td>135.567526</td>\n",
              "      <td>130.202250</td>\n",
              "      <td>133.565216</td>\n",
              "      <td>NaN</td>\n",
              "    </tr>\n",
              "    <tr>\n",
              "      <th>2020-09-30</th>\n",
              "      <td>131.437447</td>\n",
              "      <td>136.082595</td>\n",
              "      <td>131.365029</td>\n",
              "      <td>135.163544</td>\n",
              "      <td>NaN</td>\n",
              "    </tr>\n",
              "    <tr>\n",
              "      <th>2020-10-31</th>\n",
              "      <td>128.365662</td>\n",
              "      <td>129.229763</td>\n",
              "      <td>122.871411</td>\n",
              "      <td>125.208961</td>\n",
              "      <td>NaN</td>\n",
              "    </tr>\n",
              "    <tr>\n",
              "      <th>2020-11-30</th>\n",
              "      <td>132.511315</td>\n",
              "      <td>133.984779</td>\n",
              "      <td>129.586885</td>\n",
              "      <td>133.874893</td>\n",
              "      <td>NaN</td>\n",
              "    </tr>\n",
              "    <tr>\n",
              "      <th>2020-12-31</th>\n",
              "      <td>131.266448</td>\n",
              "      <td>131.411328</td>\n",
              "      <td>129.053098</td>\n",
              "      <td>130.452057</td>\n",
              "      <td>NaN</td>\n",
              "    </tr>\n",
              "  </tbody>\n",
              "</table>\n",
              "</div>"
            ],
            "text/plain": [
              "                  Open        High         Low       Close  rate_return\n",
              "Date                                                                   \n",
              "2020-01-31   60.846336   60.966047   58.546859   58.965851          NaN\n",
              "2020-02-29   60.505904   67.992401   60.338702   67.395981     0.142966\n",
              "2020-03-31   66.679784   68.726090   64.321533   65.781403    -0.023957\n",
              "2020-04-30   73.939190   74.480709   72.798744   72.938492     0.108801\n",
              "2020-05-31   85.391039   88.595261   84.697290   88.595261     0.214657\n",
              "2020-06-30   93.014792   95.134436   92.540432   94.849823     0.070597\n",
              "2020-07-31  105.490507  107.520276  104.189760  106.004814     0.117607\n",
              "2020-08-31  131.650298  135.567526  130.202250  133.565216     0.259992\n",
              "2020-09-30  131.437447  136.082595  131.365029  135.163544     0.011967\n",
              "2020-10-31  128.365662  129.229763  122.871411  125.208961    -0.073648\n",
              "2020-11-30  132.511315  133.984779  129.586885  133.874893     0.069212\n",
              "2020-12-31  131.266448  131.411328  129.053098  130.452057    -0.025567\n",
              "2020-06-30   93.014792   95.134436   92.540432   94.849823          NaN\n",
              "2020-07-31  105.490507  107.520276  104.189760  106.004814          NaN\n",
              "2020-08-31  131.650298  135.567526  130.202250  133.565216          NaN\n",
              "2020-09-30  131.437447  136.082595  131.365029  135.163544          NaN\n",
              "2020-10-31  128.365662  129.229763  122.871411  125.208961          NaN\n",
              "2020-11-30  132.511315  133.984779  129.586885  133.874893          NaN\n",
              "2020-12-31  131.266448  131.411328  129.053098  130.452057          NaN"
            ]
          },
          "metadata": {},
          "execution_count": 230
        }
      ]
    },
    {
      "cell_type": "markdown",
      "metadata": {
        "id": "-YXL7V9ASst9"
      },
      "source": [
        "Please note that if the two DataFrame have some columns with the same column names, these columns are considered to be the same and will be merged. It's very important to have the right column names. If we change a column names here:"
      ]
    },
    {
      "cell_type": "code",
      "metadata": {
        "colab": {
          "base_uri": "https://localhost:8080/"
        },
        "id": "aT1eoa8mHW-D",
        "outputId": "09a19bd3-bc56-4fbc-d307-06bc104b42ce"
      },
      "source": [
        "df_2017.columns = ['Change', 'High','Low','Close']\n",
        "concat = pd.concat([aapl_bar, df_2017], axis = 0)\n",
        "print(concat)"
      ],
      "execution_count": 231,
      "outputs": [
        {
          "output_type": "stream",
          "name": "stdout",
          "text": [
            "                 Open       High        Low      Close  rate_return     Change\n",
            "Date                                                                          \n",
            "2016-01-31  21.852388  22.440250  21.750952  22.440250          NaN        NaN\n",
            "2016-02-29  22.450755  22.768302  22.402081  22.411352    -0.001288        NaN\n",
            "2016-03-31  25.431524  25.473245  25.236823  25.262320     0.127211        NaN\n",
            "2016-04-30  21.785531  21.954736  21.442489  21.727585    -0.139921        NaN\n",
            "2016-05-31  23.226407  23.412965  23.044514  23.287039     0.071773        NaN\n",
            "2016-06-30  22.023110  22.333260  21.990462  22.293617    -0.042660        NaN\n",
            "2016-07-31  24.296780  24.380731  24.177849  24.301443     0.090063        NaN\n",
            "2016-08-31  24.773054  24.986412  24.768364  24.876215     0.023652        NaN\n",
            "2016-09-30  26.367382  26.580742  26.212639  26.505714     0.065504        NaN\n",
            "2016-10-31  26.646391  26.782378  26.540882  26.620600     0.004334        NaN\n",
            "2016-11-30  26.300088  26.441486  25.986654  26.045570    -0.021601        NaN\n",
            "2016-12-31  27.490195  27.619809  27.202685  27.294594     0.047955        NaN\n",
            "2016-10-31        NaN  26.782378  26.540882  26.620600          NaN  26.646391\n",
            "2016-11-30        NaN  26.441486  25.986654  26.045570          NaN  26.300088\n",
            "2016-12-31        NaN  27.619809  27.202685  27.294594          NaN  27.490195\n",
            "2017-01-31        NaN  28.607238  28.425777  28.597811          NaN  28.550679\n",
            "2017-02-28        NaN  32.530065  32.354916  32.423557          NaN  32.444858\n",
            "2017-03-31        NaN  34.146637  33.848410  34.002258          NaN  34.016459\n",
            "2017-04-30        NaN  34.153745  33.909959  33.999897          NaN  34.104039\n"
          ]
        }
      ]
    },
    {
      "cell_type": "code",
      "metadata": {
        "colab": {
          "base_uri": "https://localhost:8080/",
          "height": 668
        },
        "id": "WecLhom2VSs-",
        "outputId": "f0decb28-cd7c-4847-ba61-170d5a084843"
      },
      "source": [
        "# Xamir\n",
        "nvda_df_2020.columns = ['Change', 'High','Low','Close']\n",
        "concat = pd.concat([nvda_bar, nvda_df_2020], axis = 0)\n",
        "concat"
      ],
      "execution_count": 232,
      "outputs": [
        {
          "output_type": "execute_result",
          "data": {
            "text/html": [
              "<div>\n",
              "<style scoped>\n",
              "    .dataframe tbody tr th:only-of-type {\n",
              "        vertical-align: middle;\n",
              "    }\n",
              "\n",
              "    .dataframe tbody tr th {\n",
              "        vertical-align: top;\n",
              "    }\n",
              "\n",
              "    .dataframe thead th {\n",
              "        text-align: right;\n",
              "    }\n",
              "</style>\n",
              "<table border=\"1\" class=\"dataframe\">\n",
              "  <thead>\n",
              "    <tr style=\"text-align: right;\">\n",
              "      <th></th>\n",
              "      <th>Open</th>\n",
              "      <th>High</th>\n",
              "      <th>Low</th>\n",
              "      <th>Close</th>\n",
              "      <th>rate_return</th>\n",
              "      <th>Change</th>\n",
              "    </tr>\n",
              "    <tr>\n",
              "      <th>Date</th>\n",
              "      <th></th>\n",
              "      <th></th>\n",
              "      <th></th>\n",
              "      <th></th>\n",
              "      <th></th>\n",
              "      <th></th>\n",
              "    </tr>\n",
              "  </thead>\n",
              "  <tbody>\n",
              "    <tr>\n",
              "      <th>2020-01-31</th>\n",
              "      <td>60.846336</td>\n",
              "      <td>60.966047</td>\n",
              "      <td>58.546859</td>\n",
              "      <td>58.965851</td>\n",
              "      <td>NaN</td>\n",
              "      <td>NaN</td>\n",
              "    </tr>\n",
              "    <tr>\n",
              "      <th>2020-02-29</th>\n",
              "      <td>60.505904</td>\n",
              "      <td>67.992401</td>\n",
              "      <td>60.338702</td>\n",
              "      <td>67.395981</td>\n",
              "      <td>0.142966</td>\n",
              "      <td>NaN</td>\n",
              "    </tr>\n",
              "    <tr>\n",
              "      <th>2020-03-31</th>\n",
              "      <td>66.679784</td>\n",
              "      <td>68.726090</td>\n",
              "      <td>64.321533</td>\n",
              "      <td>65.781403</td>\n",
              "      <td>-0.023957</td>\n",
              "      <td>NaN</td>\n",
              "    </tr>\n",
              "    <tr>\n",
              "      <th>2020-04-30</th>\n",
              "      <td>73.939190</td>\n",
              "      <td>74.480709</td>\n",
              "      <td>72.798744</td>\n",
              "      <td>72.938492</td>\n",
              "      <td>0.108801</td>\n",
              "      <td>NaN</td>\n",
              "    </tr>\n",
              "    <tr>\n",
              "      <th>2020-05-31</th>\n",
              "      <td>85.391039</td>\n",
              "      <td>88.595261</td>\n",
              "      <td>84.697290</td>\n",
              "      <td>88.595261</td>\n",
              "      <td>0.214657</td>\n",
              "      <td>NaN</td>\n",
              "    </tr>\n",
              "    <tr>\n",
              "      <th>2020-06-30</th>\n",
              "      <td>93.014792</td>\n",
              "      <td>95.134436</td>\n",
              "      <td>92.540432</td>\n",
              "      <td>94.849823</td>\n",
              "      <td>0.070597</td>\n",
              "      <td>NaN</td>\n",
              "    </tr>\n",
              "    <tr>\n",
              "      <th>2020-07-31</th>\n",
              "      <td>105.490507</td>\n",
              "      <td>107.520276</td>\n",
              "      <td>104.189760</td>\n",
              "      <td>106.004814</td>\n",
              "      <td>0.117607</td>\n",
              "      <td>NaN</td>\n",
              "    </tr>\n",
              "    <tr>\n",
              "      <th>2020-08-31</th>\n",
              "      <td>131.650298</td>\n",
              "      <td>135.567526</td>\n",
              "      <td>130.202250</td>\n",
              "      <td>133.565216</td>\n",
              "      <td>0.259992</td>\n",
              "      <td>NaN</td>\n",
              "    </tr>\n",
              "    <tr>\n",
              "      <th>2020-09-30</th>\n",
              "      <td>131.437447</td>\n",
              "      <td>136.082595</td>\n",
              "      <td>131.365029</td>\n",
              "      <td>135.163544</td>\n",
              "      <td>0.011967</td>\n",
              "      <td>NaN</td>\n",
              "    </tr>\n",
              "    <tr>\n",
              "      <th>2020-10-31</th>\n",
              "      <td>128.365662</td>\n",
              "      <td>129.229763</td>\n",
              "      <td>122.871411</td>\n",
              "      <td>125.208961</td>\n",
              "      <td>-0.073648</td>\n",
              "      <td>NaN</td>\n",
              "    </tr>\n",
              "    <tr>\n",
              "      <th>2020-11-30</th>\n",
              "      <td>132.511315</td>\n",
              "      <td>133.984779</td>\n",
              "      <td>129.586885</td>\n",
              "      <td>133.874893</td>\n",
              "      <td>0.069212</td>\n",
              "      <td>NaN</td>\n",
              "    </tr>\n",
              "    <tr>\n",
              "      <th>2020-12-31</th>\n",
              "      <td>131.266448</td>\n",
              "      <td>131.411328</td>\n",
              "      <td>129.053098</td>\n",
              "      <td>130.452057</td>\n",
              "      <td>-0.025567</td>\n",
              "      <td>NaN</td>\n",
              "    </tr>\n",
              "    <tr>\n",
              "      <th>2020-06-30</th>\n",
              "      <td>NaN</td>\n",
              "      <td>95.134436</td>\n",
              "      <td>92.540432</td>\n",
              "      <td>94.849823</td>\n",
              "      <td>NaN</td>\n",
              "      <td>93.014792</td>\n",
              "    </tr>\n",
              "    <tr>\n",
              "      <th>2020-07-31</th>\n",
              "      <td>NaN</td>\n",
              "      <td>107.520276</td>\n",
              "      <td>104.189760</td>\n",
              "      <td>106.004814</td>\n",
              "      <td>NaN</td>\n",
              "      <td>105.490507</td>\n",
              "    </tr>\n",
              "    <tr>\n",
              "      <th>2020-08-31</th>\n",
              "      <td>NaN</td>\n",
              "      <td>135.567526</td>\n",
              "      <td>130.202250</td>\n",
              "      <td>133.565216</td>\n",
              "      <td>NaN</td>\n",
              "      <td>131.650298</td>\n",
              "    </tr>\n",
              "    <tr>\n",
              "      <th>2020-09-30</th>\n",
              "      <td>NaN</td>\n",
              "      <td>136.082595</td>\n",
              "      <td>131.365029</td>\n",
              "      <td>135.163544</td>\n",
              "      <td>NaN</td>\n",
              "      <td>131.437447</td>\n",
              "    </tr>\n",
              "    <tr>\n",
              "      <th>2020-10-31</th>\n",
              "      <td>NaN</td>\n",
              "      <td>129.229763</td>\n",
              "      <td>122.871411</td>\n",
              "      <td>125.208961</td>\n",
              "      <td>NaN</td>\n",
              "      <td>128.365662</td>\n",
              "    </tr>\n",
              "    <tr>\n",
              "      <th>2020-11-30</th>\n",
              "      <td>NaN</td>\n",
              "      <td>133.984779</td>\n",
              "      <td>129.586885</td>\n",
              "      <td>133.874893</td>\n",
              "      <td>NaN</td>\n",
              "      <td>132.511315</td>\n",
              "    </tr>\n",
              "    <tr>\n",
              "      <th>2020-12-31</th>\n",
              "      <td>NaN</td>\n",
              "      <td>131.411328</td>\n",
              "      <td>129.053098</td>\n",
              "      <td>130.452057</td>\n",
              "      <td>NaN</td>\n",
              "      <td>131.266448</td>\n",
              "    </tr>\n",
              "  </tbody>\n",
              "</table>\n",
              "</div>"
            ],
            "text/plain": [
              "                  Open        High  ...  rate_return      Change\n",
              "Date                                ...                         \n",
              "2020-01-31   60.846336   60.966047  ...          NaN         NaN\n",
              "2020-02-29   60.505904   67.992401  ...     0.142966         NaN\n",
              "2020-03-31   66.679784   68.726090  ...    -0.023957         NaN\n",
              "2020-04-30   73.939190   74.480709  ...     0.108801         NaN\n",
              "2020-05-31   85.391039   88.595261  ...     0.214657         NaN\n",
              "2020-06-30   93.014792   95.134436  ...     0.070597         NaN\n",
              "2020-07-31  105.490507  107.520276  ...     0.117607         NaN\n",
              "2020-08-31  131.650298  135.567526  ...     0.259992         NaN\n",
              "2020-09-30  131.437447  136.082595  ...     0.011967         NaN\n",
              "2020-10-31  128.365662  129.229763  ...    -0.073648         NaN\n",
              "2020-11-30  132.511315  133.984779  ...     0.069212         NaN\n",
              "2020-12-31  131.266448  131.411328  ...    -0.025567         NaN\n",
              "2020-06-30         NaN   95.134436  ...          NaN   93.014792\n",
              "2020-07-31         NaN  107.520276  ...          NaN  105.490507\n",
              "2020-08-31         NaN  135.567526  ...          NaN  131.650298\n",
              "2020-09-30         NaN  136.082595  ...          NaN  131.437447\n",
              "2020-10-31         NaN  129.229763  ...          NaN  128.365662\n",
              "2020-11-30         NaN  133.984779  ...          NaN  132.511315\n",
              "2020-12-31         NaN  131.411328  ...          NaN  131.266448\n",
              "\n",
              "[19 rows x 6 columns]"
            ]
          },
          "metadata": {},
          "execution_count": 232
        }
      ]
    },
    {
      "cell_type": "markdown",
      "metadata": {
        "id": "shbpOFyyS6uV"
      },
      "source": [
        "Since the column name of 'Open' has been changed, the new DataFrame has an new column named 'Change'.\n",
        "\n",
        "# Summary\n",
        "\n",
        "Hereby we introduced the most import part of python: resampling and DataFrame manipulation. We only introduced the most commonly used method in Financial data analysis. There are also many methods used in data mining, which are also beneficial. You can always check the [Pandas](https://pandas.pydata.org/pandas-docs/stable/index.html) official documentations for help."
      ]
    }
  ]
}